{
 "cells": [
  {
   "cell_type": "markdown",
   "id": "6a49ffe0",
   "metadata": {},
   "source": [
    "<ul>\n",
    "<li>Provide a list of audiences activated each quarter, broken down by vehicle.</li>\n",
    "<li>Include details about the activation path, such as direct vs. NS vs. LR, and the use of Permutive.</li>\n",
    "<li>Describe the nature of the audience, e.g., whether it's 3p (third-party) or 1p (first-party), etc.</li>\n",
    "<li>Additionally, please specify the associated media spend for each audience.</li>\n",
    "<li>Include information about the funnel stage, including segments like high propensity, active, etc.</li>\n",
    "<li>Present performance results, with a preference for comparing changes to baseline data if it is available.</li>\n",
    "<ul>"
   ]
  },
  {
   "cell_type": "markdown",
   "id": "7448f9df",
   "metadata": {},
   "source": [
    "<h2>Library</h2>"
   ]
  },
  {
   "cell_type": "code",
   "execution_count": null,
   "id": "f56706bc",
   "metadata": {},
   "outputs": [],
   "source": [
    "import pandas as pd\n",
    "import plotly.graph_objects as go\n",
    "import warnings\n",
    "\n",
    "warnings.filterwarnings('ignore')"
   ]
  },
  {
   "cell_type": "markdown",
   "id": "bcb443a6",
   "metadata": {},
   "source": []
  },
  {
   "cell_type": "code",
   "execution_count": null,
   "id": "1afc800b",
   "metadata": {},
   "outputs": [],
   "source": [
    "# Function to create node dictionary\n",
    "def create_node_dict(column):\n",
    "    unique_values = df[column].unique().tolist()\n",
    "    node_dict = dict(\n",
    "        pad=15,\n",
    "        thickness=20,\n",
    "        line=dict(color=\"black\", width=0.5),\n",
    "        label=unique_values,\n",
    "    )\n",
    "    return node_dict\n",
    "\n",
    "# Function to create link dictionary\n",
    "def create_link_dict(source_column, target_column, values_column):\n",
    "    source_values = df[source_column].map({v: i for i, v in enumerate(df[source_column].unique())}).tolist()\n",
    "    target_values = df[target_column].map({v: i + len(df[source_column].unique()) for i, v in enumerate(df[target_column].unique())}).tolist()\n",
    "    values = df[values_column].tolist()\n",
    "    link_dict = dict(\n",
    "        source=source_values + target_values,\n",
    "        target=target_values,\n",
    "        value=values,\n",
    "    )\n",
    "    return link_dict\n"
   ]
  },
  {
   "cell_type": "markdown",
   "id": "26bab1b3",
   "metadata": {},
   "source": [
    "<h2>Main</h2>"
   ]
  },
  {
   "cell_type": "code",
   "execution_count": null,
   "id": "66645972",
   "metadata": {
    "scrolled": false
   },
   "outputs": [],
   "source": [
    "df = pd.read_csv('csv/Audience Report Formatted.csv')\n"
   ]
  },
  {
   "cell_type": "code",
   "execution_count": null,
   "id": "d210c016",
   "metadata": {},
   "outputs": [],
   "source": [
    "df_audiences = df[['Country','Dell Fiscal Quarter','Audience ID','Spend','Revenue']]\n",
    "\n",
    "df_audiences = df_audiences.groupby(['Audience ID','Country','Dell Fiscal Quarter',])[['Spend','Revenue']].sum().reset_index()"
   ]
  },
  {
   "cell_type": "code",
   "execution_count": null,
   "id": "a0848b03",
   "metadata": {},
   "outputs": [],
   "source": [
    "df_audiences.head()"
   ]
  },
  {
   "cell_type": "code",
   "execution_count": null,
   "id": "1bfe53df",
   "metadata": {},
   "outputs": [],
   "source": [
    "# Create a new column 'Status' to initially mark all segments as 'New'\n",
    "df_audiences['Status'] = 'New'\n",
    "\n",
    "# Iterate through each unique 'Segment ID'\n",
    "for audience_id in df_audiences['Audience ID'].unique():\n",
    "    # Find the rows where 'Segment ID' matches the current ID\n",
    "    segment_rows = df_audiences[df_audiences['Audience ID'] == audience_id]\n",
    "    \n",
    "    # Check if there is more than one row for this segment (i.e., it was reused)\n",
    "    if len(segment_rows) > 1:\n",
    "        # Set 'Status' to 'Reused' for all rows except the first one\n",
    "        df_audiences.loc[segment_rows.index[1:], 'Status'] = 'Reused'"
   ]
  },
  {
   "cell_type": "code",
   "execution_count": null,
   "id": "3a41497b",
   "metadata": {},
   "outputs": [],
   "source": [
    "pivot_df = df_audiences.pivot_table(index=['Audience ID','Status'], columns='Dell Fiscal Quarter', values='Spend', aggfunc='count')\n",
    "\n",
    "pivot_df"
   ]
  },
  {
   "cell_type": "code",
   "execution_count": null,
   "id": "a23a3b87",
   "metadata": {},
   "outputs": [],
   "source": [
    "df_audiences.to_csv('csv/df_audiences.csv')"
   ]
  },
  {
   "cell_type": "code",
   "execution_count": null,
   "id": "d7834a21",
   "metadata": {},
   "outputs": [],
   "source": [
    "df = df.groupby(['Country', '1/2/3 PD', 'Audience Type Category', 'Vehicle'])['Spend'].sum().reset_index()\n",
    "\n",
    "df.to_csv('csv/to_import.csv')"
   ]
  },
  {
   "cell_type": "code",
   "execution_count": null,
   "id": "64d1f35a",
   "metadata": {},
   "outputs": [],
   "source": [
    "# Create a Sankey diagram\n",
    "fig = go.Figure(go.Sankey(\n",
    "    node=create_node_dict('Country'),\n",
    "    link=create_link_dict('Country', '1/2/3 PD', 'Spend'),\n",
    "))\n",
    "\n",
    "# Add more nodes and links\n",
    "fig.add_trace(go.Sankey(\n",
    "    node=create_node_dict('1/2/3 PD'),\n",
    "    link=create_link_dict('1/2/3 PD', 'Audience Type Category', 'Spend'),\n",
    "))\n",
    "\n",
    "fig.add_trace(go.Sankey(\n",
    "    node=create_node_dict('Audience Type Category'),\n",
    "    link=create_link_dict('Audience Type Category', 'Vehicle', 'Spend'),\n",
    "))\n",
    "\n",
    "# Customize the Sankey diagram appearance (optional)\n",
    "fig.update_layout(\n",
    "    title_text=\"Sankey Diagram Example\",\n",
    "    font_size=10,\n",
    "    hovermode=\"x\",\n",
    ")\n",
    "\n",
    "# Display the Sankey diagram\n",
    "fig.show()"
   ]
  },
  {
   "cell_type": "code",
   "execution_count": null,
   "id": "8ef92d03",
   "metadata": {},
   "outputs": [],
   "source": [
    "import plotly.graph_objects as go\n",
    "\n",
    "# Define the source, target, and value for a single flow\n",
    "source = [0]  # Index of the source node\n",
    "target = [1]  # Index of the target node\n",
    "value = [10]  # Flow value\n",
    "\n",
    "# Create a simple Sankey diagram\n",
    "fig = go.Figure(go.Sankey(\n",
    "    node=dict(\n",
    "        pad=15,         # Padding between nodes\n",
    "        thickness=20,   # Thickness of the node rectangles\n",
    "        line=dict(color=\"black\", width=0.5),  # Node border color and width\n",
    "        label=[\"Source\", \"Target\"],  # Node labels\n",
    "    ),\n",
    "    link=dict(\n",
    "        source=source,\n",
    "        target=target,\n",
    "        value=value,\n",
    "    )\n",
    "))\n",
    "\n",
    "# Display the Sankey diagram\n",
    "fig.show()\n"
   ]
  }
 ],
 "metadata": {
  "kernelspec": {
   "display_name": "Python 3 (ipykernel)",
   "language": "python",
   "name": "python3"
  },
  "language_info": {
   "codemirror_mode": {
    "name": "ipython",
    "version": 3
   },
   "file_extension": ".py",
   "mimetype": "text/x-python",
   "name": "python",
   "nbconvert_exporter": "python",
   "pygments_lexer": "ipython3",
   "version": "3.10.5"
  }
 },
 "nbformat": 4,
 "nbformat_minor": 5
}
