{
 "cells": [
  {
   "cell_type": "code",
   "execution_count": 1,
   "id": "a863c9e8",
   "metadata": {},
   "outputs": [],
   "source": [
    "import pandas as pd\n",
    "import numpy as np\n",
    "import seaborn as sns\n",
    "import matplotlib.pyplot as plt\n",
    "import matplotlib.ticker as ticker\n",
    "import warnings\n",
    "\n",
    "warnings.filterwarnings('ignore')"
   ]
  },
  {
   "cell_type": "code",
   "execution_count": 2,
   "id": "71e61da3",
   "metadata": {},
   "outputs": [],
   "source": [
    "folder_path = r'C:\\Users\\Rafael_Fagundes\\Downloads\\compiled_data.csv'\n",
    "\n",
    "df = pd.read_csv(folder_path, encoding='utf-8')"
   ]
  },
  {
   "cell_type": "code",
   "execution_count": 3,
   "id": "fc9741ba",
   "metadata": {},
   "outputs": [],
   "source": [
    "grouped_df = df.groupby(['Fiscal Quarter','Audience Type', 'Audience Type Name','BU','Country_x'])[['Spend', 'Net Rev']].sum().reset_index()"
   ]
  },
  {
   "cell_type": "code",
   "execution_count": 4,
   "id": "fae556aa",
   "metadata": {
    "scrolled": true
   },
   "outputs": [
    {
     "data": {
      "text/html": [
       "<div>\n",
       "<style scoped>\n",
       "    .dataframe tbody tr th:only-of-type {\n",
       "        vertical-align: middle;\n",
       "    }\n",
       "\n",
       "    .dataframe tbody tr th {\n",
       "        vertical-align: top;\n",
       "    }\n",
       "\n",
       "    .dataframe thead th {\n",
       "        text-align: right;\n",
       "    }\n",
       "</style>\n",
       "<table border=\"1\" class=\"dataframe\">\n",
       "  <thead>\n",
       "    <tr style=\"text-align: right;\">\n",
       "      <th></th>\n",
       "      <th>Fiscal Quarter</th>\n",
       "      <th>Audience Type</th>\n",
       "      <th>Audience Type Name</th>\n",
       "      <th>BU</th>\n",
       "      <th>Country_x</th>\n",
       "      <th>Spend</th>\n",
       "      <th>Net Rev</th>\n",
       "    </tr>\n",
       "  </thead>\n",
       "  <tbody>\n",
       "    <tr>\n",
       "      <th>0</th>\n",
       "      <td>2023-Q3</td>\n",
       "      <td>1PD</td>\n",
       "      <td>ABM-1PD AUDIENCE</td>\n",
       "      <td>B2B</td>\n",
       "      <td>Australia</td>\n",
       "      <td>0.000000</td>\n",
       "      <td>0.0</td>\n",
       "    </tr>\n",
       "    <tr>\n",
       "      <th>1</th>\n",
       "      <td>2023-Q3</td>\n",
       "      <td>1PD</td>\n",
       "      <td>ABM-1PD AUDIENCE</td>\n",
       "      <td>B2B</td>\n",
       "      <td>India</td>\n",
       "      <td>0.000000</td>\n",
       "      <td>0.0</td>\n",
       "    </tr>\n",
       "    <tr>\n",
       "      <th>2</th>\n",
       "      <td>2023-Q3</td>\n",
       "      <td>1PD</td>\n",
       "      <td>ABM-1PD AUDIENCE</td>\n",
       "      <td>B2B</td>\n",
       "      <td>Japan</td>\n",
       "      <td>0.000000</td>\n",
       "      <td>0.0</td>\n",
       "    </tr>\n",
       "    <tr>\n",
       "      <th>3</th>\n",
       "      <td>2023-Q3</td>\n",
       "      <td>1PD</td>\n",
       "      <td>AFFINITY -1PD PIXEL</td>\n",
       "      <td>CSB</td>\n",
       "      <td>Canada</td>\n",
       "      <td>249.008763</td>\n",
       "      <td>0.0</td>\n",
       "    </tr>\n",
       "    <tr>\n",
       "      <th>4</th>\n",
       "      <td>2023-Q3</td>\n",
       "      <td>1PD</td>\n",
       "      <td>AFFINITY-1PD PIXEL</td>\n",
       "      <td>CSB</td>\n",
       "      <td>Canada</td>\n",
       "      <td>406.514203</td>\n",
       "      <td>0.0</td>\n",
       "    </tr>\n",
       "  </tbody>\n",
       "</table>\n",
       "</div>"
      ],
      "text/plain": [
       "  Fiscal Quarter Audience Type   Audience Type Name   BU  Country_x  \\\n",
       "0        2023-Q3           1PD     ABM-1PD AUDIENCE  B2B  Australia   \n",
       "1        2023-Q3           1PD     ABM-1PD AUDIENCE  B2B      India   \n",
       "2        2023-Q3           1PD     ABM-1PD AUDIENCE  B2B      Japan   \n",
       "3        2023-Q3           1PD  AFFINITY -1PD PIXEL  CSB     Canada   \n",
       "4        2023-Q3           1PD   AFFINITY-1PD PIXEL  CSB     Canada   \n",
       "\n",
       "        Spend  Net Rev  \n",
       "0    0.000000      0.0  \n",
       "1    0.000000      0.0  \n",
       "2    0.000000      0.0  \n",
       "3  249.008763      0.0  \n",
       "4  406.514203      0.0  "
      ]
     },
     "execution_count": 4,
     "metadata": {},
     "output_type": "execute_result"
    }
   ],
   "source": [
    "grouped_df.head()"
   ]
  },
  {
   "cell_type": "code",
   "execution_count": 5,
   "id": "dd126bde",
   "metadata": {},
   "outputs": [],
   "source": [
    "grouped_df.to_csv(r'C:\\Users\\Rafael_Fagundes\\Downloads\\top10.csv')"
   ]
  }
 ],
 "metadata": {
  "kernelspec": {
   "display_name": "Python 3 (ipykernel)",
   "language": "python",
   "name": "python3"
  },
  "language_info": {
   "codemirror_mode": {
    "name": "ipython",
    "version": 3
   },
   "file_extension": ".py",
   "mimetype": "text/x-python",
   "name": "python",
   "nbconvert_exporter": "python",
   "pygments_lexer": "ipython3",
   "version": "3.10.5"
  }
 },
 "nbformat": 4,
 "nbformat_minor": 5
}
