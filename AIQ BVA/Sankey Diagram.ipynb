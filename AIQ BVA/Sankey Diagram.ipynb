{
 "cells": [
  {
   "cell_type": "code",
   "execution_count": 2,
   "id": "de9b7678",
   "metadata": {},
   "outputs": [],
   "source": [
    "import pandas as pd\n",
    "import plotly.graph_objects as go\n",
    "import warnings\n",
    "\n",
    "warnings.filterwarnings('ignore')"
   ]
  },
  {
   "cell_type": "code",
   "execution_count": 3,
   "id": "910fe657",
   "metadata": {},
   "outputs": [],
   "source": [
    "folder_path = r'C:\\Users\\Rafael_Fagundes\\Downloads\\compiled_data.csv'\n",
    "\n",
    "df = pd.read_csv(folder_path)\n",
    "\n",
    "df = df[(df['Segment ID'] != 0) & (df['Segment ID'] != '0')]\n"
   ]
  },
  {
   "cell_type": "markdown",
   "id": "825187e9",
   "metadata": {},
   "source": [
    "'BU', 'Audience Type','Audience ID Exists', 'Display Dell Vehicle Mapped'"
   ]
  },
  {
   "cell_type": "code",
   "execution_count": 4,
   "id": "56c3ef9a",
   "metadata": {},
   "outputs": [
    {
     "data": {
      "text/html": [
       "<div>\n",
       "<style scoped>\n",
       "    .dataframe tbody tr th:only-of-type {\n",
       "        vertical-align: middle;\n",
       "    }\n",
       "\n",
       "    .dataframe tbody tr th {\n",
       "        vertical-align: top;\n",
       "    }\n",
       "\n",
       "    .dataframe thead th {\n",
       "        text-align: right;\n",
       "    }\n",
       "</style>\n",
       "<table border=\"1\" class=\"dataframe\">\n",
       "  <thead>\n",
       "    <tr style=\"text-align: right;\">\n",
       "      <th></th>\n",
       "      <th>BU</th>\n",
       "      <th>Audience Type</th>\n",
       "      <th>Segment ID</th>\n",
       "    </tr>\n",
       "  </thead>\n",
       "  <tbody>\n",
       "    <tr>\n",
       "      <th>0</th>\n",
       "      <td>B2B</td>\n",
       "      <td>1PD</td>\n",
       "      <td>5093</td>\n",
       "    </tr>\n",
       "    <tr>\n",
       "      <th>1</th>\n",
       "      <td>B2B</td>\n",
       "      <td>3PD</td>\n",
       "      <td>18220</td>\n",
       "    </tr>\n",
       "    <tr>\n",
       "      <th>2</th>\n",
       "      <td>CSB</td>\n",
       "      <td>1PD</td>\n",
       "      <td>12912</td>\n",
       "    </tr>\n",
       "    <tr>\n",
       "      <th>3</th>\n",
       "      <td>CSB</td>\n",
       "      <td>3PD</td>\n",
       "      <td>5675</td>\n",
       "    </tr>\n",
       "  </tbody>\n",
       "</table>\n",
       "</div>"
      ],
      "text/plain": [
       "    BU Audience Type  Segment ID\n",
       "0  B2B           1PD        5093\n",
       "1  B2B           3PD       18220\n",
       "2  CSB           1PD       12912\n",
       "3  CSB           3PD        5675"
      ]
     },
     "execution_count": 4,
     "metadata": {},
     "output_type": "execute_result"
    }
   ],
   "source": [
    "agg_df_lvl1 = df.groupby(['BU','Audience Type'])['Segment ID'].count().reset_index()\n",
    "agg_df_lvl1.head()"
   ]
  },
  {
   "cell_type": "code",
   "execution_count": 5,
   "id": "b908e535",
   "metadata": {},
   "outputs": [
    {
     "data": {
      "text/html": [
       "<div>\n",
       "<style scoped>\n",
       "    .dataframe tbody tr th:only-of-type {\n",
       "        vertical-align: middle;\n",
       "    }\n",
       "\n",
       "    .dataframe tbody tr th {\n",
       "        vertical-align: top;\n",
       "    }\n",
       "\n",
       "    .dataframe thead th {\n",
       "        text-align: right;\n",
       "    }\n",
       "</style>\n",
       "<table border=\"1\" class=\"dataframe\">\n",
       "  <thead>\n",
       "    <tr style=\"text-align: right;\">\n",
       "      <th></th>\n",
       "      <th>BU</th>\n",
       "      <th>Audience Type</th>\n",
       "      <th>Audience ID Exists</th>\n",
       "      <th>Segment ID</th>\n",
       "    </tr>\n",
       "  </thead>\n",
       "  <tbody>\n",
       "    <tr>\n",
       "      <th>0</th>\n",
       "      <td>B2B</td>\n",
       "      <td>1PD</td>\n",
       "      <td>Have ID</td>\n",
       "      <td>5093</td>\n",
       "    </tr>\n",
       "    <tr>\n",
       "      <th>1</th>\n",
       "      <td>B2B</td>\n",
       "      <td>3PD</td>\n",
       "      <td>Have ID</td>\n",
       "      <td>18220</td>\n",
       "    </tr>\n",
       "    <tr>\n",
       "      <th>2</th>\n",
       "      <td>CSB</td>\n",
       "      <td>1PD</td>\n",
       "      <td>Have ID</td>\n",
       "      <td>12912</td>\n",
       "    </tr>\n",
       "    <tr>\n",
       "      <th>3</th>\n",
       "      <td>CSB</td>\n",
       "      <td>3PD</td>\n",
       "      <td>Have ID</td>\n",
       "      <td>5675</td>\n",
       "    </tr>\n",
       "  </tbody>\n",
       "</table>\n",
       "</div>"
      ],
      "text/plain": [
       "    BU Audience Type Audience ID Exists  Segment ID\n",
       "0  B2B           1PD            Have ID        5093\n",
       "1  B2B           3PD            Have ID       18220\n",
       "2  CSB           1PD            Have ID       12912\n",
       "3  CSB           3PD            Have ID        5675"
      ]
     },
     "execution_count": 5,
     "metadata": {},
     "output_type": "execute_result"
    }
   ],
   "source": [
    "agg_df_lvl2 = df.groupby(['BU', 'Audience Type','Audience ID Exists'])['Segment ID'].count().reset_index()\n",
    "agg_df_lvl2.head()"
   ]
  },
  {
   "cell_type": "code",
   "execution_count": 6,
   "id": "50de0d5f",
   "metadata": {},
   "outputs": [
    {
     "data": {
      "text/html": [
       "<div>\n",
       "<style scoped>\n",
       "    .dataframe tbody tr th:only-of-type {\n",
       "        vertical-align: middle;\n",
       "    }\n",
       "\n",
       "    .dataframe tbody tr th {\n",
       "        vertical-align: top;\n",
       "    }\n",
       "\n",
       "    .dataframe thead th {\n",
       "        text-align: right;\n",
       "    }\n",
       "</style>\n",
       "<table border=\"1\" class=\"dataframe\">\n",
       "  <thead>\n",
       "    <tr style=\"text-align: right;\">\n",
       "      <th></th>\n",
       "      <th>BU</th>\n",
       "      <th>Audience Type</th>\n",
       "      <th>Audience ID Exists</th>\n",
       "      <th>Display Dell Vehicle Mapped</th>\n",
       "      <th>Segment ID</th>\n",
       "    </tr>\n",
       "  </thead>\n",
       "  <tbody>\n",
       "    <tr>\n",
       "      <th>0</th>\n",
       "      <td>B2B</td>\n",
       "      <td>1PD</td>\n",
       "      <td>Have ID</td>\n",
       "      <td>Display</td>\n",
       "      <td>4782</td>\n",
       "    </tr>\n",
       "    <tr>\n",
       "      <th>1</th>\n",
       "      <td>B2B</td>\n",
       "      <td>1PD</td>\n",
       "      <td>Have ID</td>\n",
       "      <td>Social</td>\n",
       "      <td>311</td>\n",
       "    </tr>\n",
       "    <tr>\n",
       "      <th>2</th>\n",
       "      <td>B2B</td>\n",
       "      <td>3PD</td>\n",
       "      <td>Have ID</td>\n",
       "      <td>Display</td>\n",
       "      <td>18171</td>\n",
       "    </tr>\n",
       "    <tr>\n",
       "      <th>3</th>\n",
       "      <td>B2B</td>\n",
       "      <td>3PD</td>\n",
       "      <td>Have ID</td>\n",
       "      <td>Video</td>\n",
       "      <td>49</td>\n",
       "    </tr>\n",
       "    <tr>\n",
       "      <th>4</th>\n",
       "      <td>CSB</td>\n",
       "      <td>1PD</td>\n",
       "      <td>Have ID</td>\n",
       "      <td>Audio</td>\n",
       "      <td>59</td>\n",
       "    </tr>\n",
       "  </tbody>\n",
       "</table>\n",
       "</div>"
      ],
      "text/plain": [
       "    BU Audience Type Audience ID Exists Display Dell Vehicle Mapped  \\\n",
       "0  B2B           1PD            Have ID                     Display   \n",
       "1  B2B           1PD            Have ID                      Social   \n",
       "2  B2B           3PD            Have ID                     Display   \n",
       "3  B2B           3PD            Have ID                       Video   \n",
       "4  CSB           1PD            Have ID                       Audio   \n",
       "\n",
       "   Segment ID  \n",
       "0        4782  \n",
       "1         311  \n",
       "2       18171  \n",
       "3          49  \n",
       "4          59  "
      ]
     },
     "execution_count": 6,
     "metadata": {},
     "output_type": "execute_result"
    }
   ],
   "source": [
    "agg_df_lvl3 = df.groupby(['BU', 'Audience Type','Audience ID Exists', 'Display Dell Vehicle Mapped'])['Segment ID'].count().reset_index()\n",
    "agg_df_lvl3.head()"
   ]
  },
  {
   "cell_type": "code",
   "execution_count": null,
   "id": "c15dc849",
   "metadata": {},
   "outputs": [],
   "source": [
    "source = data[\"Source\"].values.tolist()\n",
    "target = data[\"Target\"].values.tolist()\n",
    "value = data[\"Value\"].values.tolist()\n",
    "labels = df_labels[\"Labels\"].values.tolist()"
   ]
  },
  {
   "cell_type": "code",
   "execution_count": null,
   "id": "1bac5a54",
   "metadata": {},
   "outputs": [],
   "source": [
    "#create links\n",
    "link = dict(source=source, target=target, value=value,\n",
    "color=[\"turquoise\",\"tomato\"] * len(source))\n",
    "\n",
    "#create nodes\n",
    "node = dict(label=labels, pad=15, thickness=5)\n",
    "\n",
    "#create a sankey object\n",
    "chart = go.Sankey(link=link, node=node, arrangement=\"snap\")\n",
    "\n",
    "#build a figure\n",
    "fig = go.Figure(chart)\n",
    "fig.show()"
   ]
  },
  {
   "cell_type": "code",
   "execution_count": null,
   "id": "b9b27fdd",
   "metadata": {},
   "outputs": [],
   "source": [
    "import plotly.graph_objects as go\n",
    "\n",
    "fig = go.Figure(data=[go.Sankey(\n",
    "    node = dict(\n",
    "      pad = 15,\n",
    "      thickness = 20,\n",
    "      line = dict(color = \"black\", width = 0.5),\n",
    "      label = [\"A1\", \"A2\", \"B1\", \"B2\", \"C1\", \"C2\"],\n",
    "      color = \"blue\"\n",
    "    ),\n",
    "    link = dict(\n",
    "      source = [0, 1, 0, 2, 3, 3], # indices correspond to labels, eg A1, A2, A1, B1, ...\n",
    "      target = [2, 3, 3, 4, 4, 5],\n",
    "      value = [8, 4, 2, 8, 4, 2]\n",
    "  ))])\n",
    "\n",
    "fig.update_layout(title_text=\"Basic Sankey Diagram\", font_size=10)\n",
    "fig.show()"
   ]
  }
 ],
 "metadata": {
  "kernelspec": {
   "display_name": "Python 3 (ipykernel)",
   "language": "python",
   "name": "python3"
  },
  "language_info": {
   "codemirror_mode": {
    "name": "ipython",
    "version": 3
   },
   "file_extension": ".py",
   "mimetype": "text/x-python",
   "name": "python",
   "nbconvert_exporter": "python",
   "pygments_lexer": "ipython3",
   "version": "3.10.5"
  }
 },
 "nbformat": 4,
 "nbformat_minor": 5
}
