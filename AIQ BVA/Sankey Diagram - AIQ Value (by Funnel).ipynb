{
 "cells": [
  {
   "cell_type": "code",
   "execution_count": 19,
   "id": "5bcbdd87",
   "metadata": {},
   "outputs": [],
   "source": [
    "import pandas as pd\n",
    "import numpy as np\n",
    "import warnings\n",
    "\n",
    "import plotly.graph_objects as go\n",
    "import plotly.io as pio\n",
    "\n",
    "\n",
    "warnings.filterwarnings('ignore')"
   ]
  },
  {
   "cell_type": "code",
   "execution_count": 20,
   "id": "b895b3a4",
   "metadata": {},
   "outputs": [],
   "source": [
    "def generate_gray_tones(source):\n",
    "    # Your existing code here to generate colors based on some condition or data\n",
    "    colors = []\n",
    "    \n",
    "    # Example: Set opacity to 0.2 for all colors\n",
    "    for i in source:\n",
    "        if i in (1,3,4):\n",
    "            colors.append('rgba(49, 162, 227, 0.8)')\n",
    "        else:\n",
    "            colors.append('rgba(128, 128, 128, 0.2)')\n",
    "    \n",
    "    return colors\n"
   ]
  },
  {
   "cell_type": "code",
   "execution_count": 21,
   "id": "417cfdc6",
   "metadata": {},
   "outputs": [],
   "source": [
    "def format_value(value):\n",
    "    if value >= 1000000:\n",
    "        return f'{value/1000000:.1f}M'\n",
    "    elif value >= 1000:\n",
    "        return f'{value/1000:.1f}K'\n",
    "    else:\n",
    "        return f'{value:.0f}'"
   ]
  },
  {
   "cell_type": "code",
   "execution_count": 22,
   "id": "c45f9593",
   "metadata": {},
   "outputs": [],
   "source": [
    "folder_path = r'C:\\Users\\Rafael_Fagundes\\Downloads\\compiled_data.csv'\n",
    "\n",
    "df = pd.read_csv(folder_path, encoding='utf-8')\n",
    "\n",
    "df = df[(df['BU'] == 'CSB') \n",
    "            & (df['Fiscal Quarter'].isin(['2024-Q1','2024-Q2','2024-Q3'])) \n",
    "            & (df['Country_x'] == 'United States')\n",
    "            & (df['Audience Type'] == '1PD')]\n",
    "\n",
    "#df = df[(df['Segment ID'] != 0) & (df['Segment ID'] != '0')]"
   ]
  },
  {
   "cell_type": "code",
   "execution_count": 23,
   "id": "f9cb1475",
   "metadata": {
    "scrolled": false
   },
   "outputs": [
    {
     "data": {
      "application/vnd.plotly.v1+json": {
       "config": {
        "plotlyServerURL": "https://plot.ly"
       },
       "data": [
        {
         "arrangement": "snap",
         "link": {
          "color": [
           "rgba(128, 128, 128, 0.2)",
           "rgba(128, 128, 128, 0.2)",
           "rgba(128, 128, 128, 0.2)",
           "rgba(128, 128, 128, 0.2)",
           "rgba(128, 128, 128, 0.2)",
           "rgba(128, 128, 128, 0.2)",
           "rgba(128, 128, 128, 0.2)",
           "rgba(128, 128, 128, 0.2)",
           "rgba(128, 128, 128, 0.2)",
           "rgba(49, 162, 227, 0.8)",
           "rgba(49, 162, 227, 0.8)",
           "rgba(128, 128, 128, 0.2)",
           "rgba(49, 162, 227, 0.8)",
           "rgba(49, 162, 227, 0.8)",
           "rgba(49, 162, 227, 0.8)",
           "rgba(49, 162, 227, 0.8)",
           "rgba(128, 128, 128, 0.2)",
           "rgba(49, 162, 227, 0.8)",
           "rgba(49, 162, 227, 0.8)",
           "rgba(49, 162, 227, 0.8)",
           "rgba(49, 162, 227, 0.8)",
           "rgba(49, 162, 227, 0.8)",
           "rgba(128, 128, 128, 0.2)",
           "rgba(128, 128, 128, 0.2)",
           "rgba(128, 128, 128, 0.2)",
           "rgba(128, 128, 128, 0.2)",
           "rgba(128, 128, 128, 0.2)",
           "rgba(128, 128, 128, 0.2)",
           "rgba(128, 128, 128, 0.2)",
           "rgba(128, 128, 128, 0.2)",
           "rgba(128, 128, 128, 0.2)",
           "rgba(128, 128, 128, 0.2)",
           "rgba(128, 128, 128, 0.2)",
           "rgba(128, 128, 128, 0.2)"
          ],
          "source": [
           0,
           0,
           0,
           0,
           0,
           0,
           0,
           0,
           0,
           1,
           1,
           2,
           3,
           3,
           3,
           4,
           5,
           1,
           1,
           1,
           1,
           1,
           6,
           7,
           8,
           9,
           10,
           10,
           10,
           11,
           11,
           11,
           11,
           11
          ],
          "target": [
           4,
           5,
           1,
           6,
           7,
           8,
           9,
           10,
           11,
           2,
           3,
           12,
           12,
           13,
           14,
           12,
           15,
           12,
           16,
           15,
           14,
           17,
           12,
           12,
           12,
           15,
           12,
           16,
           17,
           12,
           16,
           15,
           14,
           17
          ],
          "value": [
           0,
           0,
           865152.808180359,
           157468.9197990083,
           20230.482088,
           1661.970049,
           0,
           5813434.097403999,
           8972369.030144472,
           92779.716999999,
           605663.2573444049,
           92779.716999999,
           462802.2908314379,
           98196.878656965,
           44664.087856002,
           0,
           0,
           143794.694356955,
           0,
           0,
           22915.139479,
           0,
           157468.9197990083,
           20230.482088,
           1661.970049,
           0,
           469416.27,
           5344017.827404,
           0,
           1133472.8776892477,
           7773897.512454223,
           0,
           64998.640001,
           0
          ]
         },
         "node": {
          "label": [
           "1PD (29) <br>100.0% (15.8M)",
           "CRM-1PD CRM (29) <br>5.5% (865.2K)",
           "AIQ CRM (2) <br>0.6% (92.8K)",
           "Liveramp (27) <br>3.8% (605.7K)",
           "CRM-1PD (0) <br>0.0% (0)",
           "CRM-1PD AUDIENCE (0) <br>0.0% (0)",
           "EMAIL-1PD CRM (0) <br>1.0% (157.5K)",
           "LAPSED-1PD PIXEL (0) <br>0.1% (20.2K)",
           "LAPSED-1PD PIXEL (0) <br>0.0% (1.7K)",
           "MEDIA-1PD MEDIA (0) <br>0.0% (0)",
           "PERSONA-1PD RETARGET (0) <br>36.7% (5.8M)",
           "RETARGET-1PD RETARGET (0) <br>56.7% (9.0M)",
           "Active Prospects (29) <br>15.7% (2.5M)",
           "High Propsensity Prospects (5) <br>0.6% (98.2K)",
           "Lead Gen (1) <br>0.8% (132.6K)",
           "Demand Creation (0) <br>0.0% (0)",
           "Brand Seeker/Purchasers (0) <br>82.9% (13.1M)",
           "No Funnel Specific Budget (0) <br>0.0% (0)"
          ],
          "pad": 30,
          "thickness": 20
         },
         "type": "sankey"
        }
       ],
       "layout": {
        "template": {
         "data": {
          "bar": [
           {
            "error_x": {
             "color": "#2a3f5f"
            },
            "error_y": {
             "color": "#2a3f5f"
            },
            "marker": {
             "line": {
              "color": "#E5ECF6",
              "width": 0.5
             },
             "pattern": {
              "fillmode": "overlay",
              "size": 10,
              "solidity": 0.2
             }
            },
            "type": "bar"
           }
          ],
          "barpolar": [
           {
            "marker": {
             "line": {
              "color": "#E5ECF6",
              "width": 0.5
             },
             "pattern": {
              "fillmode": "overlay",
              "size": 10,
              "solidity": 0.2
             }
            },
            "type": "barpolar"
           }
          ],
          "carpet": [
           {
            "aaxis": {
             "endlinecolor": "#2a3f5f",
             "gridcolor": "white",
             "linecolor": "white",
             "minorgridcolor": "white",
             "startlinecolor": "#2a3f5f"
            },
            "baxis": {
             "endlinecolor": "#2a3f5f",
             "gridcolor": "white",
             "linecolor": "white",
             "minorgridcolor": "white",
             "startlinecolor": "#2a3f5f"
            },
            "type": "carpet"
           }
          ],
          "choropleth": [
           {
            "colorbar": {
             "outlinewidth": 0,
             "ticks": ""
            },
            "type": "choropleth"
           }
          ],
          "contour": [
           {
            "colorbar": {
             "outlinewidth": 0,
             "ticks": ""
            },
            "colorscale": [
             [
              0,
              "#0d0887"
             ],
             [
              0.1111111111111111,
              "#46039f"
             ],
             [
              0.2222222222222222,
              "#7201a8"
             ],
             [
              0.3333333333333333,
              "#9c179e"
             ],
             [
              0.4444444444444444,
              "#bd3786"
             ],
             [
              0.5555555555555556,
              "#d8576b"
             ],
             [
              0.6666666666666666,
              "#ed7953"
             ],
             [
              0.7777777777777778,
              "#fb9f3a"
             ],
             [
              0.8888888888888888,
              "#fdca26"
             ],
             [
              1,
              "#f0f921"
             ]
            ],
            "type": "contour"
           }
          ],
          "contourcarpet": [
           {
            "colorbar": {
             "outlinewidth": 0,
             "ticks": ""
            },
            "type": "contourcarpet"
           }
          ],
          "heatmap": [
           {
            "colorbar": {
             "outlinewidth": 0,
             "ticks": ""
            },
            "colorscale": [
             [
              0,
              "#0d0887"
             ],
             [
              0.1111111111111111,
              "#46039f"
             ],
             [
              0.2222222222222222,
              "#7201a8"
             ],
             [
              0.3333333333333333,
              "#9c179e"
             ],
             [
              0.4444444444444444,
              "#bd3786"
             ],
             [
              0.5555555555555556,
              "#d8576b"
             ],
             [
              0.6666666666666666,
              "#ed7953"
             ],
             [
              0.7777777777777778,
              "#fb9f3a"
             ],
             [
              0.8888888888888888,
              "#fdca26"
             ],
             [
              1,
              "#f0f921"
             ]
            ],
            "type": "heatmap"
           }
          ],
          "heatmapgl": [
           {
            "colorbar": {
             "outlinewidth": 0,
             "ticks": ""
            },
            "colorscale": [
             [
              0,
              "#0d0887"
             ],
             [
              0.1111111111111111,
              "#46039f"
             ],
             [
              0.2222222222222222,
              "#7201a8"
             ],
             [
              0.3333333333333333,
              "#9c179e"
             ],
             [
              0.4444444444444444,
              "#bd3786"
             ],
             [
              0.5555555555555556,
              "#d8576b"
             ],
             [
              0.6666666666666666,
              "#ed7953"
             ],
             [
              0.7777777777777778,
              "#fb9f3a"
             ],
             [
              0.8888888888888888,
              "#fdca26"
             ],
             [
              1,
              "#f0f921"
             ]
            ],
            "type": "heatmapgl"
           }
          ],
          "histogram": [
           {
            "marker": {
             "pattern": {
              "fillmode": "overlay",
              "size": 10,
              "solidity": 0.2
             }
            },
            "type": "histogram"
           }
          ],
          "histogram2d": [
           {
            "colorbar": {
             "outlinewidth": 0,
             "ticks": ""
            },
            "colorscale": [
             [
              0,
              "#0d0887"
             ],
             [
              0.1111111111111111,
              "#46039f"
             ],
             [
              0.2222222222222222,
              "#7201a8"
             ],
             [
              0.3333333333333333,
              "#9c179e"
             ],
             [
              0.4444444444444444,
              "#bd3786"
             ],
             [
              0.5555555555555556,
              "#d8576b"
             ],
             [
              0.6666666666666666,
              "#ed7953"
             ],
             [
              0.7777777777777778,
              "#fb9f3a"
             ],
             [
              0.8888888888888888,
              "#fdca26"
             ],
             [
              1,
              "#f0f921"
             ]
            ],
            "type": "histogram2d"
           }
          ],
          "histogram2dcontour": [
           {
            "colorbar": {
             "outlinewidth": 0,
             "ticks": ""
            },
            "colorscale": [
             [
              0,
              "#0d0887"
             ],
             [
              0.1111111111111111,
              "#46039f"
             ],
             [
              0.2222222222222222,
              "#7201a8"
             ],
             [
              0.3333333333333333,
              "#9c179e"
             ],
             [
              0.4444444444444444,
              "#bd3786"
             ],
             [
              0.5555555555555556,
              "#d8576b"
             ],
             [
              0.6666666666666666,
              "#ed7953"
             ],
             [
              0.7777777777777778,
              "#fb9f3a"
             ],
             [
              0.8888888888888888,
              "#fdca26"
             ],
             [
              1,
              "#f0f921"
             ]
            ],
            "type": "histogram2dcontour"
           }
          ],
          "mesh3d": [
           {
            "colorbar": {
             "outlinewidth": 0,
             "ticks": ""
            },
            "type": "mesh3d"
           }
          ],
          "parcoords": [
           {
            "line": {
             "colorbar": {
              "outlinewidth": 0,
              "ticks": ""
             }
            },
            "type": "parcoords"
           }
          ],
          "pie": [
           {
            "automargin": true,
            "type": "pie"
           }
          ],
          "scatter": [
           {
            "fillpattern": {
             "fillmode": "overlay",
             "size": 10,
             "solidity": 0.2
            },
            "type": "scatter"
           }
          ],
          "scatter3d": [
           {
            "line": {
             "colorbar": {
              "outlinewidth": 0,
              "ticks": ""
             }
            },
            "marker": {
             "colorbar": {
              "outlinewidth": 0,
              "ticks": ""
             }
            },
            "type": "scatter3d"
           }
          ],
          "scattercarpet": [
           {
            "marker": {
             "colorbar": {
              "outlinewidth": 0,
              "ticks": ""
             }
            },
            "type": "scattercarpet"
           }
          ],
          "scattergeo": [
           {
            "marker": {
             "colorbar": {
              "outlinewidth": 0,
              "ticks": ""
             }
            },
            "type": "scattergeo"
           }
          ],
          "scattergl": [
           {
            "marker": {
             "colorbar": {
              "outlinewidth": 0,
              "ticks": ""
             }
            },
            "type": "scattergl"
           }
          ],
          "scattermapbox": [
           {
            "marker": {
             "colorbar": {
              "outlinewidth": 0,
              "ticks": ""
             }
            },
            "type": "scattermapbox"
           }
          ],
          "scatterpolar": [
           {
            "marker": {
             "colorbar": {
              "outlinewidth": 0,
              "ticks": ""
             }
            },
            "type": "scatterpolar"
           }
          ],
          "scatterpolargl": [
           {
            "marker": {
             "colorbar": {
              "outlinewidth": 0,
              "ticks": ""
             }
            },
            "type": "scatterpolargl"
           }
          ],
          "scatterternary": [
           {
            "marker": {
             "colorbar": {
              "outlinewidth": 0,
              "ticks": ""
             }
            },
            "type": "scatterternary"
           }
          ],
          "surface": [
           {
            "colorbar": {
             "outlinewidth": 0,
             "ticks": ""
            },
            "colorscale": [
             [
              0,
              "#0d0887"
             ],
             [
              0.1111111111111111,
              "#46039f"
             ],
             [
              0.2222222222222222,
              "#7201a8"
             ],
             [
              0.3333333333333333,
              "#9c179e"
             ],
             [
              0.4444444444444444,
              "#bd3786"
             ],
             [
              0.5555555555555556,
              "#d8576b"
             ],
             [
              0.6666666666666666,
              "#ed7953"
             ],
             [
              0.7777777777777778,
              "#fb9f3a"
             ],
             [
              0.8888888888888888,
              "#fdca26"
             ],
             [
              1,
              "#f0f921"
             ]
            ],
            "type": "surface"
           }
          ],
          "table": [
           {
            "cells": {
             "fill": {
              "color": "#EBF0F8"
             },
             "line": {
              "color": "white"
             }
            },
            "header": {
             "fill": {
              "color": "#C8D4E3"
             },
             "line": {
              "color": "white"
             }
            },
            "type": "table"
           }
          ]
         },
         "layout": {
          "annotationdefaults": {
           "arrowcolor": "#2a3f5f",
           "arrowhead": 0,
           "arrowwidth": 1
          },
          "autotypenumbers": "strict",
          "coloraxis": {
           "colorbar": {
            "outlinewidth": 0,
            "ticks": ""
           }
          },
          "colorscale": {
           "diverging": [
            [
             0,
             "#8e0152"
            ],
            [
             0.1,
             "#c51b7d"
            ],
            [
             0.2,
             "#de77ae"
            ],
            [
             0.3,
             "#f1b6da"
            ],
            [
             0.4,
             "#fde0ef"
            ],
            [
             0.5,
             "#f7f7f7"
            ],
            [
             0.6,
             "#e6f5d0"
            ],
            [
             0.7,
             "#b8e186"
            ],
            [
             0.8,
             "#7fbc41"
            ],
            [
             0.9,
             "#4d9221"
            ],
            [
             1,
             "#276419"
            ]
           ],
           "sequential": [
            [
             0,
             "#0d0887"
            ],
            [
             0.1111111111111111,
             "#46039f"
            ],
            [
             0.2222222222222222,
             "#7201a8"
            ],
            [
             0.3333333333333333,
             "#9c179e"
            ],
            [
             0.4444444444444444,
             "#bd3786"
            ],
            [
             0.5555555555555556,
             "#d8576b"
            ],
            [
             0.6666666666666666,
             "#ed7953"
            ],
            [
             0.7777777777777778,
             "#fb9f3a"
            ],
            [
             0.8888888888888888,
             "#fdca26"
            ],
            [
             1,
             "#f0f921"
            ]
           ],
           "sequentialminus": [
            [
             0,
             "#0d0887"
            ],
            [
             0.1111111111111111,
             "#46039f"
            ],
            [
             0.2222222222222222,
             "#7201a8"
            ],
            [
             0.3333333333333333,
             "#9c179e"
            ],
            [
             0.4444444444444444,
             "#bd3786"
            ],
            [
             0.5555555555555556,
             "#d8576b"
            ],
            [
             0.6666666666666666,
             "#ed7953"
            ],
            [
             0.7777777777777778,
             "#fb9f3a"
            ],
            [
             0.8888888888888888,
             "#fdca26"
            ],
            [
             1,
             "#f0f921"
            ]
           ]
          },
          "colorway": [
           "#636efa",
           "#EF553B",
           "#00cc96",
           "#ab63fa",
           "#FFA15A",
           "#19d3f3",
           "#FF6692",
           "#B6E880",
           "#FF97FF",
           "#FECB52"
          ],
          "font": {
           "color": "#2a3f5f"
          },
          "geo": {
           "bgcolor": "white",
           "lakecolor": "white",
           "landcolor": "#E5ECF6",
           "showlakes": true,
           "showland": true,
           "subunitcolor": "white"
          },
          "hoverlabel": {
           "align": "left"
          },
          "hovermode": "closest",
          "mapbox": {
           "style": "light"
          },
          "paper_bgcolor": "white",
          "plot_bgcolor": "#E5ECF6",
          "polar": {
           "angularaxis": {
            "gridcolor": "white",
            "linecolor": "white",
            "ticks": ""
           },
           "bgcolor": "#E5ECF6",
           "radialaxis": {
            "gridcolor": "white",
            "linecolor": "white",
            "ticks": ""
           }
          },
          "scene": {
           "xaxis": {
            "backgroundcolor": "#E5ECF6",
            "gridcolor": "white",
            "gridwidth": 2,
            "linecolor": "white",
            "showbackground": true,
            "ticks": "",
            "zerolinecolor": "white"
           },
           "yaxis": {
            "backgroundcolor": "#E5ECF6",
            "gridcolor": "white",
            "gridwidth": 2,
            "linecolor": "white",
            "showbackground": true,
            "ticks": "",
            "zerolinecolor": "white"
           },
           "zaxis": {
            "backgroundcolor": "#E5ECF6",
            "gridcolor": "white",
            "gridwidth": 2,
            "linecolor": "white",
            "showbackground": true,
            "ticks": "",
            "zerolinecolor": "white"
           }
          },
          "shapedefaults": {
           "line": {
            "color": "#2a3f5f"
           }
          },
          "ternary": {
           "aaxis": {
            "gridcolor": "white",
            "linecolor": "white",
            "ticks": ""
           },
           "baxis": {
            "gridcolor": "white",
            "linecolor": "white",
            "ticks": ""
           },
           "bgcolor": "#E5ECF6",
           "caxis": {
            "gridcolor": "white",
            "linecolor": "white",
            "ticks": ""
           }
          },
          "title": {
           "x": 0.05
          },
          "xaxis": {
           "automargin": true,
           "gridcolor": "white",
           "linecolor": "white",
           "ticks": "",
           "title": {
            "standoff": 15
           },
           "zerolinecolor": "white",
           "zerolinewidth": 2
          },
          "yaxis": {
           "automargin": true,
           "gridcolor": "white",
           "linecolor": "white",
           "ticks": "",
           "title": {
            "standoff": 15
           },
           "zerolinecolor": "white",
           "zerolinewidth": 2
          }
         }
        },
        "title": {
         "text": "title"
        }
       }
      },
      "text/html": [
       "<div>                            <div id=\"920f3eff-a33c-4b47-a262-777d8b720129\" class=\"plotly-graph-div\" style=\"height:525px; width:100%;\"></div>            <script type=\"text/javascript\">                require([\"plotly\"], function(Plotly) {                    window.PLOTLYENV=window.PLOTLYENV || {};                                    if (document.getElementById(\"920f3eff-a33c-4b47-a262-777d8b720129\")) {                    Plotly.newPlot(                        \"920f3eff-a33c-4b47-a262-777d8b720129\",                        [{\"arrangement\":\"snap\",\"link\":{\"color\":[\"rgba(128, 128, 128, 0.2)\",\"rgba(128, 128, 128, 0.2)\",\"rgba(128, 128, 128, 0.2)\",\"rgba(128, 128, 128, 0.2)\",\"rgba(128, 128, 128, 0.2)\",\"rgba(128, 128, 128, 0.2)\",\"rgba(128, 128, 128, 0.2)\",\"rgba(128, 128, 128, 0.2)\",\"rgba(128, 128, 128, 0.2)\",\"rgba(49, 162, 227, 0.8)\",\"rgba(49, 162, 227, 0.8)\",\"rgba(128, 128, 128, 0.2)\",\"rgba(49, 162, 227, 0.8)\",\"rgba(49, 162, 227, 0.8)\",\"rgba(49, 162, 227, 0.8)\",\"rgba(49, 162, 227, 0.8)\",\"rgba(128, 128, 128, 0.2)\",\"rgba(49, 162, 227, 0.8)\",\"rgba(49, 162, 227, 0.8)\",\"rgba(49, 162, 227, 0.8)\",\"rgba(49, 162, 227, 0.8)\",\"rgba(49, 162, 227, 0.8)\",\"rgba(128, 128, 128, 0.2)\",\"rgba(128, 128, 128, 0.2)\",\"rgba(128, 128, 128, 0.2)\",\"rgba(128, 128, 128, 0.2)\",\"rgba(128, 128, 128, 0.2)\",\"rgba(128, 128, 128, 0.2)\",\"rgba(128, 128, 128, 0.2)\",\"rgba(128, 128, 128, 0.2)\",\"rgba(128, 128, 128, 0.2)\",\"rgba(128, 128, 128, 0.2)\",\"rgba(128, 128, 128, 0.2)\",\"rgba(128, 128, 128, 0.2)\"],\"source\":[0,0,0,0,0,0,0,0,0,1,1,2,3,3,3,4,5,1,1,1,1,1,6,7,8,9,10,10,10,11,11,11,11,11],\"target\":[4,5,1,6,7,8,9,10,11,2,3,12,12,13,14,12,15,12,16,15,14,17,12,12,12,15,12,16,17,12,16,15,14,17],\"value\":[0.0,0.0,865152.808180359,157468.9197990083,20230.482088,1661.970049,0.0,5813434.097403999,8972369.030144472,92779.716999999,605663.2573444049,92779.716999999,462802.2908314379,98196.878656965,44664.087856002,0.0,0.0,143794.694356955,0.0,0.0,22915.139479,0.0,157468.9197990083,20230.482088,1661.970049,0.0,469416.27,5344017.827404,0.0,1133472.8776892477,7773897.512454223,0.0,64998.640001,0.0]},\"node\":{\"label\":[\"1PD (29) \\u003cbr\\u003e100.0% (15.8M)\",\"CRM-1PD CRM (29) \\u003cbr\\u003e5.5% (865.2K)\",\"AIQ CRM (2) \\u003cbr\\u003e0.6% (92.8K)\",\"Liveramp (27) \\u003cbr\\u003e3.8% (605.7K)\",\"CRM-1PD (0) \\u003cbr\\u003e0.0% (0)\",\"CRM-1PD AUDIENCE (0) \\u003cbr\\u003e0.0% (0)\",\"EMAIL-1PD CRM (0) \\u003cbr\\u003e1.0% (157.5K)\",\"LAPSED-1PD PIXEL (0) \\u003cbr\\u003e0.1% (20.2K)\",\"LAPSED-1PD\\u00a0PIXEL (0) \\u003cbr\\u003e0.0% (1.7K)\",\"MEDIA-1PD MEDIA (0) \\u003cbr\\u003e0.0% (0)\",\"PERSONA-1PD RETARGET (0) \\u003cbr\\u003e36.7% (5.8M)\",\"RETARGET-1PD RETARGET (0) \\u003cbr\\u003e56.7% (9.0M)\",\"Active Prospects (29) \\u003cbr\\u003e15.7% (2.5M)\",\"High Propsensity Prospects (5) \\u003cbr\\u003e0.6% (98.2K)\",\"Lead Gen (1) \\u003cbr\\u003e0.8% (132.6K)\",\"Demand Creation (0) \\u003cbr\\u003e0.0% (0)\",\"Brand Seeker\\u002fPurchasers (0) \\u003cbr\\u003e82.9% (13.1M)\",\"No Funnel Specific Budget (0) \\u003cbr\\u003e0.0% (0)\"],\"pad\":30,\"thickness\":20},\"type\":\"sankey\"}],                        {\"template\":{\"data\":{\"histogram2dcontour\":[{\"type\":\"histogram2dcontour\",\"colorbar\":{\"outlinewidth\":0,\"ticks\":\"\"},\"colorscale\":[[0.0,\"#0d0887\"],[0.1111111111111111,\"#46039f\"],[0.2222222222222222,\"#7201a8\"],[0.3333333333333333,\"#9c179e\"],[0.4444444444444444,\"#bd3786\"],[0.5555555555555556,\"#d8576b\"],[0.6666666666666666,\"#ed7953\"],[0.7777777777777778,\"#fb9f3a\"],[0.8888888888888888,\"#fdca26\"],[1.0,\"#f0f921\"]]}],\"choropleth\":[{\"type\":\"choropleth\",\"colorbar\":{\"outlinewidth\":0,\"ticks\":\"\"}}],\"histogram2d\":[{\"type\":\"histogram2d\",\"colorbar\":{\"outlinewidth\":0,\"ticks\":\"\"},\"colorscale\":[[0.0,\"#0d0887\"],[0.1111111111111111,\"#46039f\"],[0.2222222222222222,\"#7201a8\"],[0.3333333333333333,\"#9c179e\"],[0.4444444444444444,\"#bd3786\"],[0.5555555555555556,\"#d8576b\"],[0.6666666666666666,\"#ed7953\"],[0.7777777777777778,\"#fb9f3a\"],[0.8888888888888888,\"#fdca26\"],[1.0,\"#f0f921\"]]}],\"heatmap\":[{\"type\":\"heatmap\",\"colorbar\":{\"outlinewidth\":0,\"ticks\":\"\"},\"colorscale\":[[0.0,\"#0d0887\"],[0.1111111111111111,\"#46039f\"],[0.2222222222222222,\"#7201a8\"],[0.3333333333333333,\"#9c179e\"],[0.4444444444444444,\"#bd3786\"],[0.5555555555555556,\"#d8576b\"],[0.6666666666666666,\"#ed7953\"],[0.7777777777777778,\"#fb9f3a\"],[0.8888888888888888,\"#fdca26\"],[1.0,\"#f0f921\"]]}],\"heatmapgl\":[{\"type\":\"heatmapgl\",\"colorbar\":{\"outlinewidth\":0,\"ticks\":\"\"},\"colorscale\":[[0.0,\"#0d0887\"],[0.1111111111111111,\"#46039f\"],[0.2222222222222222,\"#7201a8\"],[0.3333333333333333,\"#9c179e\"],[0.4444444444444444,\"#bd3786\"],[0.5555555555555556,\"#d8576b\"],[0.6666666666666666,\"#ed7953\"],[0.7777777777777778,\"#fb9f3a\"],[0.8888888888888888,\"#fdca26\"],[1.0,\"#f0f921\"]]}],\"contourcarpet\":[{\"type\":\"contourcarpet\",\"colorbar\":{\"outlinewidth\":0,\"ticks\":\"\"}}],\"contour\":[{\"type\":\"contour\",\"colorbar\":{\"outlinewidth\":0,\"ticks\":\"\"},\"colorscale\":[[0.0,\"#0d0887\"],[0.1111111111111111,\"#46039f\"],[0.2222222222222222,\"#7201a8\"],[0.3333333333333333,\"#9c179e\"],[0.4444444444444444,\"#bd3786\"],[0.5555555555555556,\"#d8576b\"],[0.6666666666666666,\"#ed7953\"],[0.7777777777777778,\"#fb9f3a\"],[0.8888888888888888,\"#fdca26\"],[1.0,\"#f0f921\"]]}],\"surface\":[{\"type\":\"surface\",\"colorbar\":{\"outlinewidth\":0,\"ticks\":\"\"},\"colorscale\":[[0.0,\"#0d0887\"],[0.1111111111111111,\"#46039f\"],[0.2222222222222222,\"#7201a8\"],[0.3333333333333333,\"#9c179e\"],[0.4444444444444444,\"#bd3786\"],[0.5555555555555556,\"#d8576b\"],[0.6666666666666666,\"#ed7953\"],[0.7777777777777778,\"#fb9f3a\"],[0.8888888888888888,\"#fdca26\"],[1.0,\"#f0f921\"]]}],\"mesh3d\":[{\"type\":\"mesh3d\",\"colorbar\":{\"outlinewidth\":0,\"ticks\":\"\"}}],\"scatter\":[{\"fillpattern\":{\"fillmode\":\"overlay\",\"size\":10,\"solidity\":0.2},\"type\":\"scatter\"}],\"parcoords\":[{\"type\":\"parcoords\",\"line\":{\"colorbar\":{\"outlinewidth\":0,\"ticks\":\"\"}}}],\"scatterpolargl\":[{\"type\":\"scatterpolargl\",\"marker\":{\"colorbar\":{\"outlinewidth\":0,\"ticks\":\"\"}}}],\"bar\":[{\"error_x\":{\"color\":\"#2a3f5f\"},\"error_y\":{\"color\":\"#2a3f5f\"},\"marker\":{\"line\":{\"color\":\"#E5ECF6\",\"width\":0.5},\"pattern\":{\"fillmode\":\"overlay\",\"size\":10,\"solidity\":0.2}},\"type\":\"bar\"}],\"scattergeo\":[{\"type\":\"scattergeo\",\"marker\":{\"colorbar\":{\"outlinewidth\":0,\"ticks\":\"\"}}}],\"scatterpolar\":[{\"type\":\"scatterpolar\",\"marker\":{\"colorbar\":{\"outlinewidth\":0,\"ticks\":\"\"}}}],\"histogram\":[{\"marker\":{\"pattern\":{\"fillmode\":\"overlay\",\"size\":10,\"solidity\":0.2}},\"type\":\"histogram\"}],\"scattergl\":[{\"type\":\"scattergl\",\"marker\":{\"colorbar\":{\"outlinewidth\":0,\"ticks\":\"\"}}}],\"scatter3d\":[{\"type\":\"scatter3d\",\"line\":{\"colorbar\":{\"outlinewidth\":0,\"ticks\":\"\"}},\"marker\":{\"colorbar\":{\"outlinewidth\":0,\"ticks\":\"\"}}}],\"scattermapbox\":[{\"type\":\"scattermapbox\",\"marker\":{\"colorbar\":{\"outlinewidth\":0,\"ticks\":\"\"}}}],\"scatterternary\":[{\"type\":\"scatterternary\",\"marker\":{\"colorbar\":{\"outlinewidth\":0,\"ticks\":\"\"}}}],\"scattercarpet\":[{\"type\":\"scattercarpet\",\"marker\":{\"colorbar\":{\"outlinewidth\":0,\"ticks\":\"\"}}}],\"carpet\":[{\"aaxis\":{\"endlinecolor\":\"#2a3f5f\",\"gridcolor\":\"white\",\"linecolor\":\"white\",\"minorgridcolor\":\"white\",\"startlinecolor\":\"#2a3f5f\"},\"baxis\":{\"endlinecolor\":\"#2a3f5f\",\"gridcolor\":\"white\",\"linecolor\":\"white\",\"minorgridcolor\":\"white\",\"startlinecolor\":\"#2a3f5f\"},\"type\":\"carpet\"}],\"table\":[{\"cells\":{\"fill\":{\"color\":\"#EBF0F8\"},\"line\":{\"color\":\"white\"}},\"header\":{\"fill\":{\"color\":\"#C8D4E3\"},\"line\":{\"color\":\"white\"}},\"type\":\"table\"}],\"barpolar\":[{\"marker\":{\"line\":{\"color\":\"#E5ECF6\",\"width\":0.5},\"pattern\":{\"fillmode\":\"overlay\",\"size\":10,\"solidity\":0.2}},\"type\":\"barpolar\"}],\"pie\":[{\"automargin\":true,\"type\":\"pie\"}]},\"layout\":{\"autotypenumbers\":\"strict\",\"colorway\":[\"#636efa\",\"#EF553B\",\"#00cc96\",\"#ab63fa\",\"#FFA15A\",\"#19d3f3\",\"#FF6692\",\"#B6E880\",\"#FF97FF\",\"#FECB52\"],\"font\":{\"color\":\"#2a3f5f\"},\"hovermode\":\"closest\",\"hoverlabel\":{\"align\":\"left\"},\"paper_bgcolor\":\"white\",\"plot_bgcolor\":\"#E5ECF6\",\"polar\":{\"bgcolor\":\"#E5ECF6\",\"angularaxis\":{\"gridcolor\":\"white\",\"linecolor\":\"white\",\"ticks\":\"\"},\"radialaxis\":{\"gridcolor\":\"white\",\"linecolor\":\"white\",\"ticks\":\"\"}},\"ternary\":{\"bgcolor\":\"#E5ECF6\",\"aaxis\":{\"gridcolor\":\"white\",\"linecolor\":\"white\",\"ticks\":\"\"},\"baxis\":{\"gridcolor\":\"white\",\"linecolor\":\"white\",\"ticks\":\"\"},\"caxis\":{\"gridcolor\":\"white\",\"linecolor\":\"white\",\"ticks\":\"\"}},\"coloraxis\":{\"colorbar\":{\"outlinewidth\":0,\"ticks\":\"\"}},\"colorscale\":{\"sequential\":[[0.0,\"#0d0887\"],[0.1111111111111111,\"#46039f\"],[0.2222222222222222,\"#7201a8\"],[0.3333333333333333,\"#9c179e\"],[0.4444444444444444,\"#bd3786\"],[0.5555555555555556,\"#d8576b\"],[0.6666666666666666,\"#ed7953\"],[0.7777777777777778,\"#fb9f3a\"],[0.8888888888888888,\"#fdca26\"],[1.0,\"#f0f921\"]],\"sequentialminus\":[[0.0,\"#0d0887\"],[0.1111111111111111,\"#46039f\"],[0.2222222222222222,\"#7201a8\"],[0.3333333333333333,\"#9c179e\"],[0.4444444444444444,\"#bd3786\"],[0.5555555555555556,\"#d8576b\"],[0.6666666666666666,\"#ed7953\"],[0.7777777777777778,\"#fb9f3a\"],[0.8888888888888888,\"#fdca26\"],[1.0,\"#f0f921\"]],\"diverging\":[[0,\"#8e0152\"],[0.1,\"#c51b7d\"],[0.2,\"#de77ae\"],[0.3,\"#f1b6da\"],[0.4,\"#fde0ef\"],[0.5,\"#f7f7f7\"],[0.6,\"#e6f5d0\"],[0.7,\"#b8e186\"],[0.8,\"#7fbc41\"],[0.9,\"#4d9221\"],[1,\"#276419\"]]},\"xaxis\":{\"gridcolor\":\"white\",\"linecolor\":\"white\",\"ticks\":\"\",\"title\":{\"standoff\":15},\"zerolinecolor\":\"white\",\"automargin\":true,\"zerolinewidth\":2},\"yaxis\":{\"gridcolor\":\"white\",\"linecolor\":\"white\",\"ticks\":\"\",\"title\":{\"standoff\":15},\"zerolinecolor\":\"white\",\"automargin\":true,\"zerolinewidth\":2},\"scene\":{\"xaxis\":{\"backgroundcolor\":\"#E5ECF6\",\"gridcolor\":\"white\",\"linecolor\":\"white\",\"showbackground\":true,\"ticks\":\"\",\"zerolinecolor\":\"white\",\"gridwidth\":2},\"yaxis\":{\"backgroundcolor\":\"#E5ECF6\",\"gridcolor\":\"white\",\"linecolor\":\"white\",\"showbackground\":true,\"ticks\":\"\",\"zerolinecolor\":\"white\",\"gridwidth\":2},\"zaxis\":{\"backgroundcolor\":\"#E5ECF6\",\"gridcolor\":\"white\",\"linecolor\":\"white\",\"showbackground\":true,\"ticks\":\"\",\"zerolinecolor\":\"white\",\"gridwidth\":2}},\"shapedefaults\":{\"line\":{\"color\":\"#2a3f5f\"}},\"annotationdefaults\":{\"arrowcolor\":\"#2a3f5f\",\"arrowhead\":0,\"arrowwidth\":1},\"geo\":{\"bgcolor\":\"white\",\"landcolor\":\"#E5ECF6\",\"subunitcolor\":\"white\",\"showland\":true,\"showlakes\":true,\"lakecolor\":\"white\"},\"title\":{\"x\":0.05},\"mapbox\":{\"style\":\"light\"}}},\"title\":{\"text\":\"title\"}},                        {\"responsive\": true}                    ).then(function(){\n",
       "                            \n",
       "var gd = document.getElementById('920f3eff-a33c-4b47-a262-777d8b720129');\n",
       "var x = new MutationObserver(function (mutations, observer) {{\n",
       "        var display = window.getComputedStyle(gd).display;\n",
       "        if (!display || display === 'none') {{\n",
       "            console.log([gd, 'removed!']);\n",
       "            Plotly.purge(gd);\n",
       "            observer.disconnect();\n",
       "        }}\n",
       "}});\n",
       "\n",
       "// Listen for the removal of the full notebook cells\n",
       "var notebookContainer = gd.closest('#notebook-container');\n",
       "if (notebookContainer) {{\n",
       "    x.observe(notebookContainer, {childList: true});\n",
       "}}\n",
       "\n",
       "// Listen for the clearing of the current output cell\n",
       "var outputEl = gd.closest('.output');\n",
       "if (outputEl) {{\n",
       "    x.observe(outputEl, {childList: true});\n",
       "}}\n",
       "\n",
       "                        })                };                });            </script>        </div>"
      ]
     },
     "metadata": {},
     "output_type": "display_data"
    }
   ],
   "source": [
    "# Fix issue with 'Audience Type Name': 'CRM-1PD\\xa0CRM'\n",
    "df['Audience Type Name'] = df['Audience Type Name'].str.replace('CRM-1PD\\xa0CRM', 'CRM-1PD CRM')\n",
    "\n",
    "# Get Segments Unique Counts\n",
    "filtered_df = df[(df['Segment ID'] != 0) & (df['Segment ID'] != '0')]\n",
    "df_lvl1_seg = filtered_df.groupby(['Audience Type'])['Segment ID'].nunique().reset_index()\n",
    "df_lvl2_seg = filtered_df.groupby(['Audience Type Name'])['Segment ID'].nunique().reset_index()\n",
    "df_lvl3_seg = filtered_df.groupby(['Audience Source'])['Segment ID'].nunique().reset_index()\n",
    "df_lvl4_seg = filtered_df.groupby(['Display Funnel Mapped'])['Segment ID'].nunique().reset_index()\n",
    "df_lvl1_seg.rename(columns={'Audience Type':'Label', 'Segment ID':'Segments'}, inplace=True)\n",
    "df_lvl2_seg.rename(columns={'Audience Type Name':'Label', 'Segment ID':'Segments'}, inplace=True)\n",
    "df_lvl3_seg.rename(columns={'Audience Source':'Label', 'Segment ID':'Segments'}, inplace=True)\n",
    "df_lvl4_seg.rename(columns={'Display Funnel Mapped':'Label', 'Segment ID':'Segments'}, inplace=True)\n",
    "segment_df = pd.concat([df_lvl1_seg, df_lvl2_seg, df_lvl3_seg, df_lvl4_seg])\n",
    "######\n",
    "\n",
    "test = df.groupby(['Audience Type', 'Audience Type Name', 'Audience Source','Display Funnel Mapped'])['Spend'].sum().reset_index()\n",
    "\n",
    "test3 = test.groupby(['Audience Type', 'Audience Type Name', 'Audience Source','Display Funnel Mapped'])['Spend'].sum().reset_index()\n",
    "test3 = test3[(test3['Audience Source'] != '0')&(test3['Display Funnel Mapped'] != '0')]\n",
    "\n",
    "test1 = test.groupby(['Audience Type','Audience Type Name'])['Spend'].sum().reset_index()\n",
    "test1 = test1[(test1['Audience Type Name'] != '0')]\n",
    "\n",
    "test2 = test.groupby(['Audience Type','Audience Type Name','Audience Source'])['Spend'].sum().reset_index()\n",
    "test2 = test2[(test2['Audience Type Name'] != '0')&(test2['Audience Source'] != '0')]\n",
    "\n",
    "test4 = test[test['Audience Source'] == '0'].groupby(['Audience Type', 'Audience Type Name', 'Display Funnel Mapped'])['Spend'].sum().reset_index()\n",
    "test4 = test4[(test4['Audience Type Name'] != '0')&(test4['Display Funnel Mapped'] != '0')]\n",
    "\n",
    "test1['Level'] = 1\n",
    "test2['Level'] = 2\n",
    "test3['Level'] = 4\n",
    "test4['Level'] = 3\n",
    "\n",
    "test1.rename(columns={'Audience Type':'Source', 'Audience Type Name':'Target', 'Spend':'Total'}, inplace=True)\n",
    "test2.rename(columns={'Audience Type Name':'Source', 'Audience Source':'Target', 'Spend':'Total'}, inplace=True)\n",
    "test3.rename(columns={'Audience Source':'Source', 'Display Funnel Mapped':'Target', 'Spend':'Total'}, inplace=True)\n",
    "test4.rename(columns={'Audience Type Name':'Source', 'Display Funnel Mapped':'Target', 'Spend':'Total'}, inplace=True)\n",
    "\n",
    "concat_df = pd.concat([\n",
    "                       test1[['Source','Target','Total', 'Level']]\n",
    "                       , test2[['Source','Target','Total', 'Level']]\n",
    "                       , test3[['Source','Target','Total', 'Level']]\n",
    "                        , test4[['Source','Target','Total', 'Level']]\n",
    "                    ], ignore_index=True)\n",
    "                    \n",
    "\n",
    "unique_values = pd.unique(concat_df[['Source', 'Target']].values.ravel('K'))\n",
    "\n",
    "mapping_df = pd.DataFrame({'Label': unique_values.tolist()\n",
    "                                     , 'Value': [i for i in range(len(unique_values))]})\n",
    "\n",
    "\n",
    "unique_values = pd.unique(concat_df[['Source', 'Target']].values.ravel('K'))\n",
    "    \n",
    "mapping_df = pd.DataFrame({'Label': unique_values.tolist()\n",
    "                                          , 'Value': [i for i in range(len(unique_values))]})\n",
    "\n",
    "# Replace values based on the mappings\n",
    "concat_df['Source'] = concat_df['Source'].replace(mapping_df.set_index('Label')['Value'])\n",
    "concat_df['Target'] = concat_df['Target'].replace(mapping_df.set_index('Label')['Value'])\n",
    "\n",
    "\n",
    "\n",
    "\n",
    "\n",
    "\n",
    "# Create a list of columns to process\n",
    "columns_to_process = ['Audience Type', 'Audience Type Name', 'Audience Source', 'Display Funnel Mapped']\n",
    "\n",
    "# Create an empty DataFrame to store the results\n",
    "result_df = pd.DataFrame()\n",
    "\n",
    "# Loop through each column and calculate sums, percentages, and unique \"Segment ID\" counts\n",
    "for column_name in columns_to_process:\n",
    "    # Calculate sums and percentages\n",
    "    grouped = df.groupby(column_name)['Spend'].sum().reset_index()\n",
    "    grouped['Percentage'] = (grouped['Spend'] / grouped['Spend'].sum()) * 100\n",
    "    grouped.rename(columns={column_name: 'Label'}, inplace=True)\n",
    "    \n",
    "    # Calculate unique \"Segment ID\" counts\n",
    "    grouped_segment = df[(df['Segment ID'] != '0') & (df['Segment ID'] != 0)].groupby(column_name)['Segment ID'].nunique().reset_index()\n",
    "    grouped_segment.rename(columns={column_name: 'Label', 'Segment ID': 'Segments'}, inplace=True)\n",
    "    \n",
    "    # Merge the two DataFrames\n",
    "    merged_grouped = grouped.merge(grouped_segment, on='Label', how='left')\n",
    "    \n",
    "    # Append the result to result_df\n",
    "    result_df = pd.concat([result_df, merged_grouped], axis=0, ignore_index=True)\n",
    "\n",
    "# result_df now contains the combined results\n",
    "result_df\n",
    "\n",
    "\n",
    "merged_df = mapping_df.merge(result_df, on='Label', how='left')\n",
    "\n",
    "merged_df.fillna(0,inplace=True)\n",
    "\n",
    "merged_df['Label_x'] = merged_df['Label'] + \" (\" + merged_df['Segments'].apply(format_value) + \") \" + \"<br>\" + merged_df['Percentage'].apply(lambda x: f'{x:.1f}%')+ \" (\" + merged_df['Spend'].apply(format_value) + \")\"\n",
    "\n",
    "\n",
    "\n",
    "############\n",
    "\n",
    "\n",
    "# Sample data\n",
    "source = concat_df['Source'].values.tolist()\n",
    "target = concat_df['Target'].values.tolist()\n",
    "value = concat_df['Total'].values.tolist()\n",
    "labels = merged_df['Label_x'].values.tolist()\n",
    "\n",
    "# List of colors for each link based on some condition or data\n",
    "colors = generate_gray_tones(source)\n",
    "\n",
    "# Create links\n",
    "link = dict(source=source, target=target, value=value, color=colors)\n",
    "\n",
    "# Create nodes\n",
    "node = dict(label=labels, pad=30, thickness=20)\n",
    "\n",
    "# Create a Sankey object\n",
    "chart = go.Sankey(link=link, node=node, arrangement=\"snap\")\n",
    "\n",
    "# Build a figure\n",
    "fig = go.Figure(chart)\n",
    "\n",
    "# Add a title to the figure\n",
    "fig.update_layout(title_text='title')\n",
    "\n",
    "fig.show()\n"
   ]
  },
  {
   "cell_type": "code",
   "execution_count": 24,
   "id": "a09b3215",
   "metadata": {
    "scrolled": false
   },
   "outputs": [
    {
     "data": {
      "text/html": [
       "<div>\n",
       "<style scoped>\n",
       "    .dataframe tbody tr th:only-of-type {\n",
       "        vertical-align: middle;\n",
       "    }\n",
       "\n",
       "    .dataframe tbody tr th {\n",
       "        vertical-align: top;\n",
       "    }\n",
       "\n",
       "    .dataframe thead th {\n",
       "        text-align: right;\n",
       "    }\n",
       "</style>\n",
       "<table border=\"1\" class=\"dataframe\">\n",
       "  <thead>\n",
       "    <tr style=\"text-align: right;\">\n",
       "      <th></th>\n",
       "      <th>Audience Type</th>\n",
       "      <th>Audience Type Name</th>\n",
       "      <th>Audience Source</th>\n",
       "      <th>Display Funnel Mapped</th>\n",
       "      <th>Spend</th>\n",
       "      <th>Net Rev</th>\n",
       "      <th>ROAS</th>\n",
       "    </tr>\n",
       "  </thead>\n",
       "  <tbody>\n",
       "    <tr>\n",
       "      <th>0</th>\n",
       "      <td>1PD</td>\n",
       "      <td>CRM-1PD</td>\n",
       "      <td>0</td>\n",
       "      <td>Active Prospects</td>\n",
       "      <td>0.000000e+00</td>\n",
       "      <td>0.000000e+00</td>\n",
       "      <td>NaN</td>\n",
       "    </tr>\n",
       "    <tr>\n",
       "      <th>1</th>\n",
       "      <td>1PD</td>\n",
       "      <td>CRM-1PD AUDIENCE</td>\n",
       "      <td>0</td>\n",
       "      <td>Demand Creation</td>\n",
       "      <td>0.000000e+00</td>\n",
       "      <td>0.000000e+00</td>\n",
       "      <td>NaN</td>\n",
       "    </tr>\n",
       "    <tr>\n",
       "      <th>2</th>\n",
       "      <td>1PD</td>\n",
       "      <td>CRM-1PD CRM</td>\n",
       "      <td>0</td>\n",
       "      <td>Active Prospects</td>\n",
       "      <td>1.437947e+05</td>\n",
       "      <td>4.065587e+05</td>\n",
       "      <td>2.827355</td>\n",
       "    </tr>\n",
       "    <tr>\n",
       "      <th>3</th>\n",
       "      <td>1PD</td>\n",
       "      <td>CRM-1PD CRM</td>\n",
       "      <td>0</td>\n",
       "      <td>Brand Seeker/Purchasers</td>\n",
       "      <td>0.000000e+00</td>\n",
       "      <td>0.000000e+00</td>\n",
       "      <td>NaN</td>\n",
       "    </tr>\n",
       "    <tr>\n",
       "      <th>4</th>\n",
       "      <td>1PD</td>\n",
       "      <td>CRM-1PD CRM</td>\n",
       "      <td>0</td>\n",
       "      <td>Demand Creation</td>\n",
       "      <td>0.000000e+00</td>\n",
       "      <td>3.277758e+04</td>\n",
       "      <td>inf</td>\n",
       "    </tr>\n",
       "    <tr>\n",
       "      <th>5</th>\n",
       "      <td>1PD</td>\n",
       "      <td>CRM-1PD CRM</td>\n",
       "      <td>0</td>\n",
       "      <td>Lead Gen</td>\n",
       "      <td>2.291514e+04</td>\n",
       "      <td>2.962017e+04</td>\n",
       "      <td>1.292603</td>\n",
       "    </tr>\n",
       "    <tr>\n",
       "      <th>6</th>\n",
       "      <td>1PD</td>\n",
       "      <td>CRM-1PD CRM</td>\n",
       "      <td>0</td>\n",
       "      <td>No Funnel Specific Budget</td>\n",
       "      <td>0.000000e+00</td>\n",
       "      <td>0.000000e+00</td>\n",
       "      <td>NaN</td>\n",
       "    </tr>\n",
       "    <tr>\n",
       "      <th>7</th>\n",
       "      <td>1PD</td>\n",
       "      <td>CRM-1PD CRM</td>\n",
       "      <td>AIQ CRM</td>\n",
       "      <td>Active Prospects</td>\n",
       "      <td>9.277972e+04</td>\n",
       "      <td>2.703776e+04</td>\n",
       "      <td>0.291419</td>\n",
       "    </tr>\n",
       "    <tr>\n",
       "      <th>8</th>\n",
       "      <td>1PD</td>\n",
       "      <td>CRM-1PD CRM</td>\n",
       "      <td>Liveramp</td>\n",
       "      <td>Active Prospects</td>\n",
       "      <td>4.628023e+05</td>\n",
       "      <td>1.118749e+06</td>\n",
       "      <td>2.417337</td>\n",
       "    </tr>\n",
       "    <tr>\n",
       "      <th>9</th>\n",
       "      <td>1PD</td>\n",
       "      <td>CRM-1PD CRM</td>\n",
       "      <td>Liveramp</td>\n",
       "      <td>High Propsensity Prospects</td>\n",
       "      <td>9.819688e+04</td>\n",
       "      <td>2.457433e+04</td>\n",
       "      <td>0.250256</td>\n",
       "    </tr>\n",
       "    <tr>\n",
       "      <th>10</th>\n",
       "      <td>1PD</td>\n",
       "      <td>CRM-1PD CRM</td>\n",
       "      <td>Liveramp</td>\n",
       "      <td>Lead Gen</td>\n",
       "      <td>4.466409e+04</td>\n",
       "      <td>7.819638e+04</td>\n",
       "      <td>1.750766</td>\n",
       "    </tr>\n",
       "    <tr>\n",
       "      <th>11</th>\n",
       "      <td>1PD</td>\n",
       "      <td>EMAIL-1PD CRM</td>\n",
       "      <td>0</td>\n",
       "      <td>Active Prospects</td>\n",
       "      <td>1.574689e+05</td>\n",
       "      <td>5.466435e+04</td>\n",
       "      <td>0.347144</td>\n",
       "    </tr>\n",
       "    <tr>\n",
       "      <th>12</th>\n",
       "      <td>1PD</td>\n",
       "      <td>LAPSED-1PD PIXEL</td>\n",
       "      <td>0</td>\n",
       "      <td>Active Prospects</td>\n",
       "      <td>2.023048e+04</td>\n",
       "      <td>1.284366e+05</td>\n",
       "      <td>6.348668</td>\n",
       "    </tr>\n",
       "    <tr>\n",
       "      <th>13</th>\n",
       "      <td>1PD</td>\n",
       "      <td>LAPSED-1PD PIXEL</td>\n",
       "      <td>0</td>\n",
       "      <td>Active Prospects</td>\n",
       "      <td>1.661970e+03</td>\n",
       "      <td>8.695880e+03</td>\n",
       "      <td>5.232272</td>\n",
       "    </tr>\n",
       "    <tr>\n",
       "      <th>14</th>\n",
       "      <td>1PD</td>\n",
       "      <td>MEDIA-1PD MEDIA</td>\n",
       "      <td>0</td>\n",
       "      <td>Demand Creation</td>\n",
       "      <td>0.000000e+00</td>\n",
       "      <td>0.000000e+00</td>\n",
       "      <td>NaN</td>\n",
       "    </tr>\n",
       "    <tr>\n",
       "      <th>15</th>\n",
       "      <td>1PD</td>\n",
       "      <td>PERSONA-1PD RETARGET</td>\n",
       "      <td>0</td>\n",
       "      <td>Active Prospects</td>\n",
       "      <td>4.694163e+05</td>\n",
       "      <td>5.575320e+04</td>\n",
       "      <td>0.118771</td>\n",
       "    </tr>\n",
       "    <tr>\n",
       "      <th>16</th>\n",
       "      <td>1PD</td>\n",
       "      <td>PERSONA-1PD RETARGET</td>\n",
       "      <td>0</td>\n",
       "      <td>Brand Seeker/Purchasers</td>\n",
       "      <td>5.344018e+06</td>\n",
       "      <td>9.598892e+05</td>\n",
       "      <td>0.179619</td>\n",
       "    </tr>\n",
       "    <tr>\n",
       "      <th>17</th>\n",
       "      <td>1PD</td>\n",
       "      <td>PERSONA-1PD RETARGET</td>\n",
       "      <td>0</td>\n",
       "      <td>No Funnel Specific Budget</td>\n",
       "      <td>0.000000e+00</td>\n",
       "      <td>7.785990e+03</td>\n",
       "      <td>inf</td>\n",
       "    </tr>\n",
       "    <tr>\n",
       "      <th>18</th>\n",
       "      <td>1PD</td>\n",
       "      <td>RETARGET-1PD RETARGET</td>\n",
       "      <td>0</td>\n",
       "      <td>Active Prospects</td>\n",
       "      <td>1.133473e+06</td>\n",
       "      <td>6.979797e+06</td>\n",
       "      <td>6.157886</td>\n",
       "    </tr>\n",
       "    <tr>\n",
       "      <th>19</th>\n",
       "      <td>1PD</td>\n",
       "      <td>RETARGET-1PD RETARGET</td>\n",
       "      <td>0</td>\n",
       "      <td>Brand Seeker/Purchasers</td>\n",
       "      <td>7.773898e+06</td>\n",
       "      <td>4.367037e+07</td>\n",
       "      <td>5.617565</td>\n",
       "    </tr>\n",
       "    <tr>\n",
       "      <th>20</th>\n",
       "      <td>1PD</td>\n",
       "      <td>RETARGET-1PD RETARGET</td>\n",
       "      <td>0</td>\n",
       "      <td>Demand Creation</td>\n",
       "      <td>0.000000e+00</td>\n",
       "      <td>0.000000e+00</td>\n",
       "      <td>NaN</td>\n",
       "    </tr>\n",
       "    <tr>\n",
       "      <th>21</th>\n",
       "      <td>1PD</td>\n",
       "      <td>RETARGET-1PD RETARGET</td>\n",
       "      <td>0</td>\n",
       "      <td>Lead Gen</td>\n",
       "      <td>6.499864e+04</td>\n",
       "      <td>0.000000e+00</td>\n",
       "      <td>0.000000</td>\n",
       "    </tr>\n",
       "    <tr>\n",
       "      <th>22</th>\n",
       "      <td>1PD</td>\n",
       "      <td>RETARGET-1PD RETARGET</td>\n",
       "      <td>0</td>\n",
       "      <td>No Funnel Specific Budget</td>\n",
       "      <td>0.000000e+00</td>\n",
       "      <td>1.408950e+03</td>\n",
       "      <td>inf</td>\n",
       "    </tr>\n",
       "  </tbody>\n",
       "</table>\n",
       "</div>"
      ],
      "text/plain": [
       "   Audience Type     Audience Type Name Audience Source  \\\n",
       "0            1PD                CRM-1PD               0   \n",
       "1            1PD       CRM-1PD AUDIENCE               0   \n",
       "2            1PD            CRM-1PD CRM               0   \n",
       "3            1PD            CRM-1PD CRM               0   \n",
       "4            1PD            CRM-1PD CRM               0   \n",
       "5            1PD            CRM-1PD CRM               0   \n",
       "6            1PD            CRM-1PD CRM               0   \n",
       "7            1PD            CRM-1PD CRM         AIQ CRM   \n",
       "8            1PD            CRM-1PD CRM        Liveramp   \n",
       "9            1PD            CRM-1PD CRM        Liveramp   \n",
       "10           1PD            CRM-1PD CRM        Liveramp   \n",
       "11           1PD          EMAIL-1PD CRM               0   \n",
       "12           1PD       LAPSED-1PD PIXEL               0   \n",
       "13           1PD       LAPSED-1PD PIXEL               0   \n",
       "14           1PD        MEDIA-1PD MEDIA               0   \n",
       "15           1PD   PERSONA-1PD RETARGET               0   \n",
       "16           1PD   PERSONA-1PD RETARGET               0   \n",
       "17           1PD   PERSONA-1PD RETARGET               0   \n",
       "18           1PD  RETARGET-1PD RETARGET               0   \n",
       "19           1PD  RETARGET-1PD RETARGET               0   \n",
       "20           1PD  RETARGET-1PD RETARGET               0   \n",
       "21           1PD  RETARGET-1PD RETARGET               0   \n",
       "22           1PD  RETARGET-1PD RETARGET               0   \n",
       "\n",
       "         Display Funnel Mapped         Spend       Net Rev      ROAS  \n",
       "0             Active Prospects  0.000000e+00  0.000000e+00       NaN  \n",
       "1              Demand Creation  0.000000e+00  0.000000e+00       NaN  \n",
       "2             Active Prospects  1.437947e+05  4.065587e+05  2.827355  \n",
       "3      Brand Seeker/Purchasers  0.000000e+00  0.000000e+00       NaN  \n",
       "4              Demand Creation  0.000000e+00  3.277758e+04       inf  \n",
       "5                     Lead Gen  2.291514e+04  2.962017e+04  1.292603  \n",
       "6    No Funnel Specific Budget  0.000000e+00  0.000000e+00       NaN  \n",
       "7             Active Prospects  9.277972e+04  2.703776e+04  0.291419  \n",
       "8             Active Prospects  4.628023e+05  1.118749e+06  2.417337  \n",
       "9   High Propsensity Prospects  9.819688e+04  2.457433e+04  0.250256  \n",
       "10                    Lead Gen  4.466409e+04  7.819638e+04  1.750766  \n",
       "11            Active Prospects  1.574689e+05  5.466435e+04  0.347144  \n",
       "12            Active Prospects  2.023048e+04  1.284366e+05  6.348668  \n",
       "13            Active Prospects  1.661970e+03  8.695880e+03  5.232272  \n",
       "14             Demand Creation  0.000000e+00  0.000000e+00       NaN  \n",
       "15            Active Prospects  4.694163e+05  5.575320e+04  0.118771  \n",
       "16     Brand Seeker/Purchasers  5.344018e+06  9.598892e+05  0.179619  \n",
       "17   No Funnel Specific Budget  0.000000e+00  7.785990e+03       inf  \n",
       "18            Active Prospects  1.133473e+06  6.979797e+06  6.157886  \n",
       "19     Brand Seeker/Purchasers  7.773898e+06  4.367037e+07  5.617565  \n",
       "20             Demand Creation  0.000000e+00  0.000000e+00       NaN  \n",
       "21                    Lead Gen  6.499864e+04  0.000000e+00  0.000000  \n",
       "22   No Funnel Specific Budget  0.000000e+00  1.408950e+03       inf  "
      ]
     },
     "execution_count": 24,
     "metadata": {},
     "output_type": "execute_result"
    }
   ],
   "source": [
    "details = df.groupby(['Audience Type', 'Audience Type Name', 'Audience Source','Display Funnel Mapped'])[['Spend','Net Rev']].sum().reset_index()\n",
    "details['ROAS'] = details['Net Rev'] / details['Spend']\n",
    "details"
   ]
  }
 ],
 "metadata": {
  "kernelspec": {
   "display_name": "Python 3 (ipykernel)",
   "language": "python",
   "name": "python3"
  },
  "language_info": {
   "codemirror_mode": {
    "name": "ipython",
    "version": 3
   },
   "file_extension": ".py",
   "mimetype": "text/x-python",
   "name": "python",
   "nbconvert_exporter": "python",
   "pygments_lexer": "ipython3",
   "version": "3.10.5"
  }
 },
 "nbformat": 4,
 "nbformat_minor": 5
}
