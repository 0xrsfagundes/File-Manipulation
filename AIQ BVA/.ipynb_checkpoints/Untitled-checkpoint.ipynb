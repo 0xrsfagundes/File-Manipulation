{
 "cells": [
  {
   "cell_type": "markdown",
   "id": "c889230a",
   "metadata": {},
   "source": [
    "<ul>\n",
    "<li>Provide a list of audiences activated each quarter, broken down by vehicle.</li>\n",
    "<li>Include details about the activation path, such as direct vs. NS vs. LR, and the use of Permutive.</li>\n",
    "<li>Describe the nature of the audience, e.g., whether it's 3p (third-party) or 1p (first-party), etc.</li>\n",
    "<li>Additionally, please specify the associated media spend for each audience.</li>\n",
    "<li>Include information about the funnel stage, including segments like high propensity, active, etc.</li>\n",
    "<li>Present performance results, with a preference for comparing changes to baseline data if it is available.</li>\n",
    "<ul>"
   ]
  },
  {
   "cell_type": "markdown",
   "id": "f271eea1",
   "metadata": {},
   "source": [
    "<h2>Library</h2>"
   ]
  },
  {
   "cell_type": "code",
   "execution_count": 48,
   "id": "51707ace",
   "metadata": {},
   "outputs": [],
   "source": [
    "import pandas as pd\n",
    "import warnings\n",
    "\n",
    "warnings.filterwarnings('ignore')"
   ]
  },
  {
   "cell_type": "markdown",
   "id": "7ba0dc07",
   "metadata": {},
   "source": [
    "<h2>Main</h2>"
   ]
  },
  {
   "cell_type": "code",
   "execution_count": 49,
   "id": "aa858609",
   "metadata": {
    "scrolled": false
   },
   "outputs": [
    {
     "name": "stdout",
     "output_type": "stream",
     "text": [
      "<class 'pandas.core.frame.DataFrame'>\n",
      "RangeIndex: 49282 entries, 0 to 49281\n",
      "Data columns (total 35 columns):\n",
      " #   Column                        Non-Null Count  Dtype  \n",
      "---  ------                        --------------  -----  \n",
      " 0   Funnel                        49282 non-null  object \n",
      " 1   Country                       49282 non-null  object \n",
      " 2   Dell Fiscal Quarter           49282 non-null  object \n",
      " 3   Vehicle                       49282 non-null  object \n",
      " 4   BU_lvl2                       49282 non-null  object \n",
      " 5   Display Report Site Name      49282 non-null  object \n",
      " 6   Campaign Name                 49282 non-null  object \n",
      " 7   Media Buy Name                49282 non-null  object \n",
      " 8   Display BRR Line Item         49282 non-null  object \n",
      " 9   Audience Type Category (Raw)  49282 non-null  object \n",
      " 10  Spend                         49282 non-null  float64\n",
      " 11  Impressions                   49282 non-null  float64\n",
      " 12  Clicks                        49282 non-null  float64\n",
      " 13  True Conversion               49282 non-null  float64\n",
      " 14  True Revenue                  49282 non-null  float64\n",
      " 15  US CSB CT+VT Conversions      49282 non-null  float64\n",
      " 16  US CSB CT+VT Revenue          49282 non-null  float64\n",
      " 17  US BU Visits                  49282 non-null  float64\n",
      " 18  US Total Visits               49282 non-null  float64\n",
      " 19  HVE                           49282 non-null  float64\n",
      " 20  FM MAPs OA                    49282 non-null  float64\n",
      " 21  US DPID Total Revenue         49282 non-null  float64\n",
      " 22  BU_lvl1                       49282 non-null  object \n",
      " 23  9th Element                   49282 non-null  object \n",
      " 24  Audience ID                   49282 non-null  object \n",
      " 25  Audience Composition          49282 non-null  object \n",
      " 26  Country-BU                    49282 non-null  object \n",
      " 27  Data provider                 49282 non-null  object \n",
      " 28  AIQ Attribute Category        49282 non-null  object \n",
      " 29  1/2/3 PD                      49282 non-null  object \n",
      " 30  Audience ID Group             49282 non-null  object \n",
      " 31  Audience Type Category        49282 non-null  object \n",
      " 32  Revenue                       49282 non-null  float64\n",
      " 33  Segment ID                    49282 non-null  object \n",
      " 34  Audience ID Exists            49282 non-null  object \n",
      "dtypes: float64(13), object(22)\n",
      "memory usage: 13.2+ MB\n"
     ]
    }
   ],
   "source": [
    "df = pd.read_csv('csv/Audience Report Formatted.csv')\n",
    "\n",
    "df.info()"
   ]
  },
  {
   "cell_type": "code",
   "execution_count": 50,
   "id": "afb26308",
   "metadata": {},
   "outputs": [],
   "source": [
    "df_audiences = df[['Country','Dell Fiscal Quarter','Audience ID','Spend','Revenue']]\n",
    "\n",
    "df_audiences = df_audiences.groupby(['Audience ID','Country','Dell Fiscal Quarter',])[['Spend','Revenue']].sum().reset_index()"
   ]
  },
  {
   "cell_type": "code",
   "execution_count": 51,
   "id": "13ede0a7",
   "metadata": {},
   "outputs": [
    {
     "data": {
      "text/html": [
       "<div>\n",
       "<style scoped>\n",
       "    .dataframe tbody tr th:only-of-type {\n",
       "        vertical-align: middle;\n",
       "    }\n",
       "\n",
       "    .dataframe tbody tr th {\n",
       "        vertical-align: top;\n",
       "    }\n",
       "\n",
       "    .dataframe thead th {\n",
       "        text-align: right;\n",
       "    }\n",
       "</style>\n",
       "<table border=\"1\" class=\"dataframe\">\n",
       "  <thead>\n",
       "    <tr style=\"text-align: right;\">\n",
       "      <th></th>\n",
       "      <th>Audience ID</th>\n",
       "      <th>Country</th>\n",
       "      <th>Dell Fiscal Quarter</th>\n",
       "      <th>Spend</th>\n",
       "      <th>Revenue</th>\n",
       "    </tr>\n",
       "  </thead>\n",
       "  <tbody>\n",
       "    <tr>\n",
       "      <th>0</th>\n",
       "      <td>0</td>\n",
       "      <td>Australia</td>\n",
       "      <td>FY24Q1</td>\n",
       "      <td>3.402183e+05</td>\n",
       "      <td>1.379549e+06</td>\n",
       "    </tr>\n",
       "    <tr>\n",
       "      <th>1</th>\n",
       "      <td>0</td>\n",
       "      <td>Australia</td>\n",
       "      <td>FY24Q2</td>\n",
       "      <td>1.086973e+06</td>\n",
       "      <td>3.035876e+06</td>\n",
       "    </tr>\n",
       "    <tr>\n",
       "      <th>2</th>\n",
       "      <td>0</td>\n",
       "      <td>Austria</td>\n",
       "      <td>FY24Q1</td>\n",
       "      <td>2.450051e+04</td>\n",
       "      <td>5.667628e+03</td>\n",
       "    </tr>\n",
       "    <tr>\n",
       "      <th>3</th>\n",
       "      <td>0</td>\n",
       "      <td>Austria</td>\n",
       "      <td>FY24Q2</td>\n",
       "      <td>1.869354e+04</td>\n",
       "      <td>8.010620e+03</td>\n",
       "    </tr>\n",
       "    <tr>\n",
       "      <th>4</th>\n",
       "      <td>0</td>\n",
       "      <td>Belgium</td>\n",
       "      <td>FY24Q1</td>\n",
       "      <td>4.819947e+04</td>\n",
       "      <td>6.930955e+04</td>\n",
       "    </tr>\n",
       "  </tbody>\n",
       "</table>\n",
       "</div>"
      ],
      "text/plain": [
       "  Audience ID    Country Dell Fiscal Quarter         Spend       Revenue\n",
       "0           0  Australia              FY24Q1  3.402183e+05  1.379549e+06\n",
       "1           0  Australia              FY24Q2  1.086973e+06  3.035876e+06\n",
       "2           0    Austria              FY24Q1  2.450051e+04  5.667628e+03\n",
       "3           0    Austria              FY24Q2  1.869354e+04  8.010620e+03\n",
       "4           0    Belgium              FY24Q1  4.819947e+04  6.930955e+04"
      ]
     },
     "execution_count": 51,
     "metadata": {},
     "output_type": "execute_result"
    }
   ],
   "source": [
    "df_audiences.head()"
   ]
  },
  {
   "cell_type": "code",
   "execution_count": 52,
   "id": "737a5b6a",
   "metadata": {},
   "outputs": [],
   "source": [
    "# Create a new column 'Status' to initially mark all segments as 'New'\n",
    "df_audiences['Status'] = 'New'\n",
    "\n",
    "# Iterate through each unique 'Segment ID'\n",
    "for audience_id in df_audiences['Audience ID'].unique():\n",
    "    # Find the rows where 'Segment ID' matches the current ID\n",
    "    segment_rows = df_audiences[df_audiences['Audience ID'] == audience_id]\n",
    "    \n",
    "    # Check if there is more than one row for this segment (i.e., it was reused)\n",
    "    if len(segment_rows) > 1:\n",
    "        # Set 'Status' to 'Reused' for all rows except the first one\n",
    "        df_audiences.loc[segment_rows.index[1:], 'Status'] = 'Reused'"
   ]
  },
  {
   "cell_type": "code",
   "execution_count": 63,
   "id": "427114b4",
   "metadata": {},
   "outputs": [
    {
     "data": {
      "text/html": [
       "<div>\n",
       "<style scoped>\n",
       "    .dataframe tbody tr th:only-of-type {\n",
       "        vertical-align: middle;\n",
       "    }\n",
       "\n",
       "    .dataframe tbody tr th {\n",
       "        vertical-align: top;\n",
       "    }\n",
       "\n",
       "    .dataframe thead th {\n",
       "        text-align: right;\n",
       "    }\n",
       "</style>\n",
       "<table border=\"1\" class=\"dataframe\">\n",
       "  <thead>\n",
       "    <tr style=\"text-align: right;\">\n",
       "      <th></th>\n",
       "      <th>Dell Fiscal Quarter</th>\n",
       "      <th>FY24Q1</th>\n",
       "      <th>FY24Q2</th>\n",
       "    </tr>\n",
       "    <tr>\n",
       "      <th>Audience ID</th>\n",
       "      <th>Status</th>\n",
       "      <th></th>\n",
       "      <th></th>\n",
       "    </tr>\n",
       "  </thead>\n",
       "  <tbody>\n",
       "    <tr>\n",
       "      <th rowspan=\"2\" valign=\"top\">0</th>\n",
       "      <th>New</th>\n",
       "      <td>1.0</td>\n",
       "      <td>NaN</td>\n",
       "    </tr>\n",
       "    <tr>\n",
       "      <th>Reused</th>\n",
       "      <td>22.0</td>\n",
       "      <td>28.0</td>\n",
       "    </tr>\n",
       "    <tr>\n",
       "      <th rowspan=\"2\" valign=\"top\">CHECK</th>\n",
       "      <th>New</th>\n",
       "      <td>NaN</td>\n",
       "      <td>1.0</td>\n",
       "    </tr>\n",
       "    <tr>\n",
       "      <th>Reused</th>\n",
       "      <td>11.0</td>\n",
       "      <td>27.0</td>\n",
       "    </tr>\n",
       "    <tr>\n",
       "      <th>PLACEHOLDER</th>\n",
       "      <th>New</th>\n",
       "      <td>NaN</td>\n",
       "      <td>1.0</td>\n",
       "    </tr>\n",
       "    <tr>\n",
       "      <th>...</th>\n",
       "      <th>...</th>\n",
       "      <td>...</td>\n",
       "      <td>...</td>\n",
       "    </tr>\n",
       "    <tr>\n",
       "      <th>xvr22njqm</th>\n",
       "      <th>Reused</th>\n",
       "      <td>NaN</td>\n",
       "      <td>1.0</td>\n",
       "    </tr>\n",
       "    <tr>\n",
       "      <th>xvrxkn3zo</th>\n",
       "      <th>New</th>\n",
       "      <td>1.0</td>\n",
       "      <td>NaN</td>\n",
       "    </tr>\n",
       "    <tr>\n",
       "      <th>xvrxqgz7s</th>\n",
       "      <th>New</th>\n",
       "      <td>1.0</td>\n",
       "      <td>NaN</td>\n",
       "    </tr>\n",
       "    <tr>\n",
       "      <th>xw7l29vye</th>\n",
       "      <th>New</th>\n",
       "      <td>1.0</td>\n",
       "      <td>NaN</td>\n",
       "    </tr>\n",
       "    <tr>\n",
       "      <th>xw7o6b4am</th>\n",
       "      <th>New</th>\n",
       "      <td>1.0</td>\n",
       "      <td>NaN</td>\n",
       "    </tr>\n",
       "  </tbody>\n",
       "</table>\n",
       "<p>239 rows × 2 columns</p>\n",
       "</div>"
      ],
      "text/plain": [
       "Dell Fiscal Quarter  FY24Q1  FY24Q2\n",
       "Audience ID Status                 \n",
       "0           New         1.0     NaN\n",
       "            Reused     22.0    28.0\n",
       "CHECK       New         NaN     1.0\n",
       "            Reused     11.0    27.0\n",
       "PLACEHOLDER New         NaN     1.0\n",
       "...                     ...     ...\n",
       "xvr22njqm   Reused      NaN     1.0\n",
       "xvrxkn3zo   New         1.0     NaN\n",
       "xvrxqgz7s   New         1.0     NaN\n",
       "xw7l29vye   New         1.0     NaN\n",
       "xw7o6b4am   New         1.0     NaN\n",
       "\n",
       "[239 rows x 2 columns]"
      ]
     },
     "execution_count": 63,
     "metadata": {},
     "output_type": "execute_result"
    }
   ],
   "source": [
    "pivot_df = df_audiences.pivot_table(index=['Audience ID','Status'], columns='Dell Fiscal Quarter', values='Spend', aggfunc='count')\n",
    "\n",
    "pivot_df"
   ]
  },
  {
   "cell_type": "code",
   "execution_count": 53,
   "id": "50a92846",
   "metadata": {},
   "outputs": [],
   "source": [
    "df_audiences.to_csv('csv/df_audiences.csv')"
   ]
  }
 ],
 "metadata": {
  "kernelspec": {
   "display_name": "Python 3 (ipykernel)",
   "language": "python",
   "name": "python3"
  },
  "language_info": {
   "codemirror_mode": {
    "name": "ipython",
    "version": 3
   },
   "file_extension": ".py",
   "mimetype": "text/x-python",
   "name": "python",
   "nbconvert_exporter": "python",
   "pygments_lexer": "ipython3",
   "version": "3.10.5"
  }
 },
 "nbformat": 4,
 "nbformat_minor": 5
}
