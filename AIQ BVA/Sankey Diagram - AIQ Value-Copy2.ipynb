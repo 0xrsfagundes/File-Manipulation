{
 "cells": [
  {
   "cell_type": "code",
   "execution_count": 144,
   "id": "5bcbdd87",
   "metadata": {},
   "outputs": [],
   "source": [
    "import pandas as pd\n",
    "import numpy as np\n",
    "import warnings\n",
    "\n",
    "import plotly.graph_objects as go\n",
    "import plotly.io as pio\n",
    "\n",
    "\n",
    "warnings.filterwarnings('ignore')\n",
    "pd.set_option('display.max_columns', None)\n",
    "pd.set_option('display.max_rows', None)\n",
    "pd.set_option('display.max_colwidth', None)"
   ]
  },
  {
   "cell_type": "code",
   "execution_count": 192,
   "id": "b895b3a4",
   "metadata": {},
   "outputs": [],
   "source": [
    "def generate_gray_tones(source, target):\n",
    "    # Your existing code here to generate colors based on some condition or data\n",
    "    colors = []\n",
    "    \n",
    "    # Example: Set opacity to 0.2 for all colors\n",
    "    for i in source:\n",
    "        if i in (16, 17):\n",
    "            colors.append('rgba(49, 162, 227, 0.9)')\n",
    "        else:\n",
    "            colors.append('rgba(128, 128, 128, 0.1)')\n",
    "            \n",
    "    for i in target:\n",
    "        if i in (6, 24, 25):\n",
    "           colors[i] = 'rgba(49, 162, 227, 0.9)'\n",
    "\n",
    "    return colors\n"
   ]
  },
  {
   "cell_type": "code",
   "execution_count": 146,
   "id": "417cfdc6",
   "metadata": {},
   "outputs": [],
   "source": [
    "def format_value(value):\n",
    "    if value >= 1000000:\n",
    "        return f'{value/1000000:.1f}M'\n",
    "    elif value >= 1000:\n",
    "        return f'{value/1000:.1f}K'\n",
    "    else:\n",
    "        return f'{value:.0f}'"
   ]
  },
  {
   "cell_type": "code",
   "execution_count": 147,
   "id": "c45f9593",
   "metadata": {},
   "outputs": [],
   "source": [
    "folder_path = r'C:\\Users\\Rafael_Fagundes\\Downloads\\compiled_data.csv'\n",
    "\n",
    "df = pd.read_csv(folder_path, encoding='utf-8')\n",
    "\n",
    "df = df[\n",
    "    (df['BU'] == 'CSB') &\n",
    "    (df['Fiscal Quarter'].isin(['2024-Q1', '2024-Q2', '2024-Q3'])) &\n",
    "    (df['Country_x'] == 'Canada') &\n",
    "    (df['Audience Type'] == '3PD')\n",
    "]\n",
    "\n",
    "\n",
    "#df = df[(df['Segment ID'] != 0) & (df['Segment ID'] != '0')]"
   ]
  },
  {
   "cell_type": "code",
   "execution_count": 193,
   "id": "f9cb1475",
   "metadata": {
    "scrolled": false
   },
   "outputs": [
    {
     "data": {
      "application/vnd.plotly.v1+json": {
       "config": {
        "plotlyServerURL": "https://plot.ly"
       },
       "data": [
        {
         "arrangement": "snap",
         "link": {
          "color": [
           "rgba(128, 128, 128, 0.1)",
           "rgba(128, 128, 128, 0.1)",
           "rgba(128, 128, 128, 0.1)",
           "rgba(128, 128, 128, 0.1)",
           "rgba(128, 128, 128, 0.1)",
           "rgba(128, 128, 128, 0.1)",
           "rgba(49, 162, 227, 0.9)",
           "rgba(128, 128, 128, 0.1)",
           "rgba(128, 128, 128, 0.1)",
           "rgba(128, 128, 128, 0.1)",
           "rgba(128, 128, 128, 0.1)",
           "rgba(128, 128, 128, 0.1)",
           "rgba(128, 128, 128, 0.1)",
           "rgba(128, 128, 128, 0.1)",
           "rgba(128, 128, 128, 0.1)",
           "rgba(128, 128, 128, 0.1)",
           "rgba(128, 128, 128, 0.1)",
           "rgba(128, 128, 128, 0.1)",
           "rgba(128, 128, 128, 0.1)",
           "rgba(128, 128, 128, 0.1)",
           "rgba(128, 128, 128, 0.1)",
           "rgba(128, 128, 128, 0.1)",
           "rgba(128, 128, 128, 0.1)",
           "rgba(128, 128, 128, 0.1)",
           "rgba(49, 162, 227, 0.9)",
           "rgba(49, 162, 227, 0.9)",
           "rgba(128, 128, 128, 0.1)",
           "rgba(128, 128, 128, 0.1)",
           "rgba(128, 128, 128, 0.1)",
           "rgba(128, 128, 128, 0.1)",
           "rgba(128, 128, 128, 0.1)",
           "rgba(128, 128, 128, 0.1)",
           "rgba(128, 128, 128, 0.1)",
           "rgba(128, 128, 128, 0.1)",
           "rgba(49, 162, 227, 0.9)",
           "rgba(49, 162, 227, 0.9)",
           "rgba(128, 128, 128, 0.1)",
           "rgba(128, 128, 128, 0.1)",
           "rgba(128, 128, 128, 0.1)",
           "rgba(128, 128, 128, 0.1)",
           "rgba(128, 128, 128, 0.1)",
           "rgba(128, 128, 128, 0.1)",
           "rgba(128, 128, 128, 0.1)",
           "rgba(128, 128, 128, 0.1)",
           "rgba(128, 128, 128, 0.1)",
           "rgba(128, 128, 128, 0.1)",
           "rgba(128, 128, 128, 0.1)",
           "rgba(128, 128, 128, 0.1)",
           "rgba(128, 128, 128, 0.1)",
           "rgba(128, 128, 128, 0.1)",
           "rgba(128, 128, 128, 0.1)",
           "rgba(128, 128, 128, 0.1)",
           "rgba(128, 128, 128, 0.1)",
           "rgba(128, 128, 128, 0.1)",
           "rgba(128, 128, 128, 0.1)",
           "rgba(128, 128, 128, 0.1)",
           "rgba(128, 128, 128, 0.1)",
           "rgba(128, 128, 128, 0.1)",
           "rgba(128, 128, 128, 0.1)",
           "rgba(128, 128, 128, 0.1)",
           "rgba(128, 128, 128, 0.1)",
           "rgba(128, 128, 128, 0.1)",
           "rgba(128, 128, 128, 0.1)",
           "rgba(128, 128, 128, 0.1)",
           "rgba(128, 128, 128, 0.1)",
           "rgba(128, 128, 128, 0.1)",
           "rgba(128, 128, 128, 0.1)"
          ],
          "source": [
           0,
           0,
           0,
           0,
           0,
           0,
           0,
           0,
           0,
           0,
           0,
           0,
           0,
           0,
           0,
           0,
           0,
           1,
           2,
           3,
           4,
           5,
           6,
           7,
           7,
           7,
           8,
           9,
           10,
           11,
           12,
           13,
           14,
           15,
           16,
           17,
           1,
           2,
           3,
           3,
           3,
           4,
           5,
           5,
           6,
           6,
           7,
           7,
           7,
           7,
           7,
           8,
           9,
           9,
           9,
           9,
           10,
           10,
           10,
           10,
           10,
           11,
           12,
           13,
           14,
           15,
           15
          ],
          "target": [
           1,
           2,
           3,
           4,
           5,
           6,
           7,
           18,
           8,
           19,
           9,
           10,
           11,
           12,
           13,
           14,
           15,
           20,
           20,
           20,
           20,
           20,
           20,
           20,
           16,
           17,
           20,
           20,
           20,
           20,
           20,
           20,
           20,
           20,
           21,
           21,
           22,
           22,
           22,
           23,
           21,
           22,
           22,
           21,
           22,
           21,
           24,
           25,
           22,
           23,
           21,
           22,
           22,
           23,
           26,
           21,
           24,
           22,
           23,
           26,
           21,
           22,
           22,
           22,
           22,
           22,
           23
          ],
          "value": [
           0,
           0,
           253126.629370549,
           16043.289529,
           534416.886143031,
           67.783872791,
           278894.454495046,
           19809.086276,
           41344.205137581,
           0,
           3920991.721927875,
           803858.603528037,
           0,
           0,
           0,
           67360.23,
           104770.89505600001,
           0,
           0,
           227458.430511501,
           16043.289529,
           355796.479618121,
           67.783872791,
           166585.68428604602,
           12284.62318,
           73354.950609,
           41344.205137581,
           2665140.7964925873,
           651395.558849424,
           0,
           0,
           0,
           67360.23,
           94791.45017200001,
           12284.62318,
           73354.950609,
           0,
           0,
           46663.65133921,
           3543.866855291,
           177250.912317,
           16043.289529,
           39671.879133007,
           316124.600485114,
           67.783872791,
           0,
           2166.026367,
           0,
           0,
           13312.898831034,
           236746.33287701203,
           41344.205137581,
           591325.355635612,
           225949.6666839914,
           1748632.444700984,
           99233.329472,
           107772.966983999,
           149837.213102428,
           119418.989999987,
           0,
           274366.38876301,
           0,
           0,
           0,
           67360.23,
           88713.391371,
           6078.058801
          ]
         },
         "node": {
          "label": [
           "3PD (29) <br>100.0% (6.0M)",
           "ABM-3PD AUDIENCE (0) <br>0.0% (0)",
           "AFFINITY-3PD   BEHAVIOR (0) <br>0.0% (0)",
           "AFFINITY-3PD BEHAVIOR (0) <br>4.2% (253.1K)",
           "CATEGORY-3PD CON CONTEXTUAL (0) <br>0.3% (16.0K)",
           "CATEGORY-3PD CONTEXTUAL (0) <br>8.8% (534.4K)",
           "CTV-3PD RETARGET EXPOSED (0) <br>0.0% (68)",
           "DMP-3PD AUDIENCE (29) <br>4.6% (278.9K)",
           "IN   MARKET-3PD BEHAVIOR (0) <br>0.7% (41.3K)",
           "IN MARKET-3PD BEHAVIOR (0) <br>64.9% (3.9M)",
           "IN MARKET-3PD CONTEXTUAL (0) <br>13.3% (803.9K)",
           "LAL-3PD BEHAVIOR (0) <br>0.0% (0)",
           "Lapsed User-3PD BEHAVIOR (0) <br>0.0% (0)",
           "PIXEL-3PD LAL (0) <br>0.0% (0)",
           "ROS-3PD PMP (0) <br>1.1% (67.4K)",
           "SITE IN MARKET-3PD BEHAVIOR (0) <br>1.7% (104.8K)",
           "Liveramp (7) <br>0.2% (12.3K)",
           "The Trade Desk (22) <br>1.2% (73.4K)",
           "DOMAIN-3PD CONTEXTUAL (0) <br>0.3% (19.8K)",
           "IN  MARKET-3PD CONTEXTUAL (0) <br>0.0% (0)",
           "0 (0) <br>71.0% (4.3M)",
           "Video (29) <br>22.9% (1.4M)",
           "Display (0) <br>17.3% (1.0M)",
           "Display Dco (0) <br>17.2% (1.0M)",
           "Audio (0) <br>1.8% (109.9K)",
           "CTV (0) <br>0.0% (0)",
           "Social (0) <br>40.8% (2.5M)"
          ],
          "pad": 30,
          "thickness": 20
         },
         "type": "sankey"
        }
       ],
       "layout": {
        "template": {
         "data": {
          "bar": [
           {
            "error_x": {
             "color": "#2a3f5f"
            },
            "error_y": {
             "color": "#2a3f5f"
            },
            "marker": {
             "line": {
              "color": "#E5ECF6",
              "width": 0.5
             },
             "pattern": {
              "fillmode": "overlay",
              "size": 10,
              "solidity": 0.2
             }
            },
            "type": "bar"
           }
          ],
          "barpolar": [
           {
            "marker": {
             "line": {
              "color": "#E5ECF6",
              "width": 0.5
             },
             "pattern": {
              "fillmode": "overlay",
              "size": 10,
              "solidity": 0.2
             }
            },
            "type": "barpolar"
           }
          ],
          "carpet": [
           {
            "aaxis": {
             "endlinecolor": "#2a3f5f",
             "gridcolor": "white",
             "linecolor": "white",
             "minorgridcolor": "white",
             "startlinecolor": "#2a3f5f"
            },
            "baxis": {
             "endlinecolor": "#2a3f5f",
             "gridcolor": "white",
             "linecolor": "white",
             "minorgridcolor": "white",
             "startlinecolor": "#2a3f5f"
            },
            "type": "carpet"
           }
          ],
          "choropleth": [
           {
            "colorbar": {
             "outlinewidth": 0,
             "ticks": ""
            },
            "type": "choropleth"
           }
          ],
          "contour": [
           {
            "colorbar": {
             "outlinewidth": 0,
             "ticks": ""
            },
            "colorscale": [
             [
              0,
              "#0d0887"
             ],
             [
              0.1111111111111111,
              "#46039f"
             ],
             [
              0.2222222222222222,
              "#7201a8"
             ],
             [
              0.3333333333333333,
              "#9c179e"
             ],
             [
              0.4444444444444444,
              "#bd3786"
             ],
             [
              0.5555555555555556,
              "#d8576b"
             ],
             [
              0.6666666666666666,
              "#ed7953"
             ],
             [
              0.7777777777777778,
              "#fb9f3a"
             ],
             [
              0.8888888888888888,
              "#fdca26"
             ],
             [
              1,
              "#f0f921"
             ]
            ],
            "type": "contour"
           }
          ],
          "contourcarpet": [
           {
            "colorbar": {
             "outlinewidth": 0,
             "ticks": ""
            },
            "type": "contourcarpet"
           }
          ],
          "heatmap": [
           {
            "colorbar": {
             "outlinewidth": 0,
             "ticks": ""
            },
            "colorscale": [
             [
              0,
              "#0d0887"
             ],
             [
              0.1111111111111111,
              "#46039f"
             ],
             [
              0.2222222222222222,
              "#7201a8"
             ],
             [
              0.3333333333333333,
              "#9c179e"
             ],
             [
              0.4444444444444444,
              "#bd3786"
             ],
             [
              0.5555555555555556,
              "#d8576b"
             ],
             [
              0.6666666666666666,
              "#ed7953"
             ],
             [
              0.7777777777777778,
              "#fb9f3a"
             ],
             [
              0.8888888888888888,
              "#fdca26"
             ],
             [
              1,
              "#f0f921"
             ]
            ],
            "type": "heatmap"
           }
          ],
          "heatmapgl": [
           {
            "colorbar": {
             "outlinewidth": 0,
             "ticks": ""
            },
            "colorscale": [
             [
              0,
              "#0d0887"
             ],
             [
              0.1111111111111111,
              "#46039f"
             ],
             [
              0.2222222222222222,
              "#7201a8"
             ],
             [
              0.3333333333333333,
              "#9c179e"
             ],
             [
              0.4444444444444444,
              "#bd3786"
             ],
             [
              0.5555555555555556,
              "#d8576b"
             ],
             [
              0.6666666666666666,
              "#ed7953"
             ],
             [
              0.7777777777777778,
              "#fb9f3a"
             ],
             [
              0.8888888888888888,
              "#fdca26"
             ],
             [
              1,
              "#f0f921"
             ]
            ],
            "type": "heatmapgl"
           }
          ],
          "histogram": [
           {
            "marker": {
             "pattern": {
              "fillmode": "overlay",
              "size": 10,
              "solidity": 0.2
             }
            },
            "type": "histogram"
           }
          ],
          "histogram2d": [
           {
            "colorbar": {
             "outlinewidth": 0,
             "ticks": ""
            },
            "colorscale": [
             [
              0,
              "#0d0887"
             ],
             [
              0.1111111111111111,
              "#46039f"
             ],
             [
              0.2222222222222222,
              "#7201a8"
             ],
             [
              0.3333333333333333,
              "#9c179e"
             ],
             [
              0.4444444444444444,
              "#bd3786"
             ],
             [
              0.5555555555555556,
              "#d8576b"
             ],
             [
              0.6666666666666666,
              "#ed7953"
             ],
             [
              0.7777777777777778,
              "#fb9f3a"
             ],
             [
              0.8888888888888888,
              "#fdca26"
             ],
             [
              1,
              "#f0f921"
             ]
            ],
            "type": "histogram2d"
           }
          ],
          "histogram2dcontour": [
           {
            "colorbar": {
             "outlinewidth": 0,
             "ticks": ""
            },
            "colorscale": [
             [
              0,
              "#0d0887"
             ],
             [
              0.1111111111111111,
              "#46039f"
             ],
             [
              0.2222222222222222,
              "#7201a8"
             ],
             [
              0.3333333333333333,
              "#9c179e"
             ],
             [
              0.4444444444444444,
              "#bd3786"
             ],
             [
              0.5555555555555556,
              "#d8576b"
             ],
             [
              0.6666666666666666,
              "#ed7953"
             ],
             [
              0.7777777777777778,
              "#fb9f3a"
             ],
             [
              0.8888888888888888,
              "#fdca26"
             ],
             [
              1,
              "#f0f921"
             ]
            ],
            "type": "histogram2dcontour"
           }
          ],
          "mesh3d": [
           {
            "colorbar": {
             "outlinewidth": 0,
             "ticks": ""
            },
            "type": "mesh3d"
           }
          ],
          "parcoords": [
           {
            "line": {
             "colorbar": {
              "outlinewidth": 0,
              "ticks": ""
             }
            },
            "type": "parcoords"
           }
          ],
          "pie": [
           {
            "automargin": true,
            "type": "pie"
           }
          ],
          "scatter": [
           {
            "fillpattern": {
             "fillmode": "overlay",
             "size": 10,
             "solidity": 0.2
            },
            "type": "scatter"
           }
          ],
          "scatter3d": [
           {
            "line": {
             "colorbar": {
              "outlinewidth": 0,
              "ticks": ""
             }
            },
            "marker": {
             "colorbar": {
              "outlinewidth": 0,
              "ticks": ""
             }
            },
            "type": "scatter3d"
           }
          ],
          "scattercarpet": [
           {
            "marker": {
             "colorbar": {
              "outlinewidth": 0,
              "ticks": ""
             }
            },
            "type": "scattercarpet"
           }
          ],
          "scattergeo": [
           {
            "marker": {
             "colorbar": {
              "outlinewidth": 0,
              "ticks": ""
             }
            },
            "type": "scattergeo"
           }
          ],
          "scattergl": [
           {
            "marker": {
             "colorbar": {
              "outlinewidth": 0,
              "ticks": ""
             }
            },
            "type": "scattergl"
           }
          ],
          "scattermapbox": [
           {
            "marker": {
             "colorbar": {
              "outlinewidth": 0,
              "ticks": ""
             }
            },
            "type": "scattermapbox"
           }
          ],
          "scatterpolar": [
           {
            "marker": {
             "colorbar": {
              "outlinewidth": 0,
              "ticks": ""
             }
            },
            "type": "scatterpolar"
           }
          ],
          "scatterpolargl": [
           {
            "marker": {
             "colorbar": {
              "outlinewidth": 0,
              "ticks": ""
             }
            },
            "type": "scatterpolargl"
           }
          ],
          "scatterternary": [
           {
            "marker": {
             "colorbar": {
              "outlinewidth": 0,
              "ticks": ""
             }
            },
            "type": "scatterternary"
           }
          ],
          "surface": [
           {
            "colorbar": {
             "outlinewidth": 0,
             "ticks": ""
            },
            "colorscale": [
             [
              0,
              "#0d0887"
             ],
             [
              0.1111111111111111,
              "#46039f"
             ],
             [
              0.2222222222222222,
              "#7201a8"
             ],
             [
              0.3333333333333333,
              "#9c179e"
             ],
             [
              0.4444444444444444,
              "#bd3786"
             ],
             [
              0.5555555555555556,
              "#d8576b"
             ],
             [
              0.6666666666666666,
              "#ed7953"
             ],
             [
              0.7777777777777778,
              "#fb9f3a"
             ],
             [
              0.8888888888888888,
              "#fdca26"
             ],
             [
              1,
              "#f0f921"
             ]
            ],
            "type": "surface"
           }
          ],
          "table": [
           {
            "cells": {
             "fill": {
              "color": "#EBF0F8"
             },
             "line": {
              "color": "white"
             }
            },
            "header": {
             "fill": {
              "color": "#C8D4E3"
             },
             "line": {
              "color": "white"
             }
            },
            "type": "table"
           }
          ]
         },
         "layout": {
          "annotationdefaults": {
           "arrowcolor": "#2a3f5f",
           "arrowhead": 0,
           "arrowwidth": 1
          },
          "autotypenumbers": "strict",
          "coloraxis": {
           "colorbar": {
            "outlinewidth": 0,
            "ticks": ""
           }
          },
          "colorscale": {
           "diverging": [
            [
             0,
             "#8e0152"
            ],
            [
             0.1,
             "#c51b7d"
            ],
            [
             0.2,
             "#de77ae"
            ],
            [
             0.3,
             "#f1b6da"
            ],
            [
             0.4,
             "#fde0ef"
            ],
            [
             0.5,
             "#f7f7f7"
            ],
            [
             0.6,
             "#e6f5d0"
            ],
            [
             0.7,
             "#b8e186"
            ],
            [
             0.8,
             "#7fbc41"
            ],
            [
             0.9,
             "#4d9221"
            ],
            [
             1,
             "#276419"
            ]
           ],
           "sequential": [
            [
             0,
             "#0d0887"
            ],
            [
             0.1111111111111111,
             "#46039f"
            ],
            [
             0.2222222222222222,
             "#7201a8"
            ],
            [
             0.3333333333333333,
             "#9c179e"
            ],
            [
             0.4444444444444444,
             "#bd3786"
            ],
            [
             0.5555555555555556,
             "#d8576b"
            ],
            [
             0.6666666666666666,
             "#ed7953"
            ],
            [
             0.7777777777777778,
             "#fb9f3a"
            ],
            [
             0.8888888888888888,
             "#fdca26"
            ],
            [
             1,
             "#f0f921"
            ]
           ],
           "sequentialminus": [
            [
             0,
             "#0d0887"
            ],
            [
             0.1111111111111111,
             "#46039f"
            ],
            [
             0.2222222222222222,
             "#7201a8"
            ],
            [
             0.3333333333333333,
             "#9c179e"
            ],
            [
             0.4444444444444444,
             "#bd3786"
            ],
            [
             0.5555555555555556,
             "#d8576b"
            ],
            [
             0.6666666666666666,
             "#ed7953"
            ],
            [
             0.7777777777777778,
             "#fb9f3a"
            ],
            [
             0.8888888888888888,
             "#fdca26"
            ],
            [
             1,
             "#f0f921"
            ]
           ]
          },
          "colorway": [
           "#636efa",
           "#EF553B",
           "#00cc96",
           "#ab63fa",
           "#FFA15A",
           "#19d3f3",
           "#FF6692",
           "#B6E880",
           "#FF97FF",
           "#FECB52"
          ],
          "font": {
           "color": "#2a3f5f"
          },
          "geo": {
           "bgcolor": "white",
           "lakecolor": "white",
           "landcolor": "#E5ECF6",
           "showlakes": true,
           "showland": true,
           "subunitcolor": "white"
          },
          "hoverlabel": {
           "align": "left"
          },
          "hovermode": "closest",
          "mapbox": {
           "style": "light"
          },
          "paper_bgcolor": "white",
          "plot_bgcolor": "#E5ECF6",
          "polar": {
           "angularaxis": {
            "gridcolor": "white",
            "linecolor": "white",
            "ticks": ""
           },
           "bgcolor": "#E5ECF6",
           "radialaxis": {
            "gridcolor": "white",
            "linecolor": "white",
            "ticks": ""
           }
          },
          "scene": {
           "xaxis": {
            "backgroundcolor": "#E5ECF6",
            "gridcolor": "white",
            "gridwidth": 2,
            "linecolor": "white",
            "showbackground": true,
            "ticks": "",
            "zerolinecolor": "white"
           },
           "yaxis": {
            "backgroundcolor": "#E5ECF6",
            "gridcolor": "white",
            "gridwidth": 2,
            "linecolor": "white",
            "showbackground": true,
            "ticks": "",
            "zerolinecolor": "white"
           },
           "zaxis": {
            "backgroundcolor": "#E5ECF6",
            "gridcolor": "white",
            "gridwidth": 2,
            "linecolor": "white",
            "showbackground": true,
            "ticks": "",
            "zerolinecolor": "white"
           }
          },
          "shapedefaults": {
           "line": {
            "color": "#2a3f5f"
           }
          },
          "ternary": {
           "aaxis": {
            "gridcolor": "white",
            "linecolor": "white",
            "ticks": ""
           },
           "baxis": {
            "gridcolor": "white",
            "linecolor": "white",
            "ticks": ""
           },
           "bgcolor": "#E5ECF6",
           "caxis": {
            "gridcolor": "white",
            "linecolor": "white",
            "ticks": ""
           }
          },
          "title": {
           "x": 0.05
          },
          "xaxis": {
           "automargin": true,
           "gridcolor": "white",
           "linecolor": "white",
           "ticks": "",
           "title": {
            "standoff": 15
           },
           "zerolinecolor": "white",
           "zerolinewidth": 2
          },
          "yaxis": {
           "automargin": true,
           "gridcolor": "white",
           "linecolor": "white",
           "ticks": "",
           "title": {
            "standoff": 15
           },
           "zerolinecolor": "white",
           "zerolinewidth": 2
          }
         }
        },
        "title": {
         "text": "title"
        }
       }
      },
      "text/html": [
       "<div>                            <div id=\"942515a4-d0a8-4f69-9679-7a1baa3c8600\" class=\"plotly-graph-div\" style=\"height:525px; width:100%;\"></div>            <script type=\"text/javascript\">                require([\"plotly\"], function(Plotly) {                    window.PLOTLYENV=window.PLOTLYENV || {};                                    if (document.getElementById(\"942515a4-d0a8-4f69-9679-7a1baa3c8600\")) {                    Plotly.newPlot(                        \"942515a4-d0a8-4f69-9679-7a1baa3c8600\",                        [{\"arrangement\":\"snap\",\"link\":{\"color\":[\"rgba(128, 128, 128, 0.1)\",\"rgba(128, 128, 128, 0.1)\",\"rgba(128, 128, 128, 0.1)\",\"rgba(128, 128, 128, 0.1)\",\"rgba(128, 128, 128, 0.1)\",\"rgba(128, 128, 128, 0.1)\",\"rgba(49, 162, 227, 0.9)\",\"rgba(128, 128, 128, 0.1)\",\"rgba(128, 128, 128, 0.1)\",\"rgba(128, 128, 128, 0.1)\",\"rgba(128, 128, 128, 0.1)\",\"rgba(128, 128, 128, 0.1)\",\"rgba(128, 128, 128, 0.1)\",\"rgba(128, 128, 128, 0.1)\",\"rgba(128, 128, 128, 0.1)\",\"rgba(128, 128, 128, 0.1)\",\"rgba(128, 128, 128, 0.1)\",\"rgba(128, 128, 128, 0.1)\",\"rgba(128, 128, 128, 0.1)\",\"rgba(128, 128, 128, 0.1)\",\"rgba(128, 128, 128, 0.1)\",\"rgba(128, 128, 128, 0.1)\",\"rgba(128, 128, 128, 0.1)\",\"rgba(128, 128, 128, 0.1)\",\"rgba(49, 162, 227, 0.9)\",\"rgba(49, 162, 227, 0.9)\",\"rgba(128, 128, 128, 0.1)\",\"rgba(128, 128, 128, 0.1)\",\"rgba(128, 128, 128, 0.1)\",\"rgba(128, 128, 128, 0.1)\",\"rgba(128, 128, 128, 0.1)\",\"rgba(128, 128, 128, 0.1)\",\"rgba(128, 128, 128, 0.1)\",\"rgba(128, 128, 128, 0.1)\",\"rgba(49, 162, 227, 0.9)\",\"rgba(49, 162, 227, 0.9)\",\"rgba(128, 128, 128, 0.1)\",\"rgba(128, 128, 128, 0.1)\",\"rgba(128, 128, 128, 0.1)\",\"rgba(128, 128, 128, 0.1)\",\"rgba(128, 128, 128, 0.1)\",\"rgba(128, 128, 128, 0.1)\",\"rgba(128, 128, 128, 0.1)\",\"rgba(128, 128, 128, 0.1)\",\"rgba(128, 128, 128, 0.1)\",\"rgba(128, 128, 128, 0.1)\",\"rgba(128, 128, 128, 0.1)\",\"rgba(128, 128, 128, 0.1)\",\"rgba(128, 128, 128, 0.1)\",\"rgba(128, 128, 128, 0.1)\",\"rgba(128, 128, 128, 0.1)\",\"rgba(128, 128, 128, 0.1)\",\"rgba(128, 128, 128, 0.1)\",\"rgba(128, 128, 128, 0.1)\",\"rgba(128, 128, 128, 0.1)\",\"rgba(128, 128, 128, 0.1)\",\"rgba(128, 128, 128, 0.1)\",\"rgba(128, 128, 128, 0.1)\",\"rgba(128, 128, 128, 0.1)\",\"rgba(128, 128, 128, 0.1)\",\"rgba(128, 128, 128, 0.1)\",\"rgba(128, 128, 128, 0.1)\",\"rgba(128, 128, 128, 0.1)\",\"rgba(128, 128, 128, 0.1)\",\"rgba(128, 128, 128, 0.1)\",\"rgba(128, 128, 128, 0.1)\",\"rgba(128, 128, 128, 0.1)\"],\"source\":[0,0,0,0,0,0,0,0,0,0,0,0,0,0,0,0,0,1,2,3,4,5,6,7,7,7,8,9,10,11,12,13,14,15,16,17,1,2,3,3,3,4,5,5,6,6,7,7,7,7,7,8,9,9,9,9,10,10,10,10,10,11,12,13,14,15,15],\"target\":[1,2,3,4,5,6,7,18,8,19,9,10,11,12,13,14,15,20,20,20,20,20,20,20,16,17,20,20,20,20,20,20,20,20,21,21,22,22,22,23,21,22,22,21,22,21,24,25,22,23,21,22,22,23,26,21,24,22,23,26,21,22,22,22,22,22,23],\"value\":[0.0,0.0,253126.629370549,16043.289529,534416.886143031,67.783872791,278894.454495046,19809.086276,41344.205137581,0.0,3920991.721927875,803858.603528037,0.0,0.0,0.0,67360.23,104770.89505600001,0.0,0.0,227458.430511501,16043.289529,355796.479618121,67.783872791,166585.68428604602,12284.62318,73354.950609,41344.205137581,2665140.7964925873,651395.558849424,0.0,0.0,0.0,67360.23,94791.45017200001,12284.62318,73354.950609,0.0,0.0,46663.65133921,3543.866855291,177250.912317,16043.289529,39671.879133007,316124.600485114,67.783872791,0.0,2166.026367,0.0,0.0,13312.898831034,236746.33287701203,41344.205137581,591325.355635612,225949.6666839914,1748632.444700984,99233.329472,107772.966983999,149837.213102428,119418.989999987,0.0,274366.38876301,0.0,0.0,0.0,67360.23,88713.391371,6078.058801]},\"node\":{\"label\":[\"3PD (29) \\u003cbr\\u003e100.0% (6.0M)\",\"ABM-3PD AUDIENCE (0) \\u003cbr\\u003e0.0% (0)\",\"AFFINITY-3PD   BEHAVIOR (0) \\u003cbr\\u003e0.0% (0)\",\"AFFINITY-3PD BEHAVIOR (0) \\u003cbr\\u003e4.2% (253.1K)\",\"CATEGORY-3PD CON CONTEXTUAL (0) \\u003cbr\\u003e0.3% (16.0K)\",\"CATEGORY-3PD CONTEXTUAL (0) \\u003cbr\\u003e8.8% (534.4K)\",\"CTV-3PD RETARGET EXPOSED (0) \\u003cbr\\u003e0.0% (68)\",\"DMP-3PD AUDIENCE (29) \\u003cbr\\u003e4.6% (278.9K)\",\"IN   MARKET-3PD BEHAVIOR (0) \\u003cbr\\u003e0.7% (41.3K)\",\"IN MARKET-3PD BEHAVIOR (0) \\u003cbr\\u003e64.9% (3.9M)\",\"IN MARKET-3PD CONTEXTUAL (0) \\u003cbr\\u003e13.3% (803.9K)\",\"LAL-3PD BEHAVIOR (0) \\u003cbr\\u003e0.0% (0)\",\"Lapsed User-3PD BEHAVIOR (0) \\u003cbr\\u003e0.0% (0)\",\"PIXEL-3PD LAL (0) \\u003cbr\\u003e0.0% (0)\",\"ROS-3PD PMP (0) \\u003cbr\\u003e1.1% (67.4K)\",\"SITE IN MARKET-3PD BEHAVIOR (0) \\u003cbr\\u003e1.7% (104.8K)\",\"Liveramp (7) \\u003cbr\\u003e0.2% (12.3K)\",\"The Trade Desk (22) \\u003cbr\\u003e1.2% (73.4K)\",\"DOMAIN-3PD CONTEXTUAL (0) \\u003cbr\\u003e0.3% (19.8K)\",\"IN  MARKET-3PD CONTEXTUAL (0) \\u003cbr\\u003e0.0% (0)\",\"0 (0) \\u003cbr\\u003e71.0% (4.3M)\",\"Video (29) \\u003cbr\\u003e22.9% (1.4M)\",\"Display (0) \\u003cbr\\u003e17.3% (1.0M)\",\"Display Dco (0) \\u003cbr\\u003e17.2% (1.0M)\",\"Audio (0) \\u003cbr\\u003e1.8% (109.9K)\",\"CTV (0) \\u003cbr\\u003e0.0% (0)\",\"Social (0) \\u003cbr\\u003e40.8% (2.5M)\"],\"pad\":30,\"thickness\":20},\"type\":\"sankey\"}],                        {\"template\":{\"data\":{\"histogram2dcontour\":[{\"type\":\"histogram2dcontour\",\"colorbar\":{\"outlinewidth\":0,\"ticks\":\"\"},\"colorscale\":[[0.0,\"#0d0887\"],[0.1111111111111111,\"#46039f\"],[0.2222222222222222,\"#7201a8\"],[0.3333333333333333,\"#9c179e\"],[0.4444444444444444,\"#bd3786\"],[0.5555555555555556,\"#d8576b\"],[0.6666666666666666,\"#ed7953\"],[0.7777777777777778,\"#fb9f3a\"],[0.8888888888888888,\"#fdca26\"],[1.0,\"#f0f921\"]]}],\"choropleth\":[{\"type\":\"choropleth\",\"colorbar\":{\"outlinewidth\":0,\"ticks\":\"\"}}],\"histogram2d\":[{\"type\":\"histogram2d\",\"colorbar\":{\"outlinewidth\":0,\"ticks\":\"\"},\"colorscale\":[[0.0,\"#0d0887\"],[0.1111111111111111,\"#46039f\"],[0.2222222222222222,\"#7201a8\"],[0.3333333333333333,\"#9c179e\"],[0.4444444444444444,\"#bd3786\"],[0.5555555555555556,\"#d8576b\"],[0.6666666666666666,\"#ed7953\"],[0.7777777777777778,\"#fb9f3a\"],[0.8888888888888888,\"#fdca26\"],[1.0,\"#f0f921\"]]}],\"heatmap\":[{\"type\":\"heatmap\",\"colorbar\":{\"outlinewidth\":0,\"ticks\":\"\"},\"colorscale\":[[0.0,\"#0d0887\"],[0.1111111111111111,\"#46039f\"],[0.2222222222222222,\"#7201a8\"],[0.3333333333333333,\"#9c179e\"],[0.4444444444444444,\"#bd3786\"],[0.5555555555555556,\"#d8576b\"],[0.6666666666666666,\"#ed7953\"],[0.7777777777777778,\"#fb9f3a\"],[0.8888888888888888,\"#fdca26\"],[1.0,\"#f0f921\"]]}],\"heatmapgl\":[{\"type\":\"heatmapgl\",\"colorbar\":{\"outlinewidth\":0,\"ticks\":\"\"},\"colorscale\":[[0.0,\"#0d0887\"],[0.1111111111111111,\"#46039f\"],[0.2222222222222222,\"#7201a8\"],[0.3333333333333333,\"#9c179e\"],[0.4444444444444444,\"#bd3786\"],[0.5555555555555556,\"#d8576b\"],[0.6666666666666666,\"#ed7953\"],[0.7777777777777778,\"#fb9f3a\"],[0.8888888888888888,\"#fdca26\"],[1.0,\"#f0f921\"]]}],\"contourcarpet\":[{\"type\":\"contourcarpet\",\"colorbar\":{\"outlinewidth\":0,\"ticks\":\"\"}}],\"contour\":[{\"type\":\"contour\",\"colorbar\":{\"outlinewidth\":0,\"ticks\":\"\"},\"colorscale\":[[0.0,\"#0d0887\"],[0.1111111111111111,\"#46039f\"],[0.2222222222222222,\"#7201a8\"],[0.3333333333333333,\"#9c179e\"],[0.4444444444444444,\"#bd3786\"],[0.5555555555555556,\"#d8576b\"],[0.6666666666666666,\"#ed7953\"],[0.7777777777777778,\"#fb9f3a\"],[0.8888888888888888,\"#fdca26\"],[1.0,\"#f0f921\"]]}],\"surface\":[{\"type\":\"surface\",\"colorbar\":{\"outlinewidth\":0,\"ticks\":\"\"},\"colorscale\":[[0.0,\"#0d0887\"],[0.1111111111111111,\"#46039f\"],[0.2222222222222222,\"#7201a8\"],[0.3333333333333333,\"#9c179e\"],[0.4444444444444444,\"#bd3786\"],[0.5555555555555556,\"#d8576b\"],[0.6666666666666666,\"#ed7953\"],[0.7777777777777778,\"#fb9f3a\"],[0.8888888888888888,\"#fdca26\"],[1.0,\"#f0f921\"]]}],\"mesh3d\":[{\"type\":\"mesh3d\",\"colorbar\":{\"outlinewidth\":0,\"ticks\":\"\"}}],\"scatter\":[{\"fillpattern\":{\"fillmode\":\"overlay\",\"size\":10,\"solidity\":0.2},\"type\":\"scatter\"}],\"parcoords\":[{\"type\":\"parcoords\",\"line\":{\"colorbar\":{\"outlinewidth\":0,\"ticks\":\"\"}}}],\"scatterpolargl\":[{\"type\":\"scatterpolargl\",\"marker\":{\"colorbar\":{\"outlinewidth\":0,\"ticks\":\"\"}}}],\"bar\":[{\"error_x\":{\"color\":\"#2a3f5f\"},\"error_y\":{\"color\":\"#2a3f5f\"},\"marker\":{\"line\":{\"color\":\"#E5ECF6\",\"width\":0.5},\"pattern\":{\"fillmode\":\"overlay\",\"size\":10,\"solidity\":0.2}},\"type\":\"bar\"}],\"scattergeo\":[{\"type\":\"scattergeo\",\"marker\":{\"colorbar\":{\"outlinewidth\":0,\"ticks\":\"\"}}}],\"scatterpolar\":[{\"type\":\"scatterpolar\",\"marker\":{\"colorbar\":{\"outlinewidth\":0,\"ticks\":\"\"}}}],\"histogram\":[{\"marker\":{\"pattern\":{\"fillmode\":\"overlay\",\"size\":10,\"solidity\":0.2}},\"type\":\"histogram\"}],\"scattergl\":[{\"type\":\"scattergl\",\"marker\":{\"colorbar\":{\"outlinewidth\":0,\"ticks\":\"\"}}}],\"scatter3d\":[{\"type\":\"scatter3d\",\"line\":{\"colorbar\":{\"outlinewidth\":0,\"ticks\":\"\"}},\"marker\":{\"colorbar\":{\"outlinewidth\":0,\"ticks\":\"\"}}}],\"scattermapbox\":[{\"type\":\"scattermapbox\",\"marker\":{\"colorbar\":{\"outlinewidth\":0,\"ticks\":\"\"}}}],\"scatterternary\":[{\"type\":\"scatterternary\",\"marker\":{\"colorbar\":{\"outlinewidth\":0,\"ticks\":\"\"}}}],\"scattercarpet\":[{\"type\":\"scattercarpet\",\"marker\":{\"colorbar\":{\"outlinewidth\":0,\"ticks\":\"\"}}}],\"carpet\":[{\"aaxis\":{\"endlinecolor\":\"#2a3f5f\",\"gridcolor\":\"white\",\"linecolor\":\"white\",\"minorgridcolor\":\"white\",\"startlinecolor\":\"#2a3f5f\"},\"baxis\":{\"endlinecolor\":\"#2a3f5f\",\"gridcolor\":\"white\",\"linecolor\":\"white\",\"minorgridcolor\":\"white\",\"startlinecolor\":\"#2a3f5f\"},\"type\":\"carpet\"}],\"table\":[{\"cells\":{\"fill\":{\"color\":\"#EBF0F8\"},\"line\":{\"color\":\"white\"}},\"header\":{\"fill\":{\"color\":\"#C8D4E3\"},\"line\":{\"color\":\"white\"}},\"type\":\"table\"}],\"barpolar\":[{\"marker\":{\"line\":{\"color\":\"#E5ECF6\",\"width\":0.5},\"pattern\":{\"fillmode\":\"overlay\",\"size\":10,\"solidity\":0.2}},\"type\":\"barpolar\"}],\"pie\":[{\"automargin\":true,\"type\":\"pie\"}]},\"layout\":{\"autotypenumbers\":\"strict\",\"colorway\":[\"#636efa\",\"#EF553B\",\"#00cc96\",\"#ab63fa\",\"#FFA15A\",\"#19d3f3\",\"#FF6692\",\"#B6E880\",\"#FF97FF\",\"#FECB52\"],\"font\":{\"color\":\"#2a3f5f\"},\"hovermode\":\"closest\",\"hoverlabel\":{\"align\":\"left\"},\"paper_bgcolor\":\"white\",\"plot_bgcolor\":\"#E5ECF6\",\"polar\":{\"bgcolor\":\"#E5ECF6\",\"angularaxis\":{\"gridcolor\":\"white\",\"linecolor\":\"white\",\"ticks\":\"\"},\"radialaxis\":{\"gridcolor\":\"white\",\"linecolor\":\"white\",\"ticks\":\"\"}},\"ternary\":{\"bgcolor\":\"#E5ECF6\",\"aaxis\":{\"gridcolor\":\"white\",\"linecolor\":\"white\",\"ticks\":\"\"},\"baxis\":{\"gridcolor\":\"white\",\"linecolor\":\"white\",\"ticks\":\"\"},\"caxis\":{\"gridcolor\":\"white\",\"linecolor\":\"white\",\"ticks\":\"\"}},\"coloraxis\":{\"colorbar\":{\"outlinewidth\":0,\"ticks\":\"\"}},\"colorscale\":{\"sequential\":[[0.0,\"#0d0887\"],[0.1111111111111111,\"#46039f\"],[0.2222222222222222,\"#7201a8\"],[0.3333333333333333,\"#9c179e\"],[0.4444444444444444,\"#bd3786\"],[0.5555555555555556,\"#d8576b\"],[0.6666666666666666,\"#ed7953\"],[0.7777777777777778,\"#fb9f3a\"],[0.8888888888888888,\"#fdca26\"],[1.0,\"#f0f921\"]],\"sequentialminus\":[[0.0,\"#0d0887\"],[0.1111111111111111,\"#46039f\"],[0.2222222222222222,\"#7201a8\"],[0.3333333333333333,\"#9c179e\"],[0.4444444444444444,\"#bd3786\"],[0.5555555555555556,\"#d8576b\"],[0.6666666666666666,\"#ed7953\"],[0.7777777777777778,\"#fb9f3a\"],[0.8888888888888888,\"#fdca26\"],[1.0,\"#f0f921\"]],\"diverging\":[[0,\"#8e0152\"],[0.1,\"#c51b7d\"],[0.2,\"#de77ae\"],[0.3,\"#f1b6da\"],[0.4,\"#fde0ef\"],[0.5,\"#f7f7f7\"],[0.6,\"#e6f5d0\"],[0.7,\"#b8e186\"],[0.8,\"#7fbc41\"],[0.9,\"#4d9221\"],[1,\"#276419\"]]},\"xaxis\":{\"gridcolor\":\"white\",\"linecolor\":\"white\",\"ticks\":\"\",\"title\":{\"standoff\":15},\"zerolinecolor\":\"white\",\"automargin\":true,\"zerolinewidth\":2},\"yaxis\":{\"gridcolor\":\"white\",\"linecolor\":\"white\",\"ticks\":\"\",\"title\":{\"standoff\":15},\"zerolinecolor\":\"white\",\"automargin\":true,\"zerolinewidth\":2},\"scene\":{\"xaxis\":{\"backgroundcolor\":\"#E5ECF6\",\"gridcolor\":\"white\",\"linecolor\":\"white\",\"showbackground\":true,\"ticks\":\"\",\"zerolinecolor\":\"white\",\"gridwidth\":2},\"yaxis\":{\"backgroundcolor\":\"#E5ECF6\",\"gridcolor\":\"white\",\"linecolor\":\"white\",\"showbackground\":true,\"ticks\":\"\",\"zerolinecolor\":\"white\",\"gridwidth\":2},\"zaxis\":{\"backgroundcolor\":\"#E5ECF6\",\"gridcolor\":\"white\",\"linecolor\":\"white\",\"showbackground\":true,\"ticks\":\"\",\"zerolinecolor\":\"white\",\"gridwidth\":2}},\"shapedefaults\":{\"line\":{\"color\":\"#2a3f5f\"}},\"annotationdefaults\":{\"arrowcolor\":\"#2a3f5f\",\"arrowhead\":0,\"arrowwidth\":1},\"geo\":{\"bgcolor\":\"white\",\"landcolor\":\"#E5ECF6\",\"subunitcolor\":\"white\",\"showland\":true,\"showlakes\":true,\"lakecolor\":\"white\"},\"title\":{\"x\":0.05},\"mapbox\":{\"style\":\"light\"}}},\"title\":{\"text\":\"title\"}},                        {\"responsive\": true}                    ).then(function(){\n",
       "                            \n",
       "var gd = document.getElementById('942515a4-d0a8-4f69-9679-7a1baa3c8600');\n",
       "var x = new MutationObserver(function (mutations, observer) {{\n",
       "        var display = window.getComputedStyle(gd).display;\n",
       "        if (!display || display === 'none') {{\n",
       "            console.log([gd, 'removed!']);\n",
       "            Plotly.purge(gd);\n",
       "            observer.disconnect();\n",
       "        }}\n",
       "}});\n",
       "\n",
       "// Listen for the removal of the full notebook cells\n",
       "var notebookContainer = gd.closest('#notebook-container');\n",
       "if (notebookContainer) {{\n",
       "    x.observe(notebookContainer, {childList: true});\n",
       "}}\n",
       "\n",
       "// Listen for the clearing of the current output cell\n",
       "var outputEl = gd.closest('.output');\n",
       "if (outputEl) {{\n",
       "    x.observe(outputEl, {childList: true});\n",
       "}}\n",
       "\n",
       "                        })                };                });            </script>        </div>"
      ]
     },
     "metadata": {},
     "output_type": "display_data"
    }
   ],
   "source": [
    "# Fix issue with 'Audience Type Name': 'CRM-1PD\\xa0CRM'\n",
    "df['Audience Type Name'] = df['Audience Type Name'].str.replace('CRM-1PD\\xa0CRM', 'CRM-1PD CRM')\n",
    "\n",
    "# Get Segments Unique Counts\n",
    "filtered_df = df[(df['Segment ID'] != 0) & (df['Segment ID'] != '0')]\n",
    "df_lvl1_seg = filtered_df.groupby(['Audience Type'])['Segment ID'].nunique().reset_index()\n",
    "df_lvl2_seg = filtered_df.groupby(['Audience Type Name'])['Segment ID'].nunique().reset_index()\n",
    "df_lvl3_seg = filtered_df.groupby(['Audience Source'])['Segment ID'].nunique().reset_index()\n",
    "df_lvl4_seg = filtered_df.groupby(['Display Dell Vehicle Mapped'])['Segment ID'].nunique().reset_index()\n",
    "df_lvl1_seg.rename(columns={'Audience Type':'Label', 'Segment ID':'Segments'}, inplace=True)\n",
    "df_lvl2_seg.rename(columns={'Audience Type Name':'Label', 'Segment ID':'Segments'}, inplace=True)\n",
    "df_lvl3_seg.rename(columns={'Audience Source':'Label', 'Segment ID':'Segments'}, inplace=True)\n",
    "df_lvl4_seg.rename(columns={'Display Dell Vehicle Mapped':'Label', 'Segment ID':'Segments'}, inplace=True)\n",
    "segment_df = pd.concat([df_lvl1_seg, df_lvl2_seg, df_lvl3_seg, df_lvl4_seg])\n",
    "######\n",
    "\n",
    "test = df.groupby(['Audience Type', 'Audience Type Name', 'Audience Source','Display Dell Vehicle Mapped'])['Spend'].sum().reset_index()\n",
    "\n",
    "test3 = test.groupby(['Audience Type', 'Audience Type Name', 'Audience Source','Display Dell Vehicle Mapped'])['Spend'].sum().reset_index()\n",
    "test3 = test3[(test3['Audience Source'] != '0')& (test3['Audience Source'] != 0)]\n",
    "\n",
    "test1 = test.groupby(['Audience Type','Audience Type Name'])['Spend'].sum().reset_index()\n",
    "#test1 = test1[(test1['Audience Type Name'] != '0')& (test1['Audience Source'] != 0)]\n",
    "\n",
    "test2 = test.groupby(['Audience Type','Audience Type Name','Audience Source'])['Spend'].sum().reset_index()\n",
    "test2 = test2[(test2['Audience Type Name'] != '0') & (test2['Audience Source'] != 0)]\n",
    "\n",
    "test4 = test[(test['Audience Source'] == '0') | (test['Audience Source'] != 0)].groupby(['Audience Type', 'Audience Type Name', 'Display Dell Vehicle Mapped'])['Spend'].sum().reset_index()\n",
    "\n",
    "test1['Level'] = 1\n",
    "test2['Level'] = 2\n",
    "test3['Level'] = 4\n",
    "test4['Level'] = 3\n",
    "\n",
    "test1.rename(columns={'Audience Type':'Source', 'Audience Type Name':'Target', 'Spend':'Total'}, inplace=True)\n",
    "test2.rename(columns={'Audience Type Name':'Source', 'Audience Source':'Target', 'Spend':'Total'}, inplace=True)\n",
    "test3.rename(columns={'Audience Source':'Source', 'Display Dell Vehicle Mapped':'Target', 'Spend':'Total'}, inplace=True)\n",
    "test4.rename(columns={'Audience Type Name':'Source', 'Display Dell Vehicle Mapped':'Target', 'Spend':'Total'}, inplace=True)\n",
    "\n",
    "concat_df = pd.concat([\n",
    "                       test1[['Source','Target','Total', 'Level']]\n",
    "                       , test2[['Source','Target','Total', 'Level']]\n",
    "                       , test3[['Source','Target','Total', 'Level']]\n",
    "                        , test4[['Source','Target','Total', 'Level']]\n",
    "                    ], ignore_index=True)\n",
    "                    \n",
    "\n",
    "unique_values = pd.unique(concat_df[['Source', 'Target']].values.ravel('K'))\n",
    "\n",
    "mapping_df = pd.DataFrame({'Label': unique_values.tolist()\n",
    "                                     , 'Value': [i for i in range(len(unique_values))]})\n",
    "\n",
    "\n",
    "unique_values = pd.unique(concat_df[['Source', 'Target']].values.ravel('K'))\n",
    "    \n",
    "mapping_df = pd.DataFrame({'Label': unique_values.tolist()\n",
    "                                          , 'Value': [i for i in range(len(unique_values))]})\n",
    "\n",
    "# Replace values based on the mappings\n",
    "\n",
    "mapped_concat_df = concat_df.copy()\n",
    "\n",
    "mapped_concat_df['Source'] = concat_df['Source'].replace(mapping_df.set_index('Label')['Value'])\n",
    "mapped_concat_df['Target'] = concat_df['Target'].replace(mapping_df.set_index('Label')['Value'])\n",
    "\n",
    "\n",
    "\n",
    "\n",
    "\n",
    "\n",
    "# Create a list of columns to process\n",
    "columns_to_process = ['Audience Type', 'Audience Type Name', 'Audience Source', 'Display Dell Vehicle Mapped']\n",
    "\n",
    "# Create an empty DataFrame to store the results\n",
    "result_df = pd.DataFrame()\n",
    "\n",
    "# Loop through each column and calculate sums, percentages, and unique \"Segment ID\" counts\n",
    "for column_name in columns_to_process:\n",
    "    # Calculate sums and percentages\n",
    "    grouped = df.groupby(column_name)['Spend'].sum().reset_index()\n",
    "    grouped['Percentage'] = (grouped['Spend'] / grouped['Spend'].sum()) * 100\n",
    "    grouped.rename(columns={column_name: 'Label'}, inplace=True)\n",
    "    \n",
    "    # Calculate unique \"Segment ID\" counts\n",
    "    grouped_segment = df[(df['Segment ID'] != '0') & (df['Segment ID'] != 0)].groupby(column_name)['Segment ID'].nunique().reset_index()\n",
    "    grouped_segment.rename(columns={column_name: 'Label', 'Segment ID': 'Segments'}, inplace=True)\n",
    "    \n",
    "    # Merge the two DataFrames\n",
    "    merged_grouped = grouped.merge(grouped_segment, on='Label', how='left')\n",
    "    \n",
    "    # Append the result to result_df\n",
    "    result_df = pd.concat([result_df, merged_grouped], axis=0, ignore_index=True)\n",
    "\n",
    "# result_df now contains the combined results\n",
    "result_df\n",
    "\n",
    "\n",
    "merged_df = mapping_df.merge(result_df, on='Label', how='left')\n",
    "\n",
    "merged_df.fillna(0,inplace=True)\n",
    "\n",
    "merged_df['Label_x'] = (merged_df['Label'] + \" (\" + merged_df['Segments'].apply(format_value) + \") \" +\n",
    "                        \"<br>\" + merged_df['Percentage'].apply(lambda x: f'{x:.1f}%') +\n",
    "                        \" (\" + merged_df['Spend'].apply(format_value) + \")\")\n",
    "\n",
    "\n",
    "\n",
    "############\n",
    "\n",
    "\n",
    "# Sample data\n",
    "source = mapped_concat_df['Source'].values.tolist()\n",
    "target = mapped_concat_df['Target'].values.tolist()\n",
    "value = mapped_concat_df['Total'].values.tolist()\n",
    "labels = merged_df['Label_x'].values.tolist()\n",
    "\n",
    "# List of colors for each link based on some condition or data\n",
    "colors = generate_gray_tones(source, target)\n",
    "\n",
    "# Create links\n",
    "link = dict(source=source, target=target, value=value, color=colors)\n",
    "\n",
    "# Create nodes\n",
    "node = dict(label=labels, pad=30, thickness=20)\n",
    "\n",
    "# Create a Sankey object\n",
    "chart = go.Sankey(link=link, node=node, arrangement=\"snap\")\n",
    "\n",
    "# Build a figure\n",
    "fig = go.Figure(chart)\n",
    "\n",
    "# Add a title to the figure\n",
    "fig.update_layout(title_text='title')\n",
    "\n",
    "fig.show()\n"
   ]
  }
 ],
 "metadata": {
  "kernelspec": {
   "display_name": "Python 3 (ipykernel)",
   "language": "python",
   "name": "python3"
  },
  "language_info": {
   "codemirror_mode": {
    "name": "ipython",
    "version": 3
   },
   "file_extension": ".py",
   "mimetype": "text/x-python",
   "name": "python",
   "nbconvert_exporter": "python",
   "pygments_lexer": "ipython3",
   "version": "3.10.5"
  }
 },
 "nbformat": 4,
 "nbformat_minor": 5
}
