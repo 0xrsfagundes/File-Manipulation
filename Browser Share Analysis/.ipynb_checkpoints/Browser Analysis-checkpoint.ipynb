{
 "cells": [
  {
   "cell_type": "code",
   "execution_count": 12,
   "id": "393ecbc8",
   "metadata": {},
   "outputs": [],
   "source": [
    "import pandas as pd\n",
    "\n",
    "pd.set_option('display.max_columns', None)"
   ]
  },
  {
   "cell_type": "code",
   "execution_count": 13,
   "id": "8e7c9ee7",
   "metadata": {},
   "outputs": [],
   "source": [
    "df = pd.read_csv('csv\\Freeform table - Browser.csv')"
   ]
  },
  {
   "cell_type": "code",
   "execution_count": 14,
   "id": "dc56b4ec",
   "metadata": {
    "scrolled": true
   },
   "outputs": [
    {
     "name": "stdout",
     "output_type": "stream",
     "text": [
      "<class 'pandas.core.frame.DataFrame'>\n",
      "RangeIndex: 4004 entries, 0 to 4003\n",
      "Data columns (total 7 columns):\n",
      " #   Column            Non-Null Count  Dtype  \n",
      "---  ------            --------------  -----  \n",
      " 0   Browser           4004 non-null   object \n",
      " 1   Visits            4004 non-null   int64  \n",
      " 2   Unique Visitors   4004 non-null   int64  \n",
      " 3   Revenue           4004 non-null   float64\n",
      " 4   Revenue / Visits  4004 non-null   float64\n",
      " 5   Total Orders      4004 non-null   int64  \n",
      " 6   Occurrences       4004 non-null   int64  \n",
      "dtypes: float64(2), int64(4), object(1)\n",
      "memory usage: 219.1+ KB\n"
     ]
    }
   ],
   "source": [
    "df.info()"
   ]
  },
  {
   "cell_type": "code",
   "execution_count": 15,
   "id": "df0dac5c",
   "metadata": {},
   "outputs": [],
   "source": [
    "df['Revenue'] = df['Revenue'].astype('float64')\n",
    "df['Visits'] = df['Visits'].astype('float64')\n",
    "df['Unique Visitors'] = df['Unique Visitors'].astype('float64')"
   ]
  },
  {
   "cell_type": "code",
   "execution_count": 16,
   "id": "6a07843b",
   "metadata": {
    "scrolled": true
   },
   "outputs": [
    {
     "data": {
      "text/plain": [
       "array(['Chrome', '111.0', '112.0', ..., 'Mosaic', '18.22463', '15.2n2958'],\n",
       "      dtype=object)"
      ]
     },
     "execution_count": 16,
     "metadata": {},
     "output_type": "execute_result"
    }
   ],
   "source": [
    "df['Browser'].str.split(expand=True).stack().unique()"
   ]
  },
  {
   "cell_type": "code",
   "execution_count": 20,
   "id": "0ac6fb54",
   "metadata": {},
   "outputs": [],
   "source": [
    "Browsers = '(NetFront|SeaMonkey|Whale|Iron|Konqueror|Openwave|Sleipnir|unspecified|other|Opera|Chrome|Edge|Safari|MIUI Browser|Firefox|Gecko|Mobile|Samsung|Avast|Secure|Internet Explorer|Huawei|Amazon|SouGou|QQ|Chromium|Android|webOS)'\n",
    "\n",
    "df['Browser_Group'] = df['Browser'].str.extract(Browsers)"
   ]
  },
  {
   "cell_type": "code",
   "execution_count": 21,
   "id": "eb5678b5",
   "metadata": {
    "scrolled": true
   },
   "outputs": [
    {
     "data": {
      "text/html": [
       "<div>\n",
       "<style scoped>\n",
       "    .dataframe tbody tr th:only-of-type {\n",
       "        vertical-align: middle;\n",
       "    }\n",
       "\n",
       "    .dataframe tbody tr th {\n",
       "        vertical-align: top;\n",
       "    }\n",
       "\n",
       "    .dataframe thead th {\n",
       "        text-align: right;\n",
       "    }\n",
       "</style>\n",
       "<table border=\"1\" class=\"dataframe\">\n",
       "  <thead>\n",
       "    <tr style=\"text-align: right;\">\n",
       "      <th></th>\n",
       "      <th>Browser</th>\n",
       "      <th>Visits</th>\n",
       "      <th>Unique Visitors</th>\n",
       "      <th>Revenue</th>\n",
       "      <th>Revenue / Visits</th>\n",
       "      <th>Total Orders</th>\n",
       "      <th>Occurrences</th>\n",
       "      <th>Browser_Group</th>\n",
       "    </tr>\n",
       "  </thead>\n",
       "  <tbody>\n",
       "    <tr>\n",
       "      <th>0</th>\n",
       "      <td>Chrome 111.0</td>\n",
       "      <td>30094196.0</td>\n",
       "      <td>16674756.0</td>\n",
       "      <td>807054806.8</td>\n",
       "      <td>26.817623</td>\n",
       "      <td>323380</td>\n",
       "      <td>279324168</td>\n",
       "      <td>Chrome</td>\n",
       "    </tr>\n",
       "    <tr>\n",
       "      <th>1</th>\n",
       "      <td>Chrome 112.0</td>\n",
       "      <td>20548669.0</td>\n",
       "      <td>11550106.0</td>\n",
       "      <td>612746971.0</td>\n",
       "      <td>29.819302</td>\n",
       "      <td>201150</td>\n",
       "      <td>190986127</td>\n",
       "      <td>Chrome</td>\n",
       "    </tr>\n",
       "    <tr>\n",
       "      <th>2</th>\n",
       "      <td>Google Chrome (unknown version)</td>\n",
       "      <td>14902852.0</td>\n",
       "      <td>7951514.0</td>\n",
       "      <td>553251537.7</td>\n",
       "      <td>37.123870</td>\n",
       "      <td>210009</td>\n",
       "      <td>182249931</td>\n",
       "      <td>Chrome</td>\n",
       "    </tr>\n",
       "    <tr>\n",
       "      <th>3</th>\n",
       "      <td>Edge 112.0</td>\n",
       "      <td>6999761.0</td>\n",
       "      <td>3591779.0</td>\n",
       "      <td>395675845.9</td>\n",
       "      <td>56.527051</td>\n",
       "      <td>97491</td>\n",
       "      <td>91053594</td>\n",
       "      <td>Edge</td>\n",
       "    </tr>\n",
       "    <tr>\n",
       "      <th>4</th>\n",
       "      <td>Google Chrome 109.0</td>\n",
       "      <td>11100883.0</td>\n",
       "      <td>7034168.0</td>\n",
       "      <td>326772473.8</td>\n",
       "      <td>29.436620</td>\n",
       "      <td>141553</td>\n",
       "      <td>115111264</td>\n",
       "      <td>Chrome</td>\n",
       "    </tr>\n",
       "  </tbody>\n",
       "</table>\n",
       "</div>"
      ],
      "text/plain": [
       "                           Browser      Visits  Unique Visitors      Revenue  \\\n",
       "0                     Chrome 111.0  30094196.0       16674756.0  807054806.8   \n",
       "1                     Chrome 112.0  20548669.0       11550106.0  612746971.0   \n",
       "2  Google Chrome (unknown version)  14902852.0        7951514.0  553251537.7   \n",
       "3                       Edge 112.0   6999761.0        3591779.0  395675845.9   \n",
       "4              Google Chrome 109.0  11100883.0        7034168.0  326772473.8   \n",
       "\n",
       "   Revenue / Visits  Total Orders  Occurrences Browser_Group  \n",
       "0         26.817623        323380    279324168        Chrome  \n",
       "1         29.819302        201150    190986127        Chrome  \n",
       "2         37.123870        210009    182249931        Chrome  \n",
       "3         56.527051         97491     91053594          Edge  \n",
       "4         29.436620        141553    115111264        Chrome  "
      ]
     },
     "execution_count": 21,
     "metadata": {},
     "output_type": "execute_result"
    }
   ],
   "source": [
    "df.head()"
   ]
  },
  {
   "cell_type": "code",
   "execution_count": 22,
   "id": "bb6b8b45",
   "metadata": {},
   "outputs": [],
   "source": [
    "df.to_csv('csv/browser_analysis.csv')"
   ]
  }
 ],
 "metadata": {
  "kernelspec": {
   "display_name": "Python 3 (ipykernel)",
   "language": "python",
   "name": "python3"
  },
  "language_info": {
   "codemirror_mode": {
    "name": "ipython",
    "version": 3
   },
   "file_extension": ".py",
   "mimetype": "text/x-python",
   "name": "python",
   "nbconvert_exporter": "python",
   "pygments_lexer": "ipython3",
   "version": "3.10.9"
  }
 },
 "nbformat": 4,
 "nbformat_minor": 5
}
