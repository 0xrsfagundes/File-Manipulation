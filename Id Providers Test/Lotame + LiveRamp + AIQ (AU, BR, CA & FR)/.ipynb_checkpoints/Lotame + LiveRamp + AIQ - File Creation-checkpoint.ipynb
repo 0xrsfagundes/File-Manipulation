{
 "cells": [
  {
   "cell_type": "markdown",
   "id": "d9d108c9",
   "metadata": {},
   "source": [
    "### Lotame + LiveRamp + AIQ - File Creation\n"
   ]
  },
  {
   "cell_type": "code",
   "execution_count": 11,
   "id": "db57346d",
   "metadata": {},
   "outputs": [],
   "source": [
    "import pandas as pd\n",
    "import warnings\n",
    "\n",
    "pd.set_option('display.max_columns', None)\n",
    "pd.set_option('display.max_colwidth', None)\n",
    "warnings.filterwarnings('ignore')"
   ]
  },
  {
   "cell_type": "markdown",
   "id": "79f859ba",
   "metadata": {},
   "source": [
    "### Audience Dataframe Creation"
   ]
  },
  {
   "cell_type": "code",
   "execution_count": 12,
   "id": "9d6680dc",
   "metadata": {
    "scrolled": true
   },
   "outputs": [
    {
     "data": {
      "text/html": [
       "<div>\n",
       "<style scoped>\n",
       "    .dataframe tbody tr th:only-of-type {\n",
       "        vertical-align: middle;\n",
       "    }\n",
       "\n",
       "    .dataframe tbody tr th {\n",
       "        vertical-align: top;\n",
       "    }\n",
       "\n",
       "    .dataframe thead th {\n",
       "        text-align: right;\n",
       "    }\n",
       "</style>\n",
       "<table border=\"1\" class=\"dataframe\">\n",
       "  <thead>\n",
       "    <tr style=\"text-align: right;\">\n",
       "      <th></th>\n",
       "      <th>Country</th>\n",
       "      <th>Number</th>\n",
       "      <th>Provider</th>\n",
       "      <th>Audience ID</th>\n",
       "    </tr>\n",
       "  </thead>\n",
       "  <tbody>\n",
       "    <tr>\n",
       "      <th>0</th>\n",
       "      <td>AU</td>\n",
       "      <td>1</td>\n",
       "      <td>Lotame</td>\n",
       "      <td>dgfrrpdw7ov</td>\n",
       "    </tr>\n",
       "    <tr>\n",
       "      <th>1</th>\n",
       "      <td>AU</td>\n",
       "      <td>2</td>\n",
       "      <td>AIQ</td>\n",
       "      <td>d2q11zclsgv</td>\n",
       "    </tr>\n",
       "    <tr>\n",
       "      <th>2</th>\n",
       "      <td>AU</td>\n",
       "      <td>3</td>\n",
       "      <td>LR</td>\n",
       "      <td>duxo79h5t8o</td>\n",
       "    </tr>\n",
       "    <tr>\n",
       "      <th>3</th>\n",
       "      <td>BR</td>\n",
       "      <td>1</td>\n",
       "      <td>Lotame</td>\n",
       "      <td>dkgud3s0umw</td>\n",
       "    </tr>\n",
       "    <tr>\n",
       "      <th>4</th>\n",
       "      <td>BR</td>\n",
       "      <td>2</td>\n",
       "      <td>AIQ</td>\n",
       "      <td>dwm57ismy2g</td>\n",
       "    </tr>\n",
       "    <tr>\n",
       "      <th>5</th>\n",
       "      <td>BR</td>\n",
       "      <td>3</td>\n",
       "      <td>LR</td>\n",
       "      <td>d3ok01g6usv</td>\n",
       "    </tr>\n",
       "    <tr>\n",
       "      <th>6</th>\n",
       "      <td>CA</td>\n",
       "      <td>1</td>\n",
       "      <td>Lotame</td>\n",
       "      <td>dv7sm9mltvm</td>\n",
       "    </tr>\n",
       "    <tr>\n",
       "      <th>7</th>\n",
       "      <td>CA</td>\n",
       "      <td>2</td>\n",
       "      <td>AIQ</td>\n",
       "      <td>d7qd2wu3gkb</td>\n",
       "    </tr>\n",
       "    <tr>\n",
       "      <th>8</th>\n",
       "      <td>CA</td>\n",
       "      <td>3</td>\n",
       "      <td>LR</td>\n",
       "      <td>dw1v0i89ctr</td>\n",
       "    </tr>\n",
       "    <tr>\n",
       "      <th>9</th>\n",
       "      <td>FR</td>\n",
       "      <td>1</td>\n",
       "      <td>Lotame</td>\n",
       "      <td>d6m18ot8p0w</td>\n",
       "    </tr>\n",
       "    <tr>\n",
       "      <th>10</th>\n",
       "      <td>FR</td>\n",
       "      <td>2</td>\n",
       "      <td>AIQ</td>\n",
       "      <td>d14s5u5pfra</td>\n",
       "    </tr>\n",
       "  </tbody>\n",
       "</table>\n",
       "</div>"
      ],
      "text/plain": [
       "   Country  Number Provider  Audience ID\n",
       "0       AU       1   Lotame  dgfrrpdw7ov\n",
       "1       AU       2      AIQ  d2q11zclsgv\n",
       "2       AU       3       LR  duxo79h5t8o\n",
       "3       BR       1   Lotame  dkgud3s0umw\n",
       "4       BR       2      AIQ  dwm57ismy2g\n",
       "5       BR       3       LR  d3ok01g6usv\n",
       "6       CA       1   Lotame  dv7sm9mltvm\n",
       "7       CA       2      AIQ  d7qd2wu3gkb\n",
       "8       CA       3       LR  dw1v0i89ctr\n",
       "9       FR       1   Lotame  d6m18ot8p0w\n",
       "10      FR       2      AIQ  d14s5u5pfra"
      ]
     },
     "execution_count": 12,
     "metadata": {},
     "output_type": "execute_result"
    }
   ],
   "source": [
    "audiences = {\n",
    "    'Country': ['AU', 'AU', 'AU', 'BR', 'BR', 'BR', 'CA', 'CA', 'CA', 'FR', 'FR'],\n",
    "    'Number': [1, 2, 3, 1, 2, 3, 1, 2, 3, 1, 2],\n",
    "    'Provider': ['Lotame', 'AIQ', 'LR', 'Lotame', 'AIQ', 'LR', 'Lotame', 'AIQ', 'LR', 'Lotame', 'AIQ'],\n",
    "    'Audience ID': ['dgfrrpdw7ov', 'd2q11zclsgv', 'duxo79h5t8o', 'dkgud3s0umw', 'dwm57ismy2g', 'd3ok01g6usv',\n",
    "             'dv7sm9mltvm', 'd7qd2wu3gkb', 'dw1v0i89ctr', 'd6m18ot8p0w', 'd14s5u5pfra']\n",
    "}\n",
    "\n",
    "df_audiences = pd.DataFrame(audiences)\n",
    "\n",
    "df_audiences\n"
   ]
  },
  {
   "cell_type": "code",
   "execution_count": 13,
   "id": "35979e6b",
   "metadata": {},
   "outputs": [],
   "source": [
    "audience_codes = '(dgfrrpdw7ov|d2q11zclsgv|duxo79h5t8o|dkgud3s0umw|dwm57ismy2g|d3ok01g6usv|dv7sm9mltvm|d7qd2wu3gkb|dw1v0i89ctr|d6m18ot8p0w|d14s5u5pfra)'\n"
   ]
  },
  {
   "cell_type": "markdown",
   "id": "d53962dd",
   "metadata": {},
   "source": [
    "### GCM Data Import - Impressions & Clicks"
   ]
  },
  {
   "cell_type": "code",
   "execution_count": 14,
   "id": "370c5bd1",
   "metadata": {},
   "outputs": [],
   "source": [
    "df_impressions = pd.read_csv(r'C:\\Users\\Rafael_Fagundes\\Downloads\\Impressions.csv', skiprows=10,skipfooter=1, parse_dates=['Date'])"
   ]
  },
  {
   "cell_type": "code",
   "execution_count": 15,
   "id": "2010f038",
   "metadata": {},
   "outputs": [],
   "source": [
    "# Filter by Audience IDs\n",
    "df_impressions_filtered = df_impressions[df_impressions['Placement'].str.contains(audience_codes, case=False, regex=True)]\n",
    "\n",
    "# Convert to datetime for the merge\n",
    "df_impressions_filtered['Date'] = pd.to_datetime(df_impressions_filtered['Date'])\n",
    "\n",
    "# Remove any '-'\n",
    "df_impressions_filtered.replace('-', 0, inplace=True)\n",
    "\n",
    "# Change Reach and Frequency datatypes for the sum\n",
    "df_impressions_filtered['Impressions'] = df_impressions_filtered['Impressions'].astype(float)\n",
    "df_impressions_filtered['Clicks'] = df_impressions_filtered['Clicks'].astype(float)\n",
    "\n",
    "# Group by Date and Placement and sum Reach and Frequency\n",
    "df_impressions_group = df_impressions_filtered.groupby(['Date', 'Placement'])[['Impressions', 'Clicks']].sum().reset_index()"
   ]
  },
  {
   "cell_type": "markdown",
   "id": "cbdb0505",
   "metadata": {},
   "source": [
    "### GCM Data Import - Reach & Frequency\n"
   ]
  },
  {
   "cell_type": "code",
   "execution_count": 16,
   "id": "e86b8d20",
   "metadata": {},
   "outputs": [],
   "source": [
    "df_reach = pd.read_csv(r'C:\\Users\\Rafael_Fagundes\\Downloads\\Reach.csv', skiprows=10,skipfooter=1, parse_dates=['Date'])"
   ]
  },
  {
   "cell_type": "code",
   "execution_count": 17,
   "id": "a3ad47f7",
   "metadata": {},
   "outputs": [],
   "source": [
    "# Filter by Audience IDs\n",
    "df_reach_filtered = df_reach[df_reach['Placement'].str.contains(audience_codes, case=False, regex=True)]\n",
    "\n",
    "# Convert to datetime for the merge\n",
    "df_reach_filtered['Date'] = pd.to_datetime(df_reach_filtered['Date'])\n",
    "\n",
    "# Remove any '-'\n",
    "df_reach_filtered.replace('-', 0, inplace=True)\n",
    "\n",
    "# Rename columns: Reach and Frequency\n",
    "df_reach_filtered.rename(columns={'Unique Reach: Impression Reach (Co-Viewed)': 'Reach', 'Unique Reach: Average Impression Frequency (Co-Viewed)': 'Frequency'}, inplace=True)\n",
    "\n",
    "# Change Reach and Frequency datatypes for the sum\n",
    "df_reach_filtered['Reach'] = df_reach_filtered['Reach'].astype(float)\n",
    "df_reach_filtered['Frequency'] = df_reach_filtered['Frequency'].astype(float)\n",
    "\n",
    "# Group by Date and Placement and sum Reach and Frequency\n",
    "df_reach_group = df_reach_filtered.groupby(['Date', 'Placement'])[['Reach', 'Frequency']].sum().reset_index()\n"
   ]
  },
  {
   "cell_type": "markdown",
   "id": "d58eda2f",
   "metadata": {},
   "source": [
    "### Merge Audience Dataframe with GCM File"
   ]
  },
  {
   "cell_type": "code",
   "execution_count": 18,
   "id": "e8590a94",
   "metadata": {},
   "outputs": [],
   "source": [
    "df_merge = pd.merge(df_impressions_group, df_reach_group, on=['Date','Placement'], how='left')\n",
    "\n",
    "df_merge['Audience ID'] = df_merge['Placement'].str.lower().str.extract(audience_codes)\n",
    "\n",
    "df_final = pd.merge(df_merge, df_audiences, on=['Audience ID'], how='left')"
   ]
  },
  {
   "cell_type": "markdown",
   "id": "f6c2b8f1",
   "metadata": {},
   "source": [
    "### Save Final File"
   ]
  },
  {
   "cell_type": "code",
   "execution_count": 20,
   "id": "b0f5c802",
   "metadata": {},
   "outputs": [],
   "source": [
    "df_final.to_csv(r'csv\\df.csv', index=False)"
   ]
  }
 ],
 "metadata": {
  "kernelspec": {
   "display_name": "Python 3 (ipykernel)",
   "language": "python",
   "name": "python3"
  },
  "language_info": {
   "codemirror_mode": {
    "name": "ipython",
    "version": 3
   },
   "file_extension": ".py",
   "mimetype": "text/x-python",
   "name": "python",
   "nbconvert_exporter": "python",
   "pygments_lexer": "ipython3",
   "version": "3.10.5"
  }
 },
 "nbformat": 4,
 "nbformat_minor": 5
}
