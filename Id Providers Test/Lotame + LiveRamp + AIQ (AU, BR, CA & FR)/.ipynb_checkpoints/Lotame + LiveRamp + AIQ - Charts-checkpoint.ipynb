{
 "cells": [
  {
   "cell_type": "code",
   "execution_count": 35,
   "id": "573668cc",
   "metadata": {},
   "outputs": [],
   "source": [
    "import pandas as pd\n",
    "import warnings\n",
    "import matplotlib.pyplot as plt\n",
    "import matplotlib.dates as mdates\n",
    "\n",
    "pd.set_option('display.max_columns', None)\n",
    "pd.set_option('display.max_colwidth', None)\n",
    "warnings.filterwarnings('ignore')"
   ]
  },
  {
   "cell_type": "code",
   "execution_count": 46,
   "id": "f19b9e4f",
   "metadata": {},
   "outputs": [],
   "source": [
    "df = pd.read_csv(r'csv\\df.csv', parse_dates=['Date'])"
   ]
  },
  {
   "cell_type": "code",
   "execution_count": 47,
   "id": "343ac472",
   "metadata": {
    "scrolled": true
   },
   "outputs": [
    {
     "data": {
      "text/html": [
       "<div>\n",
       "<style scoped>\n",
       "    .dataframe tbody tr th:only-of-type {\n",
       "        vertical-align: middle;\n",
       "    }\n",
       "\n",
       "    .dataframe tbody tr th {\n",
       "        vertical-align: top;\n",
       "    }\n",
       "\n",
       "    .dataframe thead th {\n",
       "        text-align: right;\n",
       "    }\n",
       "</style>\n",
       "<table border=\"1\" class=\"dataframe\">\n",
       "  <thead>\n",
       "    <tr style=\"text-align: right;\">\n",
       "      <th></th>\n",
       "      <th>Unnamed: 0</th>\n",
       "      <th>Date</th>\n",
       "      <th>Placement</th>\n",
       "      <th>Impressions</th>\n",
       "      <th>Clicks</th>\n",
       "      <th>Reach</th>\n",
       "      <th>Frequency</th>\n",
       "      <th>Audience ID</th>\n",
       "      <th>Country</th>\n",
       "      <th>Number</th>\n",
       "      <th>Provider</th>\n",
       "    </tr>\n",
       "  </thead>\n",
       "  <tbody>\n",
       "    <tr>\n",
       "      <th>0</th>\n",
       "      <td>0</td>\n",
       "      <td>2023-08-12</td>\n",
       "      <td>DV360_CRM-1PD CRM_STANDARD BANNER_160x600_DCPM_INTEL CCF_STD_FY24Q3_d14s5u5pfra-test-reactfullaiqv2-1pcrm_FR CSB_AIQ</td>\n",
       "      <td>20.0</td>\n",
       "      <td>0.0</td>\n",
       "      <td>0.0</td>\n",
       "      <td>0.00</td>\n",
       "      <td>d14s5u5pfra</td>\n",
       "      <td>FR</td>\n",
       "      <td>2</td>\n",
       "      <td>AIQ</td>\n",
       "    </tr>\n",
       "    <tr>\n",
       "      <th>1</th>\n",
       "      <td>1</td>\n",
       "      <td>2023-08-12</td>\n",
       "      <td>DV360_CRM-1PD CRM_STANDARD BANNER_300x250_DCPM_INTEL CCF_STD_FY24Q3_d14s5u5pfra-test-reactfullaiqv2-1pcrm_FR CSB_AIQ</td>\n",
       "      <td>643.0</td>\n",
       "      <td>0.0</td>\n",
       "      <td>173.0</td>\n",
       "      <td>3.72</td>\n",
       "      <td>d14s5u5pfra</td>\n",
       "      <td>FR</td>\n",
       "      <td>2</td>\n",
       "      <td>AIQ</td>\n",
       "    </tr>\n",
       "    <tr>\n",
       "      <th>2</th>\n",
       "      <td>2</td>\n",
       "      <td>2023-08-12</td>\n",
       "      <td>DV360_CRM-1PD CRM_STANDARD BANNER_300x600_DCPM_INTEL CCF_STD_FY24Q3_d14s5u5pfra-test-reactfullaiqv2-1pcrm_FR CSB_AIQ</td>\n",
       "      <td>117.0</td>\n",
       "      <td>0.0</td>\n",
       "      <td>0.0</td>\n",
       "      <td>0.00</td>\n",
       "      <td>d14s5u5pfra</td>\n",
       "      <td>FR</td>\n",
       "      <td>2</td>\n",
       "      <td>AIQ</td>\n",
       "    </tr>\n",
       "    <tr>\n",
       "      <th>3</th>\n",
       "      <td>3</td>\n",
       "      <td>2023-08-12</td>\n",
       "      <td>DV360_CRM-1PD CRM_STANDARD BANNER_728x90_DCPM_INTEL CCF_STD_FY24Q3_d14s5u5pfra-test-reactfullaiqv2-1pcrm_FR CSB_AIQ</td>\n",
       "      <td>108.0</td>\n",
       "      <td>0.0</td>\n",
       "      <td>0.0</td>\n",
       "      <td>0.00</td>\n",
       "      <td>d14s5u5pfra</td>\n",
       "      <td>FR</td>\n",
       "      <td>2</td>\n",
       "      <td>AIQ</td>\n",
       "    </tr>\n",
       "    <tr>\n",
       "      <th>4</th>\n",
       "      <td>4</td>\n",
       "      <td>2023-08-13</td>\n",
       "      <td>DV360_CRM-1PD CRM_STANDARD BANNER_160x600_DCPM_INTEL CCF_STD_FY24Q3_d14s5u5pfra-test-reactfullaiqv2-1pcrm_FR CSB_AIQ</td>\n",
       "      <td>54.0</td>\n",
       "      <td>0.0</td>\n",
       "      <td>0.0</td>\n",
       "      <td>0.00</td>\n",
       "      <td>d14s5u5pfra</td>\n",
       "      <td>FR</td>\n",
       "      <td>2</td>\n",
       "      <td>AIQ</td>\n",
       "    </tr>\n",
       "  </tbody>\n",
       "</table>\n",
       "</div>"
      ],
      "text/plain": [
       "   Unnamed: 0       Date  \\\n",
       "0           0 2023-08-12   \n",
       "1           1 2023-08-12   \n",
       "2           2 2023-08-12   \n",
       "3           3 2023-08-12   \n",
       "4           4 2023-08-13   \n",
       "\n",
       "                                                                                                              Placement  \\\n",
       "0  DV360_CRM-1PD CRM_STANDARD BANNER_160x600_DCPM_INTEL CCF_STD_FY24Q3_d14s5u5pfra-test-reactfullaiqv2-1pcrm_FR CSB_AIQ   \n",
       "1  DV360_CRM-1PD CRM_STANDARD BANNER_300x250_DCPM_INTEL CCF_STD_FY24Q3_d14s5u5pfra-test-reactfullaiqv2-1pcrm_FR CSB_AIQ   \n",
       "2  DV360_CRM-1PD CRM_STANDARD BANNER_300x600_DCPM_INTEL CCF_STD_FY24Q3_d14s5u5pfra-test-reactfullaiqv2-1pcrm_FR CSB_AIQ   \n",
       "3   DV360_CRM-1PD CRM_STANDARD BANNER_728x90_DCPM_INTEL CCF_STD_FY24Q3_d14s5u5pfra-test-reactfullaiqv2-1pcrm_FR CSB_AIQ   \n",
       "4  DV360_CRM-1PD CRM_STANDARD BANNER_160x600_DCPM_INTEL CCF_STD_FY24Q3_d14s5u5pfra-test-reactfullaiqv2-1pcrm_FR CSB_AIQ   \n",
       "\n",
       "   Impressions  Clicks  Reach  Frequency  Audience ID Country  Number Provider  \n",
       "0         20.0     0.0    0.0       0.00  d14s5u5pfra      FR       2      AIQ  \n",
       "1        643.0     0.0  173.0       3.72  d14s5u5pfra      FR       2      AIQ  \n",
       "2        117.0     0.0    0.0       0.00  d14s5u5pfra      FR       2      AIQ  \n",
       "3        108.0     0.0    0.0       0.00  d14s5u5pfra      FR       2      AIQ  \n",
       "4         54.0     0.0    0.0       0.00  d14s5u5pfra      FR       2      AIQ  "
      ]
     },
     "execution_count": 47,
     "metadata": {},
     "output_type": "execute_result"
    }
   ],
   "source": [
    "df.head()"
   ]
  },
  {
   "cell_type": "markdown",
   "id": "0d9b2ec9",
   "metadata": {},
   "source": [
    "### France"
   ]
  },
  {
   "cell_type": "code",
   "execution_count": 44,
   "id": "09e1d9d8",
   "metadata": {},
   "outputs": [],
   "source": [
    "df_fr = df[df['Advertiser'].str.contains('Consumer Small Business_FR')]\n",
    "\n",
    "df_fr_impressions = df_fr.groupby(['Date','Provider'])['Impressions'].sum().reset_index()\n",
    "df_fr_clicks = df_fr.groupby(['Date','Provider'])['Clicks'].sum().reset_index()"
   ]
  },
  {
   "cell_type": "code",
   "execution_count": 45,
   "id": "f5b86930",
   "metadata": {},
   "outputs": [
    {
     "data": {
      "image/png": "[encoded data removed]",
      "text/plain": [
       "<Figure size 1000x500 with 2 Axes>"
      ]
     },
     "metadata": {},
     "output_type": "display_data"
    }
   ],
   "source": [
    "fig = plt.figure(figsize=(10,5))\n",
    "ax0 = fig.add_subplot(2,3,1)\n",
    "ax1 = fig.add_subplot(2,3,2)\n",
    "\n",
    "df_fr_impressions.pivot(index='Date', columns='Provider', values='Impressions').plot(ax=ax0)\n",
    "df_fr_clicks.pivot(index='Date', columns='Provider', values='Clicks').plot(ax=ax1)\n",
    "\n",
    "ax0.set_title('Impressions')\n",
    "ax0.set_xlabel('Date')\n",
    "ax0.set_ylabel('value')\n",
    "ax0.legend(fontsize=6)\n",
    "\n",
    "ax1.set_title('Clicks')\n",
    "ax1.set_xlabel('Date')\n",
    "ax1.set_ylabel('value')\n",
    "ax1.legend(fontsize=6)\n",
    "\n",
    "\n",
    "date_form = mdates.DateFormatter(fmt='%b-%d')\n",
    "ax0.xaxis.set_major_formatter(date_form)\n",
    "ax1.xaxis.set_major_formatter(date_form)\n",
    "\n",
    "plt.tight_layout()\n",
    "plt.rcParams.update({'font.size': 7})\n",
    "plt.show()"
   ]
  }
 ],
 "metadata": {
  "kernelspec": {
   "display_name": "Python 3 (ipykernel)",
   "language": "python",
   "name": "python3"
  },
  "language_info": {
   "codemirror_mode": {
    "name": "ipython",
    "version": 3
   },
   "file_extension": ".py",
   "mimetype": "text/x-python",
   "name": "python",
   "nbconvert_exporter": "python",
   "pygments_lexer": "ipython3",
   "version": "3.10.5"
  }
 },
 "nbformat": 4,
 "nbformat_minor": 5
}
