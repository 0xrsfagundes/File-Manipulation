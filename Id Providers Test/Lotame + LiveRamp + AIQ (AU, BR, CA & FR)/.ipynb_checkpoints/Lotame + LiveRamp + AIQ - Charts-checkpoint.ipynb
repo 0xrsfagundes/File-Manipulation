{
 "cells": [
  {
   "cell_type": "code",
   "execution_count": 91,
   "id": "fdebdf82",
   "metadata": {},
   "outputs": [],
   "source": [
    "import pandas as pd\n",
    "import warnings\n",
    "import matplotlib.pyplot as plt\n",
    "import matplotlib.dates as mdates\n",
    "import matplotlib.patches as patches\n",
    "\n",
    "pd.set_option('display.max_columns', None)\n",
    "pd.set_option('display.max_colwidth', None)\n",
    "warnings.filterwarnings('ignore')"
   ]
  },
  {
   "cell_type": "code",
   "execution_count": 92,
   "id": "8bbdc24e",
   "metadata": {},
   "outputs": [],
   "source": [
    "df = pd.read_csv(r'csv\\df.csv', parse_dates=['Date'])"
   ]
  },
  {
   "cell_type": "code",
   "execution_count": 93,
   "id": "f9a17103",
   "metadata": {
    "scrolled": true
   },
   "outputs": [
    {
     "data": {
      "text/html": [
       "<div>\n",
       "<style scoped>\n",
       "    .dataframe tbody tr th:only-of-type {\n",
       "        vertical-align: middle;\n",
       "    }\n",
       "\n",
       "    .dataframe tbody tr th {\n",
       "        vertical-align: top;\n",
       "    }\n",
       "\n",
       "    .dataframe thead th {\n",
       "        text-align: right;\n",
       "    }\n",
       "</style>\n",
       "<table border=\"1\" class=\"dataframe\">\n",
       "  <thead>\n",
       "    <tr style=\"text-align: right;\">\n",
       "      <th></th>\n",
       "      <th>Unnamed: 0</th>\n",
       "      <th>Date</th>\n",
       "      <th>Placement</th>\n",
       "      <th>Impressions</th>\n",
       "      <th>Clicks</th>\n",
       "      <th>Reach</th>\n",
       "      <th>Frequency</th>\n",
       "      <th>Audience ID</th>\n",
       "      <th>Country</th>\n",
       "      <th>Number</th>\n",
       "      <th>Provider</th>\n",
       "    </tr>\n",
       "  </thead>\n",
       "  <tbody>\n",
       "    <tr>\n",
       "      <th>0</th>\n",
       "      <td>0</td>\n",
       "      <td>2023-08-12</td>\n",
       "      <td>DV360_CRM-1PD CRM_STANDARD BANNER_160x600_DCPM_INTEL CCF_STD_FY24Q3_d14s5u5pfra-test-reactfullaiqv2-1pcrm_FR CSB_AIQ</td>\n",
       "      <td>20.0</td>\n",
       "      <td>0.0</td>\n",
       "      <td>0.0</td>\n",
       "      <td>0.00</td>\n",
       "      <td>d14s5u5pfra</td>\n",
       "      <td>FR</td>\n",
       "      <td>2</td>\n",
       "      <td>AIQ</td>\n",
       "    </tr>\n",
       "    <tr>\n",
       "      <th>1</th>\n",
       "      <td>1</td>\n",
       "      <td>2023-08-12</td>\n",
       "      <td>DV360_CRM-1PD CRM_STANDARD BANNER_300x250_DCPM_INTEL CCF_STD_FY24Q3_d14s5u5pfra-test-reactfullaiqv2-1pcrm_FR CSB_AIQ</td>\n",
       "      <td>643.0</td>\n",
       "      <td>0.0</td>\n",
       "      <td>173.0</td>\n",
       "      <td>3.72</td>\n",
       "      <td>d14s5u5pfra</td>\n",
       "      <td>FR</td>\n",
       "      <td>2</td>\n",
       "      <td>AIQ</td>\n",
       "    </tr>\n",
       "    <tr>\n",
       "      <th>2</th>\n",
       "      <td>2</td>\n",
       "      <td>2023-08-12</td>\n",
       "      <td>DV360_CRM-1PD CRM_STANDARD BANNER_300x600_DCPM_INTEL CCF_STD_FY24Q3_d14s5u5pfra-test-reactfullaiqv2-1pcrm_FR CSB_AIQ</td>\n",
       "      <td>117.0</td>\n",
       "      <td>0.0</td>\n",
       "      <td>0.0</td>\n",
       "      <td>0.00</td>\n",
       "      <td>d14s5u5pfra</td>\n",
       "      <td>FR</td>\n",
       "      <td>2</td>\n",
       "      <td>AIQ</td>\n",
       "    </tr>\n",
       "    <tr>\n",
       "      <th>3</th>\n",
       "      <td>3</td>\n",
       "      <td>2023-08-12</td>\n",
       "      <td>DV360_CRM-1PD CRM_STANDARD BANNER_728x90_DCPM_INTEL CCF_STD_FY24Q3_d14s5u5pfra-test-reactfullaiqv2-1pcrm_FR CSB_AIQ</td>\n",
       "      <td>108.0</td>\n",
       "      <td>0.0</td>\n",
       "      <td>0.0</td>\n",
       "      <td>0.00</td>\n",
       "      <td>d14s5u5pfra</td>\n",
       "      <td>FR</td>\n",
       "      <td>2</td>\n",
       "      <td>AIQ</td>\n",
       "    </tr>\n",
       "    <tr>\n",
       "      <th>4</th>\n",
       "      <td>4</td>\n",
       "      <td>2023-08-13</td>\n",
       "      <td>DV360_CRM-1PD CRM_STANDARD BANNER_160x600_DCPM_INTEL CCF_STD_FY24Q3_d14s5u5pfra-test-reactfullaiqv2-1pcrm_FR CSB_AIQ</td>\n",
       "      <td>54.0</td>\n",
       "      <td>0.0</td>\n",
       "      <td>0.0</td>\n",
       "      <td>0.00</td>\n",
       "      <td>d14s5u5pfra</td>\n",
       "      <td>FR</td>\n",
       "      <td>2</td>\n",
       "      <td>AIQ</td>\n",
       "    </tr>\n",
       "  </tbody>\n",
       "</table>\n",
       "</div>"
      ],
      "text/plain": [
       "   Unnamed: 0       Date  \\\n",
       "0           0 2023-08-12   \n",
       "1           1 2023-08-12   \n",
       "2           2 2023-08-12   \n",
       "3           3 2023-08-12   \n",
       "4           4 2023-08-13   \n",
       "\n",
       "                                                                                                              Placement  \\\n",
       "0  DV360_CRM-1PD CRM_STANDARD BANNER_160x600_DCPM_INTEL CCF_STD_FY24Q3_d14s5u5pfra-test-reactfullaiqv2-1pcrm_FR CSB_AIQ   \n",
       "1  DV360_CRM-1PD CRM_STANDARD BANNER_300x250_DCPM_INTEL CCF_STD_FY24Q3_d14s5u5pfra-test-reactfullaiqv2-1pcrm_FR CSB_AIQ   \n",
       "2  DV360_CRM-1PD CRM_STANDARD BANNER_300x600_DCPM_INTEL CCF_STD_FY24Q3_d14s5u5pfra-test-reactfullaiqv2-1pcrm_FR CSB_AIQ   \n",
       "3   DV360_CRM-1PD CRM_STANDARD BANNER_728x90_DCPM_INTEL CCF_STD_FY24Q3_d14s5u5pfra-test-reactfullaiqv2-1pcrm_FR CSB_AIQ   \n",
       "4  DV360_CRM-1PD CRM_STANDARD BANNER_160x600_DCPM_INTEL CCF_STD_FY24Q3_d14s5u5pfra-test-reactfullaiqv2-1pcrm_FR CSB_AIQ   \n",
       "\n",
       "   Impressions  Clicks  Reach  Frequency  Audience ID Country  Number Provider  \n",
       "0         20.0     0.0    0.0       0.00  d14s5u5pfra      FR       2      AIQ  \n",
       "1        643.0     0.0  173.0       3.72  d14s5u5pfra      FR       2      AIQ  \n",
       "2        117.0     0.0    0.0       0.00  d14s5u5pfra      FR       2      AIQ  \n",
       "3        108.0     0.0    0.0       0.00  d14s5u5pfra      FR       2      AIQ  \n",
       "4         54.0     0.0    0.0       0.00  d14s5u5pfra      FR       2      AIQ  "
      ]
     },
     "execution_count": 93,
     "metadata": {},
     "output_type": "execute_result"
    }
   ],
   "source": [
    "df.head()"
   ]
  },
  {
   "cell_type": "markdown",
   "id": "2d2b601e",
   "metadata": {},
   "source": [
    "### France"
   ]
  },
  {
   "cell_type": "code",
   "execution_count": 94,
   "id": "99bae430",
   "metadata": {},
   "outputs": [],
   "source": [
    "df_fr = df[df['Country'].str.contains('FR')]\n",
    "\n",
    "df_fr_reach = df_fr.groupby(['Date','Provider'])['Reach'].sum().reset_index()\n",
    "df_fr_impressions = df_fr.groupby(['Date','Provider'])['Impressions'].sum().reset_index()\n",
    "df_fr_frequency = df_fr.groupby(['Date','Provider'])['Frequency'].sum().reset_index()\n",
    "df_fr_clicks = df_fr.groupby(['Date','Provider'])['Clicks'].sum().reset_index()"
   ]
  },
  {
   "cell_type": "code",
   "execution_count": 104,
   "id": "e0dd0c61",
   "metadata": {},
   "outputs": [
    {
     "data": {
      "image/png": "[encoded data removed]",
      "text/plain": [
       "<Figure size 1000x200 with 4 Axes>"
      ]
     },
     "metadata": {},
     "output_type": "display_data"
    }
   ],
   "source": [
    "fig = plt.figure(figsize=(10,2))\n",
    "fig.suptitle('France - AIQ', fontsize=16)\n",
    "\n",
    "# 2 rows, 2 columns\n",
    "ax0 = fig.add_subplot(1, 4, 1)  \n",
    "ax1 = fig.add_subplot(1, 4, 2)\n",
    "ax2 = fig.add_subplot(1, 4, 3)\n",
    "ax3 = fig.add_subplot(1, 4, 4)\n",
    "\n",
    "df_fr_reach.pivot(index='Date', columns='Provider', values='Reach').plot(ax=ax0)\n",
    "df_fr_impressions.pivot(index='Date', columns='Provider', values='Impressions').plot(ax=ax1)\n",
    "df_fr_frequency.pivot(index='Date', columns='Provider', values='Frequency').plot(ax=ax2)\n",
    "df_fr_clicks.pivot(index='Date', columns='Provider', values='Clicks').plot(ax=ax3)\n",
    "\n",
    "ax0.set_title('Reach')\n",
    "ax0.set_xlabel('Date')\n",
    "ax0.set_ylabel('value')\n",
    "ax0.legend(fontsize=6)\n",
    "\n",
    "ax1.set_title('Impressions')\n",
    "ax1.set_xlabel('Date')\n",
    "ax1.set_ylabel('value')\n",
    "ax1.legend(fontsize=6)\n",
    "\n",
    "ax2.set_title('Frequency')\n",
    "ax2.set_xlabel('Date')\n",
    "ax2.set_ylabel('value')\n",
    "ax2.legend(fontsize=6)\n",
    "\n",
    "ax3.set_title('Clicks')\n",
    "ax3.set_xlabel('Date')\n",
    "ax3.set_ylabel('value')\n",
    "ax3.legend(fontsize=6)\n",
    "\n",
    "\n",
    "date_form = mdates.DateFormatter(fmt='%b-%d')\n",
    "ax0.xaxis.set_major_formatter(date_form)\n",
    "ax1.xaxis.set_major_formatter(date_form)\n",
    "ax2.xaxis.set_major_formatter(date_form)\n",
    "ax3.xaxis.set_major_formatter(date_form)\n",
    "\n",
    "plt.tight_layout()\n",
    "plt.show()"
   ]
  }
 ],
 "metadata": {
  "kernelspec": {
   "display_name": "Python 3 (ipykernel)",
   "language": "python",
   "name": "python3"
  },
  "language_info": {
   "codemirror_mode": {
    "name": "ipython",
    "version": 3
   },
   "file_extension": ".py",
   "mimetype": "text/x-python",
   "name": "python",
   "nbconvert_exporter": "python",
   "pygments_lexer": "ipython3",
   "version": "3.10.5"
  }
 },
 "nbformat": 4,
 "nbformat_minor": 5
}
