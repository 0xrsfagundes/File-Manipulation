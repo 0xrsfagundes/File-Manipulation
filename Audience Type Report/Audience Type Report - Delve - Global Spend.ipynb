{
 "cells": [
  {
   "cell_type": "code",
   "execution_count": 13,
   "id": "a19dc192",
   "metadata": {},
   "outputs": [],
   "source": [
    "import pandas as pd\n",
    "import numpy as np\n",
    "import warnings\n",
    "\n",
    "warnings.filterwarnings('ignore')\n",
    "pd.set_option('display.max_columns', None)"
   ]
  },
  {
   "cell_type": "code",
   "execution_count": 14,
   "id": "4c11baeb",
   "metadata": {
    "scrolled": true
   },
   "outputs": [],
   "source": [
    "df = pd.read_csv(r'C:\\Users\\rafael_fagundes\\OneDrive - Dell Technologies\\Documents\\DB\\FY24_DELVE.csv', encoding='cp1252')"
   ]
  },
  {
   "cell_type": "code",
   "execution_count": 15,
   "id": "242142ce",
   "metadata": {},
   "outputs": [],
   "source": [
    "df['Actual Spend (GCSB) (Calc)'] = df['Actual Spend (GCSB) (Calc)'].str.replace('[$,]', '').astype('float64')"
   ]
  },
  {
   "cell_type": "markdown",
   "id": "40a8c676",
   "metadata": {},
   "source": [
    "### BU Split"
   ]
  },
  {
   "cell_type": "code",
   "execution_count": 16,
   "id": "4f18458c",
   "metadata": {},
   "outputs": [],
   "source": [
    "B2B = ['Client Solutions Group', 'Commercial', 'Dell Tech Concierge', 'HSB', 'Infrastructure Solutions Group', 'Medium Business']\n",
    "CSB = ['Alienware', 'Brand', 'Consumer', 'Consumer Small Business', 'Gaming', 'Member Purchase Program', 'Other', 'Small & Medium Business', 'Small Business']\n",
    "\n",
    "df['LOB'] = np.where(df['Display Business Unit Mapped'].isin(B2B), 'B2B', \n",
    "                            np.where(df['Display Business Unit Mapped'].isin(CSB), 'CSB', 'Other'))"
   ]
  },
  {
   "cell_type": "markdown",
   "id": "157c9e5b",
   "metadata": {},
   "source": [
    "### Audience Category Types\n"
   ]
  },
  {
   "cell_type": "code",
   "execution_count": 17,
   "id": "5cb2a5b8",
   "metadata": {},
   "outputs": [],
   "source": [
    "#Get Category Type\n",
    "str_categories = '(CRM-1PD-CRM|EMAIL-1PD-CRM|RETARGET-1PD-RETARGET|MEDIA-1PD-MEDIA|LAPSED-1PD-PIXEL|PUBLISHER-2PD|DMP-2PD-AUDIENCE|ABM-2PD-AUDIENCE|KCT-3PD-CONTEXTUAL|PROXIMITY-3PD-CONTEXTUAL|CATEGORY-3PD-CONTEXTUAL|DOMAIN-3PD-CONTEXTUAL|IN-MARKET-3PD-CONTEXTUAL|AFFINITY-3PD-BEHAVIOR|PROXIMITY-3PD-BEHAVIOR|SITE-IN-MARKET-3PD-BEHAVIOR|IN-MARKET-3PD-BEHAVIOR|DMP-3PD-AUDIENCE|DMP-3PD-LAL|ROS-3PD-PMP|AUDIO-3PD-RETARGET-EXPOSED|CTV-3PD-RETARGET-EXPOSED|DIGITAL-3PD-RETARGET-EXPOSED|DOOH-3PD-RETARGET-EXPOSED|MEDIA-3PD-RETARGET-EXPOSED|VIDEO-3PD-RETARGET-EXPOSED|ABM-3PD-AUDIENCE|RON-PMP|ROS-PMP|KCT-SEARCH|CONQUESTING|SPONSORSHIP|PERSONA-1PD-RETARGET|PIXEL-3PD-LAL|KCT-2PD-CONTEXTUAL)'\n",
    "\n",
    "df['audience_type_category'] = df['Media Buy Name'].replace(' ', '-', regex=True).str.upper().str.extract(str_categories)"
   ]
  },
  {
   "cell_type": "markdown",
   "id": "4867df84",
   "metadata": {},
   "source": [
    "### Data Export"
   ]
  },
  {
   "cell_type": "code",
   "execution_count": 18,
   "id": "6d1ac3bd",
   "metadata": {},
   "outputs": [],
   "source": [
    "df_group = df.groupby(['Global Region (Calc)'\n",
    "                       ,'Display Business Unit Mapped'\n",
    "                       ,'Global Audience Type (Calc)'\n",
    "                       ,'Display Funnel Mapped'\n",
    "                       ,'Display Dell Vehicle Mapped'\n",
    "                       ,'Display Site Name Mapped'\n",
    "                       ,'Global Tactic (Calc)'\n",
    "                       ,'Global Tactic CSB (Calc)'\n",
    "                       ,'Audience_Type_(GS)_Calc'\n",
    "                       ,'LOB'\n",
    "                       ,'audience_type_category'])['Actual Spend (GCSB) (Calc)'].sum()"
   ]
  },
  {
   "cell_type": "code",
   "execution_count": 19,
   "id": "8e57ff84",
   "metadata": {},
   "outputs": [],
   "source": [
    "df_group.to_csv('csv/Audience_Type_Report_Delve_Global_Spend.csv')"
   ]
  }
 ],
 "metadata": {
  "kernelspec": {
   "display_name": "Python 3 (ipykernel)",
   "language": "python",
   "name": "python3"
  },
  "language_info": {
   "codemirror_mode": {
    "name": "ipython",
    "version": 3
   },
   "file_extension": ".py",
   "mimetype": "text/x-python",
   "name": "python",
   "nbconvert_exporter": "python",
   "pygments_lexer": "ipython3",
   "version": "3.10.9"
  }
 },
 "nbformat": 4,
 "nbformat_minor": 5
}
