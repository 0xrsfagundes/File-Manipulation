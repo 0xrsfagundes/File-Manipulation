{
 "cells": [
  {
   "cell_type": "code",
   "execution_count": 58,
   "id": "f609a859",
   "metadata": {},
   "outputs": [],
   "source": [
    "import pandas as pd\n",
    "import numpy as np"
   ]
  },
  {
   "cell_type": "code",
   "execution_count": 59,
   "id": "3c18344f",
   "metadata": {
    "scrolled": true
   },
   "outputs": [
    {
     "name": "stdout",
     "output_type": "stream",
     "text": [
      "<class 'pandas.core.frame.DataFrame'>\n",
      "RangeIndex: 7757 entries, 0 to 7756\n",
      "Data columns (total 10 columns):\n",
      " #   Column  Non-Null Count  Dtype         \n",
      "---  ------  --------------  -----         \n",
      " 0   Date    7757 non-null   datetime64[ns]\n",
      " 1   Day     7757 non-null   object        \n",
      " 2   FY      7757 non-null   object        \n",
      " 3   Qtr     7757 non-null   object        \n",
      " 4   Month   7757 non-null   object        \n",
      " 5   Period  7757 non-null   int64         \n",
      " 6   WK      7757 non-null   int64         \n",
      " 7   QWK     7757 non-null   int64         \n",
      " 8   FQ      7757 non-null   object        \n",
      " 9   FQW     7757 non-null   object        \n",
      "dtypes: datetime64[ns](1), int64(3), object(6)\n",
      "memory usage: 606.1+ KB\n"
     ]
    }
   ],
   "source": [
    "df_calendar = pd.read_csv('csv/Calendar.csv', parse_dates=['Date'])\n",
    "\n",
    "df_calendar.info()"
   ]
  },
  {
   "cell_type": "code",
   "execution_count": 60,
   "id": "e4919feb",
   "metadata": {},
   "outputs": [
    {
     "name": "stderr",
     "output_type": "stream",
     "text": [
      "C:\\Users\\rafael_fagundes\\AppData\\Local\\Temp\\ipykernel_11980\\1487008407.py:1: ParserWarning: Falling back to the 'python' engine because the 'c' engine does not support skipfooter; you can avoid this warning by specifying engine='python'.\n",
      "  df = pd.read_csv(r'C:\\Users\\rafael_fagundes\\OneDrive - Dell Technologies\\Documents\\DB\\1153793_L90_Days_20230517_164048_4131517639.csv', on_bad_lines='skip', skiprows=10, skipfooter=1, parse_dates=['Date'])\n"
     ]
    }
   ],
   "source": [
    "df = pd.read_csv(r'C:\\Users\\rafael_fagundes\\OneDrive - Dell Technologies\\Documents\\DB\\1153793_L90_Days_20230517_164048_4131517639.csv', on_bad_lines='skip', skiprows=10, skipfooter=1, parse_dates=['Date'])"
   ]
  },
  {
   "cell_type": "code",
   "execution_count": 61,
   "id": "948ca861",
   "metadata": {
    "scrolled": true
   },
   "outputs": [
    {
     "name": "stdout",
     "output_type": "stream",
     "text": [
      "<class 'pandas.core.frame.DataFrame'>\n",
      "RangeIndex: 2661451 entries, 0 to 2661450\n",
      "Data columns (total 15 columns):\n",
      " #   Column                               Dtype         \n",
      "---  ------                               -----         \n",
      " 0   Advertiser                           object        \n",
      " 1   Advertiser Group                     object        \n",
      " 2   Campaign ID                          int64         \n",
      " 3   Campaign                             object        \n",
      " 4   Site (CM360)                         object        \n",
      " 5   Placement ID                         int64         \n",
      " 6   Placement                            object        \n",
      " 7   Date                                 datetime64[ns]\n",
      " 8   Impressions                          int64         \n",
      " 9   Clicks                               int64         \n",
      " 10  Click Rate                           float64       \n",
      " 11  Active View: Viewable Impressions    int64         \n",
      " 12  Active View: Measurable Impressions  int64         \n",
      " 13  Active View: Eligible Impressions    int64         \n",
      " 14  Total Conversions                    float64       \n",
      "dtypes: datetime64[ns](1), float64(2), int64(7), object(5)\n",
      "memory usage: 304.6+ MB\n"
     ]
    }
   ],
   "source": [
    "df.info()"
   ]
  },
  {
   "cell_type": "code",
   "execution_count": 62,
   "id": "0c2eb532",
   "metadata": {},
   "outputs": [],
   "source": [
    "#Merge GCM with Dell Fiscal Calendar\n",
    "df_merged = pd.merge(df, df_calendar, on=['Date'], how='left')"
   ]
  },
  {
   "cell_type": "code",
   "execution_count": 63,
   "id": "d1fd544d",
   "metadata": {},
   "outputs": [
    {
     "name": "stdout",
     "output_type": "stream",
     "text": [
      "<class 'pandas.core.frame.DataFrame'>\n",
      "Int64Index: 2661451 entries, 0 to 2661450\n",
      "Data columns (total 24 columns):\n",
      " #   Column                               Dtype         \n",
      "---  ------                               -----         \n",
      " 0   Advertiser                           object        \n",
      " 1   Advertiser Group                     object        \n",
      " 2   Campaign ID                          int64         \n",
      " 3   Campaign                             object        \n",
      " 4   Site (CM360)                         object        \n",
      " 5   Placement ID                         int64         \n",
      " 6   Placement                            object        \n",
      " 7   Date                                 datetime64[ns]\n",
      " 8   Impressions                          int64         \n",
      " 9   Clicks                               int64         \n",
      " 10  Click Rate                           float64       \n",
      " 11  Active View: Viewable Impressions    int64         \n",
      " 12  Active View: Measurable Impressions  int64         \n",
      " 13  Active View: Eligible Impressions    int64         \n",
      " 14  Total Conversions                    float64       \n",
      " 15  Day                                  object        \n",
      " 16  FY                                   object        \n",
      " 17  Qtr                                  object        \n",
      " 18  Month                                object        \n",
      " 19  Period                               int64         \n",
      " 20  WK                                   int64         \n",
      " 21  QWK                                  int64         \n",
      " 22  FQ                                   object        \n",
      " 23  FQW                                  object        \n",
      "dtypes: datetime64[ns](1), float64(2), int64(10), object(11)\n",
      "memory usage: 507.6+ MB\n"
     ]
    }
   ],
   "source": [
    "df_merged.info()"
   ]
  },
  {
   "cell_type": "code",
   "execution_count": 64,
   "id": "d303c90a",
   "metadata": {
    "scrolled": true
   },
   "outputs": [],
   "source": [
    "df_filtered = df_merged[df_merged['FY'].isin(['FY2024'])]"
   ]
  },
  {
   "cell_type": "code",
   "execution_count": 65,
   "id": "354e5c87",
   "metadata": {
    "scrolled": false
   },
   "outputs": [
    {
     "name": "stderr",
     "output_type": "stream",
     "text": [
      "C:\\Users\\rafael_fagundes\\AppData\\Local\\Temp\\ipykernel_11980\\2194545523.py:2: SettingWithCopyWarning: \n",
      "A value is trying to be set on a copy of a slice from a DataFrame.\n",
      "Try using .loc[row_indexer,col_indexer] = value instead\n",
      "\n",
      "See the caveats in the documentation: https://pandas.pydata.org/pandas-docs/stable/user_guide/indexing.html#returning-a-view-versus-a-copy\n",
      "  df_filtered['claravine_id'] = df_filtered['Placement'].replace('-', '_', regex=True).str.extract('(_d[a-zA-Z0-9]{10}_)')\n"
     ]
    }
   ],
   "source": [
    "#Get Claravine ID: _d1n4f7g4t1i_\n",
    "df_filtered['claravine_id'] = df_filtered['Placement'].replace('-', '_', regex=True).str.extract('(_d[a-zA-Z0-9]{10}_)')"
   ]
  },
  {
   "cell_type": "code",
   "execution_count": 78,
   "id": "81002df2",
   "metadata": {
    "scrolled": true
   },
   "outputs": [
    {
     "name": "stderr",
     "output_type": "stream",
     "text": [
      "C:\\Users\\rafael_fagundes\\AppData\\Local\\Temp\\ipykernel_11980\\1201312504.py:6: SettingWithCopyWarning: \n",
      "A value is trying to be set on a copy of a slice from a DataFrame.\n",
      "Try using .loc[row_indexer,col_indexer] = value instead\n",
      "\n",
      "See the caveats in the documentation: https://pandas.pydata.org/pandas-docs/stable/user_guide/indexing.html#returning-a-view-versus-a-copy\n",
      "  df_filtered['salesforce_id'] = df_filtered['Placement'].str.lower().str.extract(sfas_code)\n"
     ]
    }
   ],
   "source": [
    "#Get Salesforce ID: _xtksbpk3q_\n",
    "#df_filtered['salesforce_id'] = df_filtered['Placement'].replace('-', '_', regex=True).str.extract('(_[a-zA-Z0-9]{9}_)')\n",
    "\n",
    "sfas_code = '(dellid001|dellid002|dellid003|dellid004|dellid005|dellid006|u4bcudh6e|u551tksrg|us5u8pj67|us6pekn5j|us94080p4|us973j1wz|us97posq8|us97wdsrb|usagy1ies|utav9xmda|uupjcpg9r|uxpj06766|v2pwhx0id|v4cg5z9k3|v87smem4e|v8wow5gw0|vevtvqcgf|vmd1vj8rr|vopzeuev8|w5njcn9yn|w6azv9ajf|w912rlj76|w912xaxh8|w9x1qhnkd|w9x23csrg|w9x3qi4fy|w9x66bac6|wgxem7yjy|wh9bf21cb|wrmz6qoq6|x4s6h6glb|x4s6ozbiu|x4staatbf|x4stis0mr|x4stw2q5t|x4sukk7ot|x4surdfdp|x4sx9axb1|x4sxxih7n|x4tg9qnju|x4tgrpixj|x4tgwlh4p|x4thf0nbb|x4ti3y4be|x4tphvxav|x4tpvly7v|x4tudc6ve|x4tv468ta|x4tvda7z3|x4tvrclfa|x4tvxz4ou|xa1qtqdep|xalf6287s|xef9544me|xjjo6kmov|xjujtrctn|xjum46ajf|xluly5img|xokri9qi3|xokrluyy8|xokrnubpu|xtknipuc7|xtknkv1mt|xtkoe6fht|xtkoharg6|xtkojtonm|xtkolsbe9|xtkr9zpuc|xtkrhxotk|xtkrjwn8v|xtkrl9l2c|xtkrooq9r|xtkruunjx|xtkrxau7z|xtkry7zcc|xtksbpk3q|xtksft4di|xtksh2k4q|xtvnre8am|xtvnwjr6q|xu3ghsmzm|xu3hkickn|xvr22njqm|xvr38g478|xvr4f1xsc|xvrxkn3zo|xvrxqgz7s|xw7l29vye|xw7o6b4am|xzicf9dbu|xzigeneyn)'\n",
    "\n",
    "df_filtered['salesforce_id'] = df_filtered['Placement'].str.lower().str.extract(sfas_code)"
   ]
  },
  {
   "cell_type": "code",
   "execution_count": 67,
   "id": "4c9d1523",
   "metadata": {},
   "outputs": [
    {
     "name": "stderr",
     "output_type": "stream",
     "text": [
      "C:\\Users\\rafael_fagundes\\AppData\\Local\\Temp\\ipykernel_11980\\3517039660.py:4: SettingWithCopyWarning: \n",
      "A value is trying to be set on a copy of a slice from a DataFrame.\n",
      "Try using .loc[row_indexer,col_indexer] = value instead\n",
      "\n",
      "See the caveats in the documentation: https://pandas.pydata.org/pandas-docs/stable/user_guide/indexing.html#returning-a-view-versus-a-copy\n",
      "  df_filtered['audience_type_category'] = df_filtered['Placement'].replace(' ', '-', regex=True).str.upper().str.extract(str_categories)\n"
     ]
    }
   ],
   "source": [
    "#Get Category Type\n",
    "str_categories = '(CRM-1PD-CRM|EMAIL-1PD-CRM|RETARGET-1PD-RETARGET|MEDIA-1PD-MEDIA|LAPSED-1PD-PIXEL|PUBLISHER-2PD|DMP-2PD-AUDIENCE|ABM-2PD-AUDIENCE|KCT-3PD-CONTEXTUAL|PROXIMITY-3PD-CONTEXTUAL|CATEGORY-3PD-CONTEXTUAL|DOMAIN-3PD-CONTEXTUAL|IN-MARKET-3PD-CONTEXTUAL|AFFINITY-3PD-BEHAVIOR|PROXIMITY-3PD-BEHAVIOR|SITE-IN-MARKET-3PD-BEHAVIOR|IN-MARKET-3PD-BEHAVIOR|DMP-3PD-AUDIENCE|DMP-3PD-LAL|ROS-3PD-PMP|AUDIO-3PD-RETARGET-EXPOSED|CTV-3PD-RETARGET-EXPOSED|DIGITAL-3PD-RETARGET-EXPOSED|DOOH-3PD-RETARGET-EXPOSED|MEDIA-3PD-RETARGET-EXPOSED|VIDEO-3PD-RETARGET-EXPOSED|ABM-3PD-AUDIENCE|RON-PMP|ROS-PMP|KCT-SEARCH|CONQUESTING|SPONSORSHIP|PERSONA-1PD-RETARGET|PIXEL-3PD-LAL|KCT-2PD-CONTEXTUAL)'\n",
    "\n",
    "df_filtered['audience_type_category'] = df_filtered['Placement'].replace(' ', '-', regex=True).str.upper().str.extract(str_categories)"
   ]
  },
  {
   "cell_type": "code",
   "execution_count": 68,
   "id": "53141046",
   "metadata": {},
   "outputs": [
    {
     "name": "stderr",
     "output_type": "stream",
     "text": [
      "C:\\Users\\rafael_fagundes\\AppData\\Local\\Temp\\ipykernel_11980\\2598341859.py:2: SettingWithCopyWarning: \n",
      "A value is trying to be set on a copy of a slice from a DataFrame.\n",
      "Try using .loc[row_indexer,col_indexer] = value instead\n",
      "\n",
      "See the caveats in the documentation: https://pandas.pydata.org/pandas-docs/stable/user_guide/indexing.html#returning-a-view-versus-a-copy\n",
      "  df_filtered['region'] = df_filtered['Advertiser Group'].str.split('_').str[1]\n"
     ]
    }
   ],
   "source": [
    "#Get Region from Advertiser Grou field\n",
    "df_filtered['region'] = df_filtered['Advertiser Group'].str.split('_').str[1]"
   ]
  },
  {
   "cell_type": "code",
   "execution_count": 69,
   "id": "2a3e9470",
   "metadata": {
    "scrolled": true
   },
   "outputs": [
    {
     "name": "stderr",
     "output_type": "stream",
     "text": [
      "C:\\Users\\rafael_fagundes\\AppData\\Local\\Temp\\ipykernel_11980\\1423918061.py:2: SettingWithCopyWarning: \n",
      "A value is trying to be set on a copy of a slice from a DataFrame.\n",
      "Try using .loc[row_indexer,col_indexer] = value instead\n",
      "\n",
      "See the caveats in the documentation: https://pandas.pydata.org/pandas-docs/stable/user_guide/indexing.html#returning-a-view-versus-a-copy\n",
      "  df_filtered['salesforce_id'] = df_filtered['salesforce_id'].replace('_', '', regex=True)\n",
      "C:\\Users\\rafael_fagundes\\AppData\\Local\\Temp\\ipykernel_11980\\1423918061.py:3: SettingWithCopyWarning: \n",
      "A value is trying to be set on a copy of a slice from a DataFrame.\n",
      "Try using .loc[row_indexer,col_indexer] = value instead\n",
      "\n",
      "See the caveats in the documentation: https://pandas.pydata.org/pandas-docs/stable/user_guide/indexing.html#returning-a-view-versus-a-copy\n",
      "  df_filtered['claravine_id'] = df_filtered['claravine_id'].replace('_', '', regex=True)\n",
      "C:\\Users\\rafael_fagundes\\AppData\\Local\\Temp\\ipykernel_11980\\1423918061.py:4: SettingWithCopyWarning: \n",
      "A value is trying to be set on a copy of a slice from a DataFrame.\n",
      "Try using .loc[row_indexer,col_indexer] = value instead\n",
      "\n",
      "See the caveats in the documentation: https://pandas.pydata.org/pandas-docs/stable/user_guide/indexing.html#returning-a-view-versus-a-copy\n",
      "  df_filtered['audience_type_category'] = df_filtered['audience_type_category'].replace('-', ' ', regex=True)\n"
     ]
    }
   ],
   "source": [
    "#Data Cleanse\n",
    "df_filtered['salesforce_id'] = df_filtered['salesforce_id'].replace('_', '', regex=True)\n",
    "df_filtered['claravine_id'] = df_filtered['claravine_id'].replace('_', '', regex=True)\n",
    "df_filtered['audience_type_category'] = df_filtered['audience_type_category'].replace('-', ' ', regex=True)"
   ]
  },
  {
   "cell_type": "code",
   "execution_count": 70,
   "id": "94fa954b",
   "metadata": {
    "scrolled": false
   },
   "outputs": [
    {
     "data": {
      "text/html": [
       "<div>\n",
       "<style scoped>\n",
       "    .dataframe tbody tr th:only-of-type {\n",
       "        vertical-align: middle;\n",
       "    }\n",
       "\n",
       "    .dataframe tbody tr th {\n",
       "        vertical-align: top;\n",
       "    }\n",
       "\n",
       "    .dataframe thead th {\n",
       "        text-align: right;\n",
       "    }\n",
       "</style>\n",
       "<table border=\"1\" class=\"dataframe\">\n",
       "  <thead>\n",
       "    <tr style=\"text-align: right;\">\n",
       "      <th></th>\n",
       "      <th>Advertiser</th>\n",
       "      <th>Advertiser Group</th>\n",
       "      <th>Campaign ID</th>\n",
       "      <th>Campaign</th>\n",
       "      <th>Site (CM360)</th>\n",
       "      <th>Placement ID</th>\n",
       "      <th>Placement</th>\n",
       "      <th>Date</th>\n",
       "      <th>Impressions</th>\n",
       "      <th>Clicks</th>\n",
       "      <th>...</th>\n",
       "      <th>Month</th>\n",
       "      <th>Period</th>\n",
       "      <th>WK</th>\n",
       "      <th>QWK</th>\n",
       "      <th>FQ</th>\n",
       "      <th>FQW</th>\n",
       "      <th>claravine_id</th>\n",
       "      <th>salesforce_id</th>\n",
       "      <th>audience_type_category</th>\n",
       "      <th>region</th>\n",
       "    </tr>\n",
       "  </thead>\n",
       "  <tbody>\n",
       "    <tr>\n",
       "      <th>0</th>\n",
       "      <td>Alienware_CA</td>\n",
       "      <td>Consumer Small Business_CA</td>\n",
       "      <td>24060265</td>\n",
       "      <td>2021_Q2_CA_AW_MF_DISPLAY_MOBILE</td>\n",
       "      <td>Outbrain</td>\n",
       "      <td>272342751</td>\n",
       "      <td>OUTBRAIN_PROSPECT_NATIVE_1x1_DCPM_DELL_CT_FY21...</td>\n",
       "      <td>2023-02-05</td>\n",
       "      <td>0</td>\n",
       "      <td>2</td>\n",
       "      <td>...</td>\n",
       "      <td>M1</td>\n",
       "      <td>1</td>\n",
       "      <td>1</td>\n",
       "      <td>1</td>\n",
       "      <td>FY2024Q1</td>\n",
       "      <td>FY2024Q1W1</td>\n",
       "      <td>NaN</td>\n",
       "      <td>NaN</td>\n",
       "      <td>NaN</td>\n",
       "      <td>CA</td>\n",
       "    </tr>\n",
       "    <tr>\n",
       "      <th>1</th>\n",
       "      <td>Alienware_CA</td>\n",
       "      <td>Consumer Small Business_CA</td>\n",
       "      <td>24060265</td>\n",
       "      <td>2021_Q2_CA_AW_MF_DISPLAY_MOBILE</td>\n",
       "      <td>Outbrain</td>\n",
       "      <td>272342751</td>\n",
       "      <td>OUTBRAIN_PROSPECT_NATIVE_1x1_DCPM_DELL_CT_FY21...</td>\n",
       "      <td>2023-02-08</td>\n",
       "      <td>0</td>\n",
       "      <td>1</td>\n",
       "      <td>...</td>\n",
       "      <td>M1</td>\n",
       "      <td>1</td>\n",
       "      <td>1</td>\n",
       "      <td>1</td>\n",
       "      <td>FY2024Q1</td>\n",
       "      <td>FY2024Q1W1</td>\n",
       "      <td>NaN</td>\n",
       "      <td>NaN</td>\n",
       "      <td>NaN</td>\n",
       "      <td>CA</td>\n",
       "    </tr>\n",
       "    <tr>\n",
       "      <th>2</th>\n",
       "      <td>Alienware_CA</td>\n",
       "      <td>Consumer Small Business_CA</td>\n",
       "      <td>24060265</td>\n",
       "      <td>2021_Q2_CA_AW_MF_DISPLAY_MOBILE</td>\n",
       "      <td>Outbrain</td>\n",
       "      <td>272342751</td>\n",
       "      <td>OUTBRAIN_PROSPECT_NATIVE_1x1_DCPM_DELL_CT_FY21...</td>\n",
       "      <td>2023-03-29</td>\n",
       "      <td>1</td>\n",
       "      <td>0</td>\n",
       "      <td>...</td>\n",
       "      <td>M2</td>\n",
       "      <td>2</td>\n",
       "      <td>8</td>\n",
       "      <td>8</td>\n",
       "      <td>FY2024Q1</td>\n",
       "      <td>FY2024Q1W8</td>\n",
       "      <td>NaN</td>\n",
       "      <td>NaN</td>\n",
       "      <td>NaN</td>\n",
       "      <td>CA</td>\n",
       "    </tr>\n",
       "    <tr>\n",
       "      <th>3</th>\n",
       "      <td>Alienware_CA</td>\n",
       "      <td>Consumer Small Business_CA</td>\n",
       "      <td>24060265</td>\n",
       "      <td>2021_Q2_CA_AW_MF_DISPLAY_MOBILE</td>\n",
       "      <td>Outbrain</td>\n",
       "      <td>272342751</td>\n",
       "      <td>OUTBRAIN_PROSPECT_NATIVE_1x1_DCPM_DELL_CT_FY21...</td>\n",
       "      <td>2023-05-04</td>\n",
       "      <td>0</td>\n",
       "      <td>1</td>\n",
       "      <td>...</td>\n",
       "      <td>M3</td>\n",
       "      <td>3</td>\n",
       "      <td>13</td>\n",
       "      <td>13</td>\n",
       "      <td>FY2024Q1</td>\n",
       "      <td>FY2024Q1W13</td>\n",
       "      <td>NaN</td>\n",
       "      <td>NaN</td>\n",
       "      <td>NaN</td>\n",
       "      <td>CA</td>\n",
       "    </tr>\n",
       "    <tr>\n",
       "      <th>4</th>\n",
       "      <td>Alienware_CA</td>\n",
       "      <td>Consumer Small Business_CA</td>\n",
       "      <td>24075517</td>\n",
       "      <td>2021_Q2_CA_AW_MF_SOCIAL_FACEBOOK</td>\n",
       "      <td>Facebook</td>\n",
       "      <td>272309666</td>\n",
       "      <td>FACEBOOK_RETARGET_HTML5_1x1_DCPM_DELL_CT_FY21Q...</td>\n",
       "      <td>2023-02-21</td>\n",
       "      <td>0</td>\n",
       "      <td>1</td>\n",
       "      <td>...</td>\n",
       "      <td>M1</td>\n",
       "      <td>1</td>\n",
       "      <td>3</td>\n",
       "      <td>3</td>\n",
       "      <td>FY2024Q1</td>\n",
       "      <td>FY2024Q1W3</td>\n",
       "      <td>NaN</td>\n",
       "      <td>NaN</td>\n",
       "      <td>NaN</td>\n",
       "      <td>CA</td>\n",
       "    </tr>\n",
       "  </tbody>\n",
       "</table>\n",
       "<p>5 rows × 28 columns</p>\n",
       "</div>"
      ],
      "text/plain": [
       "     Advertiser            Advertiser Group  Campaign ID  \\\n",
       "0  Alienware_CA  Consumer Small Business_CA     24060265   \n",
       "1  Alienware_CA  Consumer Small Business_CA     24060265   \n",
       "2  Alienware_CA  Consumer Small Business_CA     24060265   \n",
       "3  Alienware_CA  Consumer Small Business_CA     24060265   \n",
       "4  Alienware_CA  Consumer Small Business_CA     24075517   \n",
       "\n",
       "                           Campaign Site (CM360)  Placement ID  \\\n",
       "0   2021_Q2_CA_AW_MF_DISPLAY_MOBILE     Outbrain     272342751   \n",
       "1   2021_Q2_CA_AW_MF_DISPLAY_MOBILE     Outbrain     272342751   \n",
       "2   2021_Q2_CA_AW_MF_DISPLAY_MOBILE     Outbrain     272342751   \n",
       "3   2021_Q2_CA_AW_MF_DISPLAY_MOBILE     Outbrain     272342751   \n",
       "4  2021_Q2_CA_AW_MF_SOCIAL_FACEBOOK     Facebook     272309666   \n",
       "\n",
       "                                           Placement       Date  Impressions  \\\n",
       "0  OUTBRAIN_PROSPECT_NATIVE_1x1_DCPM_DELL_CT_FY21... 2023-02-05            0   \n",
       "1  OUTBRAIN_PROSPECT_NATIVE_1x1_DCPM_DELL_CT_FY21... 2023-02-08            0   \n",
       "2  OUTBRAIN_PROSPECT_NATIVE_1x1_DCPM_DELL_CT_FY21... 2023-03-29            1   \n",
       "3  OUTBRAIN_PROSPECT_NATIVE_1x1_DCPM_DELL_CT_FY21... 2023-05-04            0   \n",
       "4  FACEBOOK_RETARGET_HTML5_1x1_DCPM_DELL_CT_FY21Q... 2023-02-21            0   \n",
       "\n",
       "   Clicks  ...  Month  Period  WK  QWK        FQ          FQW claravine_id  \\\n",
       "0       2  ...     M1       1   1    1  FY2024Q1   FY2024Q1W1          NaN   \n",
       "1       1  ...     M1       1   1    1  FY2024Q1   FY2024Q1W1          NaN   \n",
       "2       0  ...     M2       2   8    8  FY2024Q1   FY2024Q1W8          NaN   \n",
       "3       1  ...     M3       3  13   13  FY2024Q1  FY2024Q1W13          NaN   \n",
       "4       1  ...     M1       1   3    3  FY2024Q1   FY2024Q1W3          NaN   \n",
       "\n",
       "  salesforce_id audience_type_category  region  \n",
       "0           NaN                    NaN      CA  \n",
       "1           NaN                    NaN      CA  \n",
       "2           NaN                    NaN      CA  \n",
       "3           NaN                    NaN      CA  \n",
       "4           NaN                    NaN      CA  \n",
       "\n",
       "[5 rows x 28 columns]"
      ]
     },
     "execution_count": 70,
     "metadata": {},
     "output_type": "execute_result"
    }
   ],
   "source": [
    "df_filtered.head()"
   ]
  },
  {
   "cell_type": "code",
   "execution_count": 71,
   "id": "afc05612",
   "metadata": {},
   "outputs": [
    {
     "name": "stderr",
     "output_type": "stream",
     "text": [
      "C:\\Users\\rafael_fagundes\\AppData\\Local\\Temp\\ipykernel_11980\\3340650016.py:2: SettingWithCopyWarning: \n",
      "A value is trying to be set on a copy of a slice from a DataFrame.\n",
      "Try using .loc[row_indexer,col_indexer] = value instead\n",
      "\n",
      "See the caveats in the documentation: https://pandas.pydata.org/pandas-docs/stable/user_guide/indexing.html#returning-a-view-versus-a-copy\n",
      "  df_filtered.loc[df_filtered['claravine_id'].notnull(), 'audience_source'] = 'Claravine'\n"
     ]
    }
   ],
   "source": [
    "if not df_filtered[df_filtered['claravine_id'].isnull()].empty:\n",
    "    df_filtered.loc[df_filtered['claravine_id'].notnull(), 'audience_source'] = 'Claravine'\n",
    "\n",
    "if not df_filtered[df_filtered['salesforce_id'].isnull()].empty:\n",
    "    df_filtered.loc[df_filtered['salesforce_id'].notnull(), 'audience_source'] = 'SFAS'\n",
    "\n",
    "if df_filtered['audience_source'].isnull().any():\n",
    "    df_filtered.loc[df_filtered['audience_source'].isnull(), 'audience_source'] = 'Other'\n"
   ]
  },
  {
   "cell_type": "code",
   "execution_count": 93,
   "id": "d744d3d4",
   "metadata": {
    "scrolled": true
   },
   "outputs": [
    {
     "data": {
      "text/plain": [
       "Other        1854517\n",
       "SFAS          113708\n",
       "Claravine      31319\n",
       "Name: audience_source, dtype: int64"
      ]
     },
     "execution_count": 93,
     "metadata": {},
     "output_type": "execute_result"
    }
   ],
   "source": [
    "df_filtered['audience_source'].value_counts()"
   ]
  },
  {
   "cell_type": "code",
   "execution_count": 97,
   "id": "d1016b1e",
   "metadata": {},
   "outputs": [],
   "source": [
    "df_group = df_filtered.groupby(['FQ','region','audience_type_category','Site (CM360)','Campaign', 'audience_source','Placement'])['Placement ID'].nunique().reset_index()"
   ]
  },
  {
   "cell_type": "code",
   "execution_count": 98,
   "id": "27eece2a",
   "metadata": {
    "scrolled": true
   },
   "outputs": [
    {
     "data": {
      "text/html": [
       "<div>\n",
       "<style scoped>\n",
       "    .dataframe tbody tr th:only-of-type {\n",
       "        vertical-align: middle;\n",
       "    }\n",
       "\n",
       "    .dataframe tbody tr th {\n",
       "        vertical-align: top;\n",
       "    }\n",
       "\n",
       "    .dataframe thead th {\n",
       "        text-align: right;\n",
       "    }\n",
       "</style>\n",
       "<table border=\"1\" class=\"dataframe\">\n",
       "  <thead>\n",
       "    <tr style=\"text-align: right;\">\n",
       "      <th></th>\n",
       "      <th>FQ</th>\n",
       "      <th>region</th>\n",
       "      <th>audience_type_category</th>\n",
       "      <th>Site (CM360)</th>\n",
       "      <th>Campaign</th>\n",
       "      <th>audience_source</th>\n",
       "      <th>Placement</th>\n",
       "      <th>Placement ID</th>\n",
       "    </tr>\n",
       "  </thead>\n",
       "  <tbody>\n",
       "    <tr>\n",
       "      <th>0</th>\n",
       "      <td>FY2024Q1</td>\n",
       "      <td>AE</td>\n",
       "      <td>ABM 3PD AUDIENCE</td>\n",
       "      <td>LinkedIn</td>\n",
       "      <td>2023_Q4_AE_ISG_DCR_SOCIAL_PROSPECTING-ENGAGE_N...</td>\n",
       "      <td>Other</td>\n",
       "      <td>LINKEDIN_ABM-3PD AUDIENCE_SOCIAL AD_NA_DCPC_DC...</td>\n",
       "      <td>1</td>\n",
       "    </tr>\n",
       "    <tr>\n",
       "      <th>1</th>\n",
       "      <td>FY2024Q1</td>\n",
       "      <td>AE</td>\n",
       "      <td>PUBLISHER 2PD</td>\n",
       "      <td>LinkedIn</td>\n",
       "      <td>2024_Q1_AE_ISG_DCR_SOCIAL_PROSPECTING-ENGAGE_A...</td>\n",
       "      <td>Other</td>\n",
       "      <td>LINKEDIN_PUBLISHER-2PD_SOCIAL AD_NA_DCPC_NO-VF...</td>\n",
       "      <td>1</td>\n",
       "    </tr>\n",
       "    <tr>\n",
       "      <th>2</th>\n",
       "      <td>FY2024Q1</td>\n",
       "      <td>AE</td>\n",
       "      <td>PUBLISHER 2PD</td>\n",
       "      <td>LinkedIn</td>\n",
       "      <td>2024_Q1_AE_ISG_DCR_SOCIAL_PROSPECTING-ENGAGE_A...</td>\n",
       "      <td>Other</td>\n",
       "      <td>LINKEDIN_PUBLISHER-2PD_SOCIAL AD_NA_DCPC_NO-VF...</td>\n",
       "      <td>1</td>\n",
       "    </tr>\n",
       "    <tr>\n",
       "      <th>3</th>\n",
       "      <td>FY2024Q1</td>\n",
       "      <td>AE</td>\n",
       "      <td>PUBLISHER 2PD</td>\n",
       "      <td>LinkedIn</td>\n",
       "      <td>2024_Q1_AE_ISG_DCR_SOCIAL_PROSPECTING-ENGAGE_A...</td>\n",
       "      <td>Other</td>\n",
       "      <td>LINKEDIN_PUBLISHER-2PD_SOCIAL AD_NA_DCPC_NO-VF...</td>\n",
       "      <td>1</td>\n",
       "    </tr>\n",
       "    <tr>\n",
       "      <th>4</th>\n",
       "      <td>FY2024Q1</td>\n",
       "      <td>AE</td>\n",
       "      <td>PUBLISHER 2PD</td>\n",
       "      <td>LinkedIn</td>\n",
       "      <td>2024_Q1_AE_ISG_DCR_SOCIAL_PROSPECTING-ENGAGE_A...</td>\n",
       "      <td>Other</td>\n",
       "      <td>LINKEDIN_PUBLISHER-2PD_SOCIAL AD_NA_DCPC_NO-VF...</td>\n",
       "      <td>1</td>\n",
       "    </tr>\n",
       "  </tbody>\n",
       "</table>\n",
       "</div>"
      ],
      "text/plain": [
       "         FQ region audience_type_category Site (CM360)  \\\n",
       "0  FY2024Q1     AE       ABM 3PD AUDIENCE     LinkedIn   \n",
       "1  FY2024Q1     AE          PUBLISHER 2PD     LinkedIn   \n",
       "2  FY2024Q1     AE          PUBLISHER 2PD     LinkedIn   \n",
       "3  FY2024Q1     AE          PUBLISHER 2PD     LinkedIn   \n",
       "4  FY2024Q1     AE          PUBLISHER 2PD     LinkedIn   \n",
       "\n",
       "                                            Campaign audience_source  \\\n",
       "0  2023_Q4_AE_ISG_DCR_SOCIAL_PROSPECTING-ENGAGE_N...           Other   \n",
       "1  2024_Q1_AE_ISG_DCR_SOCIAL_PROSPECTING-ENGAGE_A...           Other   \n",
       "2  2024_Q1_AE_ISG_DCR_SOCIAL_PROSPECTING-ENGAGE_A...           Other   \n",
       "3  2024_Q1_AE_ISG_DCR_SOCIAL_PROSPECTING-ENGAGE_A...           Other   \n",
       "4  2024_Q1_AE_ISG_DCR_SOCIAL_PROSPECTING-ENGAGE_A...           Other   \n",
       "\n",
       "                                           Placement  Placement ID  \n",
       "0  LINKEDIN_ABM-3PD AUDIENCE_SOCIAL AD_NA_DCPC_DC...             1  \n",
       "1  LINKEDIN_PUBLISHER-2PD_SOCIAL AD_NA_DCPC_NO-VF...             1  \n",
       "2  LINKEDIN_PUBLISHER-2PD_SOCIAL AD_NA_DCPC_NO-VF...             1  \n",
       "3  LINKEDIN_PUBLISHER-2PD_SOCIAL AD_NA_DCPC_NO-VF...             1  \n",
       "4  LINKEDIN_PUBLISHER-2PD_SOCIAL AD_NA_DCPC_NO-VF...             1  "
      ]
     },
     "execution_count": 98,
     "metadata": {},
     "output_type": "execute_result"
    }
   ],
   "source": [
    "df_group.head()"
   ]
  },
  {
   "cell_type": "code",
   "execution_count": 99,
   "id": "ee61c49f",
   "metadata": {},
   "outputs": [],
   "source": [
    "df_group.to_csv(r'C:\\Users\\rafael_fagundes\\OneDrive - Dell Technologies\\Desktop\\Test.csv')"
   ]
  }
 ],
 "metadata": {
  "kernelspec": {
   "display_name": "Python 3 (ipykernel)",
   "language": "python",
   "name": "python3"
  },
  "language_info": {
   "codemirror_mode": {
    "name": "ipython",
    "version": 3
   },
   "file_extension": ".py",
   "mimetype": "text/x-python",
   "name": "python",
   "nbconvert_exporter": "python",
   "pygments_lexer": "ipython3",
   "version": "3.10.9"
  }
 },
 "nbformat": 4,
 "nbformat_minor": 5
}
