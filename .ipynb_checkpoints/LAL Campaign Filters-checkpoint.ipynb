{
 "cells": [
  {
   "cell_type": "code",
   "execution_count": 25,
   "id": "3c2fee90",
   "metadata": {
    "scrolled": true
   },
   "outputs": [],
   "source": [
    "import pandas as pd"
   ]
  },
  {
   "cell_type": "code",
   "execution_count": 31,
   "id": "cdc29109",
   "metadata": {},
   "outputs": [
    {
     "name": "stdout",
     "output_type": "stream",
     "text": [
      "<class 'pandas.core.frame.DataFrame'>\n",
      "RangeIndex: 7757 entries, 0 to 7756\n",
      "Data columns (total 10 columns):\n",
      " #   Column  Non-Null Count  Dtype         \n",
      "---  ------  --------------  -----         \n",
      " 0   Date    7757 non-null   datetime64[ns]\n",
      " 1   Day     7757 non-null   object        \n",
      " 2   FY      7757 non-null   object        \n",
      " 3   Qtr     7757 non-null   object        \n",
      " 4   Month   7757 non-null   object        \n",
      " 5   Period  7757 non-null   int64         \n",
      " 6   WK      7757 non-null   int64         \n",
      " 7   QWK     7757 non-null   int64         \n",
      " 8   FQ      7757 non-null   object        \n",
      " 9   FQW     7757 non-null   object        \n",
      "dtypes: datetime64[ns](1), int64(3), object(6)\n",
      "memory usage: 606.1+ KB\n"
     ]
    }
   ],
   "source": [
    "df_calendar = pd.read_csv('csv/Calendar.csv', parse_dates=['Date'])\n",
    "\n",
    "df_calendar.info()"
   ]
  },
  {
   "cell_type": "code",
   "execution_count": 27,
   "id": "2b1f1d4d",
   "metadata": {},
   "outputs": [
    {
     "name": "stderr",
     "output_type": "stream",
     "text": [
      "C:\\Users\\rafael_fagundes\\AppData\\Local\\Temp\\ipykernel_31748\\3454054892.py:1: DtypeWarning: Columns (1) have mixed types. Specify dtype option on import or set low_memory=False.\n",
      "  df = pd.read_csv(r'C:\\Users\\rafael_fagundes\\OneDrive - Dell Technologies\\Documents\\DB\\GCM.csv', on_bad_lines='skip', skiprows=10)\n"
     ]
    },
    {
     "data": {
      "text/html": [
       "<div>\n",
       "<style scoped>\n",
       "    .dataframe tbody tr th:only-of-type {\n",
       "        vertical-align: middle;\n",
       "    }\n",
       "\n",
       "    .dataframe tbody tr th {\n",
       "        vertical-align: top;\n",
       "    }\n",
       "\n",
       "    .dataframe thead th {\n",
       "        text-align: right;\n",
       "    }\n",
       "</style>\n",
       "<table border=\"1\" class=\"dataframe\">\n",
       "  <thead>\n",
       "    <tr style=\"text-align: right;\">\n",
       "      <th></th>\n",
       "      <th>Campaign</th>\n",
       "      <th>Campaign ID</th>\n",
       "      <th>Site (CM360)</th>\n",
       "      <th>Placement</th>\n",
       "      <th>Date</th>\n",
       "      <th>Impressions</th>\n",
       "      <th>Clicks</th>\n",
       "      <th>Click Rate</th>\n",
       "      <th>Active View: Viewable Impressions</th>\n",
       "      <th>Active View: Measurable Impressions</th>\n",
       "      <th>Active View: Eligible Impressions</th>\n",
       "      <th>Total Conversions</th>\n",
       "    </tr>\n",
       "  </thead>\n",
       "  <tbody>\n",
       "    <tr>\n",
       "      <th>0</th>\n",
       "      <td>2022_Q3_US_DTC_UF_DISPLAY_AWARE_BROAD REACH</td>\n",
       "      <td>26153570</td>\n",
       "      <td>Display &amp; Video 360</td>\n",
       "      <td>DV360_SPONSORSHIP_HIGH IMPACT_1x1_DCPM_DELL_CT...</td>\n",
       "      <td>2022-05-13</td>\n",
       "      <td>1</td>\n",
       "      <td>0</td>\n",
       "      <td>0.0</td>\n",
       "      <td>0</td>\n",
       "      <td>0</td>\n",
       "      <td>0</td>\n",
       "      <td>0.0</td>\n",
       "    </tr>\n",
       "    <tr>\n",
       "      <th>1</th>\n",
       "      <td>2022_Q3_US_DTC_UF_DISPLAY_AWARE_BROAD REACH</td>\n",
       "      <td>26153570</td>\n",
       "      <td>Display &amp; Video 360</td>\n",
       "      <td>DV360_SPONSORSHIP_HIGH IMPACT_1x1_DCPM_DELL_CT...</td>\n",
       "      <td>2022-08-01</td>\n",
       "      <td>1</td>\n",
       "      <td>0</td>\n",
       "      <td>0.0</td>\n",
       "      <td>0</td>\n",
       "      <td>0</td>\n",
       "      <td>0</td>\n",
       "      <td>0.0</td>\n",
       "    </tr>\n",
       "    <tr>\n",
       "      <th>2</th>\n",
       "      <td>2022_Q3_US_DTC_UF_DISPLAY_AWARE_BROAD REACH</td>\n",
       "      <td>26153570</td>\n",
       "      <td>Display &amp; Video 360</td>\n",
       "      <td>DV360_SPONSORSHIP_HIGH IMPACT_1x1_DCPM_DELL_CT...</td>\n",
       "      <td>2022-05-13</td>\n",
       "      <td>1</td>\n",
       "      <td>0</td>\n",
       "      <td>0.0</td>\n",
       "      <td>0</td>\n",
       "      <td>0</td>\n",
       "      <td>0</td>\n",
       "      <td>0.0</td>\n",
       "    </tr>\n",
       "    <tr>\n",
       "      <th>3</th>\n",
       "      <td>2022_Q3_US_DTC_UF_DISPLAY_AWARE_BROAD REACH</td>\n",
       "      <td>26153570</td>\n",
       "      <td>Display &amp; Video 360</td>\n",
       "      <td>DV360_SPONSORSHIP_HIGH IMPACT_1x1_DCPM_DELL_CT...</td>\n",
       "      <td>2022-08-01</td>\n",
       "      <td>1</td>\n",
       "      <td>0</td>\n",
       "      <td>0.0</td>\n",
       "      <td>0</td>\n",
       "      <td>0</td>\n",
       "      <td>0</td>\n",
       "      <td>0.0</td>\n",
       "    </tr>\n",
       "    <tr>\n",
       "      <th>4</th>\n",
       "      <td>2022_Q3_US_DTC_UF_DISPLAY_AWARE_BROAD REACH</td>\n",
       "      <td>26153570</td>\n",
       "      <td>Forbes</td>\n",
       "      <td>FORBES_SPONSORSHIP_HIGH IMPACT_1x1_CPM_DELL_CT...</td>\n",
       "      <td>2022-10-11</td>\n",
       "      <td>4</td>\n",
       "      <td>0</td>\n",
       "      <td>0.0</td>\n",
       "      <td>0</td>\n",
       "      <td>0</td>\n",
       "      <td>0</td>\n",
       "      <td>0.0</td>\n",
       "    </tr>\n",
       "  </tbody>\n",
       "</table>\n",
       "</div>"
      ],
      "text/plain": [
       "                                       Campaign Campaign ID  \\\n",
       "0   2022_Q3_US_DTC_UF_DISPLAY_AWARE_BROAD REACH    26153570   \n",
       "1   2022_Q3_US_DTC_UF_DISPLAY_AWARE_BROAD REACH    26153570   \n",
       "2   2022_Q3_US_DTC_UF_DISPLAY_AWARE_BROAD REACH    26153570   \n",
       "3   2022_Q3_US_DTC_UF_DISPLAY_AWARE_BROAD REACH    26153570   \n",
       "4   2022_Q3_US_DTC_UF_DISPLAY_AWARE_BROAD REACH    26153570   \n",
       "\n",
       "          Site (CM360)                                          Placement  \\\n",
       "0  Display & Video 360  DV360_SPONSORSHIP_HIGH IMPACT_1x1_DCPM_DELL_CT...   \n",
       "1  Display & Video 360  DV360_SPONSORSHIP_HIGH IMPACT_1x1_DCPM_DELL_CT...   \n",
       "2  Display & Video 360  DV360_SPONSORSHIP_HIGH IMPACT_1x1_DCPM_DELL_CT...   \n",
       "3  Display & Video 360  DV360_SPONSORSHIP_HIGH IMPACT_1x1_DCPM_DELL_CT...   \n",
       "4               Forbes  FORBES_SPONSORSHIP_HIGH IMPACT_1x1_CPM_DELL_CT...   \n",
       "\n",
       "         Date  Impressions  Clicks  Click Rate  \\\n",
       "0  2022-05-13            1       0         0.0   \n",
       "1  2022-08-01            1       0         0.0   \n",
       "2  2022-05-13            1       0         0.0   \n",
       "3  2022-08-01            1       0         0.0   \n",
       "4  2022-10-11            4       0         0.0   \n",
       "\n",
       "   Active View: Viewable Impressions  Active View: Measurable Impressions  \\\n",
       "0                                  0                                    0   \n",
       "1                                  0                                    0   \n",
       "2                                  0                                    0   \n",
       "3                                  0                                    0   \n",
       "4                                  0                                    0   \n",
       "\n",
       "   Active View: Eligible Impressions  Total Conversions  \n",
       "0                                  0                0.0  \n",
       "1                                  0                0.0  \n",
       "2                                  0                0.0  \n",
       "3                                  0                0.0  \n",
       "4                                  0                0.0  "
      ]
     },
     "execution_count": 27,
     "metadata": {},
     "output_type": "execute_result"
    }
   ],
   "source": [
    "df = pd.read_csv(r'C:\\Users\\rafael_fagundes\\OneDrive - Dell Technologies\\Documents\\DB\\GCM.csv', on_bad_lines='skip', skiprows=10)\n",
    "\n",
    "df.head()"
   ]
  },
  {
   "cell_type": "code",
   "execution_count": 33,
   "id": "ff927491",
   "metadata": {},
   "outputs": [
    {
     "name": "stdout",
     "output_type": "stream",
     "text": [
      "<class 'pandas.core.frame.DataFrame'>\n",
      "Int64Index: 312282 entries, 2670 to 8282035\n",
      "Data columns (total 12 columns):\n",
      " #   Column                               Non-Null Count   Dtype         \n",
      "---  ------                               --------------   -----         \n",
      " 0   Campaign                             312282 non-null  object        \n",
      " 1   Campaign ID                          312282 non-null  object        \n",
      " 2   Site (CM360)                         312282 non-null  object        \n",
      " 3   Placement                            312282 non-null  object        \n",
      " 4   Date                                 312282 non-null  datetime64[ns]\n",
      " 5   Impressions                          312282 non-null  int64         \n",
      " 6   Clicks                               312282 non-null  int64         \n",
      " 7   Click Rate                           312282 non-null  float64       \n",
      " 8   Active View: Viewable Impressions    312282 non-null  int64         \n",
      " 9   Active View: Measurable Impressions  312282 non-null  int64         \n",
      " 10  Active View: Eligible Impressions    312282 non-null  int64         \n",
      " 11  Total Conversions                    312282 non-null  float64       \n",
      "dtypes: datetime64[ns](1), float64(2), int64(5), object(4)\n",
      "memory usage: 31.0+ MB\n"
     ]
    },
    {
     "name": "stderr",
     "output_type": "stream",
     "text": [
      "C:\\Users\\rafael_fagundes\\AppData\\Local\\Temp\\ipykernel_31748\\2552601014.py:3: SettingWithCopyWarning: \n",
      "A value is trying to be set on a copy of a slice from a DataFrame.\n",
      "Try using .loc[row_indexer,col_indexer] = value instead\n",
      "\n",
      "See the caveats in the documentation: https://pandas.pydata.org/pandas-docs/stable/user_guide/indexing.html#returning-a-view-versus-a-copy\n",
      "  df_filtered['Date'] = pd.to_datetime(df_filtered['Date'])\n"
     ]
    }
   ],
   "source": [
    "df_filtered = df[df['Placement'].str.contains('LAL')]\n",
    "\n",
    "df_filtered['Date'] = pd.to_datetime(df_filtered['Date'])\n",
    "\n",
    "df_filtered.info()"
   ]
  },
  {
   "cell_type": "code",
   "execution_count": 42,
   "id": "7d58a44e",
   "metadata": {},
   "outputs": [],
   "source": [
    "df_merged = pd.merge(df_filtered, df_calendar, on=['Date'], how='left')"
   ]
  },
  {
   "cell_type": "code",
   "execution_count": 43,
   "id": "7a7cfe41",
   "metadata": {},
   "outputs": [],
   "source": [
    "df_group = df_merged.groupby(['Campaign','Site (CM360)','Placement','FQ'])['Impressions'].sum()"
   ]
  },
  {
   "cell_type": "code",
   "execution_count": 44,
   "id": "77ab9fb4",
   "metadata": {
    "scrolled": true
   },
   "outputs": [
    {
     "data": {
      "text/html": [
       "<div>\n",
       "<style scoped>\n",
       "    .dataframe tbody tr th:only-of-type {\n",
       "        vertical-align: middle;\n",
       "    }\n",
       "\n",
       "    .dataframe tbody tr th {\n",
       "        vertical-align: top;\n",
       "    }\n",
       "\n",
       "    .dataframe thead th {\n",
       "        text-align: right;\n",
       "    }\n",
       "</style>\n",
       "<table border=\"1\" class=\"dataframe\">\n",
       "  <thead>\n",
       "    <tr style=\"text-align: right;\">\n",
       "      <th></th>\n",
       "      <th>Campaign</th>\n",
       "      <th>Site (CM360)</th>\n",
       "      <th>Placement</th>\n",
       "      <th>FQ</th>\n",
       "      <th>Impressions</th>\n",
       "    </tr>\n",
       "  </thead>\n",
       "  <tbody>\n",
       "    <tr>\n",
       "      <th>0</th>\n",
       "      <td>2023_Q2_CA_SMB_AP_SOCIAL_PROSPECTING_FACEBOOK</td>\n",
       "      <td>Facebook</td>\n",
       "      <td>FACEBOOK_IN MARKET-3PD BEHAVIOR_SOCIAL AD_1x1_...</td>\n",
       "      <td>FY2023Q1</td>\n",
       "      <td>0</td>\n",
       "    </tr>\n",
       "    <tr>\n",
       "      <th>1</th>\n",
       "      <td>2023_Q2_CA_SMB_AP_SOCIAL_PROSPECTING_FACEBOOK</td>\n",
       "      <td>Facebook</td>\n",
       "      <td>FACEBOOK_IN MARKET-3PD BEHAVIOR_SOCIAL AD_1x1_...</td>\n",
       "      <td>FY2023Q2</td>\n",
       "      <td>0</td>\n",
       "    </tr>\n",
       "    <tr>\n",
       "      <th>2</th>\n",
       "      <td>2023_Q2_CA_SMB_AP_SOCIAL_PROSPECTING_FACEBOOK</td>\n",
       "      <td>Facebook</td>\n",
       "      <td>FACEBOOK_IN MARKET-3PD BEHAVIOR_SOCIAL AD_1x1_...</td>\n",
       "      <td>FY2023Q3</td>\n",
       "      <td>0</td>\n",
       "    </tr>\n",
       "    <tr>\n",
       "      <th>3</th>\n",
       "      <td>2023_Q2_CA_SMB_AP_SOCIAL_PROSPECTING_FACEBOOK</td>\n",
       "      <td>Facebook</td>\n",
       "      <td>FACEBOOK_IN MARKET-3PD BEHAVIOR_SOCIAL AD_1x1_...</td>\n",
       "      <td>FY2023Q1</td>\n",
       "      <td>0</td>\n",
       "    </tr>\n",
       "    <tr>\n",
       "      <th>4</th>\n",
       "      <td>2023_Q2_CA_SMB_AP_SOCIAL_PROSPECTING_FACEBOOK</td>\n",
       "      <td>Facebook</td>\n",
       "      <td>FACEBOOK_IN MARKET-3PD BEHAVIOR_SOCIAL AD_1x1_...</td>\n",
       "      <td>FY2023Q2</td>\n",
       "      <td>0</td>\n",
       "    </tr>\n",
       "  </tbody>\n",
       "</table>\n",
       "</div>"
      ],
      "text/plain": [
       "                                         Campaign Site (CM360)  \\\n",
       "0   2023_Q2_CA_SMB_AP_SOCIAL_PROSPECTING_FACEBOOK     Facebook   \n",
       "1   2023_Q2_CA_SMB_AP_SOCIAL_PROSPECTING_FACEBOOK     Facebook   \n",
       "2   2023_Q2_CA_SMB_AP_SOCIAL_PROSPECTING_FACEBOOK     Facebook   \n",
       "3   2023_Q2_CA_SMB_AP_SOCIAL_PROSPECTING_FACEBOOK     Facebook   \n",
       "4   2023_Q2_CA_SMB_AP_SOCIAL_PROSPECTING_FACEBOOK     Facebook   \n",
       "\n",
       "                                           Placement        FQ  Impressions  \n",
       "0  FACEBOOK_IN MARKET-3PD BEHAVIOR_SOCIAL AD_1x1_...  FY2023Q1            0  \n",
       "1  FACEBOOK_IN MARKET-3PD BEHAVIOR_SOCIAL AD_1x1_...  FY2023Q2            0  \n",
       "2  FACEBOOK_IN MARKET-3PD BEHAVIOR_SOCIAL AD_1x1_...  FY2023Q3            0  \n",
       "3  FACEBOOK_IN MARKET-3PD BEHAVIOR_SOCIAL AD_1x1_...  FY2023Q1            0  \n",
       "4  FACEBOOK_IN MARKET-3PD BEHAVIOR_SOCIAL AD_1x1_...  FY2023Q2            0  "
      ]
     },
     "execution_count": 44,
     "metadata": {},
     "output_type": "execute_result"
    }
   ],
   "source": [
    "df_group = df_group.reset_index()\n",
    "\n",
    "df_group.head()"
   ]
  },
  {
   "cell_type": "code",
   "execution_count": 40,
   "id": "ada1076e",
   "metadata": {},
   "outputs": [],
   "source": [
    "df_group.to_csv(r'C:\\Users\\rafael_fagundes\\OneDrive - Dell Technologies\\Desktop\\LAL.csv')"
   ]
  }
 ],
 "metadata": {
  "kernelspec": {
   "display_name": "Python 3 (ipykernel)",
   "language": "python",
   "name": "python3"
  },
  "language_info": {
   "codemirror_mode": {
    "name": "ipython",
    "version": 3
   },
   "file_extension": ".py",
   "mimetype": "text/x-python",
   "name": "python",
   "nbconvert_exporter": "python",
   "pygments_lexer": "ipython3",
   "version": "3.10.9"
  }
 },
 "nbformat": 4,
 "nbformat_minor": 5
}
