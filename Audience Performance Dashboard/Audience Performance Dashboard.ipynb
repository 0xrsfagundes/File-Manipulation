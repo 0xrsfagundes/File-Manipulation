{
 "cells": [
  {
   "cell_type": "code",
   "execution_count": 1,
   "id": "99284b53",
   "metadata": {},
   "outputs": [],
   "source": [
    "import warnings\n",
    "import pandas as pd\n",
    "import matplotlib.pyplot as plt\n",
    "\n",
    "\n",
    "pd.set_option('display.max_columns', None)\n",
    "pd.set_option('display.max_colwidth', None)\n",
    "warnings.filterwarnings('ignore')"
   ]
  },
  {
   "cell_type": "code",
   "execution_count": 2,
   "id": "b2ac8478",
   "metadata": {},
   "outputs": [],
   "source": [
    "folder_path = r'C:\\Users\\Rafael_Fagundes\\Downloads\\compiled_data_v2.csv'\n",
    "\n",
    "df = pd.read_csv(folder_path)"
   ]
  },
  {
   "cell_type": "code",
   "execution_count": 3,
   "id": "b133e105",
   "metadata": {
    "scrolled": false
   },
   "outputs": [
    {
     "name": "stdout",
     "output_type": "stream",
     "text": [
      "<class 'pandas.core.frame.DataFrame'>\n",
      "RangeIndex: 1840293 entries, 0 to 1840292\n",
      "Data columns (total 41 columns):\n",
      " #   Column                                Dtype  \n",
      "---  ------                                -----  \n",
      " 0   Unnamed: 0                            int64  \n",
      " 1   Audience Type                         object \n",
      " 2   Tactic                                object \n",
      " 3   Media Buy Name                        object \n",
      " 4   Campaign Name                         object \n",
      " 5   Fiscal Quarter                        object \n",
      " 6   Fiscal Week Year                      object \n",
      " 7   Country                               object \n",
      " 8   Display Funnel Mapped                 object \n",
      " 9   Display Dell Vehicle Mapped           object \n",
      " 10  Display Business Unit Mapped          object \n",
      " 11  Display Site Name Mapped              object \n",
      " 12  Audience Type Name                    object \n",
      " 13  Impressions                           float64\n",
      " 14  Clicks                                float64\n",
      " 15  Spend                                 float64\n",
      " 16  Net Rev                               float64\n",
      " 17  HVE                                   float64\n",
      " 18  BU                                    object \n",
      " 19  [Net_ROAS]                            float64\n",
      " 20  Segment ID                            object \n",
      " 21  Audience ID Exists                    object \n",
      " 22  Dell Audience Name                    object \n",
      " 23  MediaCom Audience Name                object \n",
      " 24  Audience Objective                    object \n",
      " 25  Seed Information                      object \n",
      " 26  Audience Composition                  object \n",
      " 27  Audience Object-Audience Composition  object \n",
      " 28  Business Unit                         object \n",
      " 29  Data Type                             object \n",
      " 30  Audience Source                       object \n",
      " 31  Data Provider                         object \n",
      " 32  Attribute Category                    object \n",
      " 33  Audience Category Reporting           object \n",
      " 34  Platform                              object \n",
      " 35  Claravine ID                          object \n",
      " 36  submission_name                       object \n",
      " 37  submitter_name                        object \n",
      " 38  created_date                          object \n",
      " 39  Fiscal Week Quarter                   object \n",
      " 40  Week Quarter                          int64  \n",
      "dtypes: float64(6), int64(2), object(33)\n",
      "memory usage: 575.7+ MB\n"
     ]
    }
   ],
   "source": [
    "df.info()"
   ]
  },
  {
   "cell_type": "markdown",
   "id": "bc694de3",
   "metadata": {},
   "source": [
    "## Group Dataframe"
   ]
  },
  {
   "cell_type": "code",
   "execution_count": 4,
   "id": "0ed86c2d",
   "metadata": {},
   "outputs": [],
   "source": [
    "grouped_df = df.groupby([\n",
    "    'Audience Type',\n",
    "    'Tactic',\n",
    "    'Campaign Name',\n",
    "    'Fiscal Quarter',\n",
    "    #'Fiscal Week Year',\n",
    "    'Country',\n",
    "    'Display Funnel Mapped',\n",
    "    'Display Dell Vehicle Mapped',\n",
    "    'BU',\n",
    "    'Display Business Unit Mapped',\n",
    "    'Display Site Name Mapped',\n",
    "    'Audience Type Name',\n",
    "    'Segment ID',\n",
    "    'Audience ID Exists',\n",
    "    'MediaCom Audience Name',\n",
    "    'Audience Objective',\n",
    "    'Seed Information',\n",
    "    'Business Unit',\n",
    "    'Data Type',\n",
    "    'Audience Source',\n",
    "    'Data Provider',\n",
    "    'Attribute Category',\n",
    "    'Audience Category Reporting',\n",
    "    'Platform'\n",
    "]).agg({\n",
    "    'Impressions': 'sum',\n",
    "    'Clicks': 'sum',\n",
    "    'Spend': 'sum',\n",
    "    'Net Rev': 'sum',\n",
    "    'HVE': 'sum',\n",
    "    'Media Buy Name' : 'nunique'    \n",
    "}).reset_index()"
   ]
  },
  {
   "cell_type": "markdown",
   "id": "823f34c6",
   "metadata": {},
   "source": [
    "## Calendar "
   ]
  },
  {
   "cell_type": "code",
   "execution_count": 5,
   "id": "a4f691dd",
   "metadata": {},
   "outputs": [],
   "source": [
    "#calendar_folder_path = r'..\\..\\Dell-Projects\\Helper\\Calendar.csv'\n",
    "\n",
    "#calendar = pd.read_csv(calendar_folder_path)\n",
    "\n",
    "#filtered_calendar = calendar[['Fiscal Week Year','Fiscal Week Quarter','Fiscal Quarter','Week Quarter']].drop_duplicates()"
   ]
  },
  {
   "cell_type": "code",
   "execution_count": 6,
   "id": "f2b50c77",
   "metadata": {},
   "outputs": [],
   "source": [
    "#final_df = pd.merge(grouped_df,filtered_calendar, on='Fiscal Week Year', how='left')"
   ]
  },
  {
   "cell_type": "code",
   "execution_count": 7,
   "id": "ac693daf",
   "metadata": {
    "scrolled": false
   },
   "outputs": [],
   "source": [
    "#final_df.head()"
   ]
  },
  {
   "cell_type": "code",
   "execution_count": 8,
   "id": "d910c4d5",
   "metadata": {},
   "outputs": [],
   "source": [
    "grouped_df.to_csv('csv/audience_report.csv')"
   ]
  }
 ],
 "metadata": {
  "kernelspec": {
   "display_name": "Python 3 (ipykernel)",
   "language": "python",
   "name": "python3"
  },
  "language_info": {
   "codemirror_mode": {
    "name": "ipython",
    "version": 3
   },
   "file_extension": ".py",
   "mimetype": "text/x-python",
   "name": "python",
   "nbconvert_exporter": "python",
   "pygments_lexer": "ipython3",
   "version": "3.10.5"
  }
 },
 "nbformat": 4,
 "nbformat_minor": 5
}
