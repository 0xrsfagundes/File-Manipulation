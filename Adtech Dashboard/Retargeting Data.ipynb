{
 "cells": [
  {
   "cell_type": "markdown",
   "id": "77499f00",
   "metadata": {},
   "source": [
    "### Review the Retargeting Classification"
   ]
  },
  {
   "cell_type": "code",
   "execution_count": 1,
   "id": "11d5d1b1",
   "metadata": {},
   "outputs": [],
   "source": [
    "import warnings\n",
    "import pandas as pd\n",
    "import seaborn as sns\n",
    "import matplotlib.pyplot as plt\n",
    "\n",
    "pd.set_option('display.max_columns', None)\n",
    "pd.set_option('display.max_colwidth', None)\n",
    "warnings.filterwarnings('ignore')"
   ]
  },
  {
   "cell_type": "code",
   "execution_count": 2,
   "id": "c8a4bace",
   "metadata": {},
   "outputs": [],
   "source": [
    "folder_path = r'C:\\Users\\Rafael_Fagundes\\Downloads\\delve_compiled_data.csv'\n",
    "\n",
    "df = pd.read_csv(folder_path)"
   ]
  },
  {
   "cell_type": "code",
   "execution_count": 13,
   "id": "8fda2de9",
   "metadata": {},
   "outputs": [
    {
     "name": "stdout",
     "output_type": "stream",
     "text": [
      "<class 'pandas.core.frame.DataFrame'>\n",
      "RangeIndex: 1904965 entries, 0 to 1904964\n",
      "Data columns (total 42 columns):\n",
      " #   Column                                Dtype  \n",
      "---  ------                                -----  \n",
      " 0   Unnamed: 0                            int64  \n",
      " 1   Audience Type                         object \n",
      " 2   Tactic                                object \n",
      " 3   Media Buy Name                        object \n",
      " 4   Campaign Name                         object \n",
      " 5   Fiscal Quarter                        object \n",
      " 6   Fiscal Week Year                      object \n",
      " 7   Country                               object \n",
      " 8   Display Funnel Mapped                 object \n",
      " 9   Display Dell Vehicle Mapped           object \n",
      " 10  Display Business Unit Mapped          object \n",
      " 11  Display Site Name Mapped              object \n",
      " 12  Audience Type Name                    object \n",
      " 13  Impressions                           float64\n",
      " 14  Clicks                                float64\n",
      " 15  Spend                                 float64\n",
      " 16  Net Rev                               float64\n",
      " 17  HVE                                   float64\n",
      " 18  BU                                    object \n",
      " 19  [Net_ROAS]                            float64\n",
      " 20  Segment ID                            object \n",
      " 21  Audience ID Exists                    object \n",
      " 22  Dell Audience Name                    object \n",
      " 23  MediaCom Audience Name                object \n",
      " 24  Audience Objective                    object \n",
      " 25  Seed Information                      object \n",
      " 26  Audience Composition                  object \n",
      " 27  Audience Object-Audience Composition  object \n",
      " 28  Business Unit                         object \n",
      " 29  Data Type                             object \n",
      " 30  Audience Source                       object \n",
      " 31  Data Provider                         object \n",
      " 32  Attribute Category                    object \n",
      " 33  Audience Category Reporting           object \n",
      " 34  Platform                              object \n",
      " 35  Claravine ID                          object \n",
      " 36  submission_name                       object \n",
      " 37  submitter_name                        object \n",
      " 38  created_date                          object \n",
      " 39  Fiscal Week Quarter                   object \n",
      " 40  Week Quarter                          int64  \n",
      " 41  RTG_flag                              bool   \n",
      "dtypes: bool(1), float64(6), int64(2), object(33)\n",
      "memory usage: 597.7+ MB\n"
     ]
    }
   ],
   "source": [
    "df.info()"
   ]
  },
  {
   "cell_type": "code",
   "execution_count": 24,
   "id": "92368861",
   "metadata": {},
   "outputs": [],
   "source": [
    "df['RTG_flag'] = df['Media Buy Name'].str.lower().str.contains(r'retargeting|rtg|retarget') | df['Audience Type Name'].str.lower().str.contains(r'retargeting|rtg|retarget') | df['Campaign Name'].str.lower().str.contains(r'retargeting|rtg|retarget') | df['Tactic'].str.lower().str.contains(r'retargeting')"
   ]
  },
  {
   "cell_type": "code",
   "execution_count": 29,
   "id": "133c628d",
   "metadata": {},
   "outputs": [],
   "source": [
    "grouped_df = df.groupby([\n",
    "    'Fiscal Quarter',\n",
    "    'RTG_flag',\n",
    "    'Tactic',\n",
    "    'Country',\n",
    "    'BU',\n",
    "    'Audience Type Name'\n",
    "]).agg({\n",
    "    'Impressions': 'sum',\n",
    "    'Clicks': 'sum',\n",
    "    'Spend': 'sum',\n",
    "    'Net Rev': 'sum',\n",
    "    'HVE': 'sum',\n",
    "}).reset_index()"
   ]
  },
  {
   "cell_type": "code",
   "execution_count": 30,
   "id": "0e65e5bc",
   "metadata": {},
   "outputs": [],
   "source": [
    "grouped_df.to_csv('csv/RTG.csv')"
   ]
  }
 ],
 "metadata": {
  "kernelspec": {
   "display_name": "Python 3 (ipykernel)",
   "language": "python",
   "name": "python3"
  },
  "language_info": {
   "codemirror_mode": {
    "name": "ipython",
    "version": 3
   },
   "file_extension": ".py",
   "mimetype": "text/x-python",
   "name": "python",
   "nbconvert_exporter": "python",
   "pygments_lexer": "ipython3",
   "version": "3.10.5"
  }
 },
 "nbformat": 4,
 "nbformat_minor": 5
}
