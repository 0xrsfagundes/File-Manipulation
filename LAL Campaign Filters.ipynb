{
 "cells": [
  {
   "cell_type": "code",
   "execution_count": 24,
   "id": "3c2fee90",
   "metadata": {},
   "outputs": [
    {
     "name": "stderr",
     "output_type": "stream",
     "text": [
      "C:\\Users\\rafael_fagundes\\AppData\\Local\\Temp\\ipykernel_44116\\2298739782.py:3: DtypeWarning: Columns (1) have mixed types. Specify dtype option on import or set low_memory=False.\n",
      "  df = pd.read_csv(r'C:\\Users\\rafael_fagundes\\OneDrive - Dell Technologies\\Documents\\DB\\GCM.csv', on_bad_lines='skip', skiprows=10)\n"
     ]
    },
    {
     "data": {
      "text/html": [
       "<div>\n",
       "<style scoped>\n",
       "    .dataframe tbody tr th:only-of-type {\n",
       "        vertical-align: middle;\n",
       "    }\n",
       "\n",
       "    .dataframe tbody tr th {\n",
       "        vertical-align: top;\n",
       "    }\n",
       "\n",
       "    .dataframe thead th {\n",
       "        text-align: right;\n",
       "    }\n",
       "</style>\n",
       "<table border=\"1\" class=\"dataframe\">\n",
       "  <thead>\n",
       "    <tr style=\"text-align: right;\">\n",
       "      <th></th>\n",
       "      <th>Campaign</th>\n",
       "      <th>Campaign ID</th>\n",
       "      <th>Site (CM360)</th>\n",
       "      <th>Placement</th>\n",
       "      <th>Date</th>\n",
       "      <th>Impressions</th>\n",
       "      <th>Clicks</th>\n",
       "      <th>Click Rate</th>\n",
       "      <th>Active View: Viewable Impressions</th>\n",
       "      <th>Active View: Measurable Impressions</th>\n",
       "      <th>Active View: Eligible Impressions</th>\n",
       "      <th>Total Conversions</th>\n",
       "    </tr>\n",
       "  </thead>\n",
       "  <tbody>\n",
       "    <tr>\n",
       "      <th>0</th>\n",
       "      <td>2022_Q3_US_DTC_UF_DISPLAY_AWARE_BROAD REACH</td>\n",
       "      <td>26153570</td>\n",
       "      <td>Display &amp; Video 360</td>\n",
       "      <td>DV360_SPONSORSHIP_HIGH IMPACT_1x1_DCPM_DELL_CT...</td>\n",
       "      <td>2022-05-13</td>\n",
       "      <td>1</td>\n",
       "      <td>0</td>\n",
       "      <td>0.0</td>\n",
       "      <td>0</td>\n",
       "      <td>0</td>\n",
       "      <td>0</td>\n",
       "      <td>0.0</td>\n",
       "    </tr>\n",
       "    <tr>\n",
       "      <th>1</th>\n",
       "      <td>2022_Q3_US_DTC_UF_DISPLAY_AWARE_BROAD REACH</td>\n",
       "      <td>26153570</td>\n",
       "      <td>Display &amp; Video 360</td>\n",
       "      <td>DV360_SPONSORSHIP_HIGH IMPACT_1x1_DCPM_DELL_CT...</td>\n",
       "      <td>2022-08-01</td>\n",
       "      <td>1</td>\n",
       "      <td>0</td>\n",
       "      <td>0.0</td>\n",
       "      <td>0</td>\n",
       "      <td>0</td>\n",
       "      <td>0</td>\n",
       "      <td>0.0</td>\n",
       "    </tr>\n",
       "    <tr>\n",
       "      <th>2</th>\n",
       "      <td>2022_Q3_US_DTC_UF_DISPLAY_AWARE_BROAD REACH</td>\n",
       "      <td>26153570</td>\n",
       "      <td>Display &amp; Video 360</td>\n",
       "      <td>DV360_SPONSORSHIP_HIGH IMPACT_1x1_DCPM_DELL_CT...</td>\n",
       "      <td>2022-05-13</td>\n",
       "      <td>1</td>\n",
       "      <td>0</td>\n",
       "      <td>0.0</td>\n",
       "      <td>0</td>\n",
       "      <td>0</td>\n",
       "      <td>0</td>\n",
       "      <td>0.0</td>\n",
       "    </tr>\n",
       "    <tr>\n",
       "      <th>3</th>\n",
       "      <td>2022_Q3_US_DTC_UF_DISPLAY_AWARE_BROAD REACH</td>\n",
       "      <td>26153570</td>\n",
       "      <td>Display &amp; Video 360</td>\n",
       "      <td>DV360_SPONSORSHIP_HIGH IMPACT_1x1_DCPM_DELL_CT...</td>\n",
       "      <td>2022-08-01</td>\n",
       "      <td>1</td>\n",
       "      <td>0</td>\n",
       "      <td>0.0</td>\n",
       "      <td>0</td>\n",
       "      <td>0</td>\n",
       "      <td>0</td>\n",
       "      <td>0.0</td>\n",
       "    </tr>\n",
       "    <tr>\n",
       "      <th>4</th>\n",
       "      <td>2022_Q3_US_DTC_UF_DISPLAY_AWARE_BROAD REACH</td>\n",
       "      <td>26153570</td>\n",
       "      <td>Forbes</td>\n",
       "      <td>FORBES_SPONSORSHIP_HIGH IMPACT_1x1_CPM_DELL_CT...</td>\n",
       "      <td>2022-10-11</td>\n",
       "      <td>4</td>\n",
       "      <td>0</td>\n",
       "      <td>0.0</td>\n",
       "      <td>0</td>\n",
       "      <td>0</td>\n",
       "      <td>0</td>\n",
       "      <td>0.0</td>\n",
       "    </tr>\n",
       "  </tbody>\n",
       "</table>\n",
       "</div>"
      ],
      "text/plain": [
       "                                       Campaign Campaign ID  \\\n",
       "0   2022_Q3_US_DTC_UF_DISPLAY_AWARE_BROAD REACH    26153570   \n",
       "1   2022_Q3_US_DTC_UF_DISPLAY_AWARE_BROAD REACH    26153570   \n",
       "2   2022_Q3_US_DTC_UF_DISPLAY_AWARE_BROAD REACH    26153570   \n",
       "3   2022_Q3_US_DTC_UF_DISPLAY_AWARE_BROAD REACH    26153570   \n",
       "4   2022_Q3_US_DTC_UF_DISPLAY_AWARE_BROAD REACH    26153570   \n",
       "\n",
       "          Site (CM360)                                          Placement  \\\n",
       "0  Display & Video 360  DV360_SPONSORSHIP_HIGH IMPACT_1x1_DCPM_DELL_CT...   \n",
       "1  Display & Video 360  DV360_SPONSORSHIP_HIGH IMPACT_1x1_DCPM_DELL_CT...   \n",
       "2  Display & Video 360  DV360_SPONSORSHIP_HIGH IMPACT_1x1_DCPM_DELL_CT...   \n",
       "3  Display & Video 360  DV360_SPONSORSHIP_HIGH IMPACT_1x1_DCPM_DELL_CT...   \n",
       "4               Forbes  FORBES_SPONSORSHIP_HIGH IMPACT_1x1_CPM_DELL_CT...   \n",
       "\n",
       "         Date  Impressions  Clicks  Click Rate  \\\n",
       "0  2022-05-13            1       0         0.0   \n",
       "1  2022-08-01            1       0         0.0   \n",
       "2  2022-05-13            1       0         0.0   \n",
       "3  2022-08-01            1       0         0.0   \n",
       "4  2022-10-11            4       0         0.0   \n",
       "\n",
       "   Active View: Viewable Impressions  Active View: Measurable Impressions  \\\n",
       "0                                  0                                    0   \n",
       "1                                  0                                    0   \n",
       "2                                  0                                    0   \n",
       "3                                  0                                    0   \n",
       "4                                  0                                    0   \n",
       "\n",
       "   Active View: Eligible Impressions  Total Conversions  \n",
       "0                                  0                0.0  \n",
       "1                                  0                0.0  \n",
       "2                                  0                0.0  \n",
       "3                                  0                0.0  \n",
       "4                                  0                0.0  "
      ]
     },
     "execution_count": 24,
     "metadata": {},
     "output_type": "execute_result"
    }
   ],
   "source": [
    "import pandas as pd\n",
    "\n",
    "df = pd.read_csv(r'C:\\Users\\rafael_fagundes\\OneDrive - Dell Technologies\\Documents\\DB\\GCM.csv', on_bad_lines='skip', skiprows=10)\n",
    "\n",
    "df.head()\n"
   ]
  },
  {
   "cell_type": "code",
   "execution_count": 25,
   "id": "ff927491",
   "metadata": {},
   "outputs": [],
   "source": [
    "df_filtered = df[df['Placement'].str.contains('LAL')]"
   ]
  },
  {
   "cell_type": "code",
   "execution_count": 32,
   "id": "7a7cfe41",
   "metadata": {},
   "outputs": [],
   "source": [
    "df_group = df_filtered.groupby(['Campaign','Site (CM360)','Placement'])['Impressions'].sum()"
   ]
  },
  {
   "cell_type": "code",
   "execution_count": 34,
   "id": "77ab9fb4",
   "metadata": {
    "scrolled": true
   },
   "outputs": [],
   "source": [
    "df_group = df_group.reset_index()"
   ]
  },
  {
   "cell_type": "code",
   "execution_count": 36,
   "id": "ada1076e",
   "metadata": {},
   "outputs": [],
   "source": [
    "df_group.to_csv(r'C:\\Users\\rafael_fagundes\\OneDrive - Dell Technologies\\Desktop\\LAL.csv')"
   ]
  }
 ],
 "metadata": {
  "kernelspec": {
   "display_name": "Python 3 (ipykernel)",
   "language": "python",
   "name": "python3"
  },
  "language_info": {
   "codemirror_mode": {
    "name": "ipython",
    "version": 3
   },
   "file_extension": ".py",
   "mimetype": "text/x-python",
   "name": "python",
   "nbconvert_exporter": "python",
   "pygments_lexer": "ipython3",
   "version": "3.10.9"
  }
 },
 "nbformat": 4,
 "nbformat_minor": 5
}
