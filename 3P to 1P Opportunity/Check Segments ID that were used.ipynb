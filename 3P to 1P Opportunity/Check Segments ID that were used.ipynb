{
 "cells": [
  {
   "cell_type": "code",
   "execution_count": 141,
   "id": "7a72462e",
   "metadata": {},
   "outputs": [],
   "source": [
    "import warnings\n",
    "import pandas as pd\n",
    "import matplotlib.pyplot as plt\n",
    "import numpy as np\n",
    "\n",
    "\n",
    "pd.set_option('display.max_columns', None)\n",
    "# pd.set_option('display.max_colwidth', None)\n",
    "warnings.filterwarnings('ignore')"
   ]
  },
  {
   "cell_type": "code",
   "execution_count": 142,
   "id": "afc6aca4",
   "metadata": {},
   "outputs": [],
   "source": [
    "claravine_folder_path = r'..\\..\\Dell-Projects\\Helper\\Claravine.csv'\n",
    "calendar_folder_path = r'..\\..\\Dell-Projects\\Helper\\Calendar.csv'\n",
    "delve_folder_path = r'C:\\Users\\Rafael_Fagundes\\Downloads\\compiled_data.csv'\n",
    "\n",
    "claravine_df = pd.read_csv(claravine_folder_path, parse_dates=['created_date'])\n",
    "delve_df = pd.read_csv(delve_folder_path)\n",
    "calendar_df = pd.read_csv(calendar_folder_path, parse_dates=['Date'])"
   ]
  },
  {
   "cell_type": "code",
   "execution_count": 143,
   "id": "8d314d2f",
   "metadata": {
    "scrolled": true
   },
   "outputs": [
    {
     "data": {
      "text/html": [
       "<div>\n",
       "<style scoped>\n",
       "    .dataframe tbody tr th:only-of-type {\n",
       "        vertical-align: middle;\n",
       "    }\n",
       "\n",
       "    .dataframe tbody tr th {\n",
       "        vertical-align: top;\n",
       "    }\n",
       "\n",
       "    .dataframe thead th {\n",
       "        text-align: right;\n",
       "    }\n",
       "</style>\n",
       "<table border=\"1\" class=\"dataframe\">\n",
       "  <thead>\n",
       "    <tr style=\"text-align: right;\">\n",
       "      <th></th>\n",
       "      <th>Segment ID</th>\n",
       "      <th>MediaCom Audience Name</th>\n",
       "      <th>Country</th>\n",
       "      <th>Business Unit</th>\n",
       "      <th>Audience Source</th>\n",
       "      <th>created_date</th>\n",
       "      <th>Placements Count</th>\n",
       "      <th>Segment Used</th>\n",
       "    </tr>\n",
       "  </thead>\n",
       "  <tbody>\n",
       "    <tr>\n",
       "      <th>0</th>\n",
       "      <td>14o04dsyat</td>\n",
       "      <td>NaN</td>\n",
       "      <td>us</td>\n",
       "      <td>csbo-aw</td>\n",
       "      <td>Google Analytics</td>\n",
       "      <td>2023-01-17 18:56:46</td>\n",
       "      <td>0.0</td>\n",
       "      <td>0</td>\n",
       "    </tr>\n",
       "    <tr>\n",
       "      <th>1</th>\n",
       "      <td>da2z3jfdx3d</td>\n",
       "      <td>NaN</td>\n",
       "      <td>us</td>\n",
       "      <td>csbo-csb</td>\n",
       "      <td>Google Analytics</td>\n",
       "      <td>2023-01-19 14:45:00</td>\n",
       "      <td>0.0</td>\n",
       "      <td>0</td>\n",
       "    </tr>\n",
       "    <tr>\n",
       "      <th>2</th>\n",
       "      <td>d2l072rynmf</td>\n",
       "      <td>targeting-development_us-csbo-csb_1pcrm-aiqcrm...</td>\n",
       "      <td>us</td>\n",
       "      <td>csbo-csb</td>\n",
       "      <td>AIQ CRM</td>\n",
       "      <td>2023-01-20 17:49:12</td>\n",
       "      <td>0.0</td>\n",
       "      <td>0</td>\n",
       "    </tr>\n",
       "    <tr>\n",
       "      <th>3</th>\n",
       "      <td>dztqn3bkuwh</td>\n",
       "      <td>targeting-gamingpcbuyer_us-csbo-csb_1pcrm-aiqc...</td>\n",
       "      <td>us</td>\n",
       "      <td>csbo-csb</td>\n",
       "      <td>AIQ CRM</td>\n",
       "      <td>2023-01-20 17:49:12</td>\n",
       "      <td>0.0</td>\n",
       "      <td>0</td>\n",
       "    </tr>\n",
       "    <tr>\n",
       "      <th>4</th>\n",
       "      <td>dfmb6iq56n5</td>\n",
       "      <td>targeting-mbinmarket_us-mb_abm-liveramp-dunand...</td>\n",
       "      <td>us</td>\n",
       "      <td>mb</td>\n",
       "      <td>Liveramp</td>\n",
       "      <td>2023-01-23 20:09:10</td>\n",
       "      <td>0.0</td>\n",
       "      <td>0</td>\n",
       "    </tr>\n",
       "  </tbody>\n",
       "</table>\n",
       "</div>"
      ],
      "text/plain": [
       "    Segment ID                             MediaCom Audience Name Country  \\\n",
       "0   14o04dsyat                                                NaN      us   \n",
       "1  da2z3jfdx3d                                                NaN      us   \n",
       "2  d2l072rynmf  targeting-development_us-csbo-csb_1pcrm-aiqcrm...      us   \n",
       "3  dztqn3bkuwh  targeting-gamingpcbuyer_us-csbo-csb_1pcrm-aiqc...      us   \n",
       "4  dfmb6iq56n5  targeting-mbinmarket_us-mb_abm-liveramp-dunand...      us   \n",
       "\n",
       "  Business Unit   Audience Source        created_date  Placements Count  \\\n",
       "0       csbo-aw  Google Analytics 2023-01-17 18:56:46               0.0   \n",
       "1      csbo-csb  Google Analytics 2023-01-19 14:45:00               0.0   \n",
       "2      csbo-csb           AIQ CRM 2023-01-20 17:49:12               0.0   \n",
       "3      csbo-csb           AIQ CRM 2023-01-20 17:49:12               0.0   \n",
       "4            mb          Liveramp 2023-01-23 20:09:10               0.0   \n",
       "\n",
       "   Segment Used  \n",
       "0             0  \n",
       "1             0  \n",
       "2             0  \n",
       "3             0  \n",
       "4             0  "
      ]
     },
     "execution_count": 143,
     "metadata": {},
     "output_type": "execute_result"
    }
   ],
   "source": [
    "filtered_claravine_df = claravine_df[['Segment ID', 'MediaCom Audience Name', 'Country', 'Business Unit', 'Audience Source', 'created_date']]\n",
    "filtered_delve_df = delve_df[['Segment ID', 'Media Buy Name']][(delve_df['Segment ID'] != '0') & (delve_df['Segment ID'] != 0)]\n",
    "\n",
    "grouped_delve_df = filtered_delve_df.groupby(['Segment ID'])['Media Buy Name'].count().reset_index()\n",
    "grouped_delve_df = grouped_delve_df.rename(columns={'Media Buy Name': 'Placements Count'})\n",
    "\n",
    "# Use 'merge' to combine the DataFrames based on 'Segment ID'\n",
    "merged = filtered_claravine_df.merge(grouped_delve_df, on='Segment ID', how='left')\n",
    "\n",
    "# Fill NaN values in 'Placements Count' with 0\n",
    "merged['Placements Count'].fillna(0, inplace=True)\n",
    "\n",
    "# Create 'Segment Used' column based on the presence of 'Segment ID' in 'merged'\n",
    "merged['Segment Used'] = np.where(merged['Segment ID'].isin(grouped_delve_df['Segment ID']), 1, 0)\n",
    "\n",
    "merged.head()\n"
   ]
  },
  {
   "cell_type": "code",
   "execution_count": 144,
   "id": "49c170d2",
   "metadata": {},
   "outputs": [],
   "source": [
    "# Define the mapping of Business Units to BU_lvl1 values\n",
    "bu_mapping = {\n",
    "    'b2b': 'B2B',\n",
    "    'b2b-com': 'B2B',\n",
    "    'b2b-mb': 'B2B',\n",
    "    'ce': 'B2B',\n",
    "    'com': 'B2B',\n",
    "    'mb': 'B2B',\n",
    "    'csbo-aw': 'CSB',\n",
    "    'csbo-aw/gseries': 'CSB',\n",
    "    'csbo-con': 'CSB',\n",
    "    'csbo-csb': 'CSB',\n",
    "    'csbo-gaming': 'CSB',\n",
    "    'csbo-gseries': 'CSB',\n",
    "    'csbo-sb': 'CSB',\n",
    "    'sb': 'CSB',\n",
    "    'brand':'PAN-DELL',\n",
    "    'pan-dell':'PAN-DELL',\n",
    "}\n",
    "\n",
    "# Use apply to map Business Unit to BU_lvl1\n",
    "merged['BU lvl1'] = merged['Business Unit'].apply(lambda x: bu_mapping.get(x.lower(), x))\n"
   ]
  },
  {
   "cell_type": "code",
   "execution_count": 145,
   "id": "1ac3c2d8",
   "metadata": {},
   "outputs": [],
   "source": [
    "calendar_df.rename(columns={'Date': 'created_date'}, inplace=True)\n",
    "\n",
    "merged['created_date'] = pd.to_datetime(merged['created_date']).dt.strftime(\"%Y-%m-%d\")\n",
    "merged['created_date'] = pd.to_datetime(merged['created_date'])"
   ]
  },
  {
   "cell_type": "code",
   "execution_count": 146,
   "id": "3677a95e",
   "metadata": {},
   "outputs": [],
   "source": [
    "filtered_calendar_df = calendar_df[['created_date','FQ','FQW']]"
   ]
  },
  {
   "cell_type": "code",
   "execution_count": 147,
   "id": "a021d96d",
   "metadata": {
    "scrolled": false
   },
   "outputs": [],
   "source": [
    "new_merged = pd.merge(merged, filtered_calendar_df, on='created_date', how='left')\n",
    "\n",
    "new_merged.rename(columns={'FQW':'Created Date Fiscal Week','created_date':'Created Date','Business Unit':'BU lvl2'}, inplace=True)"
   ]
  },
  {
   "cell_type": "code",
   "execution_count": 148,
   "id": "d21d9d32",
   "metadata": {},
   "outputs": [
    {
     "data": {
      "text/plain": [
       "Segment Used\n",
       "0    741\n",
       "1    183\n",
       "Name: count, dtype: int64"
      ]
     },
     "execution_count": 148,
     "metadata": {},
     "output_type": "execute_result"
    }
   ],
   "source": [
    "new_merged['Segment Used'].value_counts()"
   ]
  },
  {
   "cell_type": "code",
   "execution_count": 149,
   "id": "08e73828",
   "metadata": {},
   "outputs": [],
   "source": [
    "new_merged.to_csv('csv/Segments IDs Used.csv')"
   ]
  }
 ],
 "metadata": {
  "kernelspec": {
   "display_name": "Python 3 (ipykernel)",
   "language": "python",
   "name": "python3"
  },
  "language_info": {
   "codemirror_mode": {
    "name": "ipython",
    "version": 3
   },
   "file_extension": ".py",
   "mimetype": "text/x-python",
   "name": "python",
   "nbconvert_exporter": "python",
   "pygments_lexer": "ipython3",
   "version": "3.10.5"
  }
 },
 "nbformat": 4,
 "nbformat_minor": 5
}
