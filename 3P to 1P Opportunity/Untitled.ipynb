{
 "cells": [
  {
   "cell_type": "code",
   "execution_count": 93,
   "id": "7a72462e",
   "metadata": {},
   "outputs": [],
   "source": [
    "import warnings\n",
    "import pandas as pd\n",
    "import matplotlib.pyplot as plt\n",
    "\n",
    "\n",
    "pd.set_option('display.max_columns', None)\n",
    "pd.set_option('display.max_colwidth', None)\n",
    "warnings.filterwarnings('ignore')"
   ]
  },
  {
   "cell_type": "code",
   "execution_count": 94,
   "id": "afc6aca4",
   "metadata": {},
   "outputs": [],
   "source": [
    "folder_path = r'C:\\Users\\Rafael_Fagundes\\Downloads\\compiled_data.csv'\n",
    "\n",
    "df = pd.read_csv(folder_path)"
   ]
  },
  {
   "cell_type": "code",
   "execution_count": 95,
   "id": "46a58932",
   "metadata": {},
   "outputs": [],
   "source": [
    "grouped_df = df.groupby(['Fiscal Quarter','BU','Country_x','Tactic','Audience Type', 'Audience Type Name'])[['Spend','Net Rev']].sum().reset_index()"
   ]
  },
  {
   "cell_type": "code",
   "execution_count": 96,
   "id": "41580da4",
   "metadata": {},
   "outputs": [],
   "source": [
    "grouped_df.to_csv('test.csv')"
   ]
  }
 ],
 "metadata": {
  "kernelspec": {
   "display_name": "Python 3 (ipykernel)",
   "language": "python",
   "name": "python3"
  },
  "language_info": {
   "codemirror_mode": {
    "name": "ipython",
    "version": 3
   },
   "file_extension": ".py",
   "mimetype": "text/x-python",
   "name": "python",
   "nbconvert_exporter": "python",
   "pygments_lexer": "ipython3",
   "version": "3.10.5"
  }
 },
 "nbformat": 4,
 "nbformat_minor": 5
}
