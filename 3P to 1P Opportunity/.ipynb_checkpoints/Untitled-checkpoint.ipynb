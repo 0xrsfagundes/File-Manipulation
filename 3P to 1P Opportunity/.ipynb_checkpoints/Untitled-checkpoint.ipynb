{
 "cells": [
  {
   "cell_type": "code",
   "execution_count": 69,
   "id": "aaeb8c6f",
   "metadata": {},
   "outputs": [],
   "source": [
    "import pandas as pd\n",
    "import seaborn as sns\n",
    "import plotly.express as px\n",
    "import warnings\n",
    "\n",
    "warnings.filterwarnings('ignore')"
   ]
  },
  {
   "cell_type": "code",
   "execution_count": 70,
   "id": "3bbd93ed",
   "metadata": {},
   "outputs": [],
   "source": [
    "df = pd.read_csv('csv/Social ATC Export.csv')"
   ]
  },
  {
   "cell_type": "code",
   "execution_count": 71,
   "id": "0220a23e",
   "metadata": {},
   "outputs": [
    {
     "name": "stdout",
     "output_type": "stream",
     "text": [
      "<class 'pandas.core.frame.DataFrame'>\n",
      "RangeIndex: 183 entries, 0 to 182\n",
      "Data columns (total 14 columns):\n",
      " #   Column                                                 Non-Null Count  Dtype  \n",
      "---  ------                                                 --------------  -----  \n",
      " 0   Social Campaign Advertiser                             183 non-null    object \n",
      " 1   Campaign Name                                          183 non-null    object \n",
      " 2   Media Buy Name                                         183 non-null    object \n",
      " 3   Social Platform                                        183 non-null    object \n",
      " 4   Display Vehicle (Mapped)                               183 non-null    object \n",
      " 5   [NEW MAPPED] Display Business Unit                     183 non-null    object \n",
      " 6   Report Site Name                                       183 non-null    object \n",
      " 7   Audience Type                                          183 non-null    object \n",
      " 8   Display Audience Funnel                                183 non-null    object \n",
      " 9   Display Placement Type (Banner/Video/Mobile) (Mapped)  183 non-null    object \n",
      " 10  Filterable Spend                                       183 non-null    float64\n",
      " 11  Filterable Impressions                                 183 non-null    int64  \n",
      " 12  Filterable Clicks                                      183 non-null    int64  \n",
      " 13  Add To Cart                                            183 non-null    int64  \n",
      "dtypes: float64(1), int64(3), object(10)\n",
      "memory usage: 20.1+ KB\n"
     ]
    }
   ],
   "source": [
    "df.info()"
   ]
  },
  {
   "cell_type": "code",
   "execution_count": 72,
   "id": "26068654",
   "metadata": {},
   "outputs": [],
   "source": [
    "filtered_df = df[(df['Filterable Spend'] > 1000)\n",
    "                & (df['Audience Type'] == '3PD')\n",
    "                & (df['Social Platform'] == 'Facebook/Instagram')\n",
    "                ]"
   ]
  },
  {
   "cell_type": "code",
   "execution_count": 73,
   "id": "9dd03c5c",
   "metadata": {
    "scrolled": false
   },
   "outputs": [],
   "source": [
    "grouped_df = filtered_df.groupby(['Display Audience Funnel','Campaign Name','Media Buy Name'])[['Filterable Spend','Add To Cart']].sum().reset_index()"
   ]
  },
  {
   "cell_type": "code",
   "execution_count": 74,
   "id": "db20c684",
   "metadata": {},
   "outputs": [],
   "source": [
    "grouped_df['Cpatc'] = grouped_df['Filterable Spend'] / grouped_df['Add To Cart']"
   ]
  },
  {
   "cell_type": "code",
   "execution_count": 75,
   "id": "07e8c59b",
   "metadata": {},
   "outputs": [
    {
     "name": "stdout",
     "output_type": "stream",
     "text": [
      "<class 'pandas.core.frame.DataFrame'>\n",
      "RangeIndex: 42 entries, 0 to 41\n",
      "Data columns (total 6 columns):\n",
      " #   Column                   Non-Null Count  Dtype  \n",
      "---  ------                   --------------  -----  \n",
      " 0   Display Audience Funnel  42 non-null     object \n",
      " 1   Campaign Name            42 non-null     object \n",
      " 2   Media Buy Name           42 non-null     object \n",
      " 3   Filterable Spend         42 non-null     float64\n",
      " 4   Add To Cart              42 non-null     int64  \n",
      " 5   Cpatc                    42 non-null     float64\n",
      "dtypes: float64(2), int64(1), object(3)\n",
      "memory usage: 2.1+ KB\n"
     ]
    }
   ],
   "source": [
    "grouped_df.info()"
   ]
  },
  {
   "cell_type": "code",
   "execution_count": 76,
   "id": "d140a579",
   "metadata": {},
   "outputs": [
    {
     "data": {
      "text/html": [
       "<div>\n",
       "<style scoped>\n",
       "    .dataframe tbody tr th:only-of-type {\n",
       "        vertical-align: middle;\n",
       "    }\n",
       "\n",
       "    .dataframe tbody tr th {\n",
       "        vertical-align: top;\n",
       "    }\n",
       "\n",
       "    .dataframe thead th {\n",
       "        text-align: right;\n",
       "    }\n",
       "</style>\n",
       "<table border=\"1\" class=\"dataframe\">\n",
       "  <thead>\n",
       "    <tr style=\"text-align: right;\">\n",
       "      <th></th>\n",
       "      <th>Display Audience Funnel</th>\n",
       "      <th>Campaign Name</th>\n",
       "      <th>Media Buy Name</th>\n",
       "      <th>Filterable Spend</th>\n",
       "      <th>Add To Cart</th>\n",
       "      <th>Cpatc</th>\n",
       "    </tr>\n",
       "  </thead>\n",
       "  <tbody>\n",
       "    <tr>\n",
       "      <th>37</th>\n",
       "      <td>Demand Creation</td>\n",
       "      <td>2024_Q3_US_SBG-Programs_HP_SOCIAL_PROSPECTING_...</td>\n",
       "      <td>FACEBOOK_AFFINITY-3PD BEHAVIOR_SOCIAL AD_1x1_D...</td>\n",
       "      <td>7000.000000</td>\n",
       "      <td>0</td>\n",
       "      <td>inf</td>\n",
       "    </tr>\n",
       "    <tr>\n",
       "      <th>36</th>\n",
       "      <td>Demand Creation</td>\n",
       "      <td>2024_Q3_US_SBG-Programs_HP_SOCIAL_PROSPECTING_...</td>\n",
       "      <td>FACEBOOK_AFFINITY-3PD BEHAVIOR_SOCIAL AD_1x1_D...</td>\n",
       "      <td>7993.810000</td>\n",
       "      <td>0</td>\n",
       "      <td>inf</td>\n",
       "    </tr>\n",
       "    <tr>\n",
       "      <th>31</th>\n",
       "      <td>Demand Creation</td>\n",
       "      <td>2024_Q3_US_CSBO-AW_HP_SOCIAL_PROSPECTING_HP</td>\n",
       "      <td>FACEBOOK_AFFINITY-3PD BEHAVIOR_SOCIAL AD_1x1_D...</td>\n",
       "      <td>5915.459999</td>\n",
       "      <td>64</td>\n",
       "      <td>92.429062</td>\n",
       "    </tr>\n",
       "    <tr>\n",
       "      <th>22</th>\n",
       "      <td>Active Prospects</td>\n",
       "      <td>2024_Q3_US_CSBO-CSB_AP_SOCIAL_PROSPECTING_AP</td>\n",
       "      <td>FACEBOOK_AFFINITY-3PD BEHAVIOR_SOCIAL AD_1x1_D...</td>\n",
       "      <td>5332.939999</td>\n",
       "      <td>59</td>\n",
       "      <td>90.388814</td>\n",
       "    </tr>\n",
       "    <tr>\n",
       "      <th>33</th>\n",
       "      <td>Demand Creation</td>\n",
       "      <td>2024_Q3_US_CSBO-CON_HP_SOCIAL_PROSPECTING_HP</td>\n",
       "      <td>FACEBOOK_AFFINITY-3PD BEHAVIOR_SOCIAL AD_1x1_D...</td>\n",
       "      <td>33655.159990</td>\n",
       "      <td>571</td>\n",
       "      <td>58.940736</td>\n",
       "    </tr>\n",
       "  </tbody>\n",
       "</table>\n",
       "</div>"
      ],
      "text/plain": [
       "   Display Audience Funnel                                      Campaign Name  \\\n",
       "37         Demand Creation  2024_Q3_US_SBG-Programs_HP_SOCIAL_PROSPECTING_...   \n",
       "36         Demand Creation  2024_Q3_US_SBG-Programs_HP_SOCIAL_PROSPECTING_...   \n",
       "31         Demand Creation        2024_Q3_US_CSBO-AW_HP_SOCIAL_PROSPECTING_HP   \n",
       "22        Active Prospects       2024_Q3_US_CSBO-CSB_AP_SOCIAL_PROSPECTING_AP   \n",
       "33         Demand Creation       2024_Q3_US_CSBO-CON_HP_SOCIAL_PROSPECTING_HP   \n",
       "\n",
       "                                       Media Buy Name  Filterable Spend  \\\n",
       "37  FACEBOOK_AFFINITY-3PD BEHAVIOR_SOCIAL AD_1x1_D...       7000.000000   \n",
       "36  FACEBOOK_AFFINITY-3PD BEHAVIOR_SOCIAL AD_1x1_D...       7993.810000   \n",
       "31  FACEBOOK_AFFINITY-3PD BEHAVIOR_SOCIAL AD_1x1_D...       5915.459999   \n",
       "22  FACEBOOK_AFFINITY-3PD BEHAVIOR_SOCIAL AD_1x1_D...       5332.939999   \n",
       "33  FACEBOOK_AFFINITY-3PD BEHAVIOR_SOCIAL AD_1x1_D...      33655.159990   \n",
       "\n",
       "    Add To Cart      Cpatc  \n",
       "37            0        inf  \n",
       "36            0        inf  \n",
       "31           64  92.429062  \n",
       "22           59  90.388814  \n",
       "33          571  58.940736  "
      ]
     },
     "execution_count": 76,
     "metadata": {},
     "output_type": "execute_result"
    }
   ],
   "source": [
    "grouped_df.sort_values(by='Cpatc', ascending=False).head()"
   ]
  },
  {
   "cell_type": "code",
   "execution_count": 77,
   "id": "10530a56",
   "metadata": {
    "scrolled": false
   },
   "outputs": [
    {
     "data": {
      "text/plain": [
       "<Axes: xlabel='Display Audience Funnel', ylabel='Cpatc'>"
      ]
     },
     "execution_count": 77,
     "metadata": {},
     "output_type": "execute_result"
    },
    {
     "data": {
      "image/png": "[encoded data removed]",
      "text/plain": [
       "<Figure size 640x480 with 1 Axes>"
      ]
     },
     "metadata": {},
     "output_type": "display_data"
    }
   ],
   "source": [
    "sns.boxplot(data=grouped_df,x='Display Audience Funnel',y='Cpatc')"
   ]
  },
  {
   "cell_type": "code",
   "execution_count": 78,
   "id": "682a64c5",
   "metadata": {
    "scrolled": false
   },
   "outputs": [
    {
     "data": {
      "text/plain": [
       "<Axes: xlabel='Filterable Spend', ylabel='Cpatc'>"
      ]
     },
     "execution_count": 78,
     "metadata": {},
     "output_type": "execute_result"
    },
    {
     "data": {
      "image/png": "[encoded data removed]",
      "text/plain": [
       "<Figure size 640x480 with 1 Axes>"
      ]
     },
     "metadata": {},
     "output_type": "display_data"
    }
   ],
   "source": [
    "sns.scatterplot(data=grouped_df, x='Filterable Spend', y='Cpatc')"
   ]
  },
  {
   "cell_type": "code",
   "execution_count": 92,
   "id": "5891218e",
   "metadata": {
    "scrolled": false
   },
   "outputs": [],
   "source": [
    "# Create scatter plot using Plotly Express with hover_name\n",
    "fig = px.scatter(grouped_df, x='Filterable Spend', y='Cpatc', color='Display Audience Funnel',  title='FY24Q3 CSB SM US - 3P to 1P Opportunity - Placements<br>Filter: US, CSB, 3P, Facebook', hover_name='Media Buy Name')\n",
    "fig.update_traces(marker=dict(size=12, opacity=0.7))\n",
    "\n",
    "# Export the plot as an HTML file\n",
    "fig.write_html('html/FY24Q3 CSB SM US - 3P to 1P Opportunity.html')\n"
   ]
  }
 ],
 "metadata": {
  "kernelspec": {
   "display_name": "Python 3 (ipykernel)",
   "language": "python",
   "name": "python3"
  },
  "language_info": {
   "codemirror_mode": {
    "name": "ipython",
    "version": 3
   },
   "file_extension": ".py",
   "mimetype": "text/x-python",
   "name": "python",
   "nbconvert_exporter": "python",
   "pygments_lexer": "ipython3",
   "version": "3.10.5"
  }
 },
 "nbformat": 4,
 "nbformat_minor": 5
}
