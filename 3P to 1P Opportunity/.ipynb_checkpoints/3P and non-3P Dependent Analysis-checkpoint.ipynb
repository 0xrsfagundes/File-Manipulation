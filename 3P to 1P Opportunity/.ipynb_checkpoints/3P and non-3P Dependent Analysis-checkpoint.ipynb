{
 "cells": [
  {
   "cell_type": "code",
   "execution_count": 1,
   "id": "7a72462e",
   "metadata": {},
   "outputs": [],
   "source": [
    "import warnings\n",
    "import pandas as pd\n",
    "import matplotlib.pyplot as plt\n",
    "\n",
    "\n",
    "pd.set_option('display.max_columns', None)\n",
    "pd.set_option('display.max_colwidth', None)\n",
    "warnings.filterwarnings('ignore')"
   ]
  },
  {
   "cell_type": "code",
   "execution_count": 2,
   "id": "afc6aca4",
   "metadata": {},
   "outputs": [],
   "source": [
    "folder_path = r'C:\\Users\\Rafael_Fagundes\\Downloads\\compiled_data_v2.csv'\n",
    "\n",
    "df = pd.read_csv(folder_path)"
   ]
  },
  {
   "cell_type": "code",
   "execution_count": 3,
   "id": "a76f846e",
   "metadata": {},
   "outputs": [
    {
     "name": "stdout",
     "output_type": "stream",
     "text": [
      "<class 'pandas.core.frame.DataFrame'>\n",
      "RangeIndex: 1782917 entries, 0 to 1782916\n",
      "Data columns (total 49 columns):\n",
      " #   Column                                       Dtype  \n",
      "---  ------                                       -----  \n",
      " 0   Unnamed: 0                                   int64  \n",
      " 1   Audience Type                                object \n",
      " 2   Tactic                                       object \n",
      " 3   Media Buy Name                               object \n",
      " 4   Campaign Name                                object \n",
      " 5   Fiscal Quarter                               object \n",
      " 6   Fiscal Week                                  object \n",
      " 7   Country_x                                    object \n",
      " 8   Display Funnel Mapped                        object \n",
      " 9   Display Dell Vehicle Mapped                  object \n",
      " 10  Display Business Unit Mapped                 object \n",
      " 11  Display Site Name Mapped                     object \n",
      " 12  Audience Type Name                           object \n",
      " 13  Impressions                                  float64\n",
      " 14  Clicks                                       float64\n",
      " 15  Spend                                        float64\n",
      " 16  Net Rev                                      float64\n",
      " 17  HVE                                          float64\n",
      " 18  BU                                           object \n",
      " 19  Segment ID                                   object \n",
      " 20  Audience ID Exists                           object \n",
      " 21  Dell Audience Name                           object \n",
      " 22  VAR Dell Audience Name                       object \n",
      " 23  Dell Audience Name concatenation             object \n",
      " 24  MediaCom Audience Name                       object \n",
      " 25  MediaCom Audience Name Concatenation         object \n",
      " 26  Audience Objective                           object \n",
      " 27  Seed Information                             object \n",
      " 28  Audience Composition                         object \n",
      " 29  Audience Composition concatenation           object \n",
      " 30  Audience Object-Audience Composition         object \n",
      " 31  Country_y                                    object \n",
      " 32  Business Unit                                object \n",
      " 33  Country-BU concatenation                     object \n",
      " 34  Data Type                                    object \n",
      " 35  Audience Source                              object \n",
      " 36  Data Provider                                object \n",
      " 37  Data Provider Abbreviation                   object \n",
      " 38  Audience Source-Data Provider concatenation  object \n",
      " 39  Attribute Category                           object \n",
      " 40  Attribute Category Shortcode                 object \n",
      " 41  Audience Category Reporting                  object \n",
      " 42  Platform                                     object \n",
      " 43  Random                                       object \n",
      " 44  Prefix                                       object \n",
      " 45  Claravine ID                                 object \n",
      " 46  submission_name                              object \n",
      " 47  submitter_name                               object \n",
      " 48  created_date                                 object \n",
      "dtypes: float64(5), int64(1), object(43)\n",
      "memory usage: 666.5+ MB\n"
     ]
    }
   ],
   "source": [
    "df.info()"
   ]
  },
  {
   "cell_type": "markdown",
   "id": "ca099e1f",
   "metadata": {},
   "source": [
    "<h2>Dependency Group</h2>"
   ]
  },
  {
   "cell_type": "code",
   "execution_count": 4,
   "id": "94479b75",
   "metadata": {},
   "outputs": [],
   "source": [
    "folder_path = r'..\\..\\Dell-Projects\\Helper\\Dependency Group.csv'\n",
    "\n",
    "dependency_group_df = pd.read_csv(folder_path)"
   ]
  },
  {
   "cell_type": "code",
   "execution_count": 5,
   "id": "34b4447a",
   "metadata": {},
   "outputs": [],
   "source": [
    "merged_df = pd.merge(df, dependency_group_df, on='Audience Type Name', how='left')"
   ]
  },
  {
   "cell_type": "code",
   "execution_count": 6,
   "id": "ee1acabc",
   "metadata": {},
   "outputs": [],
   "source": [
    "merged_df.rename(columns={'Country_x':'Country', 'Fiscal Week': 'Fiscal Week Year'}, inplace=True)"
   ]
  },
  {
   "cell_type": "markdown",
   "id": "0fe7af65",
   "metadata": {},
   "source": [
    "<h2>Calendar</h2>"
   ]
  },
  {
   "cell_type": "code",
   "execution_count": 7,
   "id": "f4dc513a",
   "metadata": {},
   "outputs": [],
   "source": [
    "calendar_folder_path = r'..\\..\\Dell-Projects\\Helper\\Calendar.csv'\n",
    "\n",
    "calendar = pd.read_csv(calendar_folder_path)"
   ]
  },
  {
   "cell_type": "code",
   "execution_count": 8,
   "id": "ca5503ef",
   "metadata": {},
   "outputs": [],
   "source": [
    "filtered_calendar = calendar[['Fiscal Week Year','Fiscal Week Quarter','Fiscal Quarter','Week Quarter']].drop_duplicates()"
   ]
  },
  {
   "cell_type": "markdown",
   "id": "4ff8a9b8",
   "metadata": {},
   "source": [
    "<h2>Final Group</h2>"
   ]
  },
  {
   "cell_type": "code",
   "execution_count": 9,
   "id": "46a58932",
   "metadata": {},
   "outputs": [],
   "source": [
    "grouped_df = merged_df.groupby(['Fiscal Quarter','Fiscal Week Year','BU','Country','Tactic','Audience Type', 'Audience Type Name','Dependency Group','Display Funnel Mapped','Audience Impact report','Audience ID Exists'])[['Impressions','Clicks','Spend','Net Rev','HVE']].sum().reset_index()"
   ]
  },
  {
   "cell_type": "markdown",
   "id": "4c7a5be9",
   "metadata": {},
   "source": [
    "<h2>Export Dataframe</h2>"
   ]
  },
  {
   "cell_type": "code",
   "execution_count": 10,
   "id": "0010ba76",
   "metadata": {},
   "outputs": [],
   "source": [
    "final_df = pd.merge(grouped_df,filtered_calendar, on='Fiscal Week Year', how='left')"
   ]
  },
  {
   "cell_type": "code",
   "execution_count": 11,
   "id": "490e61f3",
   "metadata": {},
   "outputs": [],
   "source": [
    "final_df.drop(columns=['Fiscal Quarter_y'], inplace=True)\n",
    "final_df.rename(columns={'Fiscal Quarter_x':'Fiscal Quarter'},inplace=True)"
   ]
  },
  {
   "cell_type": "code",
   "execution_count": 12,
   "id": "55f780dc",
   "metadata": {},
   "outputs": [
    {
     "name": "stdout",
     "output_type": "stream",
     "text": [
      "<class 'pandas.core.frame.DataFrame'>\n",
      "RangeIndex: 28190 entries, 0 to 28189\n",
      "Data columns (total 17 columns):\n",
      " #   Column                  Non-Null Count  Dtype  \n",
      "---  ------                  --------------  -----  \n",
      " 0   Fiscal Quarter          28190 non-null  object \n",
      " 1   Fiscal Week Year        28190 non-null  object \n",
      " 2   BU                      28190 non-null  object \n",
      " 3   Country                 28190 non-null  object \n",
      " 4   Tactic                  28190 non-null  object \n",
      " 5   Audience Type           28190 non-null  object \n",
      " 6   Audience Type Name      28190 non-null  object \n",
      " 7   Dependency Group        28190 non-null  object \n",
      " 8   Display Funnel Mapped   28190 non-null  object \n",
      " 9   Audience Impact report  28190 non-null  object \n",
      " 10  Impressions             28190 non-null  float64\n",
      " 11  Clicks                  28190 non-null  float64\n",
      " 12  Spend                   28190 non-null  float64\n",
      " 13  Net Rev                 28190 non-null  float64\n",
      " 14  HVE                     28190 non-null  float64\n",
      " 15  Fiscal Week Quarter     28190 non-null  object \n",
      " 16  Week Quarter            28190 non-null  int64  \n",
      "dtypes: float64(5), int64(1), object(11)\n",
      "memory usage: 3.7+ MB\n"
     ]
    }
   ],
   "source": [
    "final_df.info()"
   ]
  },
  {
   "cell_type": "code",
   "execution_count": 13,
   "id": "41580da4",
   "metadata": {},
   "outputs": [],
   "source": [
    "final_df.to_csv('csv/Historical Data.csv')"
   ]
  }
 ],
 "metadata": {
  "kernelspec": {
   "display_name": "Python 3 (ipykernel)",
   "language": "python",
   "name": "python3"
  },
  "language_info": {
   "codemirror_mode": {
    "name": "ipython",
    "version": 3
   },
   "file_extension": ".py",
   "mimetype": "text/x-python",
   "name": "python",
   "nbconvert_exporter": "python",
   "pygments_lexer": "ipython3",
   "version": "3.10.5"
  }
 },
 "nbformat": 4,
 "nbformat_minor": 5
}
