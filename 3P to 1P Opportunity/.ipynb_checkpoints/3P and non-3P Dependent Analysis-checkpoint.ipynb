{
 "cells": [
  {
   "cell_type": "code",
   "execution_count": 24,
   "id": "7a72462e",
   "metadata": {},
   "outputs": [],
   "source": [
    "import warnings\n",
    "import pandas as pd\n",
    "import matplotlib.pyplot as plt\n",
    "\n",
    "\n",
    "pd.set_option('display.max_columns', None)\n",
    "pd.set_option('display.max_colwidth', None)\n",
    "warnings.filterwarnings('ignore')"
   ]
  },
  {
   "cell_type": "code",
   "execution_count": 25,
   "id": "afc6aca4",
   "metadata": {},
   "outputs": [],
   "source": [
    "folder_path = r'C:\\Users\\Rafael_Fagundes\\Downloads\\compiled_data_v2.csv'\n",
    "\n",
    "df = pd.read_csv(folder_path)"
   ]
  },
  {
   "cell_type": "markdown",
   "id": "84f60532",
   "metadata": {},
   "source": [
    "<h2>Dependency Group</h2>"
   ]
  },
  {
   "cell_type": "code",
   "execution_count": 26,
   "id": "dc57b8de",
   "metadata": {},
   "outputs": [],
   "source": [
    "folder_path = r'..\\..\\Dell-Projects\\Helper\\Dependency Group.csv'\n",
    "\n",
    "dependency_group_df = pd.read_csv(folder_path)"
   ]
  },
  {
   "cell_type": "code",
   "execution_count": 27,
   "id": "5f96f331",
   "metadata": {},
   "outputs": [],
   "source": [
    "merged_df = pd.merge(df, dependency_group_df, on='Audience Type Name', how='left')"
   ]
  },
  {
   "cell_type": "code",
   "execution_count": 28,
   "id": "79fb27c5",
   "metadata": {},
   "outputs": [
    {
     "name": "stdout",
     "output_type": "stream",
     "text": [
      "<class 'pandas.core.frame.DataFrame'>\n",
      "RangeIndex: 1782917 entries, 0 to 1782916\n",
      "Data columns (total 52 columns):\n",
      " #   Column                                       Dtype  \n",
      "---  ------                                       -----  \n",
      " 0   Unnamed: 0                                   int64  \n",
      " 1   Audience Type                                object \n",
      " 2   Tactic                                       object \n",
      " 3   Media Buy Name                               object \n",
      " 4   Campaign Name                                object \n",
      " 5   Fiscal Quarter                               object \n",
      " 6   Fiscal Week                                  object \n",
      " 7   Country_x                                    object \n",
      " 8   Display Funnel Mapped                        object \n",
      " 9   Display Dell Vehicle Mapped                  object \n",
      " 10  Display Business Unit Mapped                 object \n",
      " 11  Display Site Name Mapped                     object \n",
      " 12  Audience Type Name                           object \n",
      " 13  Impressions                                  float64\n",
      " 14  Clicks                                       float64\n",
      " 15  Spend                                        float64\n",
      " 16  Net Rev                                      float64\n",
      " 17  HVE                                          float64\n",
      " 18  BU                                           object \n",
      " 19  Segment ID                                   object \n",
      " 20  Audience ID Exists                           object \n",
      " 21  Dell Audience Name                           object \n",
      " 22  VAR Dell Audience Name                       object \n",
      " 23  Dell Audience Name concatenation             object \n",
      " 24  MediaCom Audience Name                       object \n",
      " 25  MediaCom Audience Name Concatenation         object \n",
      " 26  Audience Objective                           object \n",
      " 27  Seed Information                             object \n",
      " 28  Audience Composition                         object \n",
      " 29  Audience Composition concatenation           object \n",
      " 30  Audience Object-Audience Composition         object \n",
      " 31  Country_y                                    object \n",
      " 32  Business Unit                                object \n",
      " 33  Country-BU concatenation                     object \n",
      " 34  Data Type                                    object \n",
      " 35  Audience Source                              object \n",
      " 36  Data Provider                                object \n",
      " 37  Data Provider Abbreviation                   object \n",
      " 38  Audience Source-Data Provider concatenation  object \n",
      " 39  Attribute Category                           object \n",
      " 40  Attribute Category Shortcode                 object \n",
      " 41  Audience Category Reporting                  object \n",
      " 42  Platform                                     object \n",
      " 43  Random                                       object \n",
      " 44  Prefix                                       object \n",
      " 45  Claravine ID                                 object \n",
      " 46  submission_name                              object \n",
      " 47  submitter_name                               object \n",
      " 48  created_date                                 object \n",
      " 49  Audience Delve Reporting                     object \n",
      " 50  Audience Impact report                       object \n",
      " 51  Dependency Group                             object \n",
      "dtypes: float64(5), int64(1), object(46)\n",
      "memory usage: 707.3+ MB\n"
     ]
    }
   ],
   "source": [
    "merged_df.info()"
   ]
  },
  {
   "cell_type": "code",
   "execution_count": 29,
   "id": "46a58932",
   "metadata": {},
   "outputs": [],
   "source": [
    "grouped_df = merged_df.groupby(['Fiscal Quarter','BU','Country_x','Tactic','Audience Type', 'Audience Type Name','Dependency Group '])[['Impressions','Clicks','Spend','Net Rev','HVE']].sum().reset_index()"
   ]
  },
  {
   "cell_type": "code",
   "execution_count": 30,
   "id": "41580da4",
   "metadata": {},
   "outputs": [],
   "source": [
    "grouped_df.to_csv('csv/Historical Data.csv')"
   ]
  }
 ],
 "metadata": {
  "kernelspec": {
   "display_name": "Python 3 (ipykernel)",
   "language": "python",
   "name": "python3"
  },
  "language_info": {
   "codemirror_mode": {
    "name": "ipython",
    "version": 3
   },
   "file_extension": ".py",
   "mimetype": "text/x-python",
   "name": "python",
   "nbconvert_exporter": "python",
   "pygments_lexer": "ipython3",
   "version": "3.10.5"
  }
 },
 "nbformat": 4,
 "nbformat_minor": 5
}
