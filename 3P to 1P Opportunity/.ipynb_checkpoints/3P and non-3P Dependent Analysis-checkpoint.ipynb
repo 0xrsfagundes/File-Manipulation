{
 "cells": [
  {
   "cell_type": "code",
   "execution_count": 1,
   "id": "7a72462e",
   "metadata": {},
   "outputs": [],
   "source": [
    "import warnings\n",
    "import pandas as pd\n",
    "import matplotlib.pyplot as plt\n",
    "\n",
    "\n",
    "pd.set_option('display.max_columns', None)\n",
    "pd.set_option('display.max_colwidth', None)\n",
    "warnings.filterwarnings('ignore')"
   ]
  },
  {
   "cell_type": "code",
   "execution_count": 2,
   "id": "afc6aca4",
   "metadata": {},
   "outputs": [],
   "source": [
    "folder_path = r'C:\\Users\\Rafael_Fagundes\\Downloads\\compiled_data_v2.csv'\n",
    "\n",
    "df = pd.read_csv(folder_path)"
   ]
  },
  {
   "cell_type": "markdown",
   "id": "ca099e1f",
   "metadata": {},
   "source": [
    "<h2>Dependency Group</h2>"
   ]
  },
  {
   "cell_type": "code",
   "execution_count": 3,
   "id": "94479b75",
   "metadata": {},
   "outputs": [],
   "source": [
    "folder_path = r'..\\..\\Dell-Projects\\Helper\\Dependency Group.csv'\n",
    "\n",
    "dependency_group_df = pd.read_csv(folder_path)"
   ]
  },
  {
   "cell_type": "code",
   "execution_count": 4,
   "id": "34b4447a",
   "metadata": {},
   "outputs": [],
   "source": [
    "merged_df = pd.merge(df, dependency_group_df, on='Audience Type Name', how='left')"
   ]
  },
  {
   "cell_type": "code",
   "execution_count": 5,
   "id": "f5699c1b",
   "metadata": {},
   "outputs": [],
   "source": [
    "merged_df.rename(columns={'Country_x':'Country', 'Fiscal Week': 'Fiscal Week Year'}, inplace=True)"
   ]
  },
  {
   "cell_type": "markdown",
   "id": "06ac18c7",
   "metadata": {},
   "source": [
    "<h2>Calendar</h2>"
   ]
  },
  {
   "cell_type": "code",
   "execution_count": 6,
   "id": "6a88f092",
   "metadata": {},
   "outputs": [],
   "source": [
    "calendar_folder_path = r'..\\..\\Dell-Projects\\Helper\\Calendar.csv'\n",
    "\n",
    "calendar = pd.read_csv(calendar_folder_path)"
   ]
  },
  {
   "cell_type": "code",
   "execution_count": 7,
   "id": "0164b740",
   "metadata": {},
   "outputs": [],
   "source": [
    "filtered_calendar = calendar[['Fiscal Week Year','Fiscal Week Quarter','Fiscal Quarter','Week Quarter']].drop_duplicates()"
   ]
  },
  {
   "cell_type": "code",
   "execution_count": 8,
   "id": "46a58932",
   "metadata": {},
   "outputs": [],
   "source": [
    "grouped_df = merged_df.groupby(['Fiscal Quarter','Fiscal Week Year','BU','Country','Tactic','Audience Type', 'Audience Type Name','Dependency Group'])[['Impressions','Clicks','Spend','Net Rev','HVE']].sum().reset_index()"
   ]
  },
  {
   "cell_type": "markdown",
   "id": "4b36a2b3",
   "metadata": {},
   "source": [
    "<h2>Export Dataframe</h2>"
   ]
  },
  {
   "cell_type": "code",
   "execution_count": 9,
   "id": "9527052d",
   "metadata": {},
   "outputs": [],
   "source": [
    "final_df = pd.merge(grouped_df,filtered_calendar, on='Fiscal Week Year', how='left')"
   ]
  },
  {
   "cell_type": "code",
   "execution_count": 10,
   "id": "41580da4",
   "metadata": {},
   "outputs": [],
   "source": [
    "final_df.to_csv('csv/Historical Data.csv')"
   ]
  }
 ],
 "metadata": {
  "kernelspec": {
   "display_name": "Python 3 (ipykernel)",
   "language": "python",
   "name": "python3"
  },
  "language_info": {
   "codemirror_mode": {
    "name": "ipython",
    "version": 3
   },
   "file_extension": ".py",
   "mimetype": "text/x-python",
   "name": "python",
   "nbconvert_exporter": "python",
   "pygments_lexer": "ipython3",
   "version": "3.10.5"
  }
 },
 "nbformat": 4,
 "nbformat_minor": 5
}
