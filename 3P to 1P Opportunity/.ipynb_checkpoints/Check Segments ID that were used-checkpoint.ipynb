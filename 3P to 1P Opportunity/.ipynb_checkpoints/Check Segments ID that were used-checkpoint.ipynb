{
 "cells": [
  {
   "cell_type": "code",
   "execution_count": 9,
   "id": "7a72462e",
   "metadata": {},
   "outputs": [],
   "source": [
    "import warnings\n",
    "import pandas as pd\n",
    "import matplotlib.pyplot as plt\n",
    "\n",
    "\n",
    "pd.set_option('display.max_columns', None)\n",
    "# pd.set_option('display.max_colwidth', None)\n",
    "warnings.filterwarnings('ignore')"
   ]
  },
  {
   "cell_type": "code",
   "execution_count": 10,
   "id": "afc6aca4",
   "metadata": {},
   "outputs": [],
   "source": [
    "claravine_folder_path = r'..\\..\\Dell-Projects\\Helper\\Claravine.csv'\n",
    "delve_folder_path = r'C:\\Users\\Rafael_Fagundes\\Downloads\\compiled_data.csv'\n",
    "\n",
    "claravine_df = pd.read_csv(claravine_folder_path)\n",
    "delve_df = pd.read_csv(delve_folder_path)"
   ]
  },
  {
   "cell_type": "code",
   "execution_count": 25,
   "id": "3b68ff65",
   "metadata": {
    "scrolled": true
   },
   "outputs": [
    {
     "data": {
      "text/html": [
       "<div>\n",
       "<style scoped>\n",
       "    .dataframe tbody tr th:only-of-type {\n",
       "        vertical-align: middle;\n",
       "    }\n",
       "\n",
       "    .dataframe tbody tr th {\n",
       "        vertical-align: top;\n",
       "    }\n",
       "\n",
       "    .dataframe thead th {\n",
       "        text-align: right;\n",
       "    }\n",
       "</style>\n",
       "<table border=\"1\" class=\"dataframe\">\n",
       "  <thead>\n",
       "    <tr style=\"text-align: right;\">\n",
       "      <th></th>\n",
       "      <th>Segment ID</th>\n",
       "      <th>MediaCom Audience Name</th>\n",
       "      <th>Country</th>\n",
       "      <th>Business Unit</th>\n",
       "      <th>Audience Source</th>\n",
       "      <th>created_date</th>\n",
       "      <th>Placements Count</th>\n",
       "      <th>Segment Used</th>\n",
       "    </tr>\n",
       "  </thead>\n",
       "  <tbody>\n",
       "    <tr>\n",
       "      <th>0</th>\n",
       "      <td>14o04dsyat</td>\n",
       "      <td>NaN</td>\n",
       "      <td>us</td>\n",
       "      <td>csbo-aw</td>\n",
       "      <td>Google Analytics</td>\n",
       "      <td>2023-01-17 18:56:46</td>\n",
       "      <td>0.0</td>\n",
       "      <td>False</td>\n",
       "    </tr>\n",
       "    <tr>\n",
       "      <th>1</th>\n",
       "      <td>da2z3jfdx3d</td>\n",
       "      <td>NaN</td>\n",
       "      <td>us</td>\n",
       "      <td>csbo-csb</td>\n",
       "      <td>Google Analytics</td>\n",
       "      <td>2023-01-19 14:45:00</td>\n",
       "      <td>0.0</td>\n",
       "      <td>False</td>\n",
       "    </tr>\n",
       "    <tr>\n",
       "      <th>2</th>\n",
       "      <td>d2l072rynmf</td>\n",
       "      <td>targeting-development_us-csbo-csb_1pcrm-aiqcrm...</td>\n",
       "      <td>us</td>\n",
       "      <td>csbo-csb</td>\n",
       "      <td>AIQ CRM</td>\n",
       "      <td>2023-01-20 17:49:12</td>\n",
       "      <td>0.0</td>\n",
       "      <td>False</td>\n",
       "    </tr>\n",
       "    <tr>\n",
       "      <th>3</th>\n",
       "      <td>dztqn3bkuwh</td>\n",
       "      <td>targeting-gamingpcbuyer_us-csbo-csb_1pcrm-aiqc...</td>\n",
       "      <td>us</td>\n",
       "      <td>csbo-csb</td>\n",
       "      <td>AIQ CRM</td>\n",
       "      <td>2023-01-20 17:49:12</td>\n",
       "      <td>0.0</td>\n",
       "      <td>False</td>\n",
       "    </tr>\n",
       "    <tr>\n",
       "      <th>4</th>\n",
       "      <td>dfmb6iq56n5</td>\n",
       "      <td>targeting-mbinmarket_us-mb_abm-liveramp-dunand...</td>\n",
       "      <td>us</td>\n",
       "      <td>mb</td>\n",
       "      <td>Liveramp</td>\n",
       "      <td>2023-01-23 20:09:10</td>\n",
       "      <td>0.0</td>\n",
       "      <td>False</td>\n",
       "    </tr>\n",
       "  </tbody>\n",
       "</table>\n",
       "</div>"
      ],
      "text/plain": [
       "    Segment ID                             MediaCom Audience Name Country  \\\n",
       "0   14o04dsyat                                                NaN      us   \n",
       "1  da2z3jfdx3d                                                NaN      us   \n",
       "2  d2l072rynmf  targeting-development_us-csbo-csb_1pcrm-aiqcrm...      us   \n",
       "3  dztqn3bkuwh  targeting-gamingpcbuyer_us-csbo-csb_1pcrm-aiqc...      us   \n",
       "4  dfmb6iq56n5  targeting-mbinmarket_us-mb_abm-liveramp-dunand...      us   \n",
       "\n",
       "  Business Unit   Audience Source         created_date  Placements Count  \\\n",
       "0       csbo-aw  Google Analytics  2023-01-17 18:56:46               0.0   \n",
       "1      csbo-csb  Google Analytics  2023-01-19 14:45:00               0.0   \n",
       "2      csbo-csb           AIQ CRM  2023-01-20 17:49:12               0.0   \n",
       "3      csbo-csb           AIQ CRM  2023-01-20 17:49:12               0.0   \n",
       "4            mb          Liveramp  2023-01-23 20:09:10               0.0   \n",
       "\n",
       "   Segment Used  \n",
       "0         False  \n",
       "1         False  \n",
       "2         False  \n",
       "3         False  \n",
       "4         False  "
      ]
     },
     "execution_count": 25,
     "metadata": {},
     "output_type": "execute_result"
    }
   ],
   "source": [
    "filtered_claravine_df = claravine_df[['Segment ID', 'MediaCom Audience Name', 'Country', 'Business Unit', 'Audience Source', 'created_date']]\n",
    "filtered_delve_df = delve_df[['Segment ID', 'Media Buy Name']][(delve_df['Segment ID'] != '0') & (delve_df['Segment ID'] != 0)]\n",
    "\n",
    "grouped_delve_df = filtered_delve_df.groupby(['Segment ID'])['Media Buy Name'].count().reset_index()\n",
    "grouped_delve_df = grouped_delve_df.rename(columns={'Media Buy Name': 'Placements Count'})\n",
    "\n",
    "# Use 'merge' to combine the DataFrames based on 'Segment ID'\n",
    "merged = filtered_claravine_df.merge(grouped_delve_df, on='Segment ID', how='left')\n",
    "\n",
    "# Fill NaN values in 'Placements Count' with 0\n",
    "merged['Placements Count'].fillna(0, inplace=True)\n",
    "\n",
    "# Create 'Segment Used' column based on the presence of 'Segment ID' in 'merged'\n",
    "merged['Segment Used'] = merged['Segment ID'].isin(grouped_delve_df['Segment ID'])\n",
    "\n",
    "merged.head()\n"
   ]
  },
  {
   "cell_type": "code",
   "execution_count": 26,
   "id": "afc55ed3",
   "metadata": {},
   "outputs": [
    {
     "data": {
      "text/plain": [
       "Segment Used\n",
       "False    741\n",
       "True     183\n",
       "Name: count, dtype: int64"
      ]
     },
     "execution_count": 26,
     "metadata": {},
     "output_type": "execute_result"
    }
   ],
   "source": [
    "merged['Segment Used'].value_counts()"
   ]
  },
  {
   "cell_type": "code",
   "execution_count": 27,
   "id": "02b60789",
   "metadata": {},
   "outputs": [],
   "source": [
    "merged.to_csv('csv/Segments_IDs_used.csv')"
   ]
  }
 ],
 "metadata": {
  "kernelspec": {
   "display_name": "Python 3 (ipykernel)",
   "language": "python",
   "name": "python3"
  },
  "language_info": {
   "codemirror_mode": {
    "name": "ipython",
    "version": 3
   },
   "file_extension": ".py",
   "mimetype": "text/x-python",
   "name": "python",
   "nbconvert_exporter": "python",
   "pygments_lexer": "ipython3",
   "version": "3.10.5"
  }
 },
 "nbformat": 4,
 "nbformat_minor": 5
}
