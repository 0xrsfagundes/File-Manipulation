{
 "cells": [
  {
   "cell_type": "code",
   "execution_count": 1,
   "id": "7a72462e",
   "metadata": {},
   "outputs": [],
   "source": [
    "import warnings\n",
    "import pandas as pd\n",
    "import matplotlib.pyplot as plt\n",
    "\n",
    "\n",
    "pd.set_option('display.max_columns', None)\n",
    "pd.set_option('display.max_colwidth', None)\n",
    "warnings.filterwarnings('ignore')"
   ]
  },
  {
   "cell_type": "code",
   "execution_count": 2,
   "id": "afc6aca4",
   "metadata": {},
   "outputs": [],
   "source": [
    "folder_path = r'C:\\Users\\Rafael_Fagundes\\Downloads\\compiled_data.csv'\n",
    "\n",
    "df = pd.read_csv(folder_path)"
   ]
  },
  {
   "cell_type": "code",
   "execution_count": 5,
   "id": "79fb27c5",
   "metadata": {},
   "outputs": [
    {
     "name": "stdout",
     "output_type": "stream",
     "text": [
      "<class 'pandas.core.frame.DataFrame'>\n",
      "RangeIndex: 1782917 entries, 0 to 1782916\n",
      "Data columns (total 48 columns):\n",
      " #   Column                                       Dtype  \n",
      "---  ------                                       -----  \n",
      " 0   Unnamed: 0                                   int64  \n",
      " 1   Audience Type                                object \n",
      " 2   Tactic                                       object \n",
      " 3   Media Buy Name                               object \n",
      " 4   Campaign Name                                object \n",
      " 5   Fiscal Quarter                               object \n",
      " 6   Fiscal Week                                  object \n",
      " 7   Country_x                                    object \n",
      " 8   Display Funnel Mapped                        object \n",
      " 9   Display Dell Vehicle Mapped                  object \n",
      " 10  Display Business Unit Mapped                 object \n",
      " 11  Display Site Name Mapped                     object \n",
      " 12  Audience Type Name                           object \n",
      " 13  Impressions                                  float64\n",
      " 14  Clicks                                       float64\n",
      " 15  Spend                                        float64\n",
      " 16  Net Rev                                      float64\n",
      " 17  BU                                           object \n",
      " 18  Segment ID                                   object \n",
      " 19  Audience ID Exists                           object \n",
      " 20  Dell Audience Name                           object \n",
      " 21  VAR Dell Audience Name                       object \n",
      " 22  Dell Audience Name concatenation             object \n",
      " 23  MediaCom Audience Name                       object \n",
      " 24  MediaCom Audience Name Concatenation         object \n",
      " 25  Audience Objective                           object \n",
      " 26  Seed Information                             object \n",
      " 27  Audience Composition                         object \n",
      " 28  Audience Composition concatenation           object \n",
      " 29  Audience Object-Audience Composition         object \n",
      " 30  Country_y                                    object \n",
      " 31  Business Unit                                object \n",
      " 32  Country-BU concatenation                     object \n",
      " 33  Data Type                                    object \n",
      " 34  Audience Source                              object \n",
      " 35  Data Provider                                object \n",
      " 36  Data Provider Abbreviation                   object \n",
      " 37  Audience Source-Data Provider concatenation  object \n",
      " 38  Attribute Category                           object \n",
      " 39  Attribute Category Shortcode                 object \n",
      " 40  Audience Category Reporting                  object \n",
      " 41  Platform                                     object \n",
      " 42  Random                                       object \n",
      " 43  Prefix                                       object \n",
      " 44  Claravine ID                                 object \n",
      " 45  submission_name                              object \n",
      " 46  submitter_name                               object \n",
      " 47  created_date                                 object \n",
      "dtypes: float64(4), int64(1), object(43)\n",
      "memory usage: 652.9+ MB\n"
     ]
    }
   ],
   "source": [
    "df.info()"
   ]
  },
  {
   "cell_type": "code",
   "execution_count": 3,
   "id": "46a58932",
   "metadata": {},
   "outputs": [],
   "source": [
    "grouped_df = df.groupby(['Fiscal Quarter','BU','Country_x','Tactic','Audience Type', 'Audience Type Name'])[['Spend','Net Rev']].sum().reset_index()"
   ]
  },
  {
   "cell_type": "code",
   "execution_count": 4,
   "id": "41580da4",
   "metadata": {},
   "outputs": [],
   "source": [
    "grouped_df.to_csv('csv/B2B Analysis.csv')"
   ]
  }
 ],
 "metadata": {
  "kernelspec": {
   "display_name": "Python 3 (ipykernel)",
   "language": "python",
   "name": "python3"
  },
  "language_info": {
   "codemirror_mode": {
    "name": "ipython",
    "version": 3
   },
   "file_extension": ".py",
   "mimetype": "text/x-python",
   "name": "python",
   "nbconvert_exporter": "python",
   "pygments_lexer": "ipython3",
   "version": "3.10.5"
  }
 },
 "nbformat": 4,
 "nbformat_minor": 5
}
