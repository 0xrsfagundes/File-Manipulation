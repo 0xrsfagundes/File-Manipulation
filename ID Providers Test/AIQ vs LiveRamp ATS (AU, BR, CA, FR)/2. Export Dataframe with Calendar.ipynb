{
 "cells": [
  {
   "cell_type": "markdown",
   "id": "f0f47187",
   "metadata": {},
   "source": [
    "<h2>Library</h2>"
   ]
  },
  {
   "cell_type": "code",
   "execution_count": 1,
   "id": "39d8aac6",
   "metadata": {},
   "outputs": [],
   "source": [
    "import warnings\n",
    "import pandas as pd\n",
    "\n",
    "pd.set_option('display.max_columns', None)\n",
    "pd.set_option('display.max_colwidth', None)\n",
    "warnings.filterwarnings('ignore')"
   ]
  },
  {
   "cell_type": "markdown",
   "id": "cf0d29c7",
   "metadata": {},
   "source": [
    "<h2>Functions</h2>"
   ]
  },
  {
   "cell_type": "markdown",
   "id": "95b19c87",
   "metadata": {},
   "source": [
    "<h2>Flight Dates</h2>"
   ]
  },
  {
   "cell_type": "markdown",
   "id": "7223c853",
   "metadata": {},
   "source": [
    "AU: 2023-09-19<br>\n",
    "BR: 2023-09-04<br>\n",
    "CA: 2023-09-01<br>\n",
    "FR: 2023-08-12<br>"
   ]
  },
  {
   "cell_type": "code",
   "execution_count": 2,
   "id": "b69d9ed1",
   "metadata": {},
   "outputs": [],
   "source": [
    "folder_path = r'..\\..\\..\\Dell-Projects\\Helper\\Calendar.csv'\n",
    "calendar = pd.read_csv(folder_path, parse_dates=['Date'])\n",
    "calendar = calendar[(calendar['Date'] >= '2023-08-01') & (calendar['Date'] <= '2023-11-03')]"
   ]
  },
  {
   "cell_type": "markdown",
   "id": "0017d695",
   "metadata": {},
   "source": [
    "<h2>Dataset</h2>"
   ]
  },
  {
   "cell_type": "code",
   "execution_count": 3,
   "id": "9dc38d3f",
   "metadata": {},
   "outputs": [],
   "source": [
    "df = pd.read_csv(r'csv\\df.csv', parse_dates=['Date'])"
   ]
  },
  {
   "cell_type": "markdown",
   "id": "859b0446",
   "metadata": {},
   "source": [
    "<h2>Merge with Calendar</h2>"
   ]
  },
  {
   "cell_type": "code",
   "execution_count": 4,
   "id": "1009cfc7",
   "metadata": {},
   "outputs": [],
   "source": [
    "merge_df = pd.merge(calendar, df, on='Date', how='left')"
   ]
  },
  {
   "cell_type": "markdown",
   "id": "7051ef3f",
   "metadata": {},
   "source": [
    "<h2>Export Dataframe</h2>"
   ]
  },
  {
   "cell_type": "code",
   "execution_count": 5,
   "id": "b9c070be",
   "metadata": {},
   "outputs": [],
   "source": [
    "merge_df.to_csv('csv/df_with_calendar.csv')"
   ]
  }
 ],
 "metadata": {
  "kernelspec": {
   "display_name": "Python 3 (ipykernel)",
   "language": "python",
   "name": "python3"
  },
  "language_info": {
   "codemirror_mode": {
    "name": "ipython",
    "version": 3
   },
   "file_extension": ".py",
   "mimetype": "text/x-python",
   "name": "python",
   "nbconvert_exporter": "python",
   "pygments_lexer": "ipython3",
   "version": "3.10.5"
  }
 },
 "nbformat": 4,
 "nbformat_minor": 5
}
