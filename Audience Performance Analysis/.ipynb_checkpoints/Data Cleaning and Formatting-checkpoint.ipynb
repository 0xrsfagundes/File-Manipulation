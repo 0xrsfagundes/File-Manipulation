{
 "cells": [
  {
   "cell_type": "code",
   "execution_count": 64,
   "id": "2251ab96",
   "metadata": {},
   "outputs": [],
   "source": [
    "import warnings\n",
    "import pandas as pd\n",
    "import numpy as np\n",
    "\n",
    "warnings.filterwarnings('ignore')\n",
    "pd.set_option('display.max_columns', None)"
   ]
  },
  {
   "cell_type": "code",
   "execution_count": 65,
   "id": "dd2afd33",
   "metadata": {},
   "outputs": [],
   "source": [
    "# Load the CSV file into a Pandas DataFrame\n",
    "csv_file = \"csv/Audience Report.csv\"\n",
    "df = pd.read_csv(csv_file)"
   ]
  },
  {
   "cell_type": "code",
   "execution_count": 66,
   "id": "7e924b4e",
   "metadata": {},
   "outputs": [],
   "source": [
    "#String Columns\n",
    "string_columns = [\n",
    "    'Display Audience Funnel',\n",
    "    'Display Supplier Country',\n",
    "    'Dell Fiscal Quarter',\n",
    "    'Display Vehicle',\n",
    "    'Display Business Unit',\n",
    "    'Display Report Site Name',\n",
    "    'Campaign Name',\n",
    "    'Media Buy Name',\n",
    "    'Display BRR Line Item',\n",
    "    'Audience Type Category (Raw)',\n",
    "    'B2B vs CSB',\n",
    "    '9th Element',\n",
    "    'Audience ID',\n",
    "    'Audience Composition',\n",
    "    'Country-BU',\n",
    "    'Data provider',\n",
    "    'AIQ Attribute Category',\n",
    "    '1/2/3 PD',\n",
    "    'Audience ID Group',\n",
    "    'Clean Audience Type Category'\n",
    "]\n",
    "\n",
    "#Float Columns\n",
    "float_columns = [\n",
    "    'Flight Capped Spend (USD) - Final',\n",
    "    'Impressions',\n",
    "    'Clicks',\n",
    "    'True Conversion (GCSB) (Calc)',\n",
    "    'True Revenue',\n",
    "    'US CSB CT+VT Conversions',\n",
    "    'US CSB CT+VT Revenue',\n",
    "    'US BU Visits',\n",
    "    'US Total Visits',\n",
    "    'Total COM HVEs 4.0 Custom (Calc) Updated',\n",
    "    'FM MAPs OA',\n",
    "    'US DPID Total Revenue'\n",
    "]\n",
    "\n",
    "#Dummy_colums\n",
    "dummy_columns = [\n",
    "    'Display Audience Funnel',\n",
    "    'Display Supplier Country',\n",
    "    'Dell Fiscal Quarter',\n",
    "    'Display Vehicle',\n",
    "    'Display Business Unit',\n",
    "    'Display Report Site Name',\n",
    "    'Display BRR Line Item',\n",
    "    'Audience Type Category (Raw)',\n",
    "    '1/2/3 PD',\n",
    "    'Clean Audience Type Category'\n",
    "]\n",
    "\n",
    "\n",
    "#columns w/ large number of unique values\n",
    "non_dummy_columns = [\n",
    "    'Campaign Name'\n",
    "    ,'Media Buy Name'\n",
    "]"
   ]
  },
  {
   "cell_type": "code",
   "execution_count": 67,
   "id": "7afbca95",
   "metadata": {},
   "outputs": [],
   "source": [
    "#Reolace NAN values by zero\n",
    "df.fillna(0, inplace=True)\n",
    "\n",
    "# Remove dollar signs and commas from Float Columns\n",
    "for column in float_columns:\n",
    "    df[column] = df[column].astype(str).str.replace('[\\$,]', '', regex=True).astype(float)"
   ]
  },
  {
   "cell_type": "code",
   "execution_count": 68,
   "id": "435b8852",
   "metadata": {},
   "outputs": [],
   "source": [
    "df['Revenue'] = np.where(df['B2B vs CSB'] == 'CSB', df['US CSB CT+VT Revenue'],\n",
    "                           np.where(df['B2B vs CSB'] == 'B2B', df['US DPID Total Revenue'],\n",
    "                                    df['US CSB CT+VT Revenue']))"
   ]
  },
  {
   "cell_type": "code",
   "execution_count": 69,
   "id": "a05d6991",
   "metadata": {},
   "outputs": [],
   "source": [
    "df.rename(columns={'Flight Capped Spend (USD) - Final': 'Spend'\n",
    "                       ,'Total COM HVEs 4.0 Custom (Calc) Updated' : 'HVE'\n",
    "                       , 'True Conversion (GCSB) (Calc)' : 'True Conversion'\n",
    "                       ,'Display Audience Funnel':'Funnel'\n",
    "                       ,'Display Supplier Country':'Country'\n",
    "                       ,'Display Vehicle':'Vehicle'\n",
    "                       ,'Display Business Unit':'BU_lvl2'\n",
    "                       ,'B2B vs CSB':'BU_lvl1'\n",
    "                       ,'Clean Audience Type Category':'Audience Type Category'}, inplace=True)"
   ]
  },
  {
   "cell_type": "code",
   "execution_count": 70,
   "id": "8b2d50e8",
   "metadata": {},
   "outputs": [],
   "source": [
    "#Get Claravine ID: _d1n4f7g4t1i_\n",
    "df['Audience ID2'] = df['Media Buy Name'].replace('-', '_', regex=True).str.extract('(_d[a-zA-Z0-9]{10}_)')\n",
    "\n",
    "df['Audience ID2'] = df['Audience ID2'].str.replace('_', '')\n",
    "\n",
    "df.fillna(0, inplace=True)\n",
    "\n",
    "df['Audience ID Exists'] = df['Audience ID2'].apply(lambda x: 'No ID' if x == 0 else 'Have ID')\n"
   ]
  },
  {
   "cell_type": "code",
   "execution_count": 71,
   "id": "8627c95d",
   "metadata": {
    "scrolled": false
   },
   "outputs": [
    {
     "name": "stdout",
     "output_type": "stream",
     "text": [
      "<class 'pandas.core.frame.DataFrame'>\n",
      "RangeIndex: 49282 entries, 0 to 49281\n",
      "Data columns (total 35 columns):\n",
      " #   Column                        Non-Null Count  Dtype  \n",
      "---  ------                        --------------  -----  \n",
      " 0   Funnel                        49282 non-null  object \n",
      " 1   Country                       49282 non-null  object \n",
      " 2   Dell Fiscal Quarter           49282 non-null  object \n",
      " 3   Vehicle                       49282 non-null  object \n",
      " 4   BU_lvl2                       49282 non-null  object \n",
      " 5   Display Report Site Name      49282 non-null  object \n",
      " 6   Campaign Name                 49282 non-null  object \n",
      " 7   Media Buy Name                49282 non-null  object \n",
      " 8   Display BRR Line Item         49282 non-null  object \n",
      " 9   Audience Type Category (Raw)  49282 non-null  object \n",
      " 10  Spend                         49282 non-null  float64\n",
      " 11  Impressions                   49282 non-null  float64\n",
      " 12  Clicks                        49282 non-null  float64\n",
      " 13  True Conversion               49282 non-null  float64\n",
      " 14  True Revenue                  49282 non-null  float64\n",
      " 15  US CSB CT+VT Conversions      49282 non-null  float64\n",
      " 16  US CSB CT+VT Revenue          49282 non-null  float64\n",
      " 17  US BU Visits                  49282 non-null  float64\n",
      " 18  US Total Visits               49282 non-null  float64\n",
      " 19  HVE                           49282 non-null  float64\n",
      " 20  FM MAPs OA                    49282 non-null  float64\n",
      " 21  US DPID Total Revenue         49282 non-null  float64\n",
      " 22  BU_lvl1                       49282 non-null  object \n",
      " 23  9th Element                   49282 non-null  object \n",
      " 24  Audience ID                   49282 non-null  object \n",
      " 25  Audience Composition          49282 non-null  object \n",
      " 26  Country-BU                    49282 non-null  object \n",
      " 27  Data provider                 49282 non-null  object \n",
      " 28  AIQ Attribute Category        49282 non-null  object \n",
      " 29  1/2/3 PD                      49282 non-null  object \n",
      " 30  Audience ID Group             49282 non-null  object \n",
      " 31  Audience Type Category        49282 non-null  object \n",
      " 32  Revenue                       49282 non-null  float64\n",
      " 33  Audience ID2                  49282 non-null  object \n",
      " 34  Audience ID Exists            49282 non-null  object \n",
      "dtypes: float64(13), object(22)\n",
      "memory usage: 13.2+ MB\n"
     ]
    }
   ],
   "source": [
    "df.info()"
   ]
  },
  {
   "cell_type": "code",
   "execution_count": 72,
   "id": "77a8406a",
   "metadata": {},
   "outputs": [],
   "source": [
    "df.to_csv('csv/Audience Report Formatted.csv')"
   ]
  }
 ],
 "metadata": {
  "kernelspec": {
   "display_name": "Python 3 (ipykernel)",
   "language": "python",
   "name": "python3"
  },
  "language_info": {
   "codemirror_mode": {
    "name": "ipython",
    "version": 3
   },
   "file_extension": ".py",
   "mimetype": "text/x-python",
   "name": "python",
   "nbconvert_exporter": "python",
   "pygments_lexer": "ipython3",
   "version": "3.10.5"
  }
 },
 "nbformat": 4,
 "nbformat_minor": 5
}
