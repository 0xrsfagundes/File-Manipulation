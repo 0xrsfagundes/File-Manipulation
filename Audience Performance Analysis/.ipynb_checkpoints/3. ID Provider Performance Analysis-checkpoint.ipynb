{
 "cells": [
  {
   "cell_type": "code",
   "execution_count": 60,
   "id": "f2778dbb",
   "metadata": {},
   "outputs": [],
   "source": [
    "import warnings\n",
    "import pandas as pd\n",
    "import numpy as np\n",
    "import seaborn as sns\n",
    "import matplotlib.pyplot as plt\n",
    "\n",
    "warnings.filterwarnings('ignore')\n",
    "pd.set_option('display.max_columns', None)"
   ]
  },
  {
   "cell_type": "code",
   "execution_count": 61,
   "id": "8a4831f2",
   "metadata": {},
   "outputs": [],
   "source": [
    "df = pd.read_csv('csv/Audience Report Formatted.csv')\n",
    "\n",
    "df_claravine = pd.read_csv('csv/Claravine.csv')"
   ]
  },
  {
   "cell_type": "code",
   "execution_count": 62,
   "id": "aed17428",
   "metadata": {},
   "outputs": [],
   "source": [
    "df_merged = pd.merge(df, df_claravine, on ='Segment ID', how='left')"
   ]
  },
  {
   "cell_type": "code",
   "execution_count": 63,
   "id": "34fc0589",
   "metadata": {
    "scrolled": true
   },
   "outputs": [],
   "source": [
    "df_merged.fillna(0, inplace=True)"
   ]
  },
  {
   "cell_type": "code",
   "execution_count": 64,
   "id": "0de60442",
   "metadata": {
    "scrolled": true
   },
   "outputs": [
    {
     "data": {
      "text/html": [
       "<div>\n",
       "<style scoped>\n",
       "    .dataframe tbody tr th:only-of-type {\n",
       "        vertical-align: middle;\n",
       "    }\n",
       "\n",
       "    .dataframe tbody tr th {\n",
       "        vertical-align: top;\n",
       "    }\n",
       "\n",
       "    .dataframe thead th {\n",
       "        text-align: right;\n",
       "    }\n",
       "</style>\n",
       "<table border=\"1\" class=\"dataframe\">\n",
       "  <thead>\n",
       "    <tr style=\"text-align: right;\">\n",
       "      <th></th>\n",
       "      <th>Funnel</th>\n",
       "      <th>Country_x</th>\n",
       "      <th>Dell Fiscal Quarter</th>\n",
       "      <th>Vehicle</th>\n",
       "      <th>BU_lvl2</th>\n",
       "      <th>BU_lvl1</th>\n",
       "      <th>Campaign Name</th>\n",
       "      <th>Audience Type Category</th>\n",
       "      <th>Audience Source</th>\n",
       "      <th>Spend</th>\n",
       "      <th>Revenue</th>\n",
       "      <th>ROAS</th>\n",
       "    </tr>\n",
       "  </thead>\n",
       "  <tbody>\n",
       "    <tr>\n",
       "      <th>0</th>\n",
       "      <td>Active Prospects</td>\n",
       "      <td>ANDEAN</td>\n",
       "      <td>FY24Q2</td>\n",
       "      <td>Social</td>\n",
       "      <td>Client Solutions Group</td>\n",
       "      <td>B2B</td>\n",
       "      <td>2024_Q1_ANDEAN-CO_CSG_AP_SOCIAL_PROSPECTING-EN...</td>\n",
       "      <td>IN MARKET-3PD BEHAVIOR</td>\n",
       "      <td>0</td>\n",
       "      <td>214.80</td>\n",
       "      <td>0.0</td>\n",
       "      <td>0.0</td>\n",
       "    </tr>\n",
       "    <tr>\n",
       "      <th>1</th>\n",
       "      <td>Active Prospects</td>\n",
       "      <td>ANDEAN</td>\n",
       "      <td>FY24Q2</td>\n",
       "      <td>Social</td>\n",
       "      <td>Client Solutions Group</td>\n",
       "      <td>B2B</td>\n",
       "      <td>2024_Q1_ANDEAN-CO_CSG_AP_SOCIAL_PROSPECTING-EN...</td>\n",
       "      <td>IN MARKET-3PD BEHAVIOR</td>\n",
       "      <td>0</td>\n",
       "      <td>321.60</td>\n",
       "      <td>0.0</td>\n",
       "      <td>0.0</td>\n",
       "    </tr>\n",
       "    <tr>\n",
       "      <th>2</th>\n",
       "      <td>Active Prospects</td>\n",
       "      <td>Argentina</td>\n",
       "      <td>FY24Q2</td>\n",
       "      <td>Social</td>\n",
       "      <td>Infrastructure Solutions Group</td>\n",
       "      <td>B2B</td>\n",
       "      <td>2024_Q2_AR_ISG_AP_SOCIAL_PROSPECTING-ENGAGE_SO...</td>\n",
       "      <td>IN MARKET-3PD BEHAVIOR</td>\n",
       "      <td>0</td>\n",
       "      <td>925.38</td>\n",
       "      <td>0.0</td>\n",
       "      <td>0.0</td>\n",
       "    </tr>\n",
       "    <tr>\n",
       "      <th>3</th>\n",
       "      <td>Active Prospects</td>\n",
       "      <td>Argentina</td>\n",
       "      <td>FY24Q2</td>\n",
       "      <td>Social</td>\n",
       "      <td>Infrastructure Solutions Group</td>\n",
       "      <td>B2B</td>\n",
       "      <td>2024_Q2_AR_ISG_AP_SOCIAL_PROSPECTING-ENGAGE_SO...</td>\n",
       "      <td>IN MARKET-3PD BEHAVIOR</td>\n",
       "      <td>0</td>\n",
       "      <td>924.14</td>\n",
       "      <td>0.0</td>\n",
       "      <td>0.0</td>\n",
       "    </tr>\n",
       "    <tr>\n",
       "      <th>4</th>\n",
       "      <td>Active Prospects</td>\n",
       "      <td>Argentina</td>\n",
       "      <td>FY24Q2</td>\n",
       "      <td>Social</td>\n",
       "      <td>Infrastructure Solutions Group</td>\n",
       "      <td>B2B</td>\n",
       "      <td>2024_Q2_AR_ISG_AP_SOCIAL_PROSPECTING-ENGAGE_SO...</td>\n",
       "      <td>IN MARKET-3PD BEHAVIOR</td>\n",
       "      <td>0</td>\n",
       "      <td>1112.93</td>\n",
       "      <td>0.0</td>\n",
       "      <td>0.0</td>\n",
       "    </tr>\n",
       "  </tbody>\n",
       "</table>\n",
       "</div>"
      ],
      "text/plain": [
       "             Funnel  Country_x Dell Fiscal Quarter Vehicle  \\\n",
       "0  Active Prospects     ANDEAN              FY24Q2  Social   \n",
       "1  Active Prospects     ANDEAN              FY24Q2  Social   \n",
       "2  Active Prospects  Argentina              FY24Q2  Social   \n",
       "3  Active Prospects  Argentina              FY24Q2  Social   \n",
       "4  Active Prospects  Argentina              FY24Q2  Social   \n",
       "\n",
       "                          BU_lvl2 BU_lvl1  \\\n",
       "0          Client Solutions Group     B2B   \n",
       "1          Client Solutions Group     B2B   \n",
       "2  Infrastructure Solutions Group     B2B   \n",
       "3  Infrastructure Solutions Group     B2B   \n",
       "4  Infrastructure Solutions Group     B2B   \n",
       "\n",
       "                                       Campaign Name  Audience Type Category  \\\n",
       "0  2024_Q1_ANDEAN-CO_CSG_AP_SOCIAL_PROSPECTING-EN...  IN MARKET-3PD BEHAVIOR   \n",
       "1  2024_Q1_ANDEAN-CO_CSG_AP_SOCIAL_PROSPECTING-EN...  IN MARKET-3PD BEHAVIOR   \n",
       "2  2024_Q2_AR_ISG_AP_SOCIAL_PROSPECTING-ENGAGE_SO...  IN MARKET-3PD BEHAVIOR   \n",
       "3  2024_Q2_AR_ISG_AP_SOCIAL_PROSPECTING-ENGAGE_SO...  IN MARKET-3PD BEHAVIOR   \n",
       "4  2024_Q2_AR_ISG_AP_SOCIAL_PROSPECTING-ENGAGE_SO...  IN MARKET-3PD BEHAVIOR   \n",
       "\n",
       "  Audience Source    Spend  Revenue  ROAS  \n",
       "0               0   214.80      0.0   0.0  \n",
       "1               0   321.60      0.0   0.0  \n",
       "2               0   925.38      0.0   0.0  \n",
       "3               0   924.14      0.0   0.0  \n",
       "4               0  1112.93      0.0   0.0  "
      ]
     },
     "execution_count": 64,
     "metadata": {},
     "output_type": "execute_result"
    }
   ],
   "source": [
    "# Grouping columns\n",
    "grouping_cols = ['Funnel'\n",
    "                 , 'Country_x'\n",
    "                 , 'Dell Fiscal Quarter'\n",
    "                 , 'Vehicle'\n",
    "                 , 'BU_lvl2'\n",
    "                 , 'BU_lvl1'\n",
    "                 , 'Campaign Name'\n",
    "                 , 'Audience Type Category'\n",
    "                 , 'Audience Source']\n",
    "\n",
    "# Aggregation functions\n",
    "agg_funcs = {\n",
    "    'Spend': 'sum',\n",
    "    'Revenue': 'sum'\n",
    "}\n",
    "\n",
    "# Create the new dataframe\n",
    "grouped_df = df_merged.groupby(grouping_cols).agg(agg_funcs).reset_index()\n",
    "\n",
    "# Calculate ROAS\n",
    "grouped_df['ROAS'] = grouped_df['Revenue'] / grouped_df['Spend']\n",
    "\n",
    "# Round the values in the 'grouped_df' DataFrame to two decimal places\n",
    "grouped_df = grouped_df.round(decimals=2, out=None)\n",
    "\n",
    "# Print or display the new dataframe\n",
    "grouped_df.head()\n"
   ]
  },
  {
   "cell_type": "code",
   "execution_count": 65,
   "id": "ac126cdf",
   "metadata": {},
   "outputs": [
    {
     "data": {
      "text/plain": [
       "[]"
      ]
     },
     "execution_count": 65,
     "metadata": {},
     "output_type": "execute_result"
    },
    {
     "data": {
      "image/png": "[encoded data removed]",
      "text/plain": [
       "<Figure size 1000x500 with 1 Axes>"
      ]
     },
     "metadata": {},
     "output_type": "display_data"
    }
   ],
   "source": [
    "# Create a box plot by 'BU_lvl1'\n",
    "fig, ax1 = plt.subplots(figsize=(10, 5))\n",
    "\n",
    "# Set plot title and labels\n",
    "ax1.set_title('ROAS boxplot by Audience Source')\n",
    "ax1.set_ylabel('ROAS')\n",
    "\n",
    "# Create the box plot\n",
    "sns.boxplot(data=grouped_df, x='Audience Source', y='ROAS')\n",
    "\n",
    "plt.axhline(y=1, color='r', linestyle='--', label='ROAS = 1')\n",
    "\n",
    "plt.xticks(rotation=90)\n",
    "\n",
    "# Show the plot\n",
    "plt.semilogy()\n"
   ]
  }
 ],
 "metadata": {
  "kernelspec": {
   "display_name": "Python 3 (ipykernel)",
   "language": "python",
   "name": "python3"
  },
  "language_info": {
   "codemirror_mode": {
    "name": "ipython",
    "version": 3
   },
   "file_extension": ".py",
   "mimetype": "text/x-python",
   "name": "python",
   "nbconvert_exporter": "python",
   "pygments_lexer": "ipython3",
   "version": "3.10.5"
  }
 },
 "nbformat": 4,
 "nbformat_minor": 5
}
