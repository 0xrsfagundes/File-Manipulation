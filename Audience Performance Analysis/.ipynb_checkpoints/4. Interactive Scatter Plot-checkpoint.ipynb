{
 "cells": [
  {
   "cell_type": "code",
   "execution_count": 1,
   "id": "3070ad2e",
   "metadata": {},
   "outputs": [],
   "source": [
    "import warnings\n",
    "import pandas as pd\n",
    "import numpy as np\n",
    "import plotly.express as px\n",
    "\n",
    "warnings.filterwarnings('ignore')\n",
    "pd.set_option('display.max_columns', None)"
   ]
  },
  {
   "cell_type": "markdown",
   "id": "6cbc4278",
   "metadata": {},
   "source": [
    "<h2>CSB</h2>"
   ]
  },
  {
   "cell_type": "code",
   "execution_count": 2,
   "id": "ef9c3c48",
   "metadata": {},
   "outputs": [],
   "source": [
    "csv_file_csb = \"csv/grouped_csb_df_export.csv\"\n",
    "df_csb = pd.read_csv(csv_file_csb)"
   ]
  },
  {
   "cell_type": "code",
   "execution_count": 3,
   "id": "75bd0ea7",
   "metadata": {},
   "outputs": [],
   "source": [
    "# Assuming df is your DataFrame\n",
    "df_csb['Spend range'] = np.select(\n",
    "    [\n",
    "        (df_csb['Spend'] < 20000),                  # Spend < 20K\n",
    "        (df_csb['Spend'] >= 20000) & (df_csb['Spend'] < 100000),  # Spend >= 20K and < 100K\n",
    "        (df_csb['Spend'] >= 100000)                 # Spend >= 100K\n",
    "    ],\n",
    "    [\n",
    "        'Spend < 20K',\n",
    "        'Spend >= 20K and < 100K',\n",
    "        'Spend >= 100K'\n",
    "    ],\n",
    "    default='Other'\n",
    ")\n"
   ]
  },
  {
   "cell_type": "code",
   "execution_count": 5,
   "id": "f4e587eb",
   "metadata": {},
   "outputs": [],
   "source": [
    "# Create scatter plot using Plotly Express with hover_name\n",
    "fig = px.scatter(df_csb, x='ROAS', y='Spend', color='Funnel', title='FY24Q4 AdTech 3P to 1P Opportunity Analysis - CSB ROAS Analysis', hover_name='Campaign Name', facet_col=\"Spend range\")\n",
    "fig.update_traces(marker=dict(size=12, opacity=0.7))\n",
    "\n",
    "# Export the plot as an HTML file\n",
    "fig.write_html('html/FY24Q4 AdTech 3P to 1P Opportunity Analysis - CSB ROAS Analysis.html')\n"
   ]
  },
  {
   "cell_type": "code",
   "execution_count": 6,
   "id": "74d246ba",
   "metadata": {},
   "outputs": [],
   "source": [
    "df_csb.to_csv('csv/df_csb_export.csv')"
   ]
  },
  {
   "cell_type": "markdown",
   "id": "da6609c2",
   "metadata": {},
   "source": [
    "<h2>B2B</h2>"
   ]
  },
  {
   "cell_type": "code",
   "execution_count": 7,
   "id": "239485cb",
   "metadata": {},
   "outputs": [],
   "source": [
    "csv_file_b2b = \"csv/grouped_b2b_df_export.csv\"\n",
    "df_b2b = pd.read_csv(csv_file_b2b)\n",
    "\n",
    "# Assuming df is your DataFrame\n",
    "df_b2b['Spend range'] = np.select(\n",
    "    [\n",
    "        (df_b2b['Spend'] < 20000),                  # Spend < 20K\n",
    "        (df_b2b['Spend'] >= 20000) & (df_b2b['Spend'] < 100000),  # Spend >= 20K and < 100K\n",
    "        (df_b2b['Spend'] >= 100000)                 # Spend >= 100K\n",
    "    ],\n",
    "    [\n",
    "        'Spend < 20K',\n",
    "        'Spend >= 20K and < 100K',\n",
    "        'Spend >= 100K'\n",
    "    ],\n",
    "    default='Other'\n",
    ")\n"
   ]
  },
  {
   "cell_type": "code",
   "execution_count": 8,
   "id": "9737618f",
   "metadata": {},
   "outputs": [],
   "source": [
    "# Create scatter plot using Plotly Express with hover_name\n",
    "fig = px.scatter(df_b2b, x='ROAS', y='Spend', color='Funnel', title='FY24Q4 AdTech 3P to 1P Opportunity Analysis - B2B ROAS Analysis', hover_name='Campaign Name', facet_col=\"Spend range\")\n",
    "fig.update_traces(marker=dict(size=12, opacity=0.7))\n",
    "\n",
    "# Export the plot as an HTML file\n",
    "fig.write_html('html/FY24Q4 AdTech 3P to 1P Opportunity Analysis - B2B ROAS Analysis.html')\n"
   ]
  }
 ],
 "metadata": {
  "kernelspec": {
   "display_name": "Python 3 (ipykernel)",
   "language": "python",
   "name": "python3"
  },
  "language_info": {
   "codemirror_mode": {
    "name": "ipython",
    "version": 3
   },
   "file_extension": ".py",
   "mimetype": "text/x-python",
   "name": "python",
   "nbconvert_exporter": "python",
   "pygments_lexer": "ipython3",
   "version": "3.10.5"
  }
 },
 "nbformat": 4,
 "nbformat_minor": 5
}
