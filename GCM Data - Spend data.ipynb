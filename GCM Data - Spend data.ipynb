{
 "cells": [
  {
   "cell_type": "code",
   "execution_count": 1,
   "id": "f609a859",
   "metadata": {},
   "outputs": [],
   "source": [
    "import pandas as pd\n",
    "import numpy as np"
   ]
  },
  {
   "cell_type": "code",
   "execution_count": 20,
   "id": "3c18344f",
   "metadata": {
    "scrolled": true
   },
   "outputs": [],
   "source": [
    "df_calendar = pd.read_csv('csv/Calendar.csv', parse_dates=['Date'])"
   ]
  },
  {
   "cell_type": "code",
   "execution_count": 3,
   "id": "e4919feb",
   "metadata": {},
   "outputs": [
    {
     "name": "stderr",
     "output_type": "stream",
     "text": [
      "C:\\Users\\rafael_fagundes\\AppData\\Local\\Temp\\ipykernel_26032\\692083516.py:1: ParserWarning: Falling back to the 'python' engine because the 'c' engine does not support skipfooter; you can avoid this warning by specifying engine='python'.\n",
      "  df = pd.read_csv(r'C:\\Users\\rafael_fagundes\\OneDrive - Dell Technologies\\Documents\\DB\\1153793_L90_Days_20230530_064505_4146455365.csv', on_bad_lines='skip', skiprows=10, skipfooter=1, parse_dates=['Date'])\n"
     ]
    }
   ],
   "source": [
    "df = pd.read_csv(r'C:\\Users\\rafael_fagundes\\OneDrive - Dell Technologies\\Documents\\DB\\1153793_L90_Days_20230530_064505_4146455365.csv', on_bad_lines='skip', skiprows=10, skipfooter=1, parse_dates=['Date'])"
   ]
  },
  {
   "cell_type": "code",
   "execution_count": 4,
   "id": "948ca861",
   "metadata": {
    "scrolled": true
   },
   "outputs": [
    {
     "name": "stdout",
     "output_type": "stream",
     "text": [
      "<class 'pandas.core.frame.DataFrame'>\n",
      "RangeIndex: 3844647 entries, 0 to 3844646\n",
      "Data columns (total 22 columns):\n",
      " #   Column                               Dtype         \n",
      "---  ------                               -----         \n",
      " 0   Advertiser                           object        \n",
      " 1   Advertiser Group                     object        \n",
      " 2   Campaign ID                          int64         \n",
      " 3   Campaign                             object        \n",
      " 4   Site (CM360)                         object        \n",
      " 5   Placement ID                         int64         \n",
      " 6   Placement                            object        \n",
      " 7   Date                                 datetime64[ns]\n",
      " 8   Impressions                          int64         \n",
      " 9   Clicks                               int64         \n",
      " 10  Click Rate                           float64       \n",
      " 11  Active View: Viewable Impressions    int64         \n",
      " 12  Active View: Measurable Impressions  int64         \n",
      " 13  Active View: Eligible Impressions    int64         \n",
      " 14  Total Conversions                    float64       \n",
      " 15  Media Cost                           float64       \n",
      " 16  Planned Media Cost                   float64       \n",
      " 17  Cost Per Revenue                     float64       \n",
      " 18  Cost Per Click                       float64       \n",
      " 19  Cost Per Activity                    float64       \n",
      " 20  DV360 Cost USD                       float64       \n",
      " 21  DV360 Cost (Account Currency)        float64       \n",
      "dtypes: datetime64[ns](1), float64(9), int64(7), object(5)\n",
      "memory usage: 645.3+ MB\n"
     ]
    }
   ],
   "source": [
    "df.info()"
   ]
  },
  {
   "cell_type": "code",
   "execution_count": 5,
   "id": "0c2eb532",
   "metadata": {},
   "outputs": [],
   "source": [
    "#Merge GCM with Dell Fiscal Calendar\n",
    "df_merged = pd.merge(df, df_calendar, on=['Date'], how='left')"
   ]
  },
  {
   "cell_type": "code",
   "execution_count": 6,
   "id": "d1fd544d",
   "metadata": {},
   "outputs": [
    {
     "name": "stdout",
     "output_type": "stream",
     "text": [
      "<class 'pandas.core.frame.DataFrame'>\n",
      "Int64Index: 3844647 entries, 0 to 3844646\n",
      "Data columns (total 31 columns):\n",
      " #   Column                               Dtype         \n",
      "---  ------                               -----         \n",
      " 0   Advertiser                           object        \n",
      " 1   Advertiser Group                     object        \n",
      " 2   Campaign ID                          int64         \n",
      " 3   Campaign                             object        \n",
      " 4   Site (CM360)                         object        \n",
      " 5   Placement ID                         int64         \n",
      " 6   Placement                            object        \n",
      " 7   Date                                 datetime64[ns]\n",
      " 8   Impressions                          int64         \n",
      " 9   Clicks                               int64         \n",
      " 10  Click Rate                           float64       \n",
      " 11  Active View: Viewable Impressions    int64         \n",
      " 12  Active View: Measurable Impressions  int64         \n",
      " 13  Active View: Eligible Impressions    int64         \n",
      " 14  Total Conversions                    float64       \n",
      " 15  Media Cost                           float64       \n",
      " 16  Planned Media Cost                   float64       \n",
      " 17  Cost Per Revenue                     float64       \n",
      " 18  Cost Per Click                       float64       \n",
      " 19  Cost Per Activity                    float64       \n",
      " 20  DV360 Cost USD                       float64       \n",
      " 21  DV360 Cost (Account Currency)        float64       \n",
      " 22  Day                                  object        \n",
      " 23  FY                                   object        \n",
      " 24  Qtr                                  object        \n",
      " 25  Month                                object        \n",
      " 26  Period                               int64         \n",
      " 27  WK                                   int64         \n",
      " 28  QWK                                  int64         \n",
      " 29  FQ                                   object        \n",
      " 30  FQW                                  object        \n",
      "dtypes: datetime64[ns](1), float64(9), int64(10), object(11)\n",
      "memory usage: 938.6+ MB\n"
     ]
    }
   ],
   "source": [
    "df_merged.info()"
   ]
  },
  {
   "cell_type": "code",
   "execution_count": 7,
   "id": "d303c90a",
   "metadata": {
    "scrolled": true
   },
   "outputs": [],
   "source": [
    "df_filtered = df_merged[df_merged['FY'].isin(['FY2024'])]"
   ]
  },
  {
   "cell_type": "code",
   "execution_count": 8,
   "id": "354e5c87",
   "metadata": {
    "scrolled": false
   },
   "outputs": [
    {
     "name": "stderr",
     "output_type": "stream",
     "text": [
      "C:\\Users\\rafael_fagundes\\AppData\\Local\\Temp\\ipykernel_26032\\2194545523.py:2: SettingWithCopyWarning: \n",
      "A value is trying to be set on a copy of a slice from a DataFrame.\n",
      "Try using .loc[row_indexer,col_indexer] = value instead\n",
      "\n",
      "See the caveats in the documentation: https://pandas.pydata.org/pandas-docs/stable/user_guide/indexing.html#returning-a-view-versus-a-copy\n",
      "  df_filtered['claravine_id'] = df_filtered['Placement'].replace('-', '_', regex=True).str.extract('(_d[a-zA-Z0-9]{10}_)')\n"
     ]
    }
   ],
   "source": [
    "#Get Claravine ID: _d1n4f7g4t1i_\n",
    "df_filtered['claravine_id'] = df_filtered['Placement'].replace('-', '_', regex=True).str.extract('(_d[a-zA-Z0-9]{10}_)')"
   ]
  },
  {
   "cell_type": "code",
   "execution_count": 9,
   "id": "81002df2",
   "metadata": {
    "scrolled": true
   },
   "outputs": [
    {
     "name": "stderr",
     "output_type": "stream",
     "text": [
      "C:\\Users\\rafael_fagundes\\AppData\\Local\\Temp\\ipykernel_26032\\1201312504.py:6: SettingWithCopyWarning: \n",
      "A value is trying to be set on a copy of a slice from a DataFrame.\n",
      "Try using .loc[row_indexer,col_indexer] = value instead\n",
      "\n",
      "See the caveats in the documentation: https://pandas.pydata.org/pandas-docs/stable/user_guide/indexing.html#returning-a-view-versus-a-copy\n",
      "  df_filtered['salesforce_id'] = df_filtered['Placement'].str.lower().str.extract(sfas_code)\n"
     ]
    }
   ],
   "source": [
    "#Get Salesforce ID: _xtksbpk3q_\n",
    "#df_filtered['salesforce_id'] = df_filtered['Placement'].replace('-', '_', regex=True).str.extract('(_[a-zA-Z0-9]{9}_)')\n",
    "\n",
    "sfas_code = '(dellid001|dellid002|dellid003|dellid004|dellid005|dellid006|u4bcudh6e|u551tksrg|us5u8pj67|us6pekn5j|us94080p4|us973j1wz|us97posq8|us97wdsrb|usagy1ies|utav9xmda|uupjcpg9r|uxpj06766|v2pwhx0id|v4cg5z9k3|v87smem4e|v8wow5gw0|vevtvqcgf|vmd1vj8rr|vopzeuev8|w5njcn9yn|w6azv9ajf|w912rlj76|w912xaxh8|w9x1qhnkd|w9x23csrg|w9x3qi4fy|w9x66bac6|wgxem7yjy|wh9bf21cb|wrmz6qoq6|x4s6h6glb|x4s6ozbiu|x4staatbf|x4stis0mr|x4stw2q5t|x4sukk7ot|x4surdfdp|x4sx9axb1|x4sxxih7n|x4tg9qnju|x4tgrpixj|x4tgwlh4p|x4thf0nbb|x4ti3y4be|x4tphvxav|x4tpvly7v|x4tudc6ve|x4tv468ta|x4tvda7z3|x4tvrclfa|x4tvxz4ou|xa1qtqdep|xalf6287s|xef9544me|xjjo6kmov|xjujtrctn|xjum46ajf|xluly5img|xokri9qi3|xokrluyy8|xokrnubpu|xtknipuc7|xtknkv1mt|xtkoe6fht|xtkoharg6|xtkojtonm|xtkolsbe9|xtkr9zpuc|xtkrhxotk|xtkrjwn8v|xtkrl9l2c|xtkrooq9r|xtkruunjx|xtkrxau7z|xtkry7zcc|xtksbpk3q|xtksft4di|xtksh2k4q|xtvnre8am|xtvnwjr6q|xu3ghsmzm|xu3hkickn|xvr22njqm|xvr38g478|xvr4f1xsc|xvrxkn3zo|xvrxqgz7s|xw7l29vye|xw7o6b4am|xzicf9dbu|xzigeneyn)'\n",
    "\n",
    "df_filtered['salesforce_id'] = df_filtered['Placement'].str.lower().str.extract(sfas_code)"
   ]
  },
  {
   "cell_type": "code",
   "execution_count": 10,
   "id": "4c9d1523",
   "metadata": {},
   "outputs": [
    {
     "name": "stderr",
     "output_type": "stream",
     "text": [
      "C:\\Users\\rafael_fagundes\\AppData\\Local\\Temp\\ipykernel_26032\\3517039660.py:4: SettingWithCopyWarning: \n",
      "A value is trying to be set on a copy of a slice from a DataFrame.\n",
      "Try using .loc[row_indexer,col_indexer] = value instead\n",
      "\n",
      "See the caveats in the documentation: https://pandas.pydata.org/pandas-docs/stable/user_guide/indexing.html#returning-a-view-versus-a-copy\n",
      "  df_filtered['audience_type_category'] = df_filtered['Placement'].replace(' ', '-', regex=True).str.upper().str.extract(str_categories)\n"
     ]
    }
   ],
   "source": [
    "#Get Category Type\n",
    "str_categories = '(CRM-1PD-CRM|EMAIL-1PD-CRM|RETARGET-1PD-RETARGET|MEDIA-1PD-MEDIA|LAPSED-1PD-PIXEL|PUBLISHER-2PD|DMP-2PD-AUDIENCE|ABM-2PD-AUDIENCE|KCT-3PD-CONTEXTUAL|PROXIMITY-3PD-CONTEXTUAL|CATEGORY-3PD-CONTEXTUAL|DOMAIN-3PD-CONTEXTUAL|IN-MARKET-3PD-CONTEXTUAL|AFFINITY-3PD-BEHAVIOR|PROXIMITY-3PD-BEHAVIOR|SITE-IN-MARKET-3PD-BEHAVIOR|IN-MARKET-3PD-BEHAVIOR|DMP-3PD-AUDIENCE|DMP-3PD-LAL|ROS-3PD-PMP|AUDIO-3PD-RETARGET-EXPOSED|CTV-3PD-RETARGET-EXPOSED|DIGITAL-3PD-RETARGET-EXPOSED|DOOH-3PD-RETARGET-EXPOSED|MEDIA-3PD-RETARGET-EXPOSED|VIDEO-3PD-RETARGET-EXPOSED|ABM-3PD-AUDIENCE|RON-PMP|ROS-PMP|KCT-SEARCH|CONQUESTING|SPONSORSHIP|PERSONA-1PD-RETARGET|PIXEL-3PD-LAL|KCT-2PD-CONTEXTUAL)'\n",
    "\n",
    "df_filtered['audience_type_category'] = df_filtered['Placement'].replace(' ', '-', regex=True).str.upper().str.extract(str_categories)"
   ]
  },
  {
   "cell_type": "code",
   "execution_count": 11,
   "id": "53141046",
   "metadata": {},
   "outputs": [
    {
     "name": "stderr",
     "output_type": "stream",
     "text": [
      "C:\\Users\\rafael_fagundes\\AppData\\Local\\Temp\\ipykernel_26032\\2598341859.py:2: SettingWithCopyWarning: \n",
      "A value is trying to be set on a copy of a slice from a DataFrame.\n",
      "Try using .loc[row_indexer,col_indexer] = value instead\n",
      "\n",
      "See the caveats in the documentation: https://pandas.pydata.org/pandas-docs/stable/user_guide/indexing.html#returning-a-view-versus-a-copy\n",
      "  df_filtered['region'] = df_filtered['Advertiser Group'].str.split('_').str[1]\n"
     ]
    }
   ],
   "source": [
    "#Get Region from Advertiser Grou field\n",
    "df_filtered['region'] = df_filtered['Advertiser Group'].str.split('_').str[1]"
   ]
  },
  {
   "cell_type": "code",
   "execution_count": 12,
   "id": "2a3e9470",
   "metadata": {
    "scrolled": true
   },
   "outputs": [
    {
     "name": "stderr",
     "output_type": "stream",
     "text": [
      "C:\\Users\\rafael_fagundes\\AppData\\Local\\Temp\\ipykernel_26032\\1423918061.py:2: SettingWithCopyWarning: \n",
      "A value is trying to be set on a copy of a slice from a DataFrame.\n",
      "Try using .loc[row_indexer,col_indexer] = value instead\n",
      "\n",
      "See the caveats in the documentation: https://pandas.pydata.org/pandas-docs/stable/user_guide/indexing.html#returning-a-view-versus-a-copy\n",
      "  df_filtered['salesforce_id'] = df_filtered['salesforce_id'].replace('_', '', regex=True)\n",
      "C:\\Users\\rafael_fagundes\\AppData\\Local\\Temp\\ipykernel_26032\\1423918061.py:3: SettingWithCopyWarning: \n",
      "A value is trying to be set on a copy of a slice from a DataFrame.\n",
      "Try using .loc[row_indexer,col_indexer] = value instead\n",
      "\n",
      "See the caveats in the documentation: https://pandas.pydata.org/pandas-docs/stable/user_guide/indexing.html#returning-a-view-versus-a-copy\n",
      "  df_filtered['claravine_id'] = df_filtered['claravine_id'].replace('_', '', regex=True)\n",
      "C:\\Users\\rafael_fagundes\\AppData\\Local\\Temp\\ipykernel_26032\\1423918061.py:4: SettingWithCopyWarning: \n",
      "A value is trying to be set on a copy of a slice from a DataFrame.\n",
      "Try using .loc[row_indexer,col_indexer] = value instead\n",
      "\n",
      "See the caveats in the documentation: https://pandas.pydata.org/pandas-docs/stable/user_guide/indexing.html#returning-a-view-versus-a-copy\n",
      "  df_filtered['audience_type_category'] = df_filtered['audience_type_category'].replace('-', ' ', regex=True)\n"
     ]
    }
   ],
   "source": [
    "#Data Cleanse\n",
    "df_filtered['salesforce_id'] = df_filtered['salesforce_id'].replace('_', '', regex=True)\n",
    "df_filtered['claravine_id'] = df_filtered['claravine_id'].replace('_', '', regex=True)\n",
    "df_filtered['audience_type_category'] = df_filtered['audience_type_category'].replace('-', ' ', regex=True)"
   ]
  },
  {
   "cell_type": "code",
   "execution_count": 14,
   "id": "afc05612",
   "metadata": {},
   "outputs": [
    {
     "name": "stderr",
     "output_type": "stream",
     "text": [
      "C:\\Users\\rafael_fagundes\\AppData\\Local\\Temp\\ipykernel_26032\\3340650016.py:2: SettingWithCopyWarning: \n",
      "A value is trying to be set on a copy of a slice from a DataFrame.\n",
      "Try using .loc[row_indexer,col_indexer] = value instead\n",
      "\n",
      "See the caveats in the documentation: https://pandas.pydata.org/pandas-docs/stable/user_guide/indexing.html#returning-a-view-versus-a-copy\n",
      "  df_filtered.loc[df_filtered['claravine_id'].notnull(), 'audience_source'] = 'Claravine'\n"
     ]
    }
   ],
   "source": [
    "if not df_filtered[df_filtered['claravine_id'].isnull()].empty:\n",
    "    df_filtered.loc[df_filtered['claravine_id'].notnull(), 'audience_source'] = 'Claravine'\n",
    "\n",
    "if not df_filtered[df_filtered['salesforce_id'].isnull()].empty:\n",
    "    df_filtered.loc[df_filtered['salesforce_id'].notnull(), 'audience_source'] = 'SFAS'\n",
    "\n",
    "if df_filtered['audience_source'].isnull().any():\n",
    "    df_filtered.loc[df_filtered['audience_source'].isnull(), 'audience_source'] = 'Other'\n"
   ]
  },
  {
   "cell_type": "code",
   "execution_count": 26,
   "id": "d744d3d4",
   "metadata": {
    "scrolled": false
   },
   "outputs": [
    {
     "data": {
      "text/html": [
       "<div>\n",
       "<style scoped>\n",
       "    .dataframe tbody tr th:only-of-type {\n",
       "        vertical-align: middle;\n",
       "    }\n",
       "\n",
       "    .dataframe tbody tr th {\n",
       "        vertical-align: top;\n",
       "    }\n",
       "\n",
       "    .dataframe thead th {\n",
       "        text-align: right;\n",
       "    }\n",
       "</style>\n",
       "<table border=\"1\" class=\"dataframe\">\n",
       "  <thead>\n",
       "    <tr style=\"text-align: right;\">\n",
       "      <th></th>\n",
       "      <th>Campaign ID</th>\n",
       "      <th>Placement ID</th>\n",
       "      <th>Impressions</th>\n",
       "      <th>Clicks</th>\n",
       "      <th>Click Rate</th>\n",
       "      <th>Active View: Viewable Impressions</th>\n",
       "      <th>Active View: Measurable Impressions</th>\n",
       "      <th>Active View: Eligible Impressions</th>\n",
       "      <th>Total Conversions</th>\n",
       "      <th>Media Cost</th>\n",
       "      <th>Planned Media Cost</th>\n",
       "      <th>Cost Per Revenue</th>\n",
       "      <th>Cost Per Click</th>\n",
       "      <th>Cost Per Activity</th>\n",
       "      <th>DV360 Cost USD</th>\n",
       "      <th>DV360 Cost (Account Currency)</th>\n",
       "      <th>Period</th>\n",
       "      <th>WK</th>\n",
       "      <th>QWK</th>\n",
       "    </tr>\n",
       "  </thead>\n",
       "  <tbody>\n",
       "    <tr>\n",
       "      <th>count</th>\n",
       "      <td>2.986805e+06</td>\n",
       "      <td>2.986805e+06</td>\n",
       "      <td>2.986805e+06</td>\n",
       "      <td>2.986805e+06</td>\n",
       "      <td>2.986805e+06</td>\n",
       "      <td>2.986805e+06</td>\n",
       "      <td>2.986805e+06</td>\n",
       "      <td>2.986805e+06</td>\n",
       "      <td>2.986805e+06</td>\n",
       "      <td>2.986805e+06</td>\n",
       "      <td>2.986805e+06</td>\n",
       "      <td>2.986805e+06</td>\n",
       "      <td>2.986805e+06</td>\n",
       "      <td>2.986805e+06</td>\n",
       "      <td>2.986805e+06</td>\n",
       "      <td>2.986805e+06</td>\n",
       "      <td>2.986805e+06</td>\n",
       "      <td>2.986805e+06</td>\n",
       "      <td>2.986805e+06</td>\n",
       "    </tr>\n",
       "    <tr>\n",
       "      <th>mean</th>\n",
       "      <td>2.778024e+07</td>\n",
       "      <td>3.572153e+08</td>\n",
       "      <td>4.605810e+03</td>\n",
       "      <td>4.045012e+01</td>\n",
       "      <td>2.078890e+00</td>\n",
       "      <td>1.777043e+03</td>\n",
       "      <td>2.610201e+03</td>\n",
       "      <td>2.711995e+03</td>\n",
       "      <td>3.039181e+03</td>\n",
       "      <td>4.785625e-02</td>\n",
       "      <td>9.310817e-02</td>\n",
       "      <td>1.192913e-05</td>\n",
       "      <td>2.188713e-03</td>\n",
       "      <td>2.815986e-03</td>\n",
       "      <td>6.223454e+00</td>\n",
       "      <td>6.223454e+00</td>\n",
       "      <td>2.506915e+00</td>\n",
       "      <td>8.873130e+00</td>\n",
       "      <td>5.969148e+00</td>\n",
       "    </tr>\n",
       "    <tr>\n",
       "      <th>std</th>\n",
       "      <td>2.355321e+06</td>\n",
       "      <td>1.204262e+07</td>\n",
       "      <td>5.652463e+04</td>\n",
       "      <td>1.302042e+03</td>\n",
       "      <td>3.835489e+02</td>\n",
       "      <td>2.860521e+04</td>\n",
       "      <td>3.183878e+04</td>\n",
       "      <td>3.266939e+04</td>\n",
       "      <td>1.292840e+05</td>\n",
       "      <td>1.361787e+01</td>\n",
       "      <td>1.458808e+01</td>\n",
       "      <td>1.383900e-02</td>\n",
       "      <td>9.876241e-01</td>\n",
       "      <td>1.397212e+00</td>\n",
       "      <td>8.928927e+01</td>\n",
       "      <td>8.928927e+01</td>\n",
       "      <td>1.083184e+00</td>\n",
       "      <td>4.791003e+00</td>\n",
       "      <td>3.811543e+00</td>\n",
       "    </tr>\n",
       "    <tr>\n",
       "      <th>min</th>\n",
       "      <td>2.347565e+07</td>\n",
       "      <td>2.607258e+08</td>\n",
       "      <td>0.000000e+00</td>\n",
       "      <td>0.000000e+00</td>\n",
       "      <td>0.000000e+00</td>\n",
       "      <td>0.000000e+00</td>\n",
       "      <td>-1.200000e+02</td>\n",
       "      <td>0.000000e+00</td>\n",
       "      <td>0.000000e+00</td>\n",
       "      <td>0.000000e+00</td>\n",
       "      <td>0.000000e+00</td>\n",
       "      <td>0.000000e+00</td>\n",
       "      <td>0.000000e+00</td>\n",
       "      <td>0.000000e+00</td>\n",
       "      <td>0.000000e+00</td>\n",
       "      <td>0.000000e+00</td>\n",
       "      <td>1.000000e+00</td>\n",
       "      <td>1.000000e+00</td>\n",
       "      <td>1.000000e+00</td>\n",
       "    </tr>\n",
       "    <tr>\n",
       "      <th>25%</th>\n",
       "      <td>2.524688e+07</td>\n",
       "      <td>3.574290e+08</td>\n",
       "      <td>0.000000e+00</td>\n",
       "      <td>0.000000e+00</td>\n",
       "      <td>0.000000e+00</td>\n",
       "      <td>0.000000e+00</td>\n",
       "      <td>0.000000e+00</td>\n",
       "      <td>0.000000e+00</td>\n",
       "      <td>0.000000e+00</td>\n",
       "      <td>0.000000e+00</td>\n",
       "      <td>0.000000e+00</td>\n",
       "      <td>0.000000e+00</td>\n",
       "      <td>0.000000e+00</td>\n",
       "      <td>0.000000e+00</td>\n",
       "      <td>0.000000e+00</td>\n",
       "      <td>0.000000e+00</td>\n",
       "      <td>2.000000e+00</td>\n",
       "      <td>5.000000e+00</td>\n",
       "      <td>3.000000e+00</td>\n",
       "    </tr>\n",
       "    <tr>\n",
       "      <th>50%</th>\n",
       "      <td>2.918509e+07</td>\n",
       "      <td>3.584251e+08</td>\n",
       "      <td>1.100000e+01</td>\n",
       "      <td>0.000000e+00</td>\n",
       "      <td>0.000000e+00</td>\n",
       "      <td>0.000000e+00</td>\n",
       "      <td>1.000000e+00</td>\n",
       "      <td>1.000000e+00</td>\n",
       "      <td>0.000000e+00</td>\n",
       "      <td>0.000000e+00</td>\n",
       "      <td>0.000000e+00</td>\n",
       "      <td>0.000000e+00</td>\n",
       "      <td>0.000000e+00</td>\n",
       "      <td>0.000000e+00</td>\n",
       "      <td>0.000000e+00</td>\n",
       "      <td>0.000000e+00</td>\n",
       "      <td>3.000000e+00</td>\n",
       "      <td>9.000000e+00</td>\n",
       "      <td>5.000000e+00</td>\n",
       "    </tr>\n",
       "    <tr>\n",
       "      <th>75%</th>\n",
       "      <td>2.925437e+07</td>\n",
       "      <td>3.602606e+08</td>\n",
       "      <td>5.900000e+02</td>\n",
       "      <td>0.000000e+00</td>\n",
       "      <td>0.000000e+00</td>\n",
       "      <td>1.760000e+02</td>\n",
       "      <td>2.930000e+02</td>\n",
       "      <td>3.270000e+02</td>\n",
       "      <td>2.200000e+01</td>\n",
       "      <td>0.000000e+00</td>\n",
       "      <td>0.000000e+00</td>\n",
       "      <td>0.000000e+00</td>\n",
       "      <td>0.000000e+00</td>\n",
       "      <td>0.000000e+00</td>\n",
       "      <td>1.100000e-01</td>\n",
       "      <td>1.100000e-01</td>\n",
       "      <td>3.000000e+00</td>\n",
       "      <td>1.300000e+01</td>\n",
       "      <td>9.000000e+00</td>\n",
       "    </tr>\n",
       "    <tr>\n",
       "      <th>max</th>\n",
       "      <td>3.004703e+07</td>\n",
       "      <td>3.683364e+08</td>\n",
       "      <td>1.278327e+07</td>\n",
       "      <td>5.351660e+05</td>\n",
       "      <td>4.427000e+05</td>\n",
       "      <td>7.667226e+06</td>\n",
       "      <td>7.940498e+06</td>\n",
       "      <td>7.968156e+06</td>\n",
       "      <td>2.568769e+07</td>\n",
       "      <td>1.574854e+04</td>\n",
       "      <td>1.000000e+04</td>\n",
       "      <td>2.059000e+01</td>\n",
       "      <td>1.091850e+03</td>\n",
       "      <td>2.073771e+03</td>\n",
       "      <td>2.394463e+04</td>\n",
       "      <td>2.394463e+04</td>\n",
       "      <td>4.000000e+00</td>\n",
       "      <td>1.700000e+01</td>\n",
       "      <td>1.300000e+01</td>\n",
       "    </tr>\n",
       "  </tbody>\n",
       "</table>\n",
       "</div>"
      ],
      "text/plain": [
       "        Campaign ID  Placement ID   Impressions        Clicks    Click Rate  \\\n",
       "count  2.986805e+06  2.986805e+06  2.986805e+06  2.986805e+06  2.986805e+06   \n",
       "mean   2.778024e+07  3.572153e+08  4.605810e+03  4.045012e+01  2.078890e+00   \n",
       "std    2.355321e+06  1.204262e+07  5.652463e+04  1.302042e+03  3.835489e+02   \n",
       "min    2.347565e+07  2.607258e+08  0.000000e+00  0.000000e+00  0.000000e+00   \n",
       "25%    2.524688e+07  3.574290e+08  0.000000e+00  0.000000e+00  0.000000e+00   \n",
       "50%    2.918509e+07  3.584251e+08  1.100000e+01  0.000000e+00  0.000000e+00   \n",
       "75%    2.925437e+07  3.602606e+08  5.900000e+02  0.000000e+00  0.000000e+00   \n",
       "max    3.004703e+07  3.683364e+08  1.278327e+07  5.351660e+05  4.427000e+05   \n",
       "\n",
       "       Active View: Viewable Impressions  Active View: Measurable Impressions  \\\n",
       "count                       2.986805e+06                         2.986805e+06   \n",
       "mean                        1.777043e+03                         2.610201e+03   \n",
       "std                         2.860521e+04                         3.183878e+04   \n",
       "min                         0.000000e+00                        -1.200000e+02   \n",
       "25%                         0.000000e+00                         0.000000e+00   \n",
       "50%                         0.000000e+00                         1.000000e+00   \n",
       "75%                         1.760000e+02                         2.930000e+02   \n",
       "max                         7.667226e+06                         7.940498e+06   \n",
       "\n",
       "       Active View: Eligible Impressions  Total Conversions    Media Cost  \\\n",
       "count                       2.986805e+06       2.986805e+06  2.986805e+06   \n",
       "mean                        2.711995e+03       3.039181e+03  4.785625e-02   \n",
       "std                         3.266939e+04       1.292840e+05  1.361787e+01   \n",
       "min                         0.000000e+00       0.000000e+00  0.000000e+00   \n",
       "25%                         0.000000e+00       0.000000e+00  0.000000e+00   \n",
       "50%                         1.000000e+00       0.000000e+00  0.000000e+00   \n",
       "75%                         3.270000e+02       2.200000e+01  0.000000e+00   \n",
       "max                         7.968156e+06       2.568769e+07  1.574854e+04   \n",
       "\n",
       "       Planned Media Cost  Cost Per Revenue  Cost Per Click  \\\n",
       "count        2.986805e+06      2.986805e+06    2.986805e+06   \n",
       "mean         9.310817e-02      1.192913e-05    2.188713e-03   \n",
       "std          1.458808e+01      1.383900e-02    9.876241e-01   \n",
       "min          0.000000e+00      0.000000e+00    0.000000e+00   \n",
       "25%          0.000000e+00      0.000000e+00    0.000000e+00   \n",
       "50%          0.000000e+00      0.000000e+00    0.000000e+00   \n",
       "75%          0.000000e+00      0.000000e+00    0.000000e+00   \n",
       "max          1.000000e+04      2.059000e+01    1.091850e+03   \n",
       "\n",
       "       Cost Per Activity  DV360 Cost USD  DV360 Cost (Account Currency)  \\\n",
       "count       2.986805e+06    2.986805e+06                   2.986805e+06   \n",
       "mean        2.815986e-03    6.223454e+00                   6.223454e+00   \n",
       "std         1.397212e+00    8.928927e+01                   8.928927e+01   \n",
       "min         0.000000e+00    0.000000e+00                   0.000000e+00   \n",
       "25%         0.000000e+00    0.000000e+00                   0.000000e+00   \n",
       "50%         0.000000e+00    0.000000e+00                   0.000000e+00   \n",
       "75%         0.000000e+00    1.100000e-01                   1.100000e-01   \n",
       "max         2.073771e+03    2.394463e+04                   2.394463e+04   \n",
       "\n",
       "             Period            WK           QWK  \n",
       "count  2.986805e+06  2.986805e+06  2.986805e+06  \n",
       "mean   2.506915e+00  8.873130e+00  5.969148e+00  \n",
       "std    1.083184e+00  4.791003e+00  3.811543e+00  \n",
       "min    1.000000e+00  1.000000e+00  1.000000e+00  \n",
       "25%    2.000000e+00  5.000000e+00  3.000000e+00  \n",
       "50%    3.000000e+00  9.000000e+00  5.000000e+00  \n",
       "75%    3.000000e+00  1.300000e+01  9.000000e+00  \n",
       "max    4.000000e+00  1.700000e+01  1.300000e+01  "
      ]
     },
     "execution_count": 26,
     "metadata": {},
     "output_type": "execute_result"
    }
   ],
   "source": [
    "df_filtered.describe()"
   ]
  },
  {
   "cell_type": "code",
   "execution_count": 21,
   "id": "d1016b1e",
   "metadata": {},
   "outputs": [],
   "source": [
    "df_group = df_filtered.groupby(['FQ','region','audience_type_category','Site (CM360)','Campaign', 'audience_source','Placement'])['Media Cost'].sum().reset_index()"
   ]
  },
  {
   "cell_type": "code",
   "execution_count": 25,
   "id": "27eece2a",
   "metadata": {
    "scrolled": true
   },
   "outputs": [
    {
     "data": {
      "text/html": [
       "<div>\n",
       "<style scoped>\n",
       "    .dataframe tbody tr th:only-of-type {\n",
       "        vertical-align: middle;\n",
       "    }\n",
       "\n",
       "    .dataframe tbody tr th {\n",
       "        vertical-align: top;\n",
       "    }\n",
       "\n",
       "    .dataframe thead th {\n",
       "        text-align: right;\n",
       "    }\n",
       "</style>\n",
       "<table border=\"1\" class=\"dataframe\">\n",
       "  <thead>\n",
       "    <tr style=\"text-align: right;\">\n",
       "      <th></th>\n",
       "      <th>Media Cost</th>\n",
       "    </tr>\n",
       "  </thead>\n",
       "  <tbody>\n",
       "    <tr>\n",
       "      <th>count</th>\n",
       "      <td>78848.000000</td>\n",
       "    </tr>\n",
       "    <tr>\n",
       "      <th>mean</th>\n",
       "      <td>0.855420</td>\n",
       "    </tr>\n",
       "    <tr>\n",
       "      <th>std</th>\n",
       "      <td>58.173795</td>\n",
       "    </tr>\n",
       "    <tr>\n",
       "      <th>min</th>\n",
       "      <td>0.000000</td>\n",
       "    </tr>\n",
       "    <tr>\n",
       "      <th>25%</th>\n",
       "      <td>0.000000</td>\n",
       "    </tr>\n",
       "    <tr>\n",
       "      <th>50%</th>\n",
       "      <td>0.000000</td>\n",
       "    </tr>\n",
       "    <tr>\n",
       "      <th>75%</th>\n",
       "      <td>0.000000</td>\n",
       "    </tr>\n",
       "    <tr>\n",
       "      <th>max</th>\n",
       "      <td>8295.085693</td>\n",
       "    </tr>\n",
       "  </tbody>\n",
       "</table>\n",
       "</div>"
      ],
      "text/plain": [
       "         Media Cost\n",
       "count  78848.000000\n",
       "mean       0.855420\n",
       "std       58.173795\n",
       "min        0.000000\n",
       "25%        0.000000\n",
       "50%        0.000000\n",
       "75%        0.000000\n",
       "max     8295.085693"
      ]
     },
     "execution_count": 25,
     "metadata": {},
     "output_type": "execute_result"
    }
   ],
   "source": [
    "df_group.describe()"
   ]
  },
  {
   "cell_type": "code",
   "execution_count": 24,
   "id": "ee61c49f",
   "metadata": {},
   "outputs": [],
   "source": [
    "df_group.to_csv(r'C:\\Users\\rafael_fagundes\\OneDrive - Dell Technologies\\Desktop\\Test.csv')"
   ]
  }
 ],
 "metadata": {
  "kernelspec": {
   "display_name": "Python 3 (ipykernel)",
   "language": "python",
   "name": "python3"
  },
  "language_info": {
   "codemirror_mode": {
    "name": "ipython",
    "version": 3
   },
   "file_extension": ".py",
   "mimetype": "text/x-python",
   "name": "python",
   "nbconvert_exporter": "python",
   "pygments_lexer": "ipython3",
   "version": "3.10.9"
  }
 },
 "nbformat": 4,
 "nbformat_minor": 5
}
