{
 "cells": [
  {
   "cell_type": "markdown",
   "id": "aa404b5b",
   "metadata": {},
   "source": [
    "<h2>Library</h2>"
   ]
  },
  {
   "cell_type": "code",
   "execution_count": 28,
   "id": "91129faa",
   "metadata": {},
   "outputs": [],
   "source": [
    "import warnings\n",
    "import os\n",
    "import pandas as pd\n",
    "import numpy as np\n",
    "\n",
    "warnings.filterwarnings('ignore')\n",
    "pd.set_option('display.max_columns', None)\n",
    "# pd.set_option('display.max_rows', 100)\n",
    "pd.set_option('display.width', None)"
   ]
  },
  {
   "cell_type": "markdown",
   "id": "d1953fb6",
   "metadata": {},
   "source": [
    "<h2>Main</h2>"
   ]
  },
  {
   "cell_type": "markdown",
   "id": "994d7bc2",
   "metadata": {},
   "source": [
    "<h2>CSB File</h2>"
   ]
  },
  {
   "cell_type": "code",
   "execution_count": 29,
   "id": "ce50cd52",
   "metadata": {},
   "outputs": [],
   "source": [
    "folder_path = r'C:\\Users\\Rafael_Fagundes\\Downloads\\CSB'\n",
    "all_data = []\n",
    "\n",
    "file_list = os.listdir(folder_path)\n",
    "\n",
    "for file_name in file_list:\n",
    "    if file_name.endswith('.xlsx') or file_name.endswith('.xls'):\n",
    "        file_path = os.path.join(folder_path, file_name)\n",
    "        df_csb = pd.read_excel(file_path)\n",
    "        all_data.append(df_csb)\n"
   ]
  },
  {
   "cell_type": "code",
   "execution_count": 30,
   "id": "9d4b95aa",
   "metadata": {},
   "outputs": [],
   "source": [
    "df_csb.drop(columns={'[SumVisits]','[SumTrue_Rev_CSB]','[True_ROAS]','[v__Campaings]','[M3]'}, inplace=True)\n",
    "df_csb.rename(columns={\n",
    "    'Data[Global Audience Type (Calc)]':'Audience Type'\n",
    "    ,'Data[B2B Tactic]':'Tactic'\n",
    "    ,'Data[Media Buy Name]':'Media Buy Name'\n",
    "    ,'Data[Campaign Name]':'Campaign Name'\n",
    "    ,'Data[Fiscal Quarter]':'Fiscal Quarter'\n",
    "    ,'Data[Fiscal Week]':'Fiscal Week'\n",
    "    ,'[SumImpressions]':'Impressions'\n",
    "    ,'[SumClicks]':'Clicks'\n",
    "    ,'[SumSpend]':'Spend'\n",
    "    ,'[SumNet_Rev_CSB]':'Net Rev'\n",
    "} , inplace=True)\n",
    "\n",
    "df_csb['BU'] = 'CSB'"
   ]
  },
  {
   "cell_type": "markdown",
   "id": "8e4c1f31",
   "metadata": {},
   "source": [
    "<h2>B2B File</h2>"
   ]
  },
  {
   "cell_type": "code",
   "execution_count": 31,
   "id": "60478ebd",
   "metadata": {},
   "outputs": [],
   "source": [
    "folder_path = r'C:\\Users\\Rafael_Fagundes\\Downloads\\B2B'\n",
    "all_data = []\n",
    "\n",
    "file_list = os.listdir(folder_path)\n",
    "\n",
    "for file_name in file_list:\n",
    "    if file_name.endswith('.xlsx') or file_name.endswith('.xls'):\n",
    "        file_path = os.path.join(folder_path, file_name)\n",
    "        df_b2b = pd.read_excel(file_path)\n",
    "        all_data.append(df_b2b)\n"
   ]
  },
  {
   "cell_type": "code",
   "execution_count": 32,
   "id": "ab59d08c",
   "metadata": {},
   "outputs": [
    {
     "name": "stdout",
     "output_type": "stream",
     "text": [
      "<class 'pandas.core.frame.DataFrame'>\n",
      "RangeIndex: 35404 entries, 0 to 35403\n",
      "Data columns (total 14 columns):\n",
      " #   Column                             Non-Null Count  Dtype  \n",
      "---  ------                             --------------  -----  \n",
      " 0   Data[Global Audience Type (Calc)]  35404 non-null  object \n",
      " 1   Data[B2B Tactic]                   35404 non-null  object \n",
      " 2   Data[Media Buy Name]               35404 non-null  object \n",
      " 3   Data[Campaign Name]                35404 non-null  object \n",
      " 4   Data[Fiscal Quarter]               35404 non-null  object \n",
      " 5   Data[Fiscal Week]                  35404 non-null  object \n",
      " 6   [SumImpressions]                   9699 non-null   float64\n",
      " 7   [SumClicks]                        9699 non-null   float64\n",
      " 8   [SumVisits]                        35404 non-null  int64  \n",
      " 9   [M3]                               35404 non-null  float64\n",
      " 10  [SumSpend]                         35404 non-null  float64\n",
      " 11  [SumNet_Rev_B2B]                   1564 non-null   float64\n",
      " 12  [SumHVE_B2B]                       35404 non-null  int64  \n",
      " 13  [v__Campaings]                     35404 non-null  int64  \n",
      "dtypes: float64(5), int64(3), object(6)\n",
      "memory usage: 3.8+ MB\n"
     ]
    }
   ],
   "source": [
    "df_b2b.info()"
   ]
  },
  {
   "cell_type": "code",
   "execution_count": 33,
   "id": "d4525ed7",
   "metadata": {},
   "outputs": [],
   "source": [
    "df_b2b.drop(columns={'[SumVisits]','[SumHVE_B2B]','[v__Campaings]','[M3]'}, inplace=True)\n",
    "df_b2b.rename(columns={\n",
    "    'Data[Global Audience Type (Calc)]':'Audience Type'\n",
    "    ,'Data[B2B Tactic]':'Tactic'\n",
    "    ,'Data[Media Buy Name]':'Media Buy Name'\n",
    "    ,'Data[Campaign Name]':'Campaign Name'\n",
    "    ,'Data[Fiscal Quarter]':'Fiscal Quarter'\n",
    "    ,'Data[Fiscal Week]':'Fiscal Week'\n",
    "    ,'[SumImpressions]':'Impressions'\n",
    "    ,'[SumClicks]':'Clicks'\n",
    "    ,'[SumSpend]':'Spend'\n",
    "    ,'[SumNet_Rev_B2B]':'Net Rev'\n",
    "} , inplace=True)\n",
    "\n",
    "df_b2b['BU'] = 'B2B'"
   ]
  },
  {
   "cell_type": "markdown",
   "id": "18d680d5",
   "metadata": {},
   "source": [
    "<h2>CSB & B2B Merge</h2>"
   ]
  },
  {
   "cell_type": "code",
   "execution_count": 34,
   "id": "b3d1b7e0",
   "metadata": {},
   "outputs": [],
   "source": [
    "# Merge CSB & B2B dataframes & remove duplicates\n",
    "df_merged = pd.concat([df_b2b,df_csb])\n",
    "\n",
    "df_merged.drop_duplicates(inplace=True)"
   ]
  },
  {
   "cell_type": "code",
   "execution_count": 35,
   "id": "9ad6bea1",
   "metadata": {},
   "outputs": [],
   "source": [
    "# Get Claravine ID: _d1n4f7g4t1i_\n",
    "df_merged['Segment ID'] = df_merged['Media Buy Name'].replace('-', '_', regex=True).str.extract('(_d[a-zA-Z0-9]{10}_)')\n",
    "\n",
    "df_merged['Segment ID'] = df_merged['Segment ID'].str.replace('_', '')\n",
    "\n",
    "df_merged.fillna(0, inplace=True)\n",
    "\n",
    "df_merged['Audience ID Exists'] = df_merged['Segment ID'].apply(lambda x: 'No ID' if x == 0 else 'Have ID')"
   ]
  },
  {
   "cell_type": "markdown",
   "id": "8664d11b",
   "metadata": {},
   "source": [
    "<h2>Claravine Merge</h2>"
   ]
  },
  {
   "cell_type": "code",
   "execution_count": 36,
   "id": "adc109a3",
   "metadata": {},
   "outputs": [],
   "source": [
    "# Read Claravine file\n",
    "df_claravine = pd.read_csv(r'C:\\Users\\Rafael_Fagundes\\Downloads\\Claravine.csv')"
   ]
  },
  {
   "cell_type": "code",
   "execution_count": 39,
   "id": "d14977c8",
   "metadata": {},
   "outputs": [],
   "source": [
    "df_final = pd.merge(df_merged, df_claravine, on ='Segment ID', how='left')"
   ]
  },
  {
   "cell_type": "code",
   "execution_count": 40,
   "id": "f6921ebe",
   "metadata": {},
   "outputs": [],
   "source": [
    "df_final.fillna(0, inplace=True)\n",
    "\n",
    "df_final.to_csv('csv/df_delve_claravine.csv', index_label=False)"
   ]
  }
 ],
 "metadata": {
  "kernelspec": {
   "display_name": "Python 3 (ipykernel)",
   "language": "python",
   "name": "python3"
  },
  "language_info": {
   "codemirror_mode": {
    "name": "ipython",
    "version": 3
   },
   "file_extension": ".py",
   "mimetype": "text/x-python",
   "name": "python",
   "nbconvert_exporter": "python",
   "pygments_lexer": "ipython3",
   "version": "3.10.5"
  }
 },
 "nbformat": 4,
 "nbformat_minor": 5
}
