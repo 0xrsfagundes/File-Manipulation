{
 "cells": [
  {
   "cell_type": "markdown",
   "id": "aa404b5b",
   "metadata": {},
   "source": [
    "<h2>Library</h2>"
   ]
  },
  {
   "cell_type": "code",
   "execution_count": 72,
   "id": "91129faa",
   "metadata": {},
   "outputs": [],
   "source": [
    "import warnings\n",
    "import pandas as pd\n",
    "import numpy as np\n",
    "\n",
    "warnings.filterwarnings('ignore')\n",
    "pd.set_option('display.max_columns', None)\n",
    "# pd.set_option('display.max_rows', 100)\n",
    "pd.set_option('display.width', None)"
   ]
  },
  {
   "cell_type": "markdown",
   "id": "d1953fb6",
   "metadata": {},
   "source": [
    "<h2>Main</h2>"
   ]
  },
  {
   "cell_type": "code",
   "execution_count": 73,
   "id": "530a5ad1",
   "metadata": {},
   "outputs": [],
   "source": [
    "# Read Delve files and drop unnecessary columns and rename the remaining ones \n",
    "df_b2b = pd.read_excel(r'C:\\Users\\Rafael_Fagundes\\Downloads\\KPIs by Audience Type (B2B).xlsx', skiprows=2)\n",
    "df_b2b.drop(columns={'Sum of Visits','Visits %','Sum of HVE B2B','# Campaings'}, inplace=True)\n",
    "df_b2b.rename(columns={'B2B Tactic':'Tactic'\n",
    "                       ,'Sum of Impressions':'Impressions'\n",
    "                       ,'Sum of Clicks':'Clicks'\n",
    "                       ,'Sum of Spend':'Spend'\n",
    "                       ,'Sum of Net Rev B2B':'Net Rev'}, inplace=True)\n",
    "\n",
    "df_csb = pd.read_excel(r'C:\\Users\\Rafael_Fagundes\\Downloads\\KPIs by Audience Type (CSB).xlsx', skiprows=2)\n",
    "df_csb.drop(columns={'Sum of Visits','Visits %','Sum of True Rev CSB','True ROAS','# Campaings'}, inplace=True)\n",
    "df_csb.rename(columns={'Sum of Impressions':'Impressions'\n",
    "                       ,'Sum of Clicks':'Clicks'\n",
    "                       ,'Sum of Spend':'Spend'\n",
    "                       ,'Sum of Net Rev CSB':'Net Rev'} , inplace=True)"
   ]
  },
  {
   "cell_type": "code",
   "execution_count": 74,
   "id": "b3d1b7e0",
   "metadata": {},
   "outputs": [],
   "source": [
    "# Merge CSB & B2B dataframes & remove duplicates\n",
    "df_merged = pd.concat([df_b2b,df_csb])\n",
    "\n",
    "df_merged.drop_duplicates(inplace=True)"
   ]
  },
  {
   "cell_type": "code",
   "execution_count": 75,
   "id": "9ad6bea1",
   "metadata": {},
   "outputs": [],
   "source": [
    "# Get Claravine ID: _d1n4f7g4t1i_\n",
    "df_merged['Segment ID'] = df_merged['Media Buy Name'].replace('-', '_', regex=True).str.extract('(_d[a-zA-Z0-9]{10}_)')\n",
    "\n",
    "df_merged['Segment ID'] = df_merged['Segment ID'].str.replace('_', '')\n",
    "\n",
    "df_merged.fillna(0, inplace=True)\n",
    "\n",
    "df_merged['Audience ID Exists'] = df_merged['Segment ID'].apply(lambda x: 'No ID' if x == 0 else 'Have ID')"
   ]
  },
  {
   "cell_type": "code",
   "execution_count": 76,
   "id": "adc109a3",
   "metadata": {},
   "outputs": [],
   "source": [
    "# Read Claravine file\n",
    "df_claravine = pd.read_csv(r'C:\\Users\\Rafael_Fagundes\\Downloads\\Claravine.csv')"
   ]
  },
  {
   "cell_type": "code",
   "execution_count": 77,
   "id": "3e77fdf6",
   "metadata": {
    "scrolled": true
   },
   "outputs": [
    {
     "name": "stdout",
     "output_type": "stream",
     "text": [
      "<class 'pandas.core.frame.DataFrame'>\n",
      "Index: 300004 entries, 0 to 150001\n",
      "Data columns (total 12 columns):\n",
      " #   Column              Non-Null Count   Dtype  \n",
      "---  ------              --------------   -----  \n",
      " 0   Audience Type       300004 non-null  object \n",
      " 1   Tactic              300004 non-null  object \n",
      " 2   Media Buy Name      300004 non-null  object \n",
      " 3   Campaign Name       300004 non-null  object \n",
      " 4   Fiscal Quarter      300004 non-null  object \n",
      " 5   Fiscal Week         300004 non-null  object \n",
      " 6   Impressions         300004 non-null  float64\n",
      " 7   Clicks              300004 non-null  float64\n",
      " 8   Spend               300004 non-null  float64\n",
      " 9   Net Rev             300004 non-null  float64\n",
      " 10  Segment ID          300004 non-null  object \n",
      " 11  Audience ID Exists  300004 non-null  object \n",
      "dtypes: float64(4), object(8)\n",
      "memory usage: 29.8+ MB\n"
     ]
    }
   ],
   "source": [
    "df_merged.info()"
   ]
  },
  {
   "cell_type": "code",
   "execution_count": 78,
   "id": "05bf6c99",
   "metadata": {},
   "outputs": [
    {
     "name": "stdout",
     "output_type": "stream",
     "text": [
      "<class 'pandas.core.frame.DataFrame'>\n",
      "RangeIndex: 767 entries, 0 to 766\n",
      "Data columns (total 29 columns):\n",
      " #   Column                                       Non-Null Count  Dtype \n",
      "---  ------                                       --------------  ----- \n",
      " 0   Segment ID                                   767 non-null    object\n",
      " 1   Dell Audience Name                           765 non-null    object\n",
      " 2   VAR Dell Audience Name                       765 non-null    object\n",
      " 3   Dell Audience Name concatenation             767 non-null    object\n",
      " 4   MediaCom Audience Name                       765 non-null    object\n",
      " 5   MediaCom Audience Name Concatenation         765 non-null    object\n",
      " 6   Audience Objective                           767 non-null    object\n",
      " 7   Seed Information                             329 non-null    object\n",
      " 8   Audience Composition                         765 non-null    object\n",
      " 9   Audience Composition concatenation           767 non-null    object\n",
      " 10  Audience Object-Audience Composition         765 non-null    object\n",
      " 11  Country                                      767 non-null    object\n",
      " 12  Business Unit                                767 non-null    object\n",
      " 13  Country-BU concatenation                     767 non-null    object\n",
      " 14  Data Type                                    767 non-null    object\n",
      " 15  Audience Source                              767 non-null    object\n",
      " 16  Data Provider                                620 non-null    object\n",
      " 17  Data Provider Abbreviation                   767 non-null    object\n",
      " 18  Audience Source-Data Provider concatenation  767 non-null    object\n",
      " 19  Attribute Category                           578 non-null    object\n",
      " 20  Attribute Category Shortcode                 578 non-null    object\n",
      " 21  Audience Category Reporting                  767 non-null    object\n",
      " 22  Platform                                     267 non-null    object\n",
      " 23  Random                                       767 non-null    object\n",
      " 24  Prefix                                       767 non-null    object\n",
      " 25  Claravine ID                                 767 non-null    object\n",
      " 26  submission_name                              767 non-null    object\n",
      " 27  submitter_name                               767 non-null    object\n",
      " 28  created_date                                 767 non-null    object\n",
      "dtypes: object(29)\n",
      "memory usage: 173.9+ KB\n"
     ]
    }
   ],
   "source": [
    "df_claravine.info()"
   ]
  },
  {
   "cell_type": "code",
   "execution_count": 79,
   "id": "d14977c8",
   "metadata": {},
   "outputs": [],
   "source": [
    "df_final = pd.merge(df_merged, df_claravine, on ='Segment ID', how='left')"
   ]
  },
  {
   "cell_type": "code",
   "execution_count": 80,
   "id": "f6921ebe",
   "metadata": {},
   "outputs": [],
   "source": [
    "df_final.fillna(0, inplace=True)\n",
    "\n",
    "df_final.to_csv('csv/df_delve_claravine.csv', index_label=False)"
   ]
  }
 ],
 "metadata": {
  "kernelspec": {
   "display_name": "Python 3 (ipykernel)",
   "language": "python",
   "name": "python3"
  },
  "language_info": {
   "codemirror_mode": {
    "name": "ipython",
    "version": 3
   },
   "file_extension": ".py",
   "mimetype": "text/x-python",
   "name": "python",
   "nbconvert_exporter": "python",
   "pygments_lexer": "ipython3",
   "version": "3.10.5"
  }
 },
 "nbformat": 4,
 "nbformat_minor": 5
}
