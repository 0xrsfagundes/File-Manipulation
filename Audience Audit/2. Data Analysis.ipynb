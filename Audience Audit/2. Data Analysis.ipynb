{
 "cells": [
  {
   "cell_type": "markdown",
   "id": "6f58240f",
   "metadata": {},
   "source": [
    "<h2>Library</h2>"
   ]
  },
  {
   "cell_type": "code",
   "execution_count": 4,
   "id": "fb47b6c6",
   "metadata": {},
   "outputs": [],
   "source": [
    "import warnings\n",
    "import pandas as pd\n",
    "import numpy as np\n",
    "\n",
    "warnings.filterwarnings('ignore')\n",
    "pd.set_option('display.max_columns', None)\n",
    "# pd.set_option('display.max_rows', 100)\n",
    "pd.set_option('display.width', None)"
   ]
  },
  {
   "cell_type": "markdown",
   "id": "770cc166",
   "metadata": {},
   "source": [
    "<h2>Main</h2>"
   ]
  },
  {
   "cell_type": "code",
   "execution_count": 5,
   "id": "fa47df65",
   "metadata": {},
   "outputs": [],
   "source": [
    "df = pd.read_csv('csv/df_delve_claravine.csv')"
   ]
  },
  {
   "cell_type": "code",
   "execution_count": 6,
   "id": "44b7373d",
   "metadata": {},
   "outputs": [],
   "source": [
    "# Grouping columns\n",
    "grouping_cols = ['Fiscal Quarter'\n",
    "                 , 'BU'\n",
    "                ]\n",
    "\n",
    "# Aggregation functions\n",
    "agg_funcs = {\n",
    "    'Spend': 'sum',\n",
    "    'Net Rev': 'sum'\n",
    "}\n",
    "\n",
    "# Create the new dataframe\n",
    "df = df.groupby(grouping_cols).agg(agg_funcs).reset_index()"
   ]
  },
  {
   "cell_type": "code",
   "execution_count": 7,
   "id": "bf91ffda",
   "metadata": {},
   "outputs": [
    {
     "data": {
      "text/html": [
       "<div>\n",
       "<style scoped>\n",
       "    .dataframe tbody tr th:only-of-type {\n",
       "        vertical-align: middle;\n",
       "    }\n",
       "\n",
       "    .dataframe tbody tr th {\n",
       "        vertical-align: top;\n",
       "    }\n",
       "\n",
       "    .dataframe thead th {\n",
       "        text-align: right;\n",
       "    }\n",
       "</style>\n",
       "<table border=\"1\" class=\"dataframe\">\n",
       "  <thead>\n",
       "    <tr style=\"text-align: right;\">\n",
       "      <th></th>\n",
       "      <th>Fiscal Quarter</th>\n",
       "      <th>BU</th>\n",
       "      <th>Spend</th>\n",
       "      <th>Net Rev</th>\n",
       "    </tr>\n",
       "  </thead>\n",
       "  <tbody>\n",
       "    <tr>\n",
       "      <th>0</th>\n",
       "      <td>2023-Q3</td>\n",
       "      <td>B2B</td>\n",
       "      <td>2.774621e+06</td>\n",
       "      <td>1.465750e+08</td>\n",
       "    </tr>\n",
       "    <tr>\n",
       "      <th>1</th>\n",
       "      <td>2023-Q3</td>\n",
       "      <td>CSB</td>\n",
       "      <td>6.248468e+06</td>\n",
       "      <td>2.715719e+07</td>\n",
       "    </tr>\n",
       "    <tr>\n",
       "      <th>2</th>\n",
       "      <td>2023-Q4</td>\n",
       "      <td>B2B</td>\n",
       "      <td>2.259069e+06</td>\n",
       "      <td>1.309445e+08</td>\n",
       "    </tr>\n",
       "    <tr>\n",
       "      <th>3</th>\n",
       "      <td>2023-Q4</td>\n",
       "      <td>CSB</td>\n",
       "      <td>6.776495e+06</td>\n",
       "      <td>2.205489e+07</td>\n",
       "    </tr>\n",
       "    <tr>\n",
       "      <th>4</th>\n",
       "      <td>2024-Q1</td>\n",
       "      <td>B2B</td>\n",
       "      <td>2.064347e+06</td>\n",
       "      <td>8.622974e+07</td>\n",
       "    </tr>\n",
       "    <tr>\n",
       "      <th>5</th>\n",
       "      <td>2024-Q1</td>\n",
       "      <td>CSB</td>\n",
       "      <td>2.913908e+06</td>\n",
       "      <td>3.651192e+07</td>\n",
       "    </tr>\n",
       "    <tr>\n",
       "      <th>6</th>\n",
       "      <td>2024-Q2</td>\n",
       "      <td>B2B</td>\n",
       "      <td>1.935665e+06</td>\n",
       "      <td>3.857383e+07</td>\n",
       "    </tr>\n",
       "    <tr>\n",
       "      <th>7</th>\n",
       "      <td>2024-Q2</td>\n",
       "      <td>CSB</td>\n",
       "      <td>2.013738e+06</td>\n",
       "      <td>1.482931e+07</td>\n",
       "    </tr>\n",
       "    <tr>\n",
       "      <th>8</th>\n",
       "      <td>2024-Q3</td>\n",
       "      <td>B2B</td>\n",
       "      <td>2.037880e+05</td>\n",
       "      <td>4.349995e+06</td>\n",
       "    </tr>\n",
       "    <tr>\n",
       "      <th>9</th>\n",
       "      <td>2024-Q3</td>\n",
       "      <td>CSB</td>\n",
       "      <td>4.763627e+05</td>\n",
       "      <td>4.209559e+06</td>\n",
       "    </tr>\n",
       "  </tbody>\n",
       "</table>\n",
       "</div>"
      ],
      "text/plain": [
       "  Fiscal Quarter   BU         Spend       Net Rev\n",
       "0        2023-Q3  B2B  2.774621e+06  1.465750e+08\n",
       "1        2023-Q3  CSB  6.248468e+06  2.715719e+07\n",
       "2        2023-Q4  B2B  2.259069e+06  1.309445e+08\n",
       "3        2023-Q4  CSB  6.776495e+06  2.205489e+07\n",
       "4        2024-Q1  B2B  2.064347e+06  8.622974e+07\n",
       "5        2024-Q1  CSB  2.913908e+06  3.651192e+07\n",
       "6        2024-Q2  B2B  1.935665e+06  3.857383e+07\n",
       "7        2024-Q2  CSB  2.013738e+06  1.482931e+07\n",
       "8        2024-Q3  B2B  2.037880e+05  4.349995e+06\n",
       "9        2024-Q3  CSB  4.763627e+05  4.209559e+06"
      ]
     },
     "execution_count": 7,
     "metadata": {},
     "output_type": "execute_result"
    }
   ],
   "source": [
    "df"
   ]
  }
 ],
 "metadata": {
  "kernelspec": {
   "display_name": "Python 3 (ipykernel)",
   "language": "python",
   "name": "python3"
  },
  "language_info": {
   "codemirror_mode": {
    "name": "ipython",
    "version": 3
   },
   "file_extension": ".py",
   "mimetype": "text/x-python",
   "name": "python",
   "nbconvert_exporter": "python",
   "pygments_lexer": "ipython3",
   "version": "3.10.5"
  }
 },
 "nbformat": 4,
 "nbformat_minor": 5
}
