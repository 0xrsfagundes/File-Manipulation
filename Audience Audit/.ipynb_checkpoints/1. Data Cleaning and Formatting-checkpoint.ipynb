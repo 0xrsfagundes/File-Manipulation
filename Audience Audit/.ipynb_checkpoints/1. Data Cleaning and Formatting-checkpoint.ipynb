{
 "cells": [
  {
   "cell_type": "markdown",
   "id": "aa404b5b",
   "metadata": {},
   "source": [
    "<h2>Library</h2>"
   ]
  },
  {
   "cell_type": "code",
   "execution_count": 48,
   "id": "91129faa",
   "metadata": {},
   "outputs": [],
   "source": [
    "import warnings\n",
    "import os\n",
    "import pandas as pd\n",
    "import numpy as np\n",
    "\n",
    "warnings.filterwarnings('ignore')\n",
    "pd.set_option('display.max_columns', None)\n",
    "# pd.set_option('display.max_rows', 100)\n",
    "pd.set_option('display.width', None)"
   ]
  },
  {
   "cell_type": "markdown",
   "id": "d1953fb6",
   "metadata": {},
   "source": [
    "<h2>Main</h2>"
   ]
  },
  {
   "cell_type": "markdown",
   "id": "5f12c351",
   "metadata": {},
   "source": [
    "<h2>CSB File</h2>"
   ]
  },
  {
   "cell_type": "code",
   "execution_count": 49,
   "id": "cf3fe161",
   "metadata": {},
   "outputs": [
    {
     "name": "stdout",
     "output_type": "stream",
     "text": [
      "KPIs by Audience Type_1.xlsx\n",
      "KPIs by Audience Type_2.xlsx\n",
      "KPIs by Audience Type_3.xlsx\n"
     ]
    }
   ],
   "source": [
    "folder_path = r'C:\\Users\\Rafael_Fagundes\\Downloads\\CSB'\n",
    "all_data = []\n",
    "\n",
    "file_list = os.listdir(folder_path)\n",
    "\n",
    "for file_name in file_list:\n",
    "    print(file_name)"
   ]
  },
  {
   "cell_type": "code",
   "execution_count": 50,
   "id": "39986cf3",
   "metadata": {},
   "outputs": [],
   "source": [
    "folder_path = r'C:\\Users\\Rafael_Fagundes\\Downloads\\CSB'\n",
    "all_data_csb = []\n",
    "\n",
    "file_list = os.listdir(folder_path)\n",
    "\n",
    "for file_name in file_list:\n",
    "    if file_name.endswith('.xlsx') or file_name.endswith('.xls'):\n",
    "        file_path = os.path.join(folder_path, file_name)\n",
    "        df_csb = pd.read_excel(file_path)\n",
    "        all_data_csb.append(df_csb)\n",
    "\n",
    "df_csb_contact = pd.concat(all_data_csb, ignore_index=True)"
   ]
  },
  {
   "cell_type": "code",
   "execution_count": 51,
   "id": "1b9ab206",
   "metadata": {},
   "outputs": [],
   "source": [
    "df_csb_contact.drop(columns={'[SumVisits]','[SumTrue_Rev_CSB]','[True_ROAS]','[v__Campaings]','[M3]'}, inplace=True)\n",
    "df_csb_contact.rename(columns={\n",
    "    'Data[Global Audience Type (Calc)]':'Audience Type'\n",
    "    ,'Data[B2B Tactic]':'Tactic'\n",
    "    ,'Data[Media Buy Name]':'Media Buy Name'\n",
    "    ,'Data[Campaign Name]':'Campaign Name'\n",
    "    ,'Data[Fiscal Quarter]':'Fiscal Quarter'\n",
    "    ,'Data[Fiscal Week]':'Fiscal Week'\n",
    "    ,'[SumImpressions]':'Impressions'\n",
    "    ,'[SumClicks]':'Clicks'\n",
    "    ,'[SumSpend]':'Spend'\n",
    "    ,'[SumNet_Rev_CSB]':'Net Rev'\n",
    "} , inplace=True)\n",
    "\n",
    "df_csb_contact['BU'] = 'CSB'"
   ]
  },
  {
   "cell_type": "markdown",
   "id": "66cb98da",
   "metadata": {},
   "source": [
    "<h2>B2B File</h2>"
   ]
  },
  {
   "cell_type": "code",
   "execution_count": 52,
   "id": "7ab4598d",
   "metadata": {},
   "outputs": [],
   "source": [
    "folder_path = r'C:\\Users\\Rafael_Fagundes\\Downloads\\B2B'\n",
    "all_data_b2b = []\n",
    "\n",
    "file_list = os.listdir(folder_path)\n",
    "\n",
    "for file_name in file_list:\n",
    "    if file_name.endswith('.xlsx') or file_name.endswith('.xls'):\n",
    "        file_path = os.path.join(folder_path, file_name)\n",
    "        df_b2b = pd.read_excel(file_path)\n",
    "        all_data_b2b.append(df_b2b)\n",
    "\n",
    "df_b2b_contact = pd.concat(all_data_b2b, ignore_index=True)"
   ]
  },
  {
   "cell_type": "code",
   "execution_count": 53,
   "id": "2731cb7b",
   "metadata": {},
   "outputs": [],
   "source": [
    "df_b2b_contact.drop(columns={'[SumVisits]','[SumHVE_B2B]','[v__Campaings]','[M3]'}, inplace=True)\n",
    "df_b2b_contact.rename(columns={\n",
    "    'Data[Global Audience Type (Calc)]':'Audience Type'\n",
    "    ,'Data[B2B Tactic]':'Tactic'\n",
    "    ,'Data[Media Buy Name]':'Media Buy Name'\n",
    "    ,'Data[Campaign Name]':'Campaign Name'\n",
    "    ,'Data[Fiscal Quarter]':'Fiscal Quarter'\n",
    "    ,'Data[Fiscal Week]':'Fiscal Week'\n",
    "    ,'[SumImpressions]':'Impressions'\n",
    "    ,'[SumClicks]':'Clicks'\n",
    "    ,'[SumSpend]':'Spend'\n",
    "    ,'[SumNet_Rev_B2B]':'Net Rev'\n",
    "} , inplace=True)\n",
    "\n",
    "df_b2b_contact['BU'] = 'B2B'"
   ]
  },
  {
   "cell_type": "markdown",
   "id": "44ddc014",
   "metadata": {},
   "source": [
    "<h2>CSB & B2B Merge</h2>"
   ]
  },
  {
   "cell_type": "code",
   "execution_count": 54,
   "id": "b3d1b7e0",
   "metadata": {},
   "outputs": [],
   "source": [
    "# Merge CSB & B2B dataframes & remove duplicates\n",
    "df_merged = pd.concat([df_b2b_contact,df_csb_contact])\n",
    "\n",
    "df_merged.drop_duplicates(inplace=True)"
   ]
  },
  {
   "cell_type": "code",
   "execution_count": 55,
   "id": "9ad6bea1",
   "metadata": {},
   "outputs": [],
   "source": [
    "# Get Claravine ID: _d1n4f7g4t1i_\n",
    "df_merged['Segment ID'] = df_merged['Media Buy Name'].replace('-', '_', regex=True).str.extract('(_d[a-zA-Z0-9]{10}_)')\n",
    "\n",
    "df_merged['Segment ID'] = df_merged['Segment ID'].str.replace('_', '')\n",
    "\n",
    "df_merged.fillna(0, inplace=True)\n",
    "\n",
    "df_merged['Audience ID Exists'] = df_merged['Segment ID'].apply(lambda x: 'No ID' if x == 0 else 'Have ID')"
   ]
  },
  {
   "cell_type": "markdown",
   "id": "c16e6e2a",
   "metadata": {},
   "source": [
    "<h2>Claravine Merge</h2>"
   ]
  },
  {
   "cell_type": "code",
   "execution_count": 56,
   "id": "adc109a3",
   "metadata": {},
   "outputs": [],
   "source": [
    "# Read Claravine file\n",
    "df_claravine = pd.read_csv(r'C:\\Users\\Rafael_Fagundes\\Downloads\\Claravine.csv')"
   ]
  },
  {
   "cell_type": "code",
   "execution_count": 57,
   "id": "d14977c8",
   "metadata": {},
   "outputs": [],
   "source": [
    "df_final = pd.merge(df_merged, df_claravine, on ='Segment ID', how='left')"
   ]
  },
  {
   "cell_type": "code",
   "execution_count": 58,
   "id": "f6921ebe",
   "metadata": {},
   "outputs": [],
   "source": [
    "df_final.fillna(0, inplace=True)\n",
    "\n",
    "df_final.to_csv('csv/df_delve_claravine.csv', index_label=False)"
   ]
  }
 ],
 "metadata": {
  "kernelspec": {
   "display_name": "Python 3 (ipykernel)",
   "language": "python",
   "name": "python3"
  },
  "language_info": {
   "codemirror_mode": {
    "name": "ipython",
    "version": 3
   },
   "file_extension": ".py",
   "mimetype": "text/x-python",
   "name": "python",
   "nbconvert_exporter": "python",
   "pygments_lexer": "ipython3",
   "version": "3.10.5"
  }
 },
 "nbformat": 4,
 "nbformat_minor": 5
}
