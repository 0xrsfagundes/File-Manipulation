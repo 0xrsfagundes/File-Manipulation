{
 "cells": [
  {
   "cell_type": "markdown",
   "id": "aa0a7e27",
   "metadata": {},
   "source": [
    "<h2>Library</h2>"
   ]
  },
  {
   "cell_type": "code",
   "execution_count": 46,
   "id": "2a20f707",
   "metadata": {},
   "outputs": [],
   "source": [
    "import warnings\n",
    "import pandas as pd\n",
    "import numpy as np\n",
    "\n",
    "warnings.filterwarnings('ignore')\n",
    "pd.set_option('display.max_columns', None)\n",
    "# pd.set_option('display.max_rows', 100)\n",
    "pd.set_option('display.width', None)"
   ]
  },
  {
   "cell_type": "code",
   "execution_count": 47,
   "id": "89c50837",
   "metadata": {},
   "outputs": [],
   "source": [
    "df_b2b = pd.read_excel(r'C:\\Users\\Rafael_Fagundes\\Downloads\\KPIs by Audience Type (B2B).xlsx', skiprows=2)\n",
    "df_b2b.drop(columns={'Sum of Visits','Visits %','Sum of HVE B2B','# Campaings'}, inplace=True)\n",
    "df_b2b.rename(columns={'B2B Tactic':'Tactic'\n",
    "                       ,'Sum of Impressions':'Impressions'\n",
    "                       ,'Sum of Clicks':'Clicks'\n",
    "                       ,'Sum of Spend':'Spend'\n",
    "                       ,'Sum of Net Rev B2B':'Net Rev'}, inplace=True)\n",
    "\n",
    "df_csb = pd.read_excel(r'C:\\Users\\Rafael_Fagundes\\Downloads\\KPIs by Audience Type (CSB).xlsx', skiprows=2)\n",
    "df_csb.drop(columns={'Sum of Visits','Visits %','Sum of True Rev CSB','True ROAS','# Campaings'}, inplace=True)\n",
    "df_csb.rename(columns={'Sum of Impressions':'Impressions'\n",
    "                       ,'Sum of Clicks':'Clicks'\n",
    "                       , 'Sum of Spend':'Spend'\n",
    "                       ,'Sum of Net Rev CSB':'Net Rev'} , inplace=True)"
   ]
  },
  {
   "cell_type": "code",
   "execution_count": 50,
   "id": "ab58235e",
   "metadata": {},
   "outputs": [],
   "source": [
    "df_merged = pd.concat([df_b2b,df_csb])\n",
    "\n",
    "df_merged.drop_duplicates(inplace=True)"
   ]
  },
  {
   "cell_type": "code",
   "execution_count": 52,
   "id": "c9a4949b",
   "metadata": {},
   "outputs": [
    {
     "data": {
      "text/html": [
       "<div>\n",
       "<style scoped>\n",
       "    .dataframe tbody tr th:only-of-type {\n",
       "        vertical-align: middle;\n",
       "    }\n",
       "\n",
       "    .dataframe tbody tr th {\n",
       "        vertical-align: top;\n",
       "    }\n",
       "\n",
       "    .dataframe thead th {\n",
       "        text-align: right;\n",
       "    }\n",
       "</style>\n",
       "<table border=\"1\" class=\"dataframe\">\n",
       "  <thead>\n",
       "    <tr style=\"text-align: right;\">\n",
       "      <th></th>\n",
       "      <th>Impressions</th>\n",
       "      <th>Clicks</th>\n",
       "      <th>Spend</th>\n",
       "      <th>Net Rev</th>\n",
       "    </tr>\n",
       "  </thead>\n",
       "  <tbody>\n",
       "    <tr>\n",
       "      <th>count</th>\n",
       "      <td>1.197830e+05</td>\n",
       "      <td>119783.000000</td>\n",
       "      <td>300004.000000</td>\n",
       "      <td>1.571170e+05</td>\n",
       "    </tr>\n",
       "    <tr>\n",
       "      <th>mean</th>\n",
       "      <td>4.500321e+04</td>\n",
       "      <td>117.795672</td>\n",
       "      <td>92.220310</td>\n",
       "      <td>3.255128e+03</td>\n",
       "    </tr>\n",
       "    <tr>\n",
       "      <th>std</th>\n",
       "      <td>4.345568e+05</td>\n",
       "      <td>1890.226500</td>\n",
       "      <td>927.731043</td>\n",
       "      <td>4.649219e+04</td>\n",
       "    </tr>\n",
       "    <tr>\n",
       "      <th>min</th>\n",
       "      <td>0.000000e+00</td>\n",
       "      <td>0.000000</td>\n",
       "      <td>0.000000</td>\n",
       "      <td>-4.655748e+04</td>\n",
       "    </tr>\n",
       "    <tr>\n",
       "      <th>25%</th>\n",
       "      <td>1.960000e+02</td>\n",
       "      <td>0.000000</td>\n",
       "      <td>0.000000</td>\n",
       "      <td>0.000000e+00</td>\n",
       "    </tr>\n",
       "    <tr>\n",
       "      <th>50%</th>\n",
       "      <td>1.976000e+03</td>\n",
       "      <td>2.000000</td>\n",
       "      <td>0.000000</td>\n",
       "      <td>0.000000e+00</td>\n",
       "    </tr>\n",
       "    <tr>\n",
       "      <th>75%</th>\n",
       "      <td>1.185450e+04</td>\n",
       "      <td>8.000000</td>\n",
       "      <td>5.750276</td>\n",
       "      <td>0.000000e+00</td>\n",
       "    </tr>\n",
       "    <tr>\n",
       "      <th>max</th>\n",
       "      <td>3.473099e+07</td>\n",
       "      <td>263429.000000</td>\n",
       "      <td>158315.370001</td>\n",
       "      <td>6.752292e+06</td>\n",
       "    </tr>\n",
       "  </tbody>\n",
       "</table>\n",
       "</div>"
      ],
      "text/plain": [
       "        Impressions         Clicks          Spend       Net Rev\n",
       "count  1.197830e+05  119783.000000  300004.000000  1.571170e+05\n",
       "mean   4.500321e+04     117.795672      92.220310  3.255128e+03\n",
       "std    4.345568e+05    1890.226500     927.731043  4.649219e+04\n",
       "min    0.000000e+00       0.000000       0.000000 -4.655748e+04\n",
       "25%    1.960000e+02       0.000000       0.000000  0.000000e+00\n",
       "50%    1.976000e+03       2.000000       0.000000  0.000000e+00\n",
       "75%    1.185450e+04       8.000000       5.750276  0.000000e+00\n",
       "max    3.473099e+07  263429.000000  158315.370001  6.752292e+06"
      ]
     },
     "execution_count": 52,
     "metadata": {},
     "output_type": "execute_result"
    }
   ],
   "source": [
    "#Get Claravine ID: _d1n4f7g4t1i_\n",
    "df_merged['Segment ID'] = df_merged['Media Buy Name'].replace('-', '_', regex=True).str.extract('(_d[a-zA-Z0-9]{10}_)')\n",
    "\n",
    "df_merged['Segment ID'] = df_merged['Segment ID'].str.replace('_', '')\n",
    "\n",
    "df_merged.fillna(0, inplace=True)\n",
    "\n",
    "df_merged['Audience ID Exists'] = df_merged['Segment ID'].apply(lambda x: 'No ID' if x == 0 else 'Have ID')"
   ]
  }
 ],
 "metadata": {
  "kernelspec": {
   "display_name": "Python 3 (ipykernel)",
   "language": "python",
   "name": "python3"
  },
  "language_info": {
   "codemirror_mode": {
    "name": "ipython",
    "version": 3
   },
   "file_extension": ".py",
   "mimetype": "text/x-python",
   "name": "python",
   "nbconvert_exporter": "python",
   "pygments_lexer": "ipython3",
   "version": "3.10.5"
  }
 },
 "nbformat": 4,
 "nbformat_minor": 5
}
