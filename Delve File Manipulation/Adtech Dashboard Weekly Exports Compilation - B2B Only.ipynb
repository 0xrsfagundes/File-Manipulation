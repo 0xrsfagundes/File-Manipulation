{
 "cells": [
  {
   "cell_type": "markdown",
   "id": "6a1427f2",
   "metadata": {},
   "source": [
    "This process creates a unique file from the Adtech Dashboard Weekly Exports pulled from the <a ref='https://app.powerbi.com/groups/me/apps/638779b4-2f48-4b27-b5e4-cf8f63f8eff7/reports/f3ebd76a-8e1b-4791-9311-9f8ed418b04d/ReportSection53f989641da9e91409d0?ctid=945c199a-83a2-4e80-9f8c-5a91be5752dd&experience=power-bi'>Adtech dashboard</a>."
   ]
  },
  {
   "cell_type": "markdown",
   "id": "aa404b5b",
   "metadata": {},
   "source": [
    "<h2>Library</h2>"
   ]
  },
  {
   "cell_type": "code",
   "execution_count": 14,
   "id": "91129faa",
   "metadata": {},
   "outputs": [],
   "source": [
    "import warnings\n",
    "import os\n",
    "import re\n",
    "import pandas as pd\n",
    "import numpy as np\n",
    "\n",
    "warnings.filterwarnings('ignore')\n",
    "pd.set_option('display.max_columns', None)\n",
    "# pd.set_option('display.max_rows', 100)\n",
    "pd.set_option('display.width', None)"
   ]
  },
  {
   "cell_type": "code",
   "execution_count": 15,
   "id": "5e34ddc9",
   "metadata": {},
   "outputs": [],
   "source": [
    "def remove_typos_from_dataframe(df, column_name):\n",
    "    # Define a list of common typos and their corrections\n",
    "    typos = {\n",
    "        '3PD AUDIENCE' : '3PD AUDIENCE',\n",
    "        'ABM-1PD AUDIENCE' : 'ABM-1PD AUDIENCE',\n",
    "        'ABM-3PD AUDIENCE' : 'ABM-3PD AUDIENCE',\n",
    "        'ABM-3PD AUDIENMB' : 'ABM-3PD AUDIENCE',\n",
    "        'ABM-3PD INDIENCE' : 'ABM-3PD AUDIENCE',\n",
    "        'ABM-3PD JPDIENCE' : 'ABM-3PD AUDIENCE',\n",
    "        'AFFINITY -1PD PIXEL' : 'AFFINITY-1PD PIXEL',\n",
    "        'AFFINITY-1PD PIXEL' : 'AFFINITY-1PD PIXEL',\n",
    "        'AFFINITY-3PD   BEHAVIOR' : 'AFFINITY-3PD BEHAVIOR',\n",
    "        'AFFINITY-3PD BEHAVIOR' : 'AFFINITY-3PD BEHAVIOR',\n",
    "        'AFFINITY-3PDÂ BEHAVIOR' : 'AFFINITY-3PD BEHAVIOR',\n",
    "        'AFFINITY-3PD-BEHAVIOR' : 'AFFINITY-3PD BEHAVIOR',\n",
    "        'AUDIO-3PD RETARGET EXPOSED' : 'AUDIO-3PD RETARGET EXPOSED',\n",
    "        'BEHAVIOR-3PD' : 'BEHAVIORAL-3PD',\n",
    "        'BEHAVIORAL-3PD' : 'BEHAVIORAL-3PD',\n",
    "        'BEHAVIORAL-3PD RETARGET' : 'BEHAVIORAL-3PD RETARGET',\n",
    "        'CAMPAIGN-3PD LAL' : 'CAMPAIGN-3PD LAL',\n",
    "        'CAMPAIGN-3PD-LAL' : 'CAMPAIGN-3PD LAL',\n",
    "        'CATEGORY-3PD CON CONTEXTUAL' : 'CATEGORY-3PD CONTEXTUAL',\n",
    "        'CATEGORY-3PD CONTEXTUAL' : 'CATEGORY-3PD CONTEXTUAL',\n",
    "        'CATEGORY-3PD CONTEXTUALL' : 'CATEGORY-3PD CONTEXTUAL',\n",
    "        'CATEGORY-3PD CONTEXTUALT' : 'CATEGORY-3PD CONTEXTUAL',\n",
    "        'CATEGORY-3PDÂ CONTEXTUAL' : 'CATEGORY-3PD CONTEXTUAL',\n",
    "        'CATEGORY-3PD-CONTEXTUAL' : 'CATEGORY-3PD CONTEXTUAL',\n",
    "        'CE Affinity-3PD BEHAVIOR' : 'CE AFFINITY-3PD BEHAVIOR',\n",
    "        'CONTEXTUAL-3PD' : 'CONTEXTUAL-3PD',\n",
    "        'CONTEXTUAL-3PD RETARGET' : 'CONTEXTUAL-3PD RETARGET',\n",
    "        'CRM-1PD' : 'CRM-1PD',\n",
    "        'CRM-1PD AUDIENCE' : 'CRM-1PD AUDIENCE',\n",
    "        'CRM-1PD CRM' : 'CRM-1PD CRM',\n",
    "        'CRM-1PDÂ CRM' : 'CRM-1PD CRM',\n",
    "        'CRM-1PD-AIQ-NS' : 'CRM-1PD-AIQ-NS',\n",
    "        'CRM-3PD LAL' : 'CRM-3PD LAL',\n",
    "        'CTV-3PD RETARGET EXPOSED' : 'CTV-3PD RETARGET EXPOSED',\n",
    "        'DIGITAL-3PD RETARGET EXPOSED' : 'DIGITAL-3PD RETARGET EXPOSED',\n",
    "        'DMP-3PD  AUDIENCE' : 'DMP-3PD AUDIENCE',\n",
    "        'DMP-3PD ANZDIENCE' : 'DMP-3PD AUDIENCE',\n",
    "        'DMP-3PD AUDIENCE' : 'DMP-3PD AUDIENCE',\n",
    "        'DMP-3PD AUDIFRCE' : 'DMP-3PD AUDIENCE',\n",
    "        'DMP-3PD INDIENCE' : 'DMP-3PD AUDIENCE',\n",
    "        'DMP-3PD JPDIENCE' : 'DMP-3PD AUDIENCE',\n",
    "        'DMP-3PD LAL' : 'DMP-3PD LAL',\n",
    "        'DMP-3PD SGDIENCE' : 'DMP-3PD AUDIENCE',\n",
    "        'DMP-3PDÂ AUDIENCE' : 'DMP-3PD AUDIENCE',\n",
    "        'DOMAIN-3PD CONTEXTUAL' : 'DOMAIN-3PD CONTEXTUAL',\n",
    "        'DOMAIN-3PDÂ CONTEXTUAL' : 'DOMAIN-3PD CONTEXTUAL',\n",
    "        'EMAIL-1PD CRM' : 'EMAIL-1PD CRM',\n",
    "        'IN   MARKET-3PD BEHAVIOR' : 'IN MARKET-3PD BEHAVIOR',\n",
    "        'IN  MARKET-3PD CONTEXTUAL' : 'IN MARKET-3PD CONTEXTUAL',\n",
    "        'IN MARKET -1PD PIXEL' : 'IN MARKET-1PD PIXEL',\n",
    "        'IN MARKET- 3PD BEHAVIOR' : 'IN MARKET-3PD BEHAVIOR',\n",
    "        'IN MARKET-1PD PIXEL' : 'IN MARKET-1PD PIXEL',\n",
    "        'IN MARKET-3PD  BEHAVIOR' : 'IN MARKET-3PD BEHAVIOR',\n",
    "        'IN MARKET-3PD  CONTEXTUAL' : 'IN MARKET-3PD CONTEXTUAL',\n",
    "        'IN MARKET-3PD BEHAVIOR' : 'IN MARKET-3PD BEHAVIOR',\n",
    "        'IN MARKET-3PD BEHAVIORVID IN-STREAM' : 'IN MARKET-3PD BEHAVIOR',\n",
    "        'IN MARKET-3PD BEHAVIOUR' : 'IN MARKET-3PD BEHAVIOR',\n",
    "        'IN MARKET-3PD CONTEXTUAL' : 'IN MARKET-3PD CONTEXTUAL',\n",
    "        'INÂ MARKET-3PDÂ BEHAVIOR' : 'IN MARKET-3PD BEHAVIOR',\n",
    "        'INÂ MARKET-3PDÂ CONTEXTUAL' : 'IN MARKET-3PD CONTEXTUAL',\n",
    "        'IN-MARKET-3PD BEHAVIOR' : 'IN-MARKET-3PD BEHAVIOR',\n",
    "        'KCT-3PD CONTEXTUAL' : 'KCT-3PD CONTEXTUAL',\n",
    "        'KSTD-3PD CONTEXTUAL' : 'KSTD-3PD CONTEXTUAL',\n",
    "        'LAL-3PD BEHAVIOR' : 'LAL-3PD BEHAVIOR',\n",
    "        'LAPSED - 3PD BEHAVIOR' : 'LAPSED-3PD BEHAVIOR',\n",
    "        'LAPSED LAL-1PD PIXEL' : 'LAPSED LAL-1PD PIXEL',\n",
    "        'Lapsed User-3PD BEHAVIOR' : 'LAPSED USER-3PD BEHAVIOR',\n",
    "        'LAPSED USERS -1PD PIXEL' : 'LAPSED USERS-1PD PIXEL',\n",
    "        'LAPSED USERS-1PD PIXEL' : 'LAPSED USERS-1PD PIXEL',\n",
    "        'LAPSED-1PD PIXEL' : 'LAPSED-1PD PIXEL',\n",
    "        'LAPSED-1PD PIXEL-1PD PIXEL' : 'LAPSED-1PD PIXEL-1PD PIXEL',\n",
    "        'LAPSED-1PDÂ PIXEL' : 'LAPSED-1PD PIXEL',\n",
    "        'MB Affinity-3PD BEHAVIOR' : 'MB AFFINITY-3PD BEHAVIOR',\n",
    "        'MEDIA-1PD' : 'MEDIA-1PD',\n",
    "        'MEDIA-1PD MEDIA' : 'MEDIA-1PD MEDIA',\n",
    "        'MEDIA-1PDÂ MEDIA' : 'MEDIA-1PD MEDIA',\n",
    "        'MEDIA-3PD RETARGET EXPOSED' : 'MEDIA-3PD RETARGET EXPOSED',\n",
    "        'PERSONA-1PD RETARGET' : 'PERSONA-1PD RETARGET',\n",
    "        'PIXEL-3PD LAL' : 'PIXEL-3PD LAL',\n",
    "        'PIXEL-3PD LAL-Family' : 'PIXEL-3PD LAL-FAMILY',\n",
    "        'PIXEL-3PD LAL-Product' : 'PIXEL-3PD LAL-PRODUCT',\n",
    "        'PIXEL-3PDÂ LAL' : 'PIXEL-3PD LAL',\n",
    "        'PROXIMITY-3PD BEHAVIOR' : 'PROXIMITY-3PD BEHAVIOR',\n",
    "        'PROXIMITY-3PD CONTEXTUAL' : 'PROXIMITY-3PD CONTEXTUAL',\n",
    "        'RETARGET-1PD   RETARGET' : 'RETARGET-1PD RETARGET',\n",
    "        'RETARGET-1PD  RETARGET' : 'RETARGET-1PD RETARGET',\n",
    "        'RETARGET-1PD RETARGET' : 'RETARGET-1PD RETARGET',\n",
    "        'RETARGET-1PDÂ RETARGET' : 'RETARGET-1PD RETARGET',\n",
    "        'RETARGET-3PD COM SIZE' : 'RETARGET-3PD COM SIZE',\n",
    "        'Retargeting-3PD PIXEL' : 'RETARGETING-3PD PIXEL',\n",
    "        'ROS-3PD PMP' : 'ROS-3PD PMP',\n",
    "        'ROS-3PD ROS' : 'ROS-3PD ROS',\n",
    "        'SITE IN MARKET-3PD BEHAVIOR' : 'SITE IN MARKET-3PD BEHAVIOR',\n",
    "        'SITE IN MARKET-3PD CONTEXTUAL' : 'SITE IN MARKET-3PD CONTEXTUAL',\n",
    "        'VIDEO-3PD RETARGET EXPOSED' : 'VIDEO-3PD RETARGET EXPOSED',\n",
    "    }\n",
    "\n",
    "    # Iterate through the DataFrame and apply typo corrections\n",
    "    for index, row in df.iterrows():\n",
    "        if row[column_name] in typos:\n",
    "            df.at[index, column_name] = typos[row[column_name]]\n",
    "\n",
    "    return df"
   ]
  },
  {
   "cell_type": "markdown",
   "id": "d1953fb6",
   "metadata": {},
   "source": [
    "<h2>Main</h2>"
   ]
  },
  {
   "cell_type": "markdown",
   "id": "66cb98da",
   "metadata": {},
   "source": [
    "<h2>B2B File</h2>"
   ]
  },
  {
   "cell_type": "code",
   "execution_count": 16,
   "id": "7ab4598d",
   "metadata": {},
   "outputs": [],
   "source": [
    "folder_path = r'C:\\Users\\Rafael_Fagundes\\Downloads\\B2B'\n",
    "all_data_b2b = []\n",
    "\n",
    "file_list = os.listdir(folder_path)\n",
    "\n",
    "for file_name in file_list:\n",
    "    if file_name.endswith('.xlsx') or file_name.endswith('.xls'):\n",
    "        file_path = os.path.join(folder_path, file_name)\n",
    "        try:\n",
    "            df_b2b = pd.read_excel(file_path)\n",
    "            all_data_b2b.append(df_b2b)\n",
    "        except Exception as e:\n",
    "            print(f\"Error reading '{file_name}': {e}\")\n",
    "\n",
    "if all_data_b2b:\n",
    "    df_b2b_contact = pd.concat(all_data_b2b, ignore_index=True)\n",
    "else:\n",
    "    print(\"No valid Excel files found in the specified folder.\")"
   ]
  },
  {
   "cell_type": "code",
   "execution_count": 17,
   "id": "2731cb7b",
   "metadata": {},
   "outputs": [],
   "source": [
    "df_b2b_contact.drop(columns={'[SumVisits]','[v__Campaings]','[M3]'}, inplace=True)\n",
    "df_b2b_contact.rename(columns={\n",
    "    'Data[Global Audience Type (Calc)]':'Audience Type'\n",
    "    ,'Data[B2B Tactic]':'Tactic'\n",
    "    ,'Data[Media Buy Name]':'Media Buy Name'\n",
    "    ,'Data[Campaign Name]':'Campaign Name'\n",
    "    ,'Data[Fiscal Quarter]':'Fiscal Quarter'\n",
    "    ,'Data[Fiscal Week]':'Fiscal Week'\n",
    "    ,'[SumImpressions]':'Impressions'\n",
    "    ,'[SumClicks]':'Clicks'\n",
    "    ,'[SumSpend]':'Spend'\n",
    "    ,'[SumNet_Rev_B2B]':'Net Rev'\n",
    "    ,'[SumHVE_B2B]':'HVE'\n",
    "    ,'Data[Country]':'Country'\n",
    "    ,'Data[Display Funnel Mapped]':'Display Funnel Mapped'\n",
    "    ,'Data[Display Dell Vehicle Mapped]':'Display Dell Vehicle Mapped'\n",
    "    ,'Data[Display Business Unit Mapped]':'Display Business Unit Mapped'\n",
    "    ,'Data[Display Site Name Mapped]':'Display Site Name Mapped'\n",
    "    ,'Data[Audience Type Name]':'Audience Type Name'\n",
    "} , inplace=True)\n",
    "\n",
    "df_b2b_contact['BU'] = 'B2B'"
   ]
  },
  {
   "cell_type": "markdown",
   "id": "44ddc014",
   "metadata": {},
   "source": [
    "<h2>CSB & B2B Merge</h2>"
   ]
  },
  {
   "cell_type": "code",
   "execution_count": 18,
   "id": "b3d1b7e0",
   "metadata": {},
   "outputs": [],
   "source": [
    "# Merge CSB & B2B dataframes & remove duplicates\n",
    "df_merged = df_b2b_contact.drop_duplicates()\n",
    "\n",
    "# df_merged.drop_duplicates(inplace=True)"
   ]
  },
  {
   "cell_type": "code",
   "execution_count": 19,
   "id": "9ad6bea1",
   "metadata": {},
   "outputs": [],
   "source": [
    "# Get Claravine ID: _d1n4f7g4t1i_\n",
    "df_merged['Segment ID'] = df_merged['Media Buy Name'].replace('-', '_', regex=True).str.extract('(_d[a-zA-Z0-9]{10}_)')\n",
    "\n",
    "df_merged['Segment ID'] = df_merged['Segment ID'].str.replace('_', '')\n",
    "\n",
    "df_merged.fillna(0, inplace=True)\n",
    "\n",
    "df_merged['Audience ID Exists'] = df_merged['Segment ID'].apply(lambda x: 'No ID' if x == 0 else 'Have ID')"
   ]
  },
  {
   "cell_type": "markdown",
   "id": "c16e6e2a",
   "metadata": {},
   "source": [
    "<h2>Claravine Merge</h2>"
   ]
  },
  {
   "cell_type": "code",
   "execution_count": 20,
   "id": "adc109a3",
   "metadata": {},
   "outputs": [],
   "source": [
    "# Read Claravine file\n",
    "df_claravine = pd.read_csv('csv\\Claravine.csv')"
   ]
  },
  {
   "cell_type": "code",
   "execution_count": 21,
   "id": "d14977c8",
   "metadata": {},
   "outputs": [],
   "source": [
    "df_final = pd.merge(df_merged, df_claravine, on ='Segment ID', how='left')\n",
    "\n",
    "df_final.fillna(0, inplace=True)"
   ]
  },
  {
   "cell_type": "markdown",
   "id": "d6c9bfc3",
   "metadata": {},
   "source": [
    "<h2>Compile Data Export</h2>"
   ]
  },
  {
   "cell_type": "code",
   "execution_count": 22,
   "id": "873124ca",
   "metadata": {},
   "outputs": [
    {
     "name": "stdout",
     "output_type": "stream",
     "text": [
      "<class 'pandas.core.frame.DataFrame'>\n",
      "RangeIndex: 904290 entries, 0 to 904289\n",
      "Data columns (total 48 columns):\n",
      " #   Column                                       Non-Null Count   Dtype  \n",
      "---  ------                                       --------------   -----  \n",
      " 0   Audience Type                                904290 non-null  object \n",
      " 1   Tactic                                       904290 non-null  object \n",
      " 2   Media Buy Name                               904290 non-null  object \n",
      " 3   Campaign Name                                904290 non-null  object \n",
      " 4   Fiscal Quarter                               904290 non-null  object \n",
      " 5   Fiscal Week                                  904290 non-null  object \n",
      " 6   Country_x                                    904290 non-null  object \n",
      " 7   Display Funnel Mapped                        904290 non-null  object \n",
      " 8   Display Dell Vehicle Mapped                  904290 non-null  object \n",
      " 9   Display Business Unit Mapped                 904290 non-null  object \n",
      " 10  Display Site Name Mapped                     904290 non-null  object \n",
      " 11  Audience Type Name                           904290 non-null  object \n",
      " 12  Impressions                                  904290 non-null  float64\n",
      " 13  Clicks                                       904290 non-null  float64\n",
      " 14  Spend                                        904290 non-null  float64\n",
      " 15  Net Rev                                      904290 non-null  float64\n",
      " 16  HVE                                          904290 non-null  int64  \n",
      " 17  BU                                           904290 non-null  object \n",
      " 18  Segment ID                                   904290 non-null  object \n",
      " 19  Audience ID Exists                           904290 non-null  object \n",
      " 20  Dell Audience Name                           904290 non-null  object \n",
      " 21  VAR Dell Audience Name                       904290 non-null  object \n",
      " 22  Dell Audience Name concatenation             904290 non-null  object \n",
      " 23  MediaCom Audience Name                       904290 non-null  object \n",
      " 24  MediaCom Audience Name Concatenation         904290 non-null  object \n",
      " 25  Audience Objective                           904290 non-null  object \n",
      " 26  Seed Information                             904290 non-null  object \n",
      " 27  Audience Composition                         904290 non-null  object \n",
      " 28  Audience Composition concatenation           904290 non-null  object \n",
      " 29  Audience Object-Audience Composition         904290 non-null  object \n",
      " 30  Country_y                                    904290 non-null  object \n",
      " 31  Business Unit                                904290 non-null  object \n",
      " 32  Country-BU concatenation                     904290 non-null  object \n",
      " 33  Data Type                                    904290 non-null  object \n",
      " 34  Audience Source                              904290 non-null  object \n",
      " 35  Data Provider                                904290 non-null  object \n",
      " 36  Data Provider Abbreviation                   904290 non-null  object \n",
      " 37  Audience Source-Data Provider concatenation  904290 non-null  object \n",
      " 38  Attribute Category                           904290 non-null  object \n",
      " 39  Attribute Category Shortcode                 904290 non-null  object \n",
      " 40  Audience Category Reporting                  904290 non-null  object \n",
      " 41  Platform                                     904290 non-null  object \n",
      " 42  Random                                       904290 non-null  object \n",
      " 43  Prefix                                       904290 non-null  object \n",
      " 44  Claravine ID                                 904290 non-null  object \n",
      " 45  submission_name                              904290 non-null  object \n",
      " 46  submitter_name                               904290 non-null  object \n",
      " 47  created_date                                 904290 non-null  object \n",
      "dtypes: float64(4), int64(1), object(43)\n",
      "memory usage: 331.2+ MB\n"
     ]
    }
   ],
   "source": [
    "df_final.info()"
   ]
  },
  {
   "cell_type": "markdown",
   "id": "7d483754",
   "metadata": {},
   "source": [
    "<h2>Fix [Audience Type Nam] Typos</h2>"
   ]
  },
  {
   "cell_type": "code",
   "execution_count": 23,
   "id": "21533126",
   "metadata": {},
   "outputs": [],
   "source": [
    "df_final = remove_typos_from_dataframe(df_final, 'Audience Type Name')\n",
    "\n",
    "df_final['Audience Type Name'] = df_final['Audience Type Name'].str.replace('\\u00A0', ' ')"
   ]
  },
  {
   "cell_type": "code",
   "execution_count": 24,
   "id": "f6921ebe",
   "metadata": {},
   "outputs": [],
   "source": [
    "folder_path = r'C:\\Users\\Rafael_Fagundes\\Downloads'\n",
    "\n",
    "df_final.to_csv(folder_path + r'\\b2b_compiled_data.csv')"
   ]
  }
 ],
 "metadata": {
  "kernelspec": {
   "display_name": "Python 3 (ipykernel)",
   "language": "python",
   "name": "python3"
  },
  "language_info": {
   "codemirror_mode": {
    "name": "ipython",
    "version": 3
   },
   "file_extension": ".py",
   "mimetype": "text/x-python",
   "name": "python",
   "nbconvert_exporter": "python",
   "pygments_lexer": "ipython3",
   "version": "3.10.5"
  }
 },
 "nbformat": 4,
 "nbformat_minor": 5
}
