{
 "cells": [
  {
   "cell_type": "markdown",
   "id": "6a1427f2",
   "metadata": {},
   "source": [
    "This process creates a unique file from the Adtech Dashboard Weekly Exports pulled from the <a ref='https://app.powerbi.com/groups/me/apps/638779b4-2f48-4b27-b5e4-cf8f63f8eff7/reports/f3ebd76a-8e1b-4791-9311-9f8ed418b04d/ReportSection53f989641da9e91409d0?ctid=945c199a-83a2-4e80-9f8c-5a91be5752dd&experience=power-bi'>Adtech dashboard</a>."
   ]
  },
  {
   "cell_type": "markdown",
   "id": "aa404b5b",
   "metadata": {},
   "source": [
    "<h2>Library</h2>"
   ]
  },
  {
   "cell_type": "code",
   "execution_count": 18,
   "id": "91129faa",
   "metadata": {},
   "outputs": [],
   "source": [
    "import warnings\n",
    "import os\n",
    "import re\n",
    "import pandas as pd\n",
    "import numpy as np\n",
    "\n",
    "warnings.filterwarnings('ignore')\n",
    "pd.set_option('display.max_columns', None)\n",
    "# pd.set_option('display.max_rows', 100)\n",
    "pd.set_option('display.width', None)"
   ]
  },
  {
   "cell_type": "code",
   "execution_count": 19,
   "id": "5e34ddc9",
   "metadata": {},
   "outputs": [],
   "source": [
    "def remove_typos_from_dataframe(df, column_name):\n",
    "    # Define a list of common typos and their corrections\n",
    "    typos = {\n",
    "        '3PD AUDIENCE' : '3PD AUDIENCE',\n",
    "        'ABM-1PD AUDIENCE' : 'ABM-1PD AUDIENCE',\n",
    "        'ABM-3PD AUDIENCE' : 'ABM-3PD AUDIENCE',\n",
    "        'ABM-3PD AUDIENMB' : 'ABM-3PD AUDIENCE',\n",
    "        'ABM-3PD INDIENCE' : 'ABM-3PD AUDIENCE',\n",
    "        'ABM-3PD JPDIENCE' : 'ABM-3PD AUDIENCE',\n",
    "        'AFFINITY -1PD PIXEL' : 'AFFINITY-1PD PIXEL',\n",
    "        'AFFINITY-1PD PIXEL' : 'AFFINITY-1PD PIXEL',\n",
    "        'AFFINITY-3PD   BEHAVIOR' : 'AFFINITY-3PD BEHAVIOR',\n",
    "        'AFFINITY-3PD BEHAVIOR' : 'AFFINITY-3PD BEHAVIOR',\n",
    "        'AFFINITY-3PDÂ BEHAVIOR' : 'AFFINITY-3PD BEHAVIOR',\n",
    "        'AFFINITY-3PD-BEHAVIOR' : 'AFFINITY-3PD BEHAVIOR',\n",
    "        'AUDIO-3PD RETARGET EXPOSED' : 'AUDIO-3PD RETARGET EXPOSED',\n",
    "        'BEHAVIOR-3PD' : 'BEHAVIORAL-3PD',\n",
    "        'BEHAVIORAL-3PD' : 'BEHAVIORAL-3PD',\n",
    "        'BEHAVIORAL-3PD RETARGET' : 'BEHAVIORAL-3PD RETARGET',\n",
    "        'CAMPAIGN-3PD LAL' : 'CAMPAIGN-3PD LAL',\n",
    "        'CAMPAIGN-3PD-LAL' : 'CAMPAIGN-3PD LAL',\n",
    "        'CATEGORY-3PD CON CONTEXTUAL' : 'CATEGORY-3PD CONTEXTUAL',\n",
    "        'CATEGORY-3PD CONTEXTUAL' : 'CATEGORY-3PD CONTEXTUAL',\n",
    "        'CATEGORY-3PD CONTEXTUALL' : 'CATEGORY-3PD CONTEXTUAL',\n",
    "        'CATEGORY-3PD CONTEXTUALT' : 'CATEGORY-3PD CONTEXTUAL',\n",
    "        'CATEGORY-3PDÂ CONTEXTUAL' : 'CATEGORY-3PD CONTEXTUAL',\n",
    "        'CATEGORY-3PD-CONTEXTUAL' : 'CATEGORY-3PD CONTEXTUAL',\n",
    "        'CE Affinity-3PD BEHAVIOR' : 'CE AFFINITY-3PD BEHAVIOR',\n",
    "        'CONTEXTUAL-3PD' : 'CONTEXTUAL-3PD',\n",
    "        'CONTEXTUAL-3PD RETARGET' : 'CONTEXTUAL-3PD RETARGET',\n",
    "        'CRM-1PD' : 'CRM-1PD',\n",
    "        'CRM-1PD AUDIENCE' : 'CRM-1PD AUDIENCE',\n",
    "        'CRM-1PD CRM' : 'CRM-1PD CRM',\n",
    "        'CRM-1PDÂ CRM' : 'CRM-1PD CRM',\n",
    "        'CRM-1PD-AIQ-NS' : 'CRM-1PD-AIQ-NS',\n",
    "        'CRM-3PD LAL' : 'CRM-3PD LAL',\n",
    "        'CTV-3PD RETARGET EXPOSED' : 'CTV-3PD RETARGET EXPOSED',\n",
    "        'DIGITAL-3PD RETARGET EXPOSED' : 'DIGITAL-3PD RETARGET EXPOSED',\n",
    "        'DMP-3PD  AUDIENCE' : 'DMP-3PD AUDIENCE',\n",
    "        'DMP-3PD ANZDIENCE' : 'DMP-3PD AUDIENCE',\n",
    "        'DMP-3PD AUDIENCE' : 'DMP-3PD AUDIENCE',\n",
    "        'DMP-3PD AUDIFRCE' : 'DMP-3PD AUDIENCE',\n",
    "        'DMP-3PD INDIENCE' : 'DMP-3PD AUDIENCE',\n",
    "        'DMP-3PD JPDIENCE' : 'DMP-3PD AUDIENCE',\n",
    "        'DMP-3PD LAL' : 'DMP-3PD LAL',\n",
    "        'DMP-3PD SGDIENCE' : 'DMP-3PD AUDIENCE',\n",
    "        'DMP-3PDÂ AUDIENCE' : 'DMP-3PD AUDIENCE',\n",
    "        'DOMAIN-3PD CONTEXTUAL' : 'DOMAIN-3PD CONTEXTUAL',\n",
    "        'DOMAIN-3PDÂ CONTEXTUAL' : 'DOMAIN-3PD CONTEXTUAL',\n",
    "        'EMAIL-1PD CRM' : 'EMAIL-1PD CRM',\n",
    "        'IN   MARKET-3PD BEHAVIOR' : 'IN MARKET-3PD BEHAVIOR',\n",
    "        'IN  MARKET-3PD CONTEXTUAL' : 'IN MARKET-3PD CONTEXTUAL',\n",
    "        'IN MARKET -1PD PIXEL' : 'IN MARKET-1PD PIXEL',\n",
    "        'IN MARKET- 3PD BEHAVIOR' : 'IN MARKET-3PD BEHAVIOR',\n",
    "        'IN MARKET-1PD PIXEL' : 'IN MARKET-1PD PIXEL',\n",
    "        'IN MARKET-3PD  BEHAVIOR' : 'IN MARKET-3PD BEHAVIOR',\n",
    "        'IN MARKET-3PD  CONTEXTUAL' : 'IN MARKET-3PD CONTEXTUAL',\n",
    "        'IN MARKET-3PD BEHAVIOR' : 'IN MARKET-3PD BEHAVIOR',\n",
    "        'IN MARKET-3PD BEHAVIORVID IN-STREAM' : 'IN MARKET-3PD BEHAVIOR',\n",
    "        'IN MARKET-3PD BEHAVIOUR' : 'IN MARKET-3PD BEHAVIOR',\n",
    "        'IN MARKET-3PD CONTEXTUAL' : 'IN MARKET-3PD CONTEXTUAL',\n",
    "        'INÂ MARKET-3PDÂ BEHAVIOR' : 'IN MARKET-3PD BEHAVIOR',\n",
    "        'INÂ MARKET-3PDÂ CONTEXTUAL' : 'IN MARKET-3PD CONTEXTUAL',\n",
    "        'IN-MARKET-3PD BEHAVIOR' : 'IN-MARKET-3PD BEHAVIOR',\n",
    "        'KCT-3PD CONTEXTUAL' : 'KCT-3PD CONTEXTUAL',\n",
    "        'KSTD-3PD CONTEXTUAL' : 'KSTD-3PD CONTEXTUAL',\n",
    "        'LAL-3PD BEHAVIOR' : 'LAL-3PD BEHAVIOR',\n",
    "        'LAPSED - 3PD BEHAVIOR' : 'LAPSED-3PD BEHAVIOR',\n",
    "        'LAPSED LAL-1PD PIXEL' : 'LAPSED LAL-1PD PIXEL',\n",
    "        'Lapsed User-3PD BEHAVIOR' : 'LAPSED USER-3PD BEHAVIOR',\n",
    "        'LAPSED USERS -1PD PIXEL' : 'LAPSED USERS-1PD PIXEL',\n",
    "        'LAPSED USERS-1PD PIXEL' : 'LAPSED USERS-1PD PIXEL',\n",
    "        'LAPSED-1PD PIXEL' : 'LAPSED-1PD PIXEL',\n",
    "        'LAPSED-1PD PIXEL-1PD PIXEL' : 'LAPSED-1PD PIXEL-1PD PIXEL',\n",
    "        'LAPSED-1PDÂ PIXEL' : 'LAPSED-1PD PIXEL',\n",
    "        'MB Affinity-3PD BEHAVIOR' : 'MB AFFINITY-3PD BEHAVIOR',\n",
    "        'MEDIA-1PD' : 'MEDIA-1PD',\n",
    "        'MEDIA-1PD MEDIA' : 'MEDIA-1PD MEDIA',\n",
    "        'MEDIA-1PDÂ MEDIA' : 'MEDIA-1PD MEDIA',\n",
    "        'MEDIA-3PD RETARGET EXPOSED' : 'MEDIA-3PD RETARGET EXPOSED',\n",
    "        'PERSONA-1PD RETARGET' : 'PERSONA-1PD RETARGET',\n",
    "        'PIXEL-3PD LAL' : 'PIXEL-3PD LAL',\n",
    "        'PIXEL-3PD LAL-Family' : 'PIXEL-3PD LAL-FAMILY',\n",
    "        'PIXEL-3PD LAL-Product' : 'PIXEL-3PD LAL-PRODUCT',\n",
    "        'PIXEL-3PDÂ LAL' : 'PIXEL-3PD LAL',\n",
    "        'PROXIMITY-3PD BEHAVIOR' : 'PROXIMITY-3PD BEHAVIOR',\n",
    "        'PROXIMITY-3PD CONTEXTUAL' : 'PROXIMITY-3PD CONTEXTUAL',\n",
    "        'RETARGET-1PD   RETARGET' : 'RETARGET-1PD RETARGET',\n",
    "        'RETARGET-1PD  RETARGET' : 'RETARGET-1PD RETARGET',\n",
    "        'RETARGET-1PD RETARGET' : 'RETARGET-1PD RETARGET',\n",
    "        'RETARGET-1PDÂ RETARGET' : 'RETARGET-1PD RETARGET',\n",
    "        'RETARGET-3PD COM SIZE' : 'RETARGET-3PD COM SIZE',\n",
    "        'Retargeting-3PD PIXEL' : 'RETARGETING-3PD PIXEL',\n",
    "        'ROS-3PD PMP' : 'ROS-3PD PMP',\n",
    "        'ROS-3PD ROS' : 'ROS-3PD ROS',\n",
    "        'SITE IN MARKET-3PD BEHAVIOR' : 'SITE IN MARKET-3PD BEHAVIOR',\n",
    "        'SITE IN MARKET-3PD CONTEXTUAL' : 'SITE IN MARKET-3PD CONTEXTUAL',\n",
    "        'VIDEO-3PD RETARGET EXPOSED' : 'VIDEO-3PD RETARGET EXPOSED',\n",
    "    }\n",
    "\n",
    "    # Iterate through the DataFrame and apply typo corrections\n",
    "    for index, row in df.iterrows():\n",
    "        if row[column_name] in typos:\n",
    "            df.at[index, column_name] = typos[row[column_name]]\n",
    "\n",
    "    return df"
   ]
  },
  {
   "cell_type": "markdown",
   "id": "d1953fb6",
   "metadata": {},
   "source": [
    "<h2>Main</h2>"
   ]
  },
  {
   "cell_type": "markdown",
   "id": "5f12c351",
   "metadata": {},
   "source": [
    "<h2>CSB File</h2>"
   ]
  },
  {
   "cell_type": "code",
   "execution_count": 20,
   "id": "cf3fe161",
   "metadata": {},
   "outputs": [
    {
     "name": "stdout",
     "output_type": "stream",
     "text": [
      "2023-Q3.xlsx\n",
      "2023-Q4.xlsx\n",
      "2024-Q1.xlsx\n",
      "2024-Q2.xlsx\n",
      "2024-Q3.xlsx\n"
     ]
    }
   ],
   "source": [
    "folder_path = r'C:\\Users\\Rafael_Fagundes\\Downloads\\CSB'\n",
    "all_data = []\n",
    "\n",
    "file_list = os.listdir(folder_path)\n",
    "\n",
    "for file_name in file_list:\n",
    "    print(file_name)"
   ]
  },
  {
   "cell_type": "code",
   "execution_count": 21,
   "id": "39986cf3",
   "metadata": {},
   "outputs": [],
   "source": [
    "folder_path = r'C:\\Users\\Rafael_Fagundes\\Downloads\\CSB'\n",
    "all_data_csb = []\n",
    "\n",
    "file_list = os.listdir(folder_path)\n",
    "\n",
    "for file_name in file_list:\n",
    "    if file_name.endswith('.xlsx') or file_name.endswith('.xls'):\n",
    "        file_path = os.path.join(folder_path, file_name)\n",
    "        try:\n",
    "            df_csb = pd.read_excel(file_path)\n",
    "            all_data_csb.append(df_csb)\n",
    "        except:\n",
    "            print(f\"Error reading '{file_name}': {e}\")\n",
    "\n",
    "if all_data_csb:\n",
    "    df_csb_contact = pd.concat(all_data_csb, ignore_index=True)\n",
    "else:\n",
    "    print(\"No valid Excel files found in the specified folder.\")"
   ]
  },
  {
   "cell_type": "code",
   "execution_count": 22,
   "id": "1b9ab206",
   "metadata": {},
   "outputs": [],
   "source": [
    "df_csb_contact.drop(columns={'[SumVisits]','[SumTrue_Rev_CSB]','[True_ROAS]','[v__Campaings]','[M3]'}, inplace=True)\n",
    "df_csb_contact.rename(columns={\n",
    "    'Data[Global Audience Type (Calc)]':'Audience Type'\n",
    "    ,'Data[B2B Tactic]':'Tactic'\n",
    "    ,'Data[Media Buy Name]':'Media Buy Name'\n",
    "    ,'Data[Campaign Name]':'Campaign Name'\n",
    "    ,'Data[Fiscal Quarter]':'Fiscal Quarter'\n",
    "    ,'Data[Fiscal Week]':'Fiscal Week'\n",
    "    ,'[SumImpressions]':'Impressions'\n",
    "    ,'[SumClicks]':'Clicks'\n",
    "    ,'[SumSpend]':'Spend'\n",
    "    ,'[SumNet_Rev_CSB]':'Net Rev'\n",
    "    ,'Data[Country]':'Country'\n",
    "    ,'Data[Display Funnel Mapped]':'Display Funnel Mapped'\n",
    "    ,'Data[Display Dell Vehicle Mapped]':'Display Dell Vehicle Mapped'\n",
    "    ,'Data[Display Business Unit Mapped]':'Display Business Unit Mapped'\n",
    "    ,'Data[Display Site Name Mapped]':'Display Site Name Mapped'\n",
    "    ,'Data[Audience Type Name]':'Audience Type Name'\n",
    "} , inplace=True)\n",
    "\n",
    "df_csb_contact['BU'] = 'CSB'"
   ]
  },
  {
   "cell_type": "markdown",
   "id": "66cb98da",
   "metadata": {},
   "source": [
    "<h2>B2B File</h2>"
   ]
  },
  {
   "cell_type": "code",
   "execution_count": 23,
   "id": "7ab4598d",
   "metadata": {},
   "outputs": [],
   "source": [
    "folder_path = r'C:\\Users\\Rafael_Fagundes\\Downloads\\B2B'\n",
    "all_data_b2b = []\n",
    "\n",
    "file_list = os.listdir(folder_path)\n",
    "\n",
    "for file_name in file_list:\n",
    "    if file_name.endswith('.xlsx') or file_name.endswith('.xls'):\n",
    "        file_path = os.path.join(folder_path, file_name)\n",
    "        try:\n",
    "            df_b2b = pd.read_excel(file_path)\n",
    "            all_data_b2b.append(df_b2b)\n",
    "        except Exception as e:\n",
    "            print(f\"Error reading '{file_name}': {e}\")\n",
    "\n",
    "if all_data_b2b:\n",
    "    df_b2b_contact = pd.concat(all_data_b2b, ignore_index=True)\n",
    "else:\n",
    "    print(\"No valid Excel files found in the specified folder.\")"
   ]
  },
  {
   "cell_type": "code",
   "execution_count": 24,
   "id": "2731cb7b",
   "metadata": {},
   "outputs": [],
   "source": [
    "df_b2b_contact.drop(columns={'[SumVisits]','[v__Campaings]','[M3]'}, inplace=True)\n",
    "df_b2b_contact.rename(columns={\n",
    "    'Data[Global Audience Type (Calc)]':'Audience Type'\n",
    "    ,'Data[B2B Tactic]':'Tactic'\n",
    "    ,'Data[Media Buy Name]':'Media Buy Name'\n",
    "    ,'Data[Campaign Name]':'Campaign Name'\n",
    "    ,'Data[Fiscal Quarter]':'Fiscal Quarter'\n",
    "    ,'Data[Fiscal Week]':'Fiscal Week'\n",
    "    ,'[SumImpressions]':'Impressions'\n",
    "    ,'[SumClicks]':'Clicks'\n",
    "    ,'[SumSpend]':'Spend'\n",
    "    ,'[SumNet_Rev_B2B]':'Net Rev'\n",
    "    ,'[SumHVE_B2B]':'HVE'\n",
    "    ,'Data[Country]':'Country'\n",
    "    ,'Data[Display Funnel Mapped]':'Display Funnel Mapped'\n",
    "    ,'Data[Display Dell Vehicle Mapped]':'Display Dell Vehicle Mapped'\n",
    "    ,'Data[Display Business Unit Mapped]':'Display Business Unit Mapped'\n",
    "    ,'Data[Display Site Name Mapped]':'Display Site Name Mapped'\n",
    "    ,'Data[Audience Type Name]':'Audience Type Name'\n",
    "} , inplace=True)\n",
    "\n",
    "df_b2b_contact['BU'] = 'B2B'"
   ]
  },
  {
   "cell_type": "markdown",
   "id": "44ddc014",
   "metadata": {},
   "source": [
    "<h2>CSB & B2B Merge</h2>"
   ]
  },
  {
   "cell_type": "code",
   "execution_count": 25,
   "id": "b3d1b7e0",
   "metadata": {},
   "outputs": [],
   "source": [
    "# Merge CSB & B2B dataframes & remove duplicates\n",
    "df_merged = pd.concat([df_b2b_contact,df_csb_contact])\n",
    "\n",
    "df_merged.drop_duplicates(inplace=True)"
   ]
  },
  {
   "cell_type": "code",
   "execution_count": 26,
   "id": "9ad6bea1",
   "metadata": {},
   "outputs": [],
   "source": [
    "# Get Claravine ID: _d1n4f7g4t1i_\n",
    "df_merged['Segment ID'] = df_merged['Media Buy Name'].replace('-', '_', regex=True).str.extract('(_d[a-zA-Z0-9]{10}_)')\n",
    "\n",
    "df_merged['Segment ID'] = df_merged['Segment ID'].str.replace('_', '')\n",
    "\n",
    "df_merged.fillna(0, inplace=True)\n",
    "\n",
    "df_merged['Audience ID Exists'] = df_merged['Segment ID'].apply(lambda x: 'No ID' if x == 0 else 'Have ID')"
   ]
  },
  {
   "cell_type": "markdown",
   "id": "c16e6e2a",
   "metadata": {},
   "source": [
    "<h2>Claravine Merge</h2>"
   ]
  },
  {
   "cell_type": "code",
   "execution_count": 27,
   "id": "adc109a3",
   "metadata": {},
   "outputs": [],
   "source": [
    "# Read Claravine file\n",
    "df_claravine = pd.read_csv('csv\\Claravine.csv')"
   ]
  },
  {
   "cell_type": "code",
   "execution_count": 28,
   "id": "d14977c8",
   "metadata": {},
   "outputs": [],
   "source": [
    "df_final = pd.merge(df_merged, df_claravine, on ='Segment ID', how='left')\n",
    "\n",
    "df_final.fillna(0, inplace=True)"
   ]
  },
  {
   "cell_type": "markdown",
   "id": "6dad62c7",
   "metadata": {},
   "source": [
    "<h2>Calendar Merge</h2>\n"
   ]
  },
  {
   "cell_type": "code",
   "execution_count": 29,
   "id": "49bd4d8f",
   "metadata": {},
   "outputs": [],
   "source": [
    "df_final.rename(columns={'Fiscal Week':'Fiscal Week Year'}, inplace=True)"
   ]
  },
  {
   "cell_type": "code",
   "execution_count": 30,
   "id": "8b437d2f",
   "metadata": {},
   "outputs": [],
   "source": [
    "calendar_folder_path = r'..\\..\\Dell-Projects\\Helper\\Calendar.csv'\n",
    "\n",
    "calendar = pd.read_csv(calendar_folder_path)\n",
    "\n",
    "filtered_calendar = calendar[['Fiscal Week Year','Fiscal Week Quarter','Fiscal Quarter','Week Quarter']].drop_duplicates()\n",
    "\n",
    "final_calendar_df = pd.merge(df_final,filtered_calendar, on='Fiscal Week Year', how='left')"
   ]
  },
  {
   "cell_type": "markdown",
   "id": "d6c9bfc3",
   "metadata": {},
   "source": [
    "<h2>Compile Data Export</h2>"
   ]
  },
  {
   "cell_type": "code",
   "execution_count": 31,
   "id": "da60fe32",
   "metadata": {},
   "outputs": [],
   "source": [
    "final_calendar_df.drop(columns=['Fiscal Quarter_y',\n",
    "                                'Country_y',\n",
    "                                'VAR Dell Audience Name',\n",
    "                                'Dell Audience Name concatenation',\n",
    "                                'MediaCom Audience Name Concatenation',\n",
    "                                'Audience Composition concatenation',\n",
    "                                'Country-BU concatenation',\n",
    "                                'Data Provider Abbreviation',\n",
    "                                'Audience Source-Data Provider concatenation',\n",
    "                                'Attribute Category Shortcode',\n",
    "                                'Random',\n",
    "                                'Prefix'], inplace=True)\n",
    "final_calendar_df.rename(columns={'Fiscal Quarter_x':'Fiscal Quarter', 'Country_x':'Country'},inplace=True)"
   ]
  },
  {
   "cell_type": "code",
   "execution_count": 32,
   "id": "873124ca",
   "metadata": {},
   "outputs": [
    {
     "name": "stdout",
     "output_type": "stream",
     "text": [
      "<class 'pandas.core.frame.DataFrame'>\n",
      "RangeIndex: 1840293 entries, 0 to 1840292\n",
      "Data columns (total 40 columns):\n",
      " #   Column                                Dtype  \n",
      "---  ------                                -----  \n",
      " 0   Audience Type                         object \n",
      " 1   Tactic                                object \n",
      " 2   Media Buy Name                        object \n",
      " 3   Campaign Name                         object \n",
      " 4   Fiscal Quarter                        object \n",
      " 5   Fiscal Week Year                      object \n",
      " 6   Country                               object \n",
      " 7   Display Funnel Mapped                 object \n",
      " 8   Display Dell Vehicle Mapped           object \n",
      " 9   Display Business Unit Mapped          object \n",
      " 10  Display Site Name Mapped              object \n",
      " 11  Audience Type Name                    object \n",
      " 12  Impressions                           float64\n",
      " 13  Clicks                                float64\n",
      " 14  Spend                                 float64\n",
      " 15  Net Rev                               float64\n",
      " 16  HVE                                   float64\n",
      " 17  BU                                    object \n",
      " 18  [Net_ROAS]                            float64\n",
      " 19  Segment ID                            object \n",
      " 20  Audience ID Exists                    object \n",
      " 21  Dell Audience Name                    object \n",
      " 22  MediaCom Audience Name                object \n",
      " 23  Audience Objective                    object \n",
      " 24  Seed Information                      object \n",
      " 25  Audience Composition                  object \n",
      " 26  Audience Object-Audience Composition  object \n",
      " 27  Business Unit                         object \n",
      " 28  Data Type                             object \n",
      " 29  Audience Source                       object \n",
      " 30  Data Provider                         object \n",
      " 31  Attribute Category                    object \n",
      " 32  Audience Category Reporting           object \n",
      " 33  Platform                              object \n",
      " 34  Claravine ID                          object \n",
      " 35  submission_name                       object \n",
      " 36  submitter_name                        object \n",
      " 37  created_date                          object \n",
      " 38  Fiscal Week Quarter                   object \n",
      " 39  Week Quarter                          int64  \n",
      "dtypes: float64(6), int64(1), object(33)\n",
      "memory usage: 561.6+ MB\n"
     ]
    }
   ],
   "source": [
    "final_calendar_df.info()"
   ]
  },
  {
   "cell_type": "markdown",
   "id": "7d483754",
   "metadata": {},
   "source": [
    "<h2>Fix [Audience Type Name] Typos</h2>"
   ]
  },
  {
   "cell_type": "code",
   "execution_count": 33,
   "id": "21533126",
   "metadata": {},
   "outputs": [],
   "source": [
    "final_calendar_df = remove_typos_from_dataframe(final_calendar_df, 'Audience Type Name')\n",
    "\n",
    "final_calendar_df['Audience Type Name'] = final_calendar_df['Audience Type Name'].str.replace('\\u00A0', ' ')"
   ]
  },
  {
   "cell_type": "code",
   "execution_count": 34,
   "id": "f6921ebe",
   "metadata": {},
   "outputs": [],
   "source": [
    "folder_path = r'C:\\Users\\Rafael_Fagundes\\Downloads'\n",
    "\n",
    "final_calendar_df.to_csv(folder_path + '\\compiled_data_v2.csv')"
   ]
  }
 ],
 "metadata": {
  "kernelspec": {
   "display_name": "Python 3 (ipykernel)",
   "language": "python",
   "name": "python3"
  },
  "language_info": {
   "codemirror_mode": {
    "name": "ipython",
    "version": 3
   },
   "file_extension": ".py",
   "mimetype": "text/x-python",
   "name": "python",
   "nbconvert_exporter": "python",
   "pygments_lexer": "ipython3",
   "version": "3.10.5"
  }
 },
 "nbformat": 4,
 "nbformat_minor": 5
}
