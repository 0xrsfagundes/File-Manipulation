{
 "cells": [
  {
   "cell_type": "markdown",
   "id": "6a1427f2",
   "metadata": {},
   "source": [
    "This process creates a unique file from the Adtech Dashboard Weekly Exports pulled from the <a ref='https://app.powerbi.com/groups/me/apps/638779b4-2f48-4b27-b5e4-cf8f63f8eff7/reports/f3ebd76a-8e1b-4791-9311-9f8ed418b04d/ReportSection53f989641da9e91409d0?ctid=945c199a-83a2-4e80-9f8c-5a91be5752dd&experience=power-bi'>Adtech dashboard</a>."
   ]
  },
  {
   "cell_type": "markdown",
   "id": "aa404b5b",
   "metadata": {},
   "source": [
    "<h2>Library</h2>"
   ]
  },
  {
   "cell_type": "code",
   "execution_count": 1,
   "id": "91129faa",
   "metadata": {},
   "outputs": [],
   "source": [
    "import warnings\n",
    "import os\n",
    "import pandas as pd\n",
    "import numpy as np\n",
    "\n",
    "warnings.filterwarnings('ignore')\n",
    "pd.set_option('display.max_columns', None)\n",
    "# pd.set_option('display.max_rows', 100)\n",
    "pd.set_option('display.width', None)"
   ]
  },
  {
   "cell_type": "markdown",
   "id": "d1953fb6",
   "metadata": {},
   "source": [
    "<h2>Main</h2>"
   ]
  },
  {
   "cell_type": "markdown",
   "id": "5f12c351",
   "metadata": {},
   "source": [
    "<h2>CSB File</h2>"
   ]
  },
  {
   "cell_type": "code",
   "execution_count": 2,
   "id": "cf3fe161",
   "metadata": {},
   "outputs": [
    {
     "name": "stdout",
     "output_type": "stream",
     "text": [
      "2023-Q3.xlsx\n",
      "2023-Q4.xlsx\n",
      "2024-Q1.xlsx\n",
      "2024-Q2.xlsx\n",
      "2024-Q3.xlsx\n"
     ]
    }
   ],
   "source": [
    "folder_path = r'C:\\Users\\Rafael_Fagundes\\Downloads\\CSB'\n",
    "all_data = []\n",
    "\n",
    "file_list = os.listdir(folder_path)\n",
    "\n",
    "for file_name in file_list:\n",
    "    print(file_name)"
   ]
  },
  {
   "cell_type": "code",
   "execution_count": 3,
   "id": "39986cf3",
   "metadata": {},
   "outputs": [],
   "source": [
    "folder_path = r'C:\\Users\\Rafael_Fagundes\\Downloads\\CSB'\n",
    "all_data_csb = []\n",
    "\n",
    "file_list = os.listdir(folder_path)\n",
    "\n",
    "for file_name in file_list:\n",
    "    if file_name.endswith('.xlsx') or file_name.endswith('.xls'):\n",
    "        file_path = os.path.join(folder_path, file_name)\n",
    "        try:\n",
    "            df_csb = pd.read_excel(file_path)\n",
    "            all_data_csb.append(df_csb)\n",
    "        except:\n",
    "            print(f\"Error reading '{file_name}': {e}\")\n",
    "\n",
    "if all_data_csb:\n",
    "    df_csb_contact = pd.concat(all_data_csb, ignore_index=True)\n",
    "else:\n",
    "    print(\"No valid Excel files found in the specified folder.\")"
   ]
  },
  {
   "cell_type": "code",
   "execution_count": 4,
   "id": "1b9ab206",
   "metadata": {},
   "outputs": [],
   "source": [
    "df_csb_contact.drop(columns={'[SumVisits]','[SumTrue_Rev_CSB]','[True_ROAS]','[v__Campaings]','[M3]'}, inplace=True)\n",
    "df_csb_contact.rename(columns={\n",
    "    'Data[Global Audience Type (Calc)]':'Audience Type'\n",
    "    ,'Data[B2B Tactic]':'Tactic'\n",
    "    ,'Data[Media Buy Name]':'Media Buy Name'\n",
    "    ,'Data[Campaign Name]':'Campaign Name'\n",
    "    ,'Data[Fiscal Quarter]':'Fiscal Quarter'\n",
    "    ,'Data[Fiscal Week]':'Fiscal Week'\n",
    "    ,'[SumImpressions]':'Impressions'\n",
    "    ,'[SumClicks]':'Clicks'\n",
    "    ,'[SumSpend]':'Spend'\n",
    "    ,'[SumNet_Rev_CSB]':'Net Rev'\n",
    "    ,'Data[Country]':'Country'\n",
    "    ,'Data[Display Funnel Mapped]':'Display Funnel Mapped'\n",
    "    ,'Data[Display Dell Vehicle Mapped]':'Display Dell Vehicle Mapped'\n",
    "    ,'Data[Display Business Unit Mapped]':'Display Business Unit Mapped'\n",
    "    ,'Data[Display Site Name Mapped]':'Display Site Name Mapped'\n",
    "    ,'Data[Audience Type Name]':'Audience Type Name'\n",
    "} , inplace=True)\n",
    "\n",
    "df_csb_contact['BU'] = 'CSB'"
   ]
  },
  {
   "cell_type": "markdown",
   "id": "66cb98da",
   "metadata": {},
   "source": [
    "<h2>B2B File</h2>"
   ]
  },
  {
   "cell_type": "code",
   "execution_count": 5,
   "id": "7ab4598d",
   "metadata": {},
   "outputs": [],
   "source": [
    "folder_path = r'C:\\Users\\Rafael_Fagundes\\Downloads\\B2B'\n",
    "all_data_b2b = []\n",
    "\n",
    "file_list = os.listdir(folder_path)\n",
    "\n",
    "for file_name in file_list:\n",
    "    if file_name.endswith('.xlsx') or file_name.endswith('.xls'):\n",
    "        file_path = os.path.join(folder_path, file_name)\n",
    "        try:\n",
    "            df_b2b = pd.read_excel(file_path)\n",
    "            all_data_b2b.append(df_b2b)\n",
    "        except Exception as e:\n",
    "            print(f\"Error reading '{file_name}': {e}\")\n",
    "\n",
    "if all_data_b2b:\n",
    "    df_b2b_contact = pd.concat(all_data_b2b, ignore_index=True)\n",
    "else:\n",
    "    print(\"No valid Excel files found in the specified folder.\")"
   ]
  },
  {
   "cell_type": "code",
   "execution_count": 6,
   "id": "2731cb7b",
   "metadata": {},
   "outputs": [],
   "source": [
    "df_b2b_contact.drop(columns={'[SumVisits]','[SumHVE_B2B]','[v__Campaings]','[M3]'}, inplace=True)\n",
    "df_b2b_contact.rename(columns={\n",
    "    'Data[Global Audience Type (Calc)]':'Audience Type'\n",
    "    ,'Data[B2B Tactic]':'Tactic'\n",
    "    ,'Data[Media Buy Name]':'Media Buy Name'\n",
    "    ,'Data[Campaign Name]':'Campaign Name'\n",
    "    ,'Data[Fiscal Quarter]':'Fiscal Quarter'\n",
    "    ,'Data[Fiscal Week]':'Fiscal Week'\n",
    "    ,'[SumImpressions]':'Impressions'\n",
    "    ,'[SumClicks]':'Clicks'\n",
    "    ,'[SumSpend]':'Spend'\n",
    "    ,'[SumNet_Rev_B2B]':'Net Rev'\n",
    "    ,'Data[Country]':'Country'\n",
    "    ,'Data[Display Funnel Mapped]':'Display Funnel Mapped'\n",
    "    ,'Data[Display Dell Vehicle Mapped]':'Display Dell Vehicle Mapped'\n",
    "    ,'Data[Display Business Unit Mapped]':'Display Business Unit Mapped'\n",
    "    ,'Data[Display Site Name Mapped]':'Display Site Name Mapped'\n",
    "    ,'Data[Audience Type Name]':'Audience Type Name'\n",
    "} , inplace=True)\n",
    "\n",
    "df_b2b_contact['BU'] = 'B2B'"
   ]
  },
  {
   "cell_type": "markdown",
   "id": "44ddc014",
   "metadata": {},
   "source": [
    "<h2>CSB & B2B Merge</h2>"
   ]
  },
  {
   "cell_type": "code",
   "execution_count": 7,
   "id": "b3d1b7e0",
   "metadata": {},
   "outputs": [],
   "source": [
    "# Merge CSB & B2B dataframes & remove duplicates\n",
    "df_merged = pd.concat([df_b2b_contact,df_csb_contact])\n",
    "\n",
    "df_merged.drop_duplicates(inplace=True)"
   ]
  },
  {
   "cell_type": "code",
   "execution_count": 8,
   "id": "9ad6bea1",
   "metadata": {},
   "outputs": [],
   "source": [
    "# Get Claravine ID: _d1n4f7g4t1i_\n",
    "df_merged['Segment ID'] = df_merged['Media Buy Name'].replace('-', '_', regex=True).str.extract('(_d[a-zA-Z0-9]{10}_)')\n",
    "\n",
    "df_merged['Segment ID'] = df_merged['Segment ID'].str.replace('_', '')\n",
    "\n",
    "df_merged.fillna(0, inplace=True)\n",
    "\n",
    "df_merged['Audience ID Exists'] = df_merged['Segment ID'].apply(lambda x: 'No ID' if x == 0 else 'Have ID')"
   ]
  },
  {
   "cell_type": "markdown",
   "id": "c16e6e2a",
   "metadata": {},
   "source": [
    "<h2>Claravine Merge</h2>"
   ]
  },
  {
   "cell_type": "code",
   "execution_count": 9,
   "id": "adc109a3",
   "metadata": {},
   "outputs": [],
   "source": [
    "# Read Claravine file\n",
    "df_claravine = pd.read_csv('csv\\Claravine.csv')"
   ]
  },
  {
   "cell_type": "code",
   "execution_count": 10,
   "id": "d14977c8",
   "metadata": {},
   "outputs": [],
   "source": [
    "df_final = pd.merge(df_merged, df_claravine, on ='Segment ID', how='left')\n",
    "\n",
    "df_final.fillna(0, inplace=True)"
   ]
  },
  {
   "cell_type": "markdown",
   "id": "d6c9bfc3",
   "metadata": {},
   "source": [
    "<h2>Compile Data Export</h2>"
   ]
  },
  {
   "cell_type": "code",
   "execution_count": 11,
   "id": "873124ca",
   "metadata": {},
   "outputs": [
    {
     "name": "stdout",
     "output_type": "stream",
     "text": [
      "<class 'pandas.core.frame.DataFrame'>\n",
      "RangeIndex: 1782917 entries, 0 to 1782916\n",
      "Data columns (total 47 columns):\n",
      " #   Column                                       Dtype  \n",
      "---  ------                                       -----  \n",
      " 0   Audience Type                                object \n",
      " 1   Tactic                                       object \n",
      " 2   Media Buy Name                               object \n",
      " 3   Campaign Name                                object \n",
      " 4   Fiscal Quarter                               object \n",
      " 5   Fiscal Week                                  object \n",
      " 6   Country_x                                    object \n",
      " 7   Display Funnel Mapped                        object \n",
      " 8   Display Dell Vehicle Mapped                  object \n",
      " 9   Display Business Unit Mapped                 object \n",
      " 10  Display Site Name Mapped                     object \n",
      " 11  Audience Type Name                           object \n",
      " 12  Impressions                                  float64\n",
      " 13  Clicks                                       float64\n",
      " 14  Spend                                        float64\n",
      " 15  Net Rev                                      float64\n",
      " 16  BU                                           object \n",
      " 17  Segment ID                                   object \n",
      " 18  Audience ID Exists                           object \n",
      " 19  Dell Audience Name                           object \n",
      " 20  VAR Dell Audience Name                       object \n",
      " 21  Dell Audience Name concatenation             object \n",
      " 22  MediaCom Audience Name                       object \n",
      " 23  MediaCom Audience Name Concatenation         object \n",
      " 24  Audience Objective                           object \n",
      " 25  Seed Information                             object \n",
      " 26  Audience Composition                         object \n",
      " 27  Audience Composition concatenation           object \n",
      " 28  Audience Object-Audience Composition         object \n",
      " 29  Country_y                                    object \n",
      " 30  Business Unit                                object \n",
      " 31  Country-BU concatenation                     object \n",
      " 32  Data Type                                    object \n",
      " 33  Audience Source                              object \n",
      " 34  Data Provider                                object \n",
      " 35  Data Provider Abbreviation                   object \n",
      " 36  Audience Source-Data Provider concatenation  object \n",
      " 37  Attribute Category                           object \n",
      " 38  Attribute Category Shortcode                 object \n",
      " 39  Audience Category Reporting                  object \n",
      " 40  Platform                                     object \n",
      " 41  Random                                       object \n",
      " 42  Prefix                                       object \n",
      " 43  Claravine ID                                 object \n",
      " 44  submission_name                              object \n",
      " 45  submitter_name                               object \n",
      " 46  created_date                                 object \n",
      "dtypes: float64(4), object(43)\n",
      "memory usage: 639.3+ MB\n"
     ]
    }
   ],
   "source": [
    "df_final.info()"
   ]
  },
  {
   "cell_type": "code",
   "execution_count": 12,
   "id": "f6921ebe",
   "metadata": {},
   "outputs": [],
   "source": [
    "folder_path = r'C:\\Users\\Rafael_Fagundes\\Downloads'\n",
    "\n",
    "df_final.to_csv(folder_path + '\\compiled_data.csv')"
   ]
  }
 ],
 "metadata": {
  "kernelspec": {
   "display_name": "Python 3 (ipykernel)",
   "language": "python",
   "name": "python3"
  },
  "language_info": {
   "codemirror_mode": {
    "name": "ipython",
    "version": 3
   },
   "file_extension": ".py",
   "mimetype": "text/x-python",
   "name": "python",
   "nbconvert_exporter": "python",
   "pygments_lexer": "ipython3",
   "version": "3.10.5"
  }
 },
 "nbformat": 4,
 "nbformat_minor": 5
}
