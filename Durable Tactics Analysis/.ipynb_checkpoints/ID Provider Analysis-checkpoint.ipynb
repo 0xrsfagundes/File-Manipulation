{
 "cells": [
  {
   "cell_type": "code",
   "execution_count": 1,
   "id": "9246c698",
   "metadata": {},
   "outputs": [],
   "source": [
    "import warnings\n",
    "import pandas as pd\n",
    "import matplotlib.pyplot as plt\n",
    "\n",
    "\n",
    "pd.set_option('display.max_columns', None)\n",
    "pd.set_option('display.max_colwidth', None)\n",
    "warnings.filterwarnings('ignore')"
   ]
  },
  {
   "cell_type": "code",
   "execution_count": 2,
   "id": "bb1ad986",
   "metadata": {},
   "outputs": [],
   "source": [
    "folder_path = r'C:\\Users\\Rafael_Fagundes\\Downloads\\delve_compiled_data.csv'\n",
    "\n",
    "df = pd.read_csv(folder_path)"
   ]
  },
  {
   "cell_type": "code",
   "execution_count": 3,
   "id": "d8849705",
   "metadata": {
    "scrolled": false
   },
   "outputs": [
    {
     "name": "stdout",
     "output_type": "stream",
     "text": [
      "<class 'pandas.core.frame.DataFrame'>\n",
      "RangeIndex: 1840293 entries, 0 to 1840292\n",
      "Data columns (total 41 columns):\n",
      " #   Column                                Dtype  \n",
      "---  ------                                -----  \n",
      " 0   Unnamed: 0                            int64  \n",
      " 1   Audience Type                         object \n",
      " 2   Tactic                                object \n",
      " 3   Media Buy Name                        object \n",
      " 4   Campaign Name                         object \n",
      " 5   Fiscal Quarter                        object \n",
      " 6   Fiscal Week Year                      object \n",
      " 7   Country                               object \n",
      " 8   Display Funnel Mapped                 object \n",
      " 9   Display Dell Vehicle Mapped           object \n",
      " 10  Display Business Unit Mapped          object \n",
      " 11  Display Site Name Mapped              object \n",
      " 12  Audience Type Name                    object \n",
      " 13  Impressions                           float64\n",
      " 14  Clicks                                float64\n",
      " 15  Spend                                 float64\n",
      " 16  Net Rev                               float64\n",
      " 17  HVE                                   float64\n",
      " 18  BU                                    object \n",
      " 19  [Net_ROAS]                            float64\n",
      " 20  Segment ID                            object \n",
      " 21  Audience ID Exists                    object \n",
      " 22  Dell Audience Name                    object \n",
      " 23  MediaCom Audience Name                object \n",
      " 24  Audience Objective                    object \n",
      " 25  Seed Information                      object \n",
      " 26  Audience Composition                  object \n",
      " 27  Audience Object-Audience Composition  object \n",
      " 28  Business Unit                         object \n",
      " 29  Data Type                             object \n",
      " 30  Audience Source                       object \n",
      " 31  Data Provider                         object \n",
      " 32  Attribute Category                    object \n",
      " 33  Audience Category Reporting           object \n",
      " 34  Platform                              object \n",
      " 35  Claravine ID                          object \n",
      " 36  submission_name                       object \n",
      " 37  submitter_name                        object \n",
      " 38  created_date                          object \n",
      " 39  Fiscal Week Quarter                   object \n",
      " 40  Week Quarter                          int64  \n",
      "dtypes: float64(6), int64(2), object(33)\n",
      "memory usage: 575.7+ MB\n"
     ]
    }
   ],
   "source": [
    "df.info()"
   ]
  },
  {
   "cell_type": "code",
   "execution_count": 4,
   "id": "056b720a",
   "metadata": {},
   "outputs": [],
   "source": [
    "source_code = '(the trade desk|permutive|neustar|liveramp|lotame|aiq)'\n",
    "\n",
    "df['Source'] = df['Media Buy Name'].str.lower().str.extract(source_code)"
   ]
  },
  {
   "cell_type": "code",
   "execution_count": 14,
   "id": "62225042",
   "metadata": {},
   "outputs": [],
   "source": [
    "df['Source'].fillna('Other', inplace=True)\n",
    "df.fillna(0, inplace=True)"
   ]
  },
  {
   "cell_type": "code",
   "execution_count": 15,
   "id": "70c38c76",
   "metadata": {},
   "outputs": [],
   "source": [
    "df_grouped = df.groupby([\n",
    "    'Fiscal Quarter',\n",
    "    'Country',\n",
    "    'BU',\n",
    "    'Audience Type',\n",
    "    'Audience Type Name',\n",
    "    'Audience Source',\n",
    "    'Display Funnel Mapped',\n",
    "    'Display Dell Vehicle Mapped',\n",
    "    'Display Site Name Mapped',\n",
    "    'Source'\n",
    "])[['Impressions', 'Spend']].sum().reset_index()"
   ]
  },
  {
   "cell_type": "code",
   "execution_count": 16,
   "id": "955b64a9",
   "metadata": {
    "scrolled": false
   },
   "outputs": [
    {
     "data": {
      "text/plain": [
       "Audience Source\n",
       "0                 6113\n",
       "0                 3855\n",
       "Liveramp           124\n",
       "AIQ CRM             66\n",
       "Oracle              26\n",
       "Neustar             10\n",
       "The Trade Desk       9\n",
       "Lotame               3\n",
       "Name: count, dtype: int64"
      ]
     },
     "execution_count": 16,
     "metadata": {},
     "output_type": "execute_result"
    }
   ],
   "source": [
    "df_grouped['Audience Source'].value_counts()"
   ]
  },
  {
   "cell_type": "code",
   "execution_count": 10,
   "id": "e9eabc07",
   "metadata": {},
   "outputs": [],
   "source": [
    "df_grouped.to_csv(r'C:\\Users\\Rafael_Fagundes\\Downloads\\Source_Analysis.csv')"
   ]
  }
 ],
 "metadata": {
  "kernelspec": {
   "display_name": "Python 3 (ipykernel)",
   "language": "python",
   "name": "python3"
  },
  "language_info": {
   "codemirror_mode": {
    "name": "ipython",
    "version": 3
   },
   "file_extension": ".py",
   "mimetype": "text/x-python",
   "name": "python",
   "nbconvert_exporter": "python",
   "pygments_lexer": "ipython3",
   "version": "3.10.5"
  }
 },
 "nbformat": 4,
 "nbformat_minor": 5
}
