{
 "cells": [
  {
   "cell_type": "code",
   "execution_count": 13,
   "id": "7a72462e",
   "metadata": {},
   "outputs": [],
   "source": [
    "import warnings\n",
    "import pandas as pd\n",
    "import matplotlib.pyplot as plt\n",
    "\n",
    "\n",
    "pd.set_option('display.max_columns', None)\n",
    "pd.set_option('display.max_colwidth', None)\n",
    "warnings.filterwarnings('ignore')"
   ]
  },
  {
   "cell_type": "code",
   "execution_count": 14,
   "id": "afc6aca4",
   "metadata": {},
   "outputs": [],
   "source": [
    "folder_path = r'C:\\Users\\Rafael_Fagundes\\Downloads\\b2b_compiled_data.csv'\n",
    "\n",
    "df = pd.read_csv(folder_path)"
   ]
  },
  {
   "cell_type": "code",
   "execution_count": 15,
   "id": "79fb27c5",
   "metadata": {},
   "outputs": [
    {
     "name": "stdout",
     "output_type": "stream",
     "text": [
      "<class 'pandas.core.frame.DataFrame'>\n",
      "RangeIndex: 904290 entries, 0 to 904289\n",
      "Data columns (total 49 columns):\n",
      " #   Column                                       Non-Null Count   Dtype  \n",
      "---  ------                                       --------------   -----  \n",
      " 0   Unnamed: 0                                   904290 non-null  int64  \n",
      " 1   Audience Type                                904290 non-null  object \n",
      " 2   Tactic                                       904290 non-null  object \n",
      " 3   Media Buy Name                               904290 non-null  object \n",
      " 4   Campaign Name                                904290 non-null  object \n",
      " 5   Fiscal Quarter                               904290 non-null  object \n",
      " 6   Fiscal Week                                  904290 non-null  object \n",
      " 7   Country_x                                    904290 non-null  object \n",
      " 8   Display Funnel Mapped                        904290 non-null  object \n",
      " 9   Display Dell Vehicle Mapped                  904290 non-null  object \n",
      " 10  Display Business Unit Mapped                 904290 non-null  object \n",
      " 11  Display Site Name Mapped                     904290 non-null  object \n",
      " 12  Audience Type Name                           904290 non-null  object \n",
      " 13  Impressions                                  904290 non-null  float64\n",
      " 14  Clicks                                       904290 non-null  float64\n",
      " 15  Spend                                        904290 non-null  float64\n",
      " 16  Net Rev                                      904290 non-null  float64\n",
      " 17  HVE                                          904290 non-null  int64  \n",
      " 18  BU                                           904290 non-null  object \n",
      " 19  Segment ID                                   904290 non-null  object \n",
      " 20  Audience ID Exists                           904290 non-null  object \n",
      " 21  Dell Audience Name                           904290 non-null  object \n",
      " 22  VAR Dell Audience Name                       904290 non-null  object \n",
      " 23  Dell Audience Name concatenation             904290 non-null  object \n",
      " 24  MediaCom Audience Name                       904290 non-null  object \n",
      " 25  MediaCom Audience Name Concatenation         904290 non-null  object \n",
      " 26  Audience Objective                           904290 non-null  object \n",
      " 27  Seed Information                             904290 non-null  object \n",
      " 28  Audience Composition                         904290 non-null  object \n",
      " 29  Audience Composition concatenation           904290 non-null  object \n",
      " 30  Audience Object-Audience Composition         904290 non-null  object \n",
      " 31  Country_y                                    904290 non-null  object \n",
      " 32  Business Unit                                904290 non-null  object \n",
      " 33  Country-BU concatenation                     904290 non-null  object \n",
      " 34  Data Type                                    904290 non-null  object \n",
      " 35  Audience Source                              904290 non-null  object \n",
      " 36  Data Provider                                904290 non-null  object \n",
      " 37  Data Provider Abbreviation                   904290 non-null  object \n",
      " 38  Audience Source-Data Provider concatenation  904290 non-null  object \n",
      " 39  Attribute Category                           904290 non-null  object \n",
      " 40  Attribute Category Shortcode                 904290 non-null  object \n",
      " 41  Audience Category Reporting                  904290 non-null  object \n",
      " 42  Platform                                     904290 non-null  object \n",
      " 43  Random                                       904290 non-null  object \n",
      " 44  Prefix                                       904290 non-null  object \n",
      " 45  Claravine ID                                 904290 non-null  object \n",
      " 46  submission_name                              904290 non-null  object \n",
      " 47  submitter_name                               904290 non-null  object \n",
      " 48  created_date                                 904290 non-null  object \n",
      "dtypes: float64(4), int64(2), object(43)\n",
      "memory usage: 338.1+ MB\n"
     ]
    }
   ],
   "source": [
    "df.info()"
   ]
  },
  {
   "cell_type": "code",
   "execution_count": 18,
   "id": "46a58932",
   "metadata": {},
   "outputs": [],
   "source": [
    "grouped_df = df.groupby(['Fiscal Quarter','BU','Country_x','Tactic','Audience Type', 'Audience Type Name'])[['Spend','Net Rev','HVE']].sum().reset_index()"
   ]
  },
  {
   "cell_type": "code",
   "execution_count": 19,
   "id": "41580da4",
   "metadata": {},
   "outputs": [],
   "source": [
    "grouped_df.to_csv('csv/B2B Analysis.csv')"
   ]
  }
 ],
 "metadata": {
  "kernelspec": {
   "display_name": "Python 3 (ipykernel)",
   "language": "python",
   "name": "python3"
  },
  "language_info": {
   "codemirror_mode": {
    "name": "ipython",
    "version": 3
   },
   "file_extension": ".py",
   "mimetype": "text/x-python",
   "name": "python",
   "nbconvert_exporter": "python",
   "pygments_lexer": "ipython3",
   "version": "3.10.5"
  }
 },
 "nbformat": 4,
 "nbformat_minor": 5
}
