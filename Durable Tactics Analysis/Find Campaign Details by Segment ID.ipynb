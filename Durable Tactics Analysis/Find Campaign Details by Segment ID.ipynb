{
 "cells": [
  {
   "cell_type": "code",
   "execution_count": 2,
   "id": "7a72462e",
   "metadata": {},
   "outputs": [],
   "source": [
    "import warnings\n",
    "import pandas as pd\n",
    "import matplotlib.pyplot as plt\n",
    "\n",
    "\n",
    "pd.set_option('display.max_columns', None)\n",
    "# pd.set_option('display.max_colwidth', None)\n",
    "warnings.filterwarnings('ignore')"
   ]
  },
  {
   "cell_type": "code",
   "execution_count": 3,
   "id": "afc6aca4",
   "metadata": {},
   "outputs": [],
   "source": [
    "delve_folder_path = r'C:\\Users\\Rafael_Fagundes\\Downloads\\compiled_data.csv'\n",
    "\n",
    "delve_df = pd.read_csv(delve_folder_path)"
   ]
  },
  {
   "cell_type": "code",
   "execution_count": 12,
   "id": "ae21bfae",
   "metadata": {},
   "outputs": [
    {
     "data": {
      "text/html": [
       "<div>\n",
       "<style scoped>\n",
       "    .dataframe tbody tr th:only-of-type {\n",
       "        vertical-align: middle;\n",
       "    }\n",
       "\n",
       "    .dataframe tbody tr th {\n",
       "        vertical-align: top;\n",
       "    }\n",
       "\n",
       "    .dataframe thead th {\n",
       "        text-align: right;\n",
       "    }\n",
       "</style>\n",
       "<table border=\"1\" class=\"dataframe\">\n",
       "  <thead>\n",
       "    <tr style=\"text-align: right;\">\n",
       "      <th></th>\n",
       "      <th>Unnamed: 0</th>\n",
       "      <th>Audience Type</th>\n",
       "      <th>Tactic</th>\n",
       "      <th>Media Buy Name</th>\n",
       "      <th>Campaign Name</th>\n",
       "      <th>Fiscal Quarter</th>\n",
       "      <th>Fiscal Week</th>\n",
       "      <th>Country_x</th>\n",
       "      <th>Display Funnel Mapped</th>\n",
       "      <th>Display Dell Vehicle Mapped</th>\n",
       "      <th>Display Business Unit Mapped</th>\n",
       "      <th>Display Site Name Mapped</th>\n",
       "      <th>Audience Type Name</th>\n",
       "      <th>Impressions</th>\n",
       "      <th>Clicks</th>\n",
       "      <th>Spend</th>\n",
       "      <th>Net Rev</th>\n",
       "      <th>BU</th>\n",
       "      <th>Segment ID</th>\n",
       "      <th>Audience ID Exists</th>\n",
       "      <th>Dell Audience Name</th>\n",
       "      <th>VAR Dell Audience Name</th>\n",
       "      <th>Dell Audience Name concatenation</th>\n",
       "      <th>MediaCom Audience Name</th>\n",
       "      <th>MediaCom Audience Name Concatenation</th>\n",
       "      <th>Audience Objective</th>\n",
       "      <th>Seed Information</th>\n",
       "      <th>Audience Composition</th>\n",
       "      <th>Audience Composition concatenation</th>\n",
       "      <th>Audience Object-Audience Composition</th>\n",
       "      <th>Country_y</th>\n",
       "      <th>Business Unit</th>\n",
       "      <th>Country-BU concatenation</th>\n",
       "      <th>Data Type</th>\n",
       "      <th>Audience Source</th>\n",
       "      <th>Data Provider</th>\n",
       "      <th>Data Provider Abbreviation</th>\n",
       "      <th>Audience Source-Data Provider concatenation</th>\n",
       "      <th>Attribute Category</th>\n",
       "      <th>Attribute Category Shortcode</th>\n",
       "      <th>Audience Category Reporting</th>\n",
       "      <th>Platform</th>\n",
       "      <th>Random</th>\n",
       "      <th>Prefix</th>\n",
       "      <th>Claravine ID</th>\n",
       "      <th>submission_name</th>\n",
       "      <th>submitter_name</th>\n",
       "      <th>created_date</th>\n",
       "    </tr>\n",
       "  </thead>\n",
       "  <tbody>\n",
       "  </tbody>\n",
       "</table>\n",
       "</div>"
      ],
      "text/plain": [
       "Empty DataFrame\n",
       "Columns: [Unnamed: 0, Audience Type, Tactic, Media Buy Name, Campaign Name, Fiscal Quarter, Fiscal Week, Country_x, Display Funnel Mapped, Display Dell Vehicle Mapped, Display Business Unit Mapped, Display Site Name Mapped, Audience Type Name, Impressions, Clicks, Spend, Net Rev, BU, Segment ID, Audience ID Exists, Dell Audience Name, VAR Dell Audience Name, Dell Audience Name concatenation, MediaCom Audience Name, MediaCom Audience Name Concatenation, Audience Objective, Seed Information, Audience Composition, Audience Composition concatenation, Audience Object-Audience Composition, Country_y, Business Unit, Country-BU concatenation, Data Type, Audience Source, Data Provider, Data Provider Abbreviation, Audience Source-Data Provider concatenation, Attribute Category, Attribute Category Shortcode, Audience Category Reporting, Platform, Random, Prefix, Claravine ID, submission_name, submitter_name, created_date]\n",
       "Index: []"
      ]
     },
     "execution_count": 12,
     "metadata": {},
     "output_type": "execute_result"
    }
   ],
   "source": [
    "delve_df[delve_df['Segment ID'].isin(['dnsc6qolkk1'])]"
   ]
  }
 ],
 "metadata": {
  "kernelspec": {
   "display_name": "Python 3 (ipykernel)",
   "language": "python",
   "name": "python3"
  },
  "language_info": {
   "codemirror_mode": {
    "name": "ipython",
    "version": 3
   },
   "file_extension": ".py",
   "mimetype": "text/x-python",
   "name": "python",
   "nbconvert_exporter": "python",
   "pygments_lexer": "ipython3",
   "version": "3.10.5"
  }
 },
 "nbformat": 4,
 "nbformat_minor": 5
}
