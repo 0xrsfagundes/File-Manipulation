{
 "cells": [
  {
   "cell_type": "code",
   "execution_count": 37,
   "id": "393ecbc8",
   "metadata": {},
   "outputs": [],
   "source": [
    "import pandas as pd\n",
    "\n",
    "pd.set_option('display.max_columns', None)"
   ]
  },
  {
   "cell_type": "code",
   "execution_count": 38,
   "id": "8e7c9ee7",
   "metadata": {},
   "outputs": [],
   "source": [
    "df = pd.read_csv(r'C:\\Users\\rafael_fagundes\\OneDrive - Dell Technologies\\Desktop\\Browser_Analysis.csv')"
   ]
  },
  {
   "cell_type": "code",
   "execution_count": 39,
   "id": "dc56b4ec",
   "metadata": {
    "scrolled": true
   },
   "outputs": [
    {
     "name": "stdout",
     "output_type": "stream",
     "text": [
      "<class 'pandas.core.frame.DataFrame'>\n",
      "RangeIndex: 5762 entries, 0 to 5761\n",
      "Data columns (total 5 columns):\n",
      " #   Column                  Non-Null Count  Dtype  \n",
      "---  ------                  --------------  -----  \n",
      " 0   Region:Request Segment  5762 non-null   object \n",
      " 1   Browser                 5762 non-null   object \n",
      " 2   Revenue                 5762 non-null   float64\n",
      " 3   Visits                  5762 non-null   int64  \n",
      " 4   Unique Visitors         5762 non-null   int64  \n",
      "dtypes: float64(1), int64(2), object(2)\n",
      "memory usage: 225.2+ KB\n"
     ]
    }
   ],
   "source": [
    "df.info()"
   ]
  },
  {
   "cell_type": "code",
   "execution_count": 40,
   "id": "df0dac5c",
   "metadata": {},
   "outputs": [],
   "source": [
    "df['Revenue'] = df['Revenue'].astype('float64')\n",
    "df['Visits'] = df['Visits'].astype('float64')\n",
    "df['Unique Visitors'] = df['Unique Visitors'].astype('float64')"
   ]
  },
  {
   "cell_type": "code",
   "execution_count": 41,
   "id": "6a07843b",
   "metadata": {
    "scrolled": true
   },
   "outputs": [
    {
     "data": {
      "text/plain": [
       "array(['Chrome', '111.0', '112.0', 'Google', '(unknown', 'version)',\n",
       "       '109.0', 'Edge', '110.0', 'Microsoft', 'Safari', '16.3', 'Firefox',\n",
       "       'Mozilla', '113.0', '108.0', '0.8.2', '16.4', '16.1', '16.2',\n",
       "       '16.0', '15.6', 'Mobile', '107.0', '102.0', '100.0', '105.0',\n",
       "       '103.0', '99.0', '15.5', '106.0', 'Samsung', 'Browser', '20.0',\n",
       "       '14.0', 'Opera', '97.0', '14.1', '15.6.1', '15.3', '96.0', '15.4',\n",
       "       '104.0', '15.2', '19.0', '16.5', '101.0', '95.0', '15.1', '14.1.2',\n",
       "       '98.0', '91.0', '92.0', '86.0', '87.0', '84.0', '15.0', '114.0',\n",
       "       '13.1', '94.0', '90.0', '76.0', '12.1', '89.0', '93.0', 'Avast',\n",
       "       'Secure', '14.1.1', '78.0', '88.0', '43.0', '99.108', '::other::',\n",
       "       '80.0', '63.0', '72.0', '49.0', 'Internet', 'Explorer', '11',\n",
       "       '79.0', '81.0', '56.0', '11.0', 'Huawei', '13.0', '85.0',\n",
       "       '17.17134', '60.0', '::unspecified::', '75.0', '83.0', '13.10586',\n",
       "       '73.0', '12.0', '82.0', '110.1', '74.1', '13.1.2', 'Amazon',\n",
       "       'Silk', '108.2', '108.1', '110.2', '18.0', 'Whale', '3.19', '69.0',\n",
       "       'SouGou', 'QQ', '11.6', '11.5', '3.20', 'QQBrowser', '11.7', 'UC',\n",
       "       '77.0', 'MIUI', '17.5', 'MQQ', '13.7', '11.4', 'VivoBrowser',\n",
       "       '14.5', '18', 'Sleipnir', '6.4', '9', '112.2', '47.0', '13.26',\n",
       "       '111.2', 'Ecosia', '14.0.2', '68.0', '14.2', '13.5', '17.0',\n",
       "       '111.1', 'HeyTap', '40.8', '3.7', '1.0', '73.3', '4.7', '13.22',\n",
       "       '73.2', '13.24', '13.25', '13.23', '74.0', '18.17763', '14.3',\n",
       "       'Quark', '5.7', '13.6', 'Iron', '45.9', '99.111', '52.0', '13.4',\n",
       "       '70.0', '4.0', '9.0', '111.5', '48.0', '11.1', '65.0', '58.0',\n",
       "       '112.5', '11.1.2', '14.0.3', 'Openwave', '96.4', '100.4', '110',\n",
       "       '99.110', '112', 'Chromium', 'Touch', '2.9', '13.2', 'Mini', '7.5',\n",
       "       '71.0', '99.112', '104.2', '18.18363', '12.1.2', '67.1', '67.0',\n",
       "       'GX', '1.9', '66.2', '3.5', '18.22621', '18.19045', '18.19044',\n",
       "       '11.50', '10.00', '41.0', '10.10', '11.11', '10.54', '11.00',\n",
       "       '37.0', '61.0', '57.0', '40.0', '55.0', '64.0', '50.0', '54.0',\n",
       "       '44.0', '35.0', '45.0', '59.0', '6.0', '46.0', '53.0', '51.0',\n",
       "       '12.1.1', '36.0', '7.0', '111', '3.0', '109', '17.4', '7.4',\n",
       "       '66.0', '9.8', '29.0', '10.0', 'Nokia', '7.3', '13.1.3', '3.6',\n",
       "       '12.9', '72.5', '73.1', '3.3', '20.1', '9.7', '8.5', '13.9',\n",
       "       '14.4', '17', '18.18362', '97.4', '14.0.1', '5.0', '74.2', 'Focus',\n",
       "       '8.0', 'Android', '3.1', '30.0', '39.0', 'Konqueror', '4.4',\n",
       "       '115.0', 'SeaMonkey', '2.28', '10.9', '5.4', 'NetFront', '3.2',\n",
       "       '74.3', 'BlackBerry', 'webOS', '13.8', '6.2', '6.3', '12.6',\n",
       "       '14.6', '11.2', '26', '13.0.3'], dtype=object)"
      ]
     },
     "execution_count": 41,
     "metadata": {},
     "output_type": "execute_result"
    }
   ],
   "source": [
    "df['Browser'].str.split(expand=True).stack().unique()"
   ]
  },
  {
   "cell_type": "code",
   "execution_count": 42,
   "id": "bc019af3",
   "metadata": {},
   "outputs": [
    {
     "data": {
      "text/plain": [
       "array(['AMER:BSDT', 'Online', 'EMEA:Channel', 'AMER:Channel', 'AMER:BSDR',\n",
       "       'AMER:Consumer', 'APJ:BSDT', 'AMER:Public', 'EMEA:BSDT',\n",
       "       'AMER:Corporate', 'EMEA:Corporate', 'AMER', 'APJ:Consumer',\n",
       "       'EMEA:Consumer', 'ARB', 'APJ', 'APJ:Corporate', '::unspecified::',\n",
       "       'APJ:Channel', 'AMER:SMB', 'EMEA:Public', ':Corporate',\n",
       "       'APJ:Public', 'EMEA:BSDR', 'EMEA', 'APJ:BSDR', 'AMER:Federal',\n",
       "       'EMEA:SMB', ':BSDR', ':BSDT', 'AMER:ATG', 'AMER:LB', 'not',\n",
       "       'set:undefined', 'AMER:General', 'Content', 'APJ:General',\n",
       "       'EMEA:General', 'AMER:ARB', 'APJ:ARB', ':General', 'EMEA:LB',\n",
       "       ':Consumer', ':Channel', 'APJ:SMB', 'EMEA:ARB', ':LB', 'APJ:LB',\n",
       "       'AMER:qto:Consumer', 'AMER:qto:BSDT', 'AMER:K12', ':undefined',\n",
       "       'AMER:Healthcare', 'AMER:Hied', 'APJ:SLG', 'AMER:SOHO', 'AMER:SLG',\n",
       "       'APJ:Healthcare', 'APJ:Federal', 'APJ:K12', ':Public',\n",
       "       'AMER:qto:BSDR', 'AMER:qto:General', 'AMER:qto:SMB',\n",
       "       'AMER:qto:Healthcare', 'AMER:EBD', 'APJ:Hied', ':Global', '500',\n",
       "       'APJ:ATG', 'AMER:qto:SLG', 'AMER:qto:Federal', ':SMB',\n",
       "       'AMER:qto:LB', 'AMER:qto:Public', ':ATG', 'EMEA:qto:Consumer',\n",
       "       'AMER:qto:K12', 'AMER:qto:ATG', 'EMEA:Healthcare', 'AMER:qto:Hied',\n",
       "       'EMEA:Federal', 'EMEA:ATG', ':qto:Consumer', ':SLG', ':Healthcare',\n",
       "       ':Federal', 'AMER:Global', ':K12', ':Hied', 'EMEA:Hied', ':ARB',\n",
       "       'EMEA:SLG', 'AMER:qto:Global'], dtype=object)"
      ]
     },
     "execution_count": 42,
     "metadata": {},
     "output_type": "execute_result"
    }
   ],
   "source": [
    "df['Region:Request Segment'].str.split(expand=True).stack().unique()"
   ]
  },
  {
   "cell_type": "code",
   "execution_count": 43,
   "id": "0ac6fb54",
   "metadata": {},
   "outputs": [],
   "source": [
    "Browsers = '(NetFront|SeaMonkey|Whale|Iron|Konqueror|Openwave|Sleipnir|unspecified|other|Opera|Chrome|Google|Edge|Microsoft|Safari|Firefox|Mozilla|Mobile|Samsung|Browser|Avast|Secure|Internet Explorer|Huawei|Amazon|SouGou|QQ|Chromium|Android|webOS)'\n",
    "\n",
    "df['Browser_Group'] = df['Browser'].str.extract(Browsers)"
   ]
  },
  {
   "cell_type": "code",
   "execution_count": 44,
   "id": "b507b665",
   "metadata": {},
   "outputs": [],
   "source": [
    "Region = '(AMER|EMEA|APJ|)'\n",
    "\n",
    "df['Region_Group'] = df['Region:Request Segment'].str.extract(Region)"
   ]
  },
  {
   "cell_type": "code",
   "execution_count": 45,
   "id": "eb5678b5",
   "metadata": {
    "scrolled": true
   },
   "outputs": [
    {
     "data": {
      "text/html": [
       "<div>\n",
       "<style scoped>\n",
       "    .dataframe tbody tr th:only-of-type {\n",
       "        vertical-align: middle;\n",
       "    }\n",
       "\n",
       "    .dataframe tbody tr th {\n",
       "        vertical-align: top;\n",
       "    }\n",
       "\n",
       "    .dataframe thead th {\n",
       "        text-align: right;\n",
       "    }\n",
       "</style>\n",
       "<table border=\"1\" class=\"dataframe\">\n",
       "  <thead>\n",
       "    <tr style=\"text-align: right;\">\n",
       "      <th></th>\n",
       "      <th>Region:Request Segment</th>\n",
       "      <th>Browser</th>\n",
       "      <th>Revenue</th>\n",
       "      <th>Visits</th>\n",
       "      <th>Unique Visitors</th>\n",
       "      <th>Browser_Group</th>\n",
       "      <th>Region_Group</th>\n",
       "    </tr>\n",
       "  </thead>\n",
       "  <tbody>\n",
       "    <tr>\n",
       "      <th>0</th>\n",
       "      <td>AMER:BSDT Online</td>\n",
       "      <td>Chrome 111.0</td>\n",
       "      <td>1.174417e+08</td>\n",
       "      <td>14358889.0</td>\n",
       "      <td>8301892.0</td>\n",
       "      <td>Chrome</td>\n",
       "      <td>AMER</td>\n",
       "    </tr>\n",
       "    <tr>\n",
       "      <th>1</th>\n",
       "      <td>AMER:BSDT Online</td>\n",
       "      <td>Chrome 112.0</td>\n",
       "      <td>9.156295e+07</td>\n",
       "      <td>9964571.0</td>\n",
       "      <td>5863320.0</td>\n",
       "      <td>Chrome</td>\n",
       "      <td>AMER</td>\n",
       "    </tr>\n",
       "    <tr>\n",
       "      <th>2</th>\n",
       "      <td>AMER:BSDT Online</td>\n",
       "      <td>Google Chrome (unknown version)</td>\n",
       "      <td>8.169721e+07</td>\n",
       "      <td>6616443.0</td>\n",
       "      <td>3978397.0</td>\n",
       "      <td>Google</td>\n",
       "      <td>AMER</td>\n",
       "    </tr>\n",
       "    <tr>\n",
       "      <th>3</th>\n",
       "      <td>AMER:BSDT Online</td>\n",
       "      <td>Google Chrome 109.0</td>\n",
       "      <td>5.133183e+07</td>\n",
       "      <td>4918254.0</td>\n",
       "      <td>3190731.0</td>\n",
       "      <td>Google</td>\n",
       "      <td>AMER</td>\n",
       "    </tr>\n",
       "    <tr>\n",
       "      <th>4</th>\n",
       "      <td>AMER:BSDT Online</td>\n",
       "      <td>Edge 112.0</td>\n",
       "      <td>4.499610e+07</td>\n",
       "      <td>2905226.0</td>\n",
       "      <td>1719017.0</td>\n",
       "      <td>Edge</td>\n",
       "      <td>AMER</td>\n",
       "    </tr>\n",
       "  </tbody>\n",
       "</table>\n",
       "</div>"
      ],
      "text/plain": [
       "  Region:Request Segment                          Browser       Revenue  \\\n",
       "0       AMER:BSDT Online                     Chrome 111.0  1.174417e+08   \n",
       "1       AMER:BSDT Online                     Chrome 112.0  9.156295e+07   \n",
       "2       AMER:BSDT Online  Google Chrome (unknown version)  8.169721e+07   \n",
       "3       AMER:BSDT Online              Google Chrome 109.0  5.133183e+07   \n",
       "4       AMER:BSDT Online                       Edge 112.0  4.499610e+07   \n",
       "\n",
       "       Visits  Unique Visitors Browser_Group Region_Group  \n",
       "0  14358889.0        8301892.0        Chrome         AMER  \n",
       "1   9964571.0        5863320.0        Chrome         AMER  \n",
       "2   6616443.0        3978397.0        Google         AMER  \n",
       "3   4918254.0        3190731.0        Google         AMER  \n",
       "4   2905226.0        1719017.0          Edge         AMER  "
      ]
     },
     "execution_count": 45,
     "metadata": {},
     "output_type": "execute_result"
    }
   ],
   "source": [
    "df.head()"
   ]
  },
  {
   "cell_type": "code",
   "execution_count": 46,
   "id": "bb6b8b45",
   "metadata": {},
   "outputs": [],
   "source": [
    "df.to_csv('csv/browser_analysis.csv')"
   ]
  }
 ],
 "metadata": {
  "kernelspec": {
   "display_name": "Python 3 (ipykernel)",
   "language": "python",
   "name": "python3"
  },
  "language_info": {
   "codemirror_mode": {
    "name": "ipython",
    "version": 3
   },
   "file_extension": ".py",
   "mimetype": "text/x-python",
   "name": "python",
   "nbconvert_exporter": "python",
   "pygments_lexer": "ipython3",
   "version": "3.10.9"
  }
 },
 "nbformat": 4,
 "nbformat_minor": 5
}
