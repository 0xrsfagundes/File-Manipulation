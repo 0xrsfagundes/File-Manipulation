{
 "cells": [
  {
   "cell_type": "code",
   "execution_count": 1,
   "id": "1fed5440",
   "metadata": {},
   "outputs": [],
   "source": [
    "import warnings\n",
    "import pandas as pd\n",
    "import seaborn as sns\n",
    "import matplotlib.pyplot as plt\n",
    "import numpy as np\n",
    "\n",
    "\n",
    "pd.set_option('display.max_columns', None)\n",
    "pd.set_option('display.max_colwidth', None)\n",
    "warnings.filterwarnings('ignore')"
   ]
  },
  {
   "cell_type": "code",
   "execution_count": 8,
   "id": "7e93f385",
   "metadata": {},
   "outputs": [],
   "source": [
    "# Read Delve Compiled file\n",
    "\n",
    "folder_path = r'C:\\Users\\Rafael_Fagundes\\Downloads\\delve_compiled_data.csv'\n",
    "\n",
    "df = pd.read_csv(folder_path)"
   ]
  },
  {
   "cell_type": "code",
   "execution_count": 4,
   "id": "dfe773bd",
   "metadata": {},
   "outputs": [],
   "source": [
    "# Create ABM and LAL flag\n",
    "\n",
    "conditions = [\n",
    "    df['Media Buy Name'].str.contains('ABM', case=False),\n",
    "    df['Media Buy Name'].str.contains('LAL', case=False)\n",
    "]\n",
    "\n",
    "values = ['ABM', 'LAL']\n",
    "\n",
    "df['Audience Type Flag'] = np.select(conditions, values, default='0')"
   ]
  },
  {
   "cell_type": "code",
   "execution_count": 7,
   "id": "dc03b620",
   "metadata": {},
   "outputs": [
    {
     "data": {
      "text/plain": [
       "Audience Type Flag\n",
       "0      724530\n",
       "ABM    232553\n",
       "LAL     35552\n",
       "Name: count, dtype: int64"
      ]
     },
     "execution_count": 7,
     "metadata": {},
     "output_type": "execute_result"
    }
   ],
   "source": [
    "# Filter dataframe with B2B only\n",
    "\n",
    "df_filtered = df[df['BU'] == 'B2B']\n",
    "\n",
    "df_filtered['Audience Type Flag'].value_counts()"
   ]
  }
 ],
 "metadata": {
  "kernelspec": {
   "display_name": "Python 3 (ipykernel)",
   "language": "python",
   "name": "python3"
  },
  "language_info": {
   "codemirror_mode": {
    "name": "ipython",
    "version": 3
   },
   "file_extension": ".py",
   "mimetype": "text/x-python",
   "name": "python",
   "nbconvert_exporter": "python",
   "pygments_lexer": "ipython3",
   "version": "3.10.5"
  }
 },
 "nbformat": 4,
 "nbformat_minor": 5
}
