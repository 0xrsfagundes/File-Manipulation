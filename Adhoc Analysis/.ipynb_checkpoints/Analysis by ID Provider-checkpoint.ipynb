{
 "cells": [
  {
   "cell_type": "code",
   "execution_count": 1,
   "id": "a5d5987f",
   "metadata": {},
   "outputs": [],
   "source": [
    "import warnings\n",
    "import pandas as pd\n",
    "import seaborn as sns\n",
    "import matplotlib.pyplot as plt\n",
    "import numpy as np\n",
    "\n",
    "\n",
    "pd.set_option('display.max_columns', None)\n",
    "pd.set_option('display.max_colwidth', None)\n",
    "warnings.filterwarnings('ignore')"
   ]
  },
  {
   "cell_type": "code",
   "execution_count": 2,
   "id": "8af35f53",
   "metadata": {},
   "outputs": [],
   "source": [
    "folder_path = r'C:\\Users\\Rafael_Fagundes\\Downloads\\delve_compiled_data.csv'\n",
    "\n",
    "df = pd.read_csv(folder_path)"
   ]
  },
  {
   "cell_type": "code",
   "execution_count": 3,
   "id": "e34f7248",
   "metadata": {},
   "outputs": [],
   "source": [
    "conditions = [\n",
    "    df['Media Buy Name'].str.contains('liveramp', case=False),\n",
    "    df['Media Buy Name'].str.contains('neustar', case=False),\n",
    "    df['Media Buy Name'].str.contains('permutive|permutvie|permu|permu|ermu', case=False),\n",
    "    df['Media Buy Name'].str.contains('ttd|thetradedesk|the trade desk', case=False)\n",
    "]\n",
    "\n",
    "values = ['LiveRamp', 'Neustar', 'Permutive', 'The Trade Desk']\n",
    "\n",
    "df['ID Provider'] = np.select(conditions, values, default=df['Audience Source'])"
   ]
  },
  {
   "cell_type": "code",
   "execution_count": 4,
   "id": "8cdf2280",
   "metadata": {},
   "outputs": [],
   "source": [
    "df['Audience Source Final'] = np.where((df['Audience Source'] == 0) | (df['Audience Source'] == '0'), df['ID Provider'], df['Audience Source'])"
   ]
  },
  {
   "cell_type": "code",
   "execution_count": 5,
   "id": "6810a748",
   "metadata": {},
   "outputs": [],
   "source": [
    "grouped_df = df.groupby([\n",
    "    'Audience Type',\n",
    "    'Fiscal Quarter',\n",
    "    'Fiscal Week Year',\n",
    "    'Country',\n",
    "    'BU',\n",
    "    'Audience Source',\n",
    "    'ID Provider',\n",
    "    'Audience Source Final'\n",
    "]).agg({\n",
    "    'Impressions': 'sum',\n",
    "    'Clicks': 'sum',\n",
    "    'Spend': 'sum',\n",
    "    'Net Rev': 'sum',\n",
    "    'HVE': 'sum'  \n",
    "}).reset_index()"
   ]
  },
  {
   "cell_type": "code",
   "execution_count": 6,
   "id": "5645fc9e",
   "metadata": {},
   "outputs": [],
   "source": [
    "grouped_df.to_csv('csv/Analysis by ID Provider.csv')"
   ]
  }
 ],
 "metadata": {
  "kernelspec": {
   "display_name": "Python 3 (ipykernel)",
   "language": "python",
   "name": "python3"
  },
  "language_info": {
   "codemirror_mode": {
    "name": "ipython",
    "version": 3
   },
   "file_extension": ".py",
   "mimetype": "text/x-python",
   "name": "python",
   "nbconvert_exporter": "python",
   "pygments_lexer": "ipython3",
   "version": "3.10.5"
  }
 },
 "nbformat": 4,
 "nbformat_minor": 5
}
