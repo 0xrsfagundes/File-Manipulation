{
 "cells": [
  {
   "cell_type": "code",
   "execution_count": 43,
   "id": "f609a859",
   "metadata": {},
   "outputs": [],
   "source": [
    "import pandas as pd"
   ]
  },
  {
   "cell_type": "code",
   "execution_count": 44,
   "id": "3c18344f",
   "metadata": {
    "scrolled": true
   },
   "outputs": [
    {
     "name": "stdout",
     "output_type": "stream",
     "text": [
      "<class 'pandas.core.frame.DataFrame'>\n",
      "RangeIndex: 7757 entries, 0 to 7756\n",
      "Data columns (total 10 columns):\n",
      " #   Column  Non-Null Count  Dtype         \n",
      "---  ------  --------------  -----         \n",
      " 0   Date    7757 non-null   datetime64[ns]\n",
      " 1   Day     7757 non-null   object        \n",
      " 2   FY      7757 non-null   object        \n",
      " 3   Qtr     7757 non-null   object        \n",
      " 4   Month   7757 non-null   object        \n",
      " 5   Period  7757 non-null   int64         \n",
      " 6   WK      7757 non-null   int64         \n",
      " 7   QWK     7757 non-null   int64         \n",
      " 8   FQ      7757 non-null   object        \n",
      " 9   FQW     7757 non-null   object        \n",
      "dtypes: datetime64[ns](1), int64(3), object(6)\n",
      "memory usage: 606.1+ KB\n"
     ]
    }
   ],
   "source": [
    "df_calendar = pd.read_csv('csv/Calendar.csv', parse_dates=['Date'])\n",
    "\n",
    "df_calendar.info()"
   ]
  },
  {
   "cell_type": "code",
   "execution_count": 45,
   "id": "e4919feb",
   "metadata": {},
   "outputs": [
    {
     "name": "stderr",
     "output_type": "stream",
     "text": [
      "C:\\Users\\rafael_fagundes\\AppData\\Local\\Temp\\ipykernel_29360\\1487008407.py:1: ParserWarning: Falling back to the 'python' engine because the 'c' engine does not support skipfooter; you can avoid this warning by specifying engine='python'.\n",
      "  df = pd.read_csv(r'C:\\Users\\rafael_fagundes\\OneDrive - Dell Technologies\\Documents\\DB\\1153793_L90_Days_20230517_164048_4131517639.csv', on_bad_lines='skip', skiprows=10, skipfooter=1, parse_dates=['Date'])\n"
     ]
    }
   ],
   "source": [
    "df = pd.read_csv(r'C:\\Users\\rafael_fagundes\\OneDrive - Dell Technologies\\Documents\\DB\\1153793_L90_Days_20230517_164048_4131517639.csv', on_bad_lines='skip', skiprows=10, skipfooter=1, parse_dates=['Date'])"
   ]
  },
  {
   "cell_type": "code",
   "execution_count": 46,
   "id": "948ca861",
   "metadata": {},
   "outputs": [
    {
     "name": "stdout",
     "output_type": "stream",
     "text": [
      "<class 'pandas.core.frame.DataFrame'>\n",
      "RangeIndex: 2661451 entries, 0 to 2661450\n",
      "Data columns (total 15 columns):\n",
      " #   Column                               Dtype         \n",
      "---  ------                               -----         \n",
      " 0   Advertiser                           object        \n",
      " 1   Advertiser Group                     object        \n",
      " 2   Campaign ID                          int64         \n",
      " 3   Campaign                             object        \n",
      " 4   Site (CM360)                         object        \n",
      " 5   Placement ID                         int64         \n",
      " 6   Placement                            object        \n",
      " 7   Date                                 datetime64[ns]\n",
      " 8   Impressions                          int64         \n",
      " 9   Clicks                               int64         \n",
      " 10  Click Rate                           float64       \n",
      " 11  Active View: Viewable Impressions    int64         \n",
      " 12  Active View: Measurable Impressions  int64         \n",
      " 13  Active View: Eligible Impressions    int64         \n",
      " 14  Total Conversions                    float64       \n",
      "dtypes: datetime64[ns](1), float64(2), int64(7), object(5)\n",
      "memory usage: 304.6+ MB\n"
     ]
    }
   ],
   "source": [
    "df.info()"
   ]
  },
  {
   "cell_type": "code",
   "execution_count": 47,
   "id": "0c2eb532",
   "metadata": {},
   "outputs": [],
   "source": [
    "#Merge GCM with Dell Fiscal Calendar\n",
    "df_merged = pd.merge(df, df_calendar, on=['Date'], how='left')"
   ]
  },
  {
   "cell_type": "code",
   "execution_count": 48,
   "id": "d1fd544d",
   "metadata": {},
   "outputs": [
    {
     "name": "stdout",
     "output_type": "stream",
     "text": [
      "<class 'pandas.core.frame.DataFrame'>\n",
      "Int64Index: 2661451 entries, 0 to 2661450\n",
      "Data columns (total 24 columns):\n",
      " #   Column                               Dtype         \n",
      "---  ------                               -----         \n",
      " 0   Advertiser                           object        \n",
      " 1   Advertiser Group                     object        \n",
      " 2   Campaign ID                          int64         \n",
      " 3   Campaign                             object        \n",
      " 4   Site (CM360)                         object        \n",
      " 5   Placement ID                         int64         \n",
      " 6   Placement                            object        \n",
      " 7   Date                                 datetime64[ns]\n",
      " 8   Impressions                          int64         \n",
      " 9   Clicks                               int64         \n",
      " 10  Click Rate                           float64       \n",
      " 11  Active View: Viewable Impressions    int64         \n",
      " 12  Active View: Measurable Impressions  int64         \n",
      " 13  Active View: Eligible Impressions    int64         \n",
      " 14  Total Conversions                    float64       \n",
      " 15  Day                                  object        \n",
      " 16  FY                                   object        \n",
      " 17  Qtr                                  object        \n",
      " 18  Month                                object        \n",
      " 19  Period                               int64         \n",
      " 20  WK                                   int64         \n",
      " 21  QWK                                  int64         \n",
      " 22  FQ                                   object        \n",
      " 23  FQW                                  object        \n",
      "dtypes: datetime64[ns](1), float64(2), int64(10), object(11)\n",
      "memory usage: 507.6+ MB\n"
     ]
    }
   ],
   "source": [
    "df_merged.info()"
   ]
  },
  {
   "cell_type": "code",
   "execution_count": 49,
   "id": "d303c90a",
   "metadata": {
    "scrolled": true
   },
   "outputs": [],
   "source": [
    "df_filtered = df_merged[df_merged['FY'].isin(['FY2024'])]"
   ]
  },
  {
   "cell_type": "code",
   "execution_count": 50,
   "id": "354e5c87",
   "metadata": {
    "scrolled": false
   },
   "outputs": [
    {
     "name": "stderr",
     "output_type": "stream",
     "text": [
      "C:\\Users\\rafael_fagundes\\AppData\\Local\\Temp\\ipykernel_29360\\2194545523.py:2: SettingWithCopyWarning: \n",
      "A value is trying to be set on a copy of a slice from a DataFrame.\n",
      "Try using .loc[row_indexer,col_indexer] = value instead\n",
      "\n",
      "See the caveats in the documentation: https://pandas.pydata.org/pandas-docs/stable/user_guide/indexing.html#returning-a-view-versus-a-copy\n",
      "  df_filtered['claravine_id'] = df_filtered['Placement'].replace('-', '_', regex=True).str.extract('(_d[a-zA-Z0-9]{10}_)')\n"
     ]
    }
   ],
   "source": [
    "#Get Claravine ID: _d1n4f7g4t1i_\n",
    "df_filtered['claravine_id'] = df_filtered['Placement'].replace('-', '_', regex=True).str.extract('(_d[a-zA-Z0-9]{10}_)')"
   ]
  },
  {
   "cell_type": "code",
   "execution_count": 51,
   "id": "81002df2",
   "metadata": {},
   "outputs": [
    {
     "name": "stderr",
     "output_type": "stream",
     "text": [
      "C:\\Users\\rafael_fagundes\\AppData\\Local\\Temp\\ipykernel_29360\\2789543439.py:2: SettingWithCopyWarning: \n",
      "A value is trying to be set on a copy of a slice from a DataFrame.\n",
      "Try using .loc[row_indexer,col_indexer] = value instead\n",
      "\n",
      "See the caveats in the documentation: https://pandas.pydata.org/pandas-docs/stable/user_guide/indexing.html#returning-a-view-versus-a-copy\n",
      "  df_filtered['salesforce_id'] = df_filtered['Placement'].replace('-', '_', regex=True).str.extract('(_[a-zA-Z0-9]{9}_)')\n"
     ]
    }
   ],
   "source": [
    "#Get Salesforce ID: _xtksbpk3q_\n",
    "df_filtered['salesforce_id'] = df_filtered['Placement'].replace('-', '_', regex=True).str.extract('(_[a-zA-Z0-9]{9}_)')"
   ]
  },
  {
   "cell_type": "code",
   "execution_count": 52,
   "id": "4c9d1523",
   "metadata": {},
   "outputs": [
    {
     "name": "stderr",
     "output_type": "stream",
     "text": [
      "C:\\Users\\rafael_fagundes\\AppData\\Local\\Temp\\ipykernel_29360\\3517039660.py:4: SettingWithCopyWarning: \n",
      "A value is trying to be set on a copy of a slice from a DataFrame.\n",
      "Try using .loc[row_indexer,col_indexer] = value instead\n",
      "\n",
      "See the caveats in the documentation: https://pandas.pydata.org/pandas-docs/stable/user_guide/indexing.html#returning-a-view-versus-a-copy\n",
      "  df_filtered['audience_type_category'] = df_filtered['Placement'].replace(' ', '-', regex=True).str.upper().str.extract(str_categories)\n"
     ]
    }
   ],
   "source": [
    "#Get Category Type\n",
    "str_categories = '(CRM-1PD-CRM|EMAIL-1PD-CRM|RETARGET-1PD-RETARGET|MEDIA-1PD-MEDIA|LAPSED-1PD-PIXEL|PUBLISHER-2PD|DMP-2PD-AUDIENCE|ABM-2PD-AUDIENCE|KCT-3PD-CONTEXTUAL|PROXIMITY-3PD-CONTEXTUAL|CATEGORY-3PD-CONTEXTUAL|DOMAIN-3PD-CONTEXTUAL|IN-MARKET-3PD-CONTEXTUAL|AFFINITY-3PD-BEHAVIOR|PROXIMITY-3PD-BEHAVIOR|SITE-IN-MARKET-3PD-BEHAVIOR|IN-MARKET-3PD-BEHAVIOR|DMP-3PD-AUDIENCE|DMP-3PD-LAL|ROS-3PD-PMP|AUDIO-3PD-RETARGET-EXPOSED|CTV-3PD-RETARGET-EXPOSED|DIGITAL-3PD-RETARGET-EXPOSED|DOOH-3PD-RETARGET-EXPOSED|MEDIA-3PD-RETARGET-EXPOSED|VIDEO-3PD-RETARGET-EXPOSED|ABM-3PD-AUDIENCE|RON-PMP|ROS-PMP|KCT-SEARCH|CONQUESTING|SPONSORSHIP|PERSONA-1PD-RETARGET|PIXEL-3PD-LAL|KCT-2PD-CONTEXTUAL)'\n",
    "\n",
    "df_filtered['audience_type_category'] = df_filtered['Placement'].replace(' ', '-', regex=True).str.upper().str.extract(str_categories)"
   ]
  },
  {
   "cell_type": "code",
   "execution_count": 53,
   "id": "53141046",
   "metadata": {},
   "outputs": [
    {
     "name": "stderr",
     "output_type": "stream",
     "text": [
      "C:\\Users\\rafael_fagundes\\AppData\\Local\\Temp\\ipykernel_29360\\2598341859.py:2: SettingWithCopyWarning: \n",
      "A value is trying to be set on a copy of a slice from a DataFrame.\n",
      "Try using .loc[row_indexer,col_indexer] = value instead\n",
      "\n",
      "See the caveats in the documentation: https://pandas.pydata.org/pandas-docs/stable/user_guide/indexing.html#returning-a-view-versus-a-copy\n",
      "  df_filtered['region'] = df_filtered['Advertiser Group'].str.split('_').str[1]\n"
     ]
    }
   ],
   "source": [
    "#Get Region from Advertiser Grou field\n",
    "df_filtered['region'] = df_filtered['Advertiser Group'].str.split('_').str[1]"
   ]
  },
  {
   "cell_type": "code",
   "execution_count": 54,
   "id": "2a3e9470",
   "metadata": {},
   "outputs": [
    {
     "name": "stderr",
     "output_type": "stream",
     "text": [
      "C:\\Users\\rafael_fagundes\\AppData\\Local\\Temp\\ipykernel_29360\\1423918061.py:2: SettingWithCopyWarning: \n",
      "A value is trying to be set on a copy of a slice from a DataFrame.\n",
      "Try using .loc[row_indexer,col_indexer] = value instead\n",
      "\n",
      "See the caveats in the documentation: https://pandas.pydata.org/pandas-docs/stable/user_guide/indexing.html#returning-a-view-versus-a-copy\n",
      "  df_filtered['salesforce_id'] = df_filtered['salesforce_id'].replace('_', '', regex=True)\n",
      "C:\\Users\\rafael_fagundes\\AppData\\Local\\Temp\\ipykernel_29360\\1423918061.py:3: SettingWithCopyWarning: \n",
      "A value is trying to be set on a copy of a slice from a DataFrame.\n",
      "Try using .loc[row_indexer,col_indexer] = value instead\n",
      "\n",
      "See the caveats in the documentation: https://pandas.pydata.org/pandas-docs/stable/user_guide/indexing.html#returning-a-view-versus-a-copy\n",
      "  df_filtered['claravine_id'] = df_filtered['claravine_id'].replace('_', '', regex=True)\n",
      "C:\\Users\\rafael_fagundes\\AppData\\Local\\Temp\\ipykernel_29360\\1423918061.py:4: SettingWithCopyWarning: \n",
      "A value is trying to be set on a copy of a slice from a DataFrame.\n",
      "Try using .loc[row_indexer,col_indexer] = value instead\n",
      "\n",
      "See the caveats in the documentation: https://pandas.pydata.org/pandas-docs/stable/user_guide/indexing.html#returning-a-view-versus-a-copy\n",
      "  df_filtered['audience_type_category'] = df_filtered['audience_type_category'].replace('-', ' ', regex=True)\n"
     ]
    }
   ],
   "source": [
    "#Data Cleanse\n",
    "df_filtered['salesforce_id'] = df_filtered['salesforce_id'].replace('_', '', regex=True)\n",
    "df_filtered['claravine_id'] = df_filtered['claravine_id'].replace('_', '', regex=True)\n",
    "df_filtered['audience_type_category'] = df_filtered['audience_type_category'].replace('-', ' ', regex=True)"
   ]
  },
  {
   "cell_type": "code",
   "execution_count": 55,
   "id": "d744d3d4",
   "metadata": {},
   "outputs": [],
   "source": [
    "df_filtered.to_csv(r'C:\\Users\\rafael_fagundes\\OneDrive - Dell Technologies\\Desktop\\GCM.csv')"
   ]
  }
 ],
 "metadata": {
  "kernelspec": {
   "display_name": "Python 3 (ipykernel)",
   "language": "python",
   "name": "python3"
  },
  "language_info": {
   "codemirror_mode": {
    "name": "ipython",
    "version": 3
   },
   "file_extension": ".py",
   "mimetype": "text/x-python",
   "name": "python",
   "nbconvert_exporter": "python",
   "pygments_lexer": "ipython3",
   "version": "3.10.9"
  }
 },
 "nbformat": 4,
 "nbformat_minor": 5
}
