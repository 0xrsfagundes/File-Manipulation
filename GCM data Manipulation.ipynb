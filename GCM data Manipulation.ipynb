{
 "cells": [
  {
   "cell_type": "code",
   "execution_count": 133,
   "id": "f609a859",
   "metadata": {},
   "outputs": [],
   "source": [
    "import pandas as pd"
   ]
  },
  {
   "cell_type": "code",
   "execution_count": 134,
   "id": "3c18344f",
   "metadata": {
    "scrolled": true
   },
   "outputs": [
    {
     "name": "stdout",
     "output_type": "stream",
     "text": [
      "<class 'pandas.core.frame.DataFrame'>\n",
      "RangeIndex: 7757 entries, 0 to 7756\n",
      "Data columns (total 10 columns):\n",
      " #   Column  Non-Null Count  Dtype         \n",
      "---  ------  --------------  -----         \n",
      " 0   Date    7757 non-null   datetime64[ns]\n",
      " 1   Day     7757 non-null   object        \n",
      " 2   FY      7757 non-null   object        \n",
      " 3   Qtr     7757 non-null   object        \n",
      " 4   Month   7757 non-null   object        \n",
      " 5   Period  7757 non-null   int64         \n",
      " 6   WK      7757 non-null   int64         \n",
      " 7   QWK     7757 non-null   int64         \n",
      " 8   FQ      7757 non-null   object        \n",
      " 9   FQW     7757 non-null   object        \n",
      "dtypes: datetime64[ns](1), int64(3), object(6)\n",
      "memory usage: 606.1+ KB\n"
     ]
    }
   ],
   "source": [
    "df_calendar = pd.read_csv('csv/Calendar.csv', parse_dates=['Date'])\n",
    "\n",
    "df_calendar.info()"
   ]
  },
  {
   "cell_type": "code",
   "execution_count": 135,
   "id": "e4919feb",
   "metadata": {},
   "outputs": [
    {
     "name": "stderr",
     "output_type": "stream",
     "text": [
      "C:\\Users\\rafael_fagundes\\AppData\\Local\\Temp\\ipykernel_23564\\1487008407.py:1: ParserWarning: Falling back to the 'python' engine because the 'c' engine does not support skipfooter; you can avoid this warning by specifying engine='python'.\n",
      "  df = pd.read_csv(r'C:\\Users\\rafael_fagundes\\OneDrive - Dell Technologies\\Documents\\DB\\1153793_L90_Days_20230517_164048_4131517639.csv', on_bad_lines='skip', skiprows=10, skipfooter=1, parse_dates=['Date'])\n"
     ]
    }
   ],
   "source": [
    "df = pd.read_csv(r'C:\\Users\\rafael_fagundes\\OneDrive - Dell Technologies\\Documents\\DB\\1153793_L90_Days_20230517_164048_4131517639.csv', on_bad_lines='skip', skiprows=10, skipfooter=1, parse_dates=['Date'])"
   ]
  },
  {
   "cell_type": "code",
   "execution_count": 136,
   "id": "948ca861",
   "metadata": {},
   "outputs": [
    {
     "name": "stdout",
     "output_type": "stream",
     "text": [
      "<class 'pandas.core.frame.DataFrame'>\n",
      "RangeIndex: 2661451 entries, 0 to 2661450\n",
      "Data columns (total 15 columns):\n",
      " #   Column                               Dtype         \n",
      "---  ------                               -----         \n",
      " 0   Advertiser                           object        \n",
      " 1   Advertiser Group                     object        \n",
      " 2   Campaign ID                          int64         \n",
      " 3   Campaign                             object        \n",
      " 4   Site (CM360)                         object        \n",
      " 5   Placement ID                         int64         \n",
      " 6   Placement                            object        \n",
      " 7   Date                                 datetime64[ns]\n",
      " 8   Impressions                          int64         \n",
      " 9   Clicks                               int64         \n",
      " 10  Click Rate                           float64       \n",
      " 11  Active View: Viewable Impressions    int64         \n",
      " 12  Active View: Measurable Impressions  int64         \n",
      " 13  Active View: Eligible Impressions    int64         \n",
      " 14  Total Conversions                    float64       \n",
      "dtypes: datetime64[ns](1), float64(2), int64(7), object(5)\n",
      "memory usage: 304.6+ MB\n"
     ]
    }
   ],
   "source": [
    "df.info()"
   ]
  },
  {
   "cell_type": "code",
   "execution_count": 137,
   "id": "0c2eb532",
   "metadata": {},
   "outputs": [],
   "source": [
    "df_merged = pd.merge(df, df_calendar, on=['Date'], how='left')"
   ]
  },
  {
   "cell_type": "code",
   "execution_count": 138,
   "id": "d1fd544d",
   "metadata": {},
   "outputs": [
    {
     "name": "stdout",
     "output_type": "stream",
     "text": [
      "<class 'pandas.core.frame.DataFrame'>\n",
      "Int64Index: 2661451 entries, 0 to 2661450\n",
      "Data columns (total 24 columns):\n",
      " #   Column                               Dtype         \n",
      "---  ------                               -----         \n",
      " 0   Advertiser                           object        \n",
      " 1   Advertiser Group                     object        \n",
      " 2   Campaign ID                          int64         \n",
      " 3   Campaign                             object        \n",
      " 4   Site (CM360)                         object        \n",
      " 5   Placement ID                         int64         \n",
      " 6   Placement                            object        \n",
      " 7   Date                                 datetime64[ns]\n",
      " 8   Impressions                          int64         \n",
      " 9   Clicks                               int64         \n",
      " 10  Click Rate                           float64       \n",
      " 11  Active View: Viewable Impressions    int64         \n",
      " 12  Active View: Measurable Impressions  int64         \n",
      " 13  Active View: Eligible Impressions    int64         \n",
      " 14  Total Conversions                    float64       \n",
      " 15  Day                                  object        \n",
      " 16  FY                                   object        \n",
      " 17  Qtr                                  object        \n",
      " 18  Month                                object        \n",
      " 19  Period                               int64         \n",
      " 20  WK                                   int64         \n",
      " 21  QWK                                  int64         \n",
      " 22  FQ                                   object        \n",
      " 23  FQW                                  object        \n",
      "dtypes: datetime64[ns](1), float64(2), int64(10), object(11)\n",
      "memory usage: 507.6+ MB\n"
     ]
    }
   ],
   "source": [
    "df_merged.info()"
   ]
  },
  {
   "cell_type": "code",
   "execution_count": 139,
   "id": "d303c90a",
   "metadata": {
    "scrolled": true
   },
   "outputs": [],
   "source": [
    "df_filtered = df_merged[df_merged['FY'].isin(['FY2024'])]"
   ]
  },
  {
   "cell_type": "code",
   "execution_count": 140,
   "id": "354e5c87",
   "metadata": {},
   "outputs": [
    {
     "name": "stderr",
     "output_type": "stream",
     "text": [
      "C:\\Users\\rafael_fagundes\\AppData\\Local\\Temp\\ipykernel_23564\\2628071847.py:1: SettingWithCopyWarning: \n",
      "A value is trying to be set on a copy of a slice from a DataFrame.\n",
      "Try using .loc[row_indexer,col_indexer] = value instead\n",
      "\n",
      "See the caveats in the documentation: https://pandas.pydata.org/pandas-docs/stable/user_guide/indexing.html#returning-a-view-versus-a-copy\n",
      "  df_filtered['audience_id'] = df_filtered['Placement'].str.extract('(d\\w{10})')\n"
     ]
    }
   ],
   "source": [
    "df_filtered['audience_id'] = df_filtered['Placement'].str.extract('(d\\w{10})')"
   ]
  },
  {
   "cell_type": "code",
   "execution_count": 153,
   "id": "4c9d1523",
   "metadata": {},
   "outputs": [
    {
     "name": "stderr",
     "output_type": "stream",
     "text": [
      "C:\\Users\\rafael_fagundes\\AppData\\Local\\Temp\\ipykernel_23564\\2255519135.py:3: SettingWithCopyWarning: \n",
      "A value is trying to be set on a copy of a slice from a DataFrame.\n",
      "Try using .loc[row_indexer,col_indexer] = value instead\n",
      "\n",
      "See the caveats in the documentation: https://pandas.pydata.org/pandas-docs/stable/user_guide/indexing.html#returning-a-view-versus-a-copy\n",
      "  df_filtered['audience_type_category'] = df_filtered['Placement'].str.upper().str.extract(str_categories)\n"
     ]
    }
   ],
   "source": [
    "str_categories = '(CRM-1PD CRM|EMAIL-1PD CRM|RETARGET-1PD RETARGET|MEDIA-1PD MEDIA|LAPSED-1PD PIXEL|PUBLISHER-2PD|DMP-2PD AUDIENCE|ABM-2PD AUDIENCE|KCT-3PD CONTEXTUAL|PROXIMITY-3PD CONTEXTUAL|CATEGORY-3PD CONTEXTUAL|DOMAIN-3PD CONTEXTUAL|IN MARKET-3PD CONTEXTUAL|AFFINITY-3PD BEHAVIOR|PROXIMITY-3PD BEHAVIOR|SITE IN MARKET-3PD BEHAVIOR|IN MARKET-3PD BEHAVIOR|DMP-3PD AUDIENCE|DMP-3PD LAL|ROS-3PD PMP|AUDIO-3PD RETARGET EXPOSED|CTV-3PD RETARGET EXPOSED|DIGITAL-3PD RETARGET EXPOSED|DOOH-3PD RETARGET EXPOSED|MEDIA-3PD RETARGET EXPOSED|VIDEO-3PD RETARGET EXPOSED|ABM-3PD AUDIENCE|RON-PMP|ROS-PMP|KCT-SEARCH|CONQUESTING|SPONSORSHIP|PERSONA-1PD RETARGET|PIXEL-3PD LAL|KCT-2PD CONTEXTUAL)'\n",
    "\n",
    "df_filtered['audience_type_category'] = df_filtered['Placement'].str.upper().str.extract(str_categories)"
   ]
  },
  {
   "cell_type": "code",
   "execution_count": 154,
   "id": "53141046",
   "metadata": {},
   "outputs": [
    {
     "name": "stderr",
     "output_type": "stream",
     "text": [
      "C:\\Users\\rafael_fagundes\\AppData\\Local\\Temp\\ipykernel_23564\\2336140412.py:1: SettingWithCopyWarning: \n",
      "A value is trying to be set on a copy of a slice from a DataFrame.\n",
      "Try using .loc[row_indexer,col_indexer] = value instead\n",
      "\n",
      "See the caveats in the documentation: https://pandas.pydata.org/pandas-docs/stable/user_guide/indexing.html#returning-a-view-versus-a-copy\n",
      "  df_filtered['region'] = df_filtered['Advertiser Group'].str.split('_').str[1]\n"
     ]
    }
   ],
   "source": [
    "df_filtered['region'] = df_filtered['Advertiser Group'].str.split('_').str[1]"
   ]
  },
  {
   "cell_type": "code",
   "execution_count": 151,
   "id": "c2550c3c",
   "metadata": {},
   "outputs": [
    {
     "data": {
      "text/plain": [
       "US        912328\n",
       "JP        186296\n",
       "IN        131856\n",
       "CA        122636\n",
       "AU        118060\n",
       "SG         91152\n",
       "KR         77090\n",
       "UK         65001\n",
       "DE         56946\n",
       "BR         48032\n",
       "FR         44694\n",
       "MY         26169\n",
       "NL         14049\n",
       "ES         12468\n",
       "CH         12376\n",
       "SE          9985\n",
       "IT          5389\n",
       "ROEM        5362\n",
       "MX          5154\n",
       "BE          5132\n",
       "IE          4572\n",
       "NZ          1584\n",
       "AT          1383\n",
       "SEA         1117\n",
       "MCLA         949\n",
       "ZA           788\n",
       "SOCO         641\n",
       "NO           606\n",
       "ANDEAN       562\n",
       "LATAM        520\n",
       "AE           500\n",
       "LU           455\n",
       "SA           342\n",
       "HK           252\n",
       "CN           206\n",
       "DK           194\n",
       "IL           174\n",
       "PL           100\n",
       "CZ            65\n",
       "PT            64\n",
       "TH            34\n",
       "FI            19\n",
       "NOLA           9\n",
       "ID             1\n",
       "RO             1\n",
       "Name: region, dtype: int64"
      ]
     },
     "execution_count": 151,
     "metadata": {},
     "output_type": "execute_result"
    }
   ],
   "source": [
    "df_filtered['region'].value_counts()"
   ]
  },
  {
   "cell_type": "code",
   "execution_count": 147,
   "id": "2ef88016",
   "metadata": {
    "scrolled": false
   },
   "outputs": [
    {
     "data": {
      "text/plain": [
       "CATEGORY-3PD CONTEXTUAL         461465\n",
       "RETARGET-1PD RETARGET           394613\n",
       "AFFINITY-3PD BEHAVIOR           181780\n",
       "IN MARKET-3PD BEHAVIOR          156980\n",
       "DMP-3PD AUDIENCE                136938\n",
       "ABM-3PD AUDIENCE                125895\n",
       "KCT-3PD CONTEXTUAL               76816\n",
       "MEDIA-1PD MEDIA                  71830\n",
       "ABM-2PD AUDIENCE                 62795\n",
       "IN MARKET-3PD CONTEXTUAL         54174\n",
       "CRM-1PD CRM                      47895\n",
       "PUBLISHER-2PD                    39459\n",
       "SITE IN MARKET-3PD BEHAVIOR      24993\n",
       "PIXEL-3PD LAL                    21852\n",
       "LAPSED-1PD PIXEL                 18618\n",
       "DMP-3PD LAL                      13047\n",
       "DOMAIN-3PD CONTEXTUAL             7502\n",
       "SPONSORSHIP                       6049\n",
       "DIGITAL-3PD RETARGET EXPOSED      4441\n",
       "PERSONA-1PD RETARGET              3424\n",
       "ROS-3PD PMP                       2996\n",
       "VIDEO-3PD RETARGET EXPOSED        2840\n",
       "DMP-2PD AUDIENCE                  2460\n",
       "ROS-PMP                           2417\n",
       "KCT-SEARCH                        1568\n",
       "CONQUESTING                       1090\n",
       "CTV-3PD RETARGET EXPOSED          1035\n",
       "PROXIMITY-3PD CONTEXTUAL          1026\n",
       "RON-PMP                            755\n",
       "EMAIL-1PD CRM                      605\n",
       "AUDIO-3PD RETARGET EXPOSED         361\n",
       "PROXIMITY-3PD BEHAVIOR             111\n",
       "MEDIA-3PD RETARGET EXPOSED          66\n",
       "Name: audience_type_category, dtype: int64"
      ]
     },
     "execution_count": 147,
     "metadata": {},
     "output_type": "execute_result"
    }
   ],
   "source": [
    "df_filtered['audience_type_category'].value_counts()"
   ]
  },
  {
   "cell_type": "code",
   "execution_count": 143,
   "id": "2a3e9470",
   "metadata": {},
   "outputs": [],
   "source": [
    "#df_filtered.groupby(['Placement','flag'])['Impressions'].sum().to_frame().to_csv(r'C:\\Users\\rafael_fagundes\\OneDrive - Dell Technologies\\Desktop\\test.csv')"
   ]
  },
  {
   "cell_type": "code",
   "execution_count": 155,
   "id": "d744d3d4",
   "metadata": {},
   "outputs": [],
   "source": [
    "df_filtered.to_csv(r'C:\\Users\\rafael_fagundes\\OneDrive - Dell Technologies\\Desktop\\GCM.csv')"
   ]
  }
 ],
 "metadata": {
  "kernelspec": {
   "display_name": "Python 3 (ipykernel)",
   "language": "python",
   "name": "python3"
  },
  "language_info": {
   "codemirror_mode": {
    "name": "ipython",
    "version": 3
   },
   "file_extension": ".py",
   "mimetype": "text/x-python",
   "name": "python",
   "nbconvert_exporter": "python",
   "pygments_lexer": "ipython3",
   "version": "3.10.9"
  }
 },
 "nbformat": 4,
 "nbformat_minor": 5
}
