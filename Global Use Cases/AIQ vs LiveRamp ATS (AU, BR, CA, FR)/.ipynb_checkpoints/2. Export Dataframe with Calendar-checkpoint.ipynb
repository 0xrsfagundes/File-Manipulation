{
 "cells": [
  {
   "cell_type": "markdown",
   "id": "f0f47187",
   "metadata": {},
   "source": [
    "<h2>Library</h2>"
   ]
  },
  {
   "cell_type": "code",
   "execution_count": 1,
   "id": "39d8aac6",
   "metadata": {},
   "outputs": [],
   "source": [
    "import warnings\n",
    "import pandas as pd\n",
    "\n",
    "pd.set_option('display.max_columns', None)\n",
    "pd.set_option('display.max_colwidth', None)\n",
    "warnings.filterwarnings('ignore')"
   ]
  },
  {
   "cell_type": "markdown",
   "id": "cf0d29c7",
   "metadata": {},
   "source": [
    "<h2>Functions</h2>"
   ]
  },
  {
   "cell_type": "markdown",
   "id": "95b19c87",
   "metadata": {},
   "source": [
    "<h2>Flight Dates</h2>"
   ]
  },
  {
   "cell_type": "markdown",
   "id": "7223c853",
   "metadata": {},
   "source": [
    "AU: 2023-09-19<br>\n",
    "BR: 2023-09-04<br>\n",
    "CA: 2023-09-01<br>\n",
    "FR: 2023-08-12<br>"
   ]
  },
  {
   "cell_type": "code",
   "execution_count": null,
   "id": "6fd668f7",
   "metadata": {},
   "outputs": [],
   "source": [
    "folder_path = r'..\\..\\..\\Dell-Projects\\Helper\\Calendar.csv'\n",
    "calendar = pd.read_csv(folder_path, parse_dates=['Date'])\n",
    "calendar = calendar[(calendar['Date'] >= '2023-08-01') & (calendar['Date'] <= '2023-11-03')]"
   ]
  },
  {
   "cell_type": "markdown",
   "id": "0017d695",
   "metadata": {},
   "source": [
    "<h2>Dataset</h2>"
   ]
  },
  {
   "cell_type": "code",
   "execution_count": 3,
   "id": "9dc38d3f",
   "metadata": {},
   "outputs": [],
   "source": [
    "df = pd.read_csv(r'csv\\df.csv', parse_dates=['Date'])"
   ]
  },
  {
   "cell_type": "markdown",
   "id": "5fae23c6",
   "metadata": {},
   "source": [
    "<h2>Merge with Calendar</h2>"
   ]
  },
  {
   "cell_type": "code",
   "execution_count": null,
   "id": "b0122cba",
   "metadata": {},
   "outputs": [],
   "source": [
    "merge_df = pd.merge(calendar, df, on='Date', how='left')"
   ]
  },
  {
   "cell_type": "markdown",
   "id": "58f0f6ee",
   "metadata": {},
   "source": [
    "<h2>Export Dataframe</h2>"
   ]
  },
  {
   "cell_type": "code",
   "execution_count": null,
   "id": "1637432b",
   "metadata": {},
   "outputs": [],
   "source": [
    "merge_df.to_csv('csv/df_with_calendar.csv')"
   ]
  }
 ],
 "metadata": {
  "kernelspec": {
   "display_name": "Python 3 (ipykernel)",
   "language": "python",
   "name": "python3"
  },
  "language_info": {
   "codemirror_mode": {
    "name": "ipython",
    "version": 3
   },
   "file_extension": ".py",
   "mimetype": "text/x-python",
   "name": "python",
   "nbconvert_exporter": "python",
   "pygments_lexer": "ipython3",
   "version": "3.10.5"
  }
 },
 "nbformat": 4,
 "nbformat_minor": 5
}
