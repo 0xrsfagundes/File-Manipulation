{
 "cells": [
  {
   "cell_type": "code",
   "execution_count": 1,
   "id": "3268fb43",
   "metadata": {},
   "outputs": [],
   "source": [
    "import warnings\n",
    "import pandas as pd\n",
    "import plotly.express as px\n",
    "\n",
    "pd.set_option('display.max_columns', None)\n",
    "pd.set_option('display.max_colwidth', None)\n",
    "warnings.filterwarnings('ignore')"
   ]
  },
  {
   "cell_type": "code",
   "execution_count": 2,
   "id": "5fa4d6e7",
   "metadata": {},
   "outputs": [],
   "source": [
    "df = pd.read_csv(r'C:\\Users\\Rafael_Fagundes\\Downloads\\GCM_Browser_YTD.csv'\n",
    "                 , skipfooter=1, skiprows=10, parse_dates=['Date'])"
   ]
  },
  {
   "cell_type": "code",
   "execution_count": 3,
   "id": "afff9738",
   "metadata": {
    "scrolled": false
   },
   "outputs": [
    {
     "data": {
      "text/html": [
       "<div>\n",
       "<style scoped>\n",
       "    .dataframe tbody tr th:only-of-type {\n",
       "        vertical-align: middle;\n",
       "    }\n",
       "\n",
       "    .dataframe tbody tr th {\n",
       "        vertical-align: top;\n",
       "    }\n",
       "\n",
       "    .dataframe thead th {\n",
       "        text-align: right;\n",
       "    }\n",
       "</style>\n",
       "<table border=\"1\" class=\"dataframe\">\n",
       "  <thead>\n",
       "    <tr style=\"text-align: right;\">\n",
       "      <th></th>\n",
       "      <th>Date</th>\n",
       "      <th>Campaign</th>\n",
       "      <th>Placement</th>\n",
       "      <th>Browser/Platform</th>\n",
       "      <th>Impressions</th>\n",
       "      <th>Clicks</th>\n",
       "      <th>Click Rate</th>\n",
       "      <th>Active View: Viewable Impressions</th>\n",
       "      <th>Active View: Measurable Impressions</th>\n",
       "      <th>Active View: Eligible Impressions</th>\n",
       "      <th>Total Conversions</th>\n",
       "    </tr>\n",
       "  </thead>\n",
       "  <tbody>\n",
       "    <tr>\n",
       "      <th>0</th>\n",
       "      <td>2023-02-04</td>\n",
       "      <td>2021_1H_US_MB_MF_SOCIAL_ALLPLATFORMS</td>\n",
       "      <td>FACEBOOK.COM_AUDIENCE_SOCIAL AD_1x1_DCPM_DELL_STD_FY211H_MB_POST1</td>\n",
       "      <td>Microsoft Edge</td>\n",
       "      <td>0</td>\n",
       "      <td>1</td>\n",
       "      <td>0.0</td>\n",
       "      <td>0</td>\n",
       "      <td>0</td>\n",
       "      <td>0</td>\n",
       "      <td>0.0</td>\n",
       "    </tr>\n",
       "    <tr>\n",
       "      <th>1</th>\n",
       "      <td>2023-02-04</td>\n",
       "      <td>2021_1H_US_MB_MF_SOCIAL_ALLPLATFORMS</td>\n",
       "      <td>FACEBOOK.COM_AUDIENCE_SOCIAL AD_1x1_DCPM_DELL_STD_FY211H_MB_POST10</td>\n",
       "      <td>Chrome</td>\n",
       "      <td>0</td>\n",
       "      <td>1</td>\n",
       "      <td>0.0</td>\n",
       "      <td>0</td>\n",
       "      <td>0</td>\n",
       "      <td>0</td>\n",
       "      <td>0.0</td>\n",
       "    </tr>\n",
       "    <tr>\n",
       "      <th>2</th>\n",
       "      <td>2023-02-04</td>\n",
       "      <td>2021_1H_US_MB_MF_SOCIAL_ALLPLATFORMS</td>\n",
       "      <td>FACEBOOK.COM_AUDIENCE_SOCIAL AD_1x1_DCPM_DELL_STD_FY211H_MB_POST149</td>\n",
       "      <td>Microsoft Edge</td>\n",
       "      <td>0</td>\n",
       "      <td>1</td>\n",
       "      <td>0.0</td>\n",
       "      <td>0</td>\n",
       "      <td>0</td>\n",
       "      <td>0</td>\n",
       "      <td>0.0</td>\n",
       "    </tr>\n",
       "    <tr>\n",
       "      <th>3</th>\n",
       "      <td>2023-02-04</td>\n",
       "      <td>2021_2H_US_ISG_MF_DISPLAY_NA_PAN FF</td>\n",
       "      <td>TECH TARGET_PROSPECT_NATIVE_1X1_CPV_DELL_CT_FY212H_NATIVE SITE SUPPLIED CONTENT_PAN FF</td>\n",
       "      <td>Chrome</td>\n",
       "      <td>1</td>\n",
       "      <td>0</td>\n",
       "      <td>0.0</td>\n",
       "      <td>0</td>\n",
       "      <td>0</td>\n",
       "      <td>0</td>\n",
       "      <td>0.0</td>\n",
       "    </tr>\n",
       "    <tr>\n",
       "      <th>4</th>\n",
       "      <td>2023-02-04</td>\n",
       "      <td>2021_AO_FR_AW_AP_DISPLAY_NA_HEAVEN MEDIA</td>\n",
       "      <td>HEAVEN MEDIA_SPONSORSHIP_BUTTON_TExTLINK_FLAT_JMA_CT_FY21Q4_FR ALIENWARE_NA_CROCODYLEM15</td>\n",
       "      <td>Chrome</td>\n",
       "      <td>0</td>\n",
       "      <td>1</td>\n",
       "      <td>0.0</td>\n",
       "      <td>0</td>\n",
       "      <td>0</td>\n",
       "      <td>0</td>\n",
       "      <td>0.0</td>\n",
       "    </tr>\n",
       "  </tbody>\n",
       "</table>\n",
       "</div>"
      ],
      "text/plain": [
       "        Date                                  Campaign  \\\n",
       "0 2023-02-04      2021_1H_US_MB_MF_SOCIAL_ALLPLATFORMS   \n",
       "1 2023-02-04      2021_1H_US_MB_MF_SOCIAL_ALLPLATFORMS   \n",
       "2 2023-02-04      2021_1H_US_MB_MF_SOCIAL_ALLPLATFORMS   \n",
       "3 2023-02-04       2021_2H_US_ISG_MF_DISPLAY_NA_PAN FF   \n",
       "4 2023-02-04  2021_AO_FR_AW_AP_DISPLAY_NA_HEAVEN MEDIA   \n",
       "\n",
       "                                                                                  Placement  \\\n",
       "0                         FACEBOOK.COM_AUDIENCE_SOCIAL AD_1x1_DCPM_DELL_STD_FY211H_MB_POST1   \n",
       "1                        FACEBOOK.COM_AUDIENCE_SOCIAL AD_1x1_DCPM_DELL_STD_FY211H_MB_POST10   \n",
       "2                       FACEBOOK.COM_AUDIENCE_SOCIAL AD_1x1_DCPM_DELL_STD_FY211H_MB_POST149   \n",
       "3    TECH TARGET_PROSPECT_NATIVE_1X1_CPV_DELL_CT_FY212H_NATIVE SITE SUPPLIED CONTENT_PAN FF   \n",
       "4  HEAVEN MEDIA_SPONSORSHIP_BUTTON_TExTLINK_FLAT_JMA_CT_FY21Q4_FR ALIENWARE_NA_CROCODYLEM15   \n",
       "\n",
       "  Browser/Platform  Impressions  Clicks  Click Rate  \\\n",
       "0   Microsoft Edge            0       1         0.0   \n",
       "1           Chrome            0       1         0.0   \n",
       "2   Microsoft Edge            0       1         0.0   \n",
       "3           Chrome            1       0         0.0   \n",
       "4           Chrome            0       1         0.0   \n",
       "\n",
       "   Active View: Viewable Impressions  Active View: Measurable Impressions  \\\n",
       "0                                  0                                    0   \n",
       "1                                  0                                    0   \n",
       "2                                  0                                    0   \n",
       "3                                  0                                    0   \n",
       "4                                  0                                    0   \n",
       "\n",
       "   Active View: Eligible Impressions  Total Conversions  \n",
       "0                                  0                0.0  \n",
       "1                                  0                0.0  \n",
       "2                                  0                0.0  \n",
       "3                                  0                0.0  \n",
       "4                                  0                0.0  "
      ]
     },
     "execution_count": 3,
     "metadata": {},
     "output_type": "execute_result"
    }
   ],
   "source": [
    "df.head()"
   ]
  },
  {
   "cell_type": "code",
   "execution_count": 4,
   "id": "0af1bf67",
   "metadata": {},
   "outputs": [],
   "source": [
    "browser_mapping = {\n",
    "    'Chrome' : 'Chrome',\n",
    "    'iPhone / iPod touch' : 'Safari',\n",
    "    'Microsoft Edge' : 'Edge',\n",
    "    'Android' : 'Chrome',\n",
    "    'Unknown' : 'Other',\n",
    "    'Safari' : 'Safari',\n",
    "    'Firefox' : 'Firefox',\n",
    "    'Mozilla' : 'Firefox',\n",
    "    'iPad' : 'Safari',\n",
    "    'Roku' : 'Other',\n",
    "    'Opera' : 'Other',\n",
    "    'Microsoft Internet Explorer' : 'Other',\n",
    "    'Yandex' : 'Other',\n",
    "    'Netscape Navigator' : 'Other',\n",
    "    'Opera Next' : 'Other',\n",
    "    '(not set)' : 'Other'\n",
    "}"
   ]
  },
  {
   "cell_type": "code",
   "execution_count": 5,
   "id": "57f5b736",
   "metadata": {},
   "outputs": [],
   "source": [
    "df['Browser Group'] = df['Browser/Platform'].map(browser_mapping)"
   ]
  },
  {
   "cell_type": "markdown",
   "id": "116399dc",
   "metadata": {},
   "source": [
    "<h2>Group 1</h2>"
   ]
  },
  {
   "cell_type": "code",
   "execution_count": 6,
   "id": "c1297c16",
   "metadata": {
    "scrolled": false
   },
   "outputs": [
    {
     "ename": "NameError",
     "evalue": "name 'df_pivoted' is not defined",
     "output_type": "error",
     "traceback": [
      "\u001b[1;31m---------------------------------------------------------------------------\u001b[0m",
      "\u001b[1;31mNameError\u001b[0m                                 Traceback (most recent call last)",
      "Cell \u001b[1;32mIn[6], line 5\u001b[0m\n\u001b[0;32m      1\u001b[0m df_grouped_v1 \u001b[38;5;241m=\u001b[39m df\u001b[38;5;241m.\u001b[39mgroupby([\u001b[38;5;124m'\u001b[39m\u001b[38;5;124mDate\u001b[39m\u001b[38;5;124m'\u001b[39m,\u001b[38;5;124m'\u001b[39m\u001b[38;5;124mBrowser/Platform\u001b[39m\u001b[38;5;124m'\u001b[39m])[\u001b[38;5;124m'\u001b[39m\u001b[38;5;124mImpressions\u001b[39m\u001b[38;5;124m'\u001b[39m]\u001b[38;5;241m.\u001b[39msum()\u001b[38;5;241m.\u001b[39mreset_index()\n\u001b[0;32m      3\u001b[0m df_pivoted_v1 \u001b[38;5;241m=\u001b[39m df_grouped_v1\u001b[38;5;241m.\u001b[39mpivot(index\u001b[38;5;241m=\u001b[39m\u001b[38;5;124m'\u001b[39m\u001b[38;5;124mDate\u001b[39m\u001b[38;5;124m'\u001b[39m, columns\u001b[38;5;241m=\u001b[39m\u001b[38;5;124m'\u001b[39m\u001b[38;5;124mBrowser/Platform\u001b[39m\u001b[38;5;124m'\u001b[39m, values\u001b[38;5;241m=\u001b[39m\u001b[38;5;124m'\u001b[39m\u001b[38;5;124mImpressions\u001b[39m\u001b[38;5;124m'\u001b[39m)\u001b[38;5;241m.\u001b[39mreset_index()\n\u001b[1;32m----> 5\u001b[0m fig \u001b[38;5;241m=\u001b[39m px\u001b[38;5;241m.\u001b[39mline(\u001b[43mdf_pivoted\u001b[49m, x\u001b[38;5;241m=\u001b[39m\u001b[38;5;124m'\u001b[39m\u001b[38;5;124mDate\u001b[39m\u001b[38;5;124m'\u001b[39m, y\u001b[38;5;241m=\u001b[39mdf_pivoted_v1\u001b[38;5;241m.\u001b[39mcolumns[\u001b[38;5;241m1\u001b[39m:])\n\u001b[0;32m      7\u001b[0m fig\u001b[38;5;241m.\u001b[39mshow()\n",
      "\u001b[1;31mNameError\u001b[0m: name 'df_pivoted' is not defined"
     ]
    }
   ],
   "source": [
    "df_grouped_v1 = df.groupby(['Date','Browser/Platform'])['Impressions'].sum().reset_index()\n",
    "\n",
    "df_pivoted_v1 = df_grouped_v1.pivot(index='Date', columns='Browser/Platform', values='Impressions').reset_index()\n",
    "\n",
    "fig = px.line(df_pivoted, x='Date', y=df_pivoted_v1.columns[1:])\n",
    "\n",
    "fig.show()"
   ]
  },
  {
   "cell_type": "markdown",
   "id": "0b8491e9",
   "metadata": {},
   "source": [
    "<h2>Group 2</h2>"
   ]
  },
  {
   "cell_type": "code",
   "execution_count": null,
   "id": "3d75f016",
   "metadata": {
    "scrolled": false
   },
   "outputs": [],
   "source": [
    "df_grouped_v2 = df.groupby(['Date','Browser Group'])['Impressions'].sum().reset_index()\n",
    "\n",
    "df_pivoted_v2 = df_grouped_v2.pivot(index='Date', columns='Browser Group', values='Impressions').reset_index()\n",
    "\n",
    "fig = px.line(df_pivoted_v2, x='Date', y=df_pivoted_v2.columns[1:])\n",
    "\n",
    "fig.show()"
   ]
  }
 ],
 "metadata": {
  "kernelspec": {
   "display_name": "Python 3 (ipykernel)",
   "language": "python",
   "name": "python3"
  },
  "language_info": {
   "codemirror_mode": {
    "name": "ipython",
    "version": 3
   },
   "file_extension": ".py",
   "mimetype": "text/x-python",
   "name": "python",
   "nbconvert_exporter": "python",
   "pygments_lexer": "ipython3",
   "version": "3.10.5"
  }
 },
 "nbformat": 4,
 "nbformat_minor": 5
}
