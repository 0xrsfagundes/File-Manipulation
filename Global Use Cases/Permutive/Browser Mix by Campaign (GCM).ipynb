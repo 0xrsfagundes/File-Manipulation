{
 "cells": [
  {
   "cell_type": "code",
   "execution_count": 1,
   "id": "02c78dc2",
   "metadata": {},
   "outputs": [],
   "source": [
    "import warnings\n",
    "import pandas as pd\n",
    "import plotly.express as px\n",
    "\n",
    "pd.set_option('display.max_columns', None)\n",
    "pd.set_option('display.max_colwidth', None)\n",
    "warnings.filterwarnings('ignore')"
   ]
  },
  {
   "cell_type": "code",
   "execution_count": 2,
   "id": "3a67c861",
   "metadata": {},
   "outputs": [],
   "source": [
    "# Read CSV File\n",
    "df = pd.read_csv(r'C:\\Users\\Rafael_Fagundes\\Downloads\\GCM_Browser_YTD.csv'\n",
    "                 , skipfooter=1, skiprows=10, parse_dates=['Date'])"
   ]
  },
  {
   "cell_type": "code",
   "execution_count": 3,
   "id": "26c40967",
   "metadata": {},
   "outputs": [
    {
     "name": "stdout",
     "output_type": "stream",
     "text": [
      "<class 'pandas.core.frame.DataFrame'>\n",
      "RangeIndex: 20650830 entries, 0 to 20650829\n",
      "Data columns (total 4 columns):\n",
      " #   Column            Dtype         \n",
      "---  ------            -----         \n",
      " 0   Date              datetime64[ns]\n",
      " 1   Placement         object        \n",
      " 2   Browser/Platform  object        \n",
      " 3   Impressions       int64         \n",
      "dtypes: datetime64[ns](1), int64(1), object(2)\n",
      "memory usage: 630.2+ MB\n"
     ]
    }
   ],
   "source": [
    "df.info()"
   ]
  },
  {
   "cell_type": "code",
   "execution_count": 4,
   "id": "563a4a79",
   "metadata": {},
   "outputs": [],
   "source": [
    "# Add Premutive Flag and Browser mapping\n",
    "df['Permutive_flag'] = df['Placement'].str.contains(r'Permutive|Permutvie|permu|Permu|ermu'\n",
    "                                                                  , case=False, regex=True)\n",
    "\n",
    "AudienceTypeName_code = '(CRM-1PD CRM|RETARGET-1PD RETARGET|CRM-1PD|MEDIA-1PD MEDIA|LAPSED-1PD PIXEL|ABM-1PD AUDIENCE|CATEGORY-3PD CONTEXTUAL|KCT-3PD CONTEXTUAL|IN MARKET-3PD CONTEXTUAL|ABM-3PD AUDIENCE|DMP-3PD AUDIENCE|IN MARKET-3PD BEHAVIOR|MEDIA-3PD RETARGET EXPOSED|AFFINITY-3PD BEHAVIOR|ROS-3PD PMP|PROXIMITY-3PD CONTEXTUAL|CTV-3PD RETARGET EXPOSED|DIGITAL-3PD RETARGET EXPOSED|DMP-3PD LAL|DOMAIN-3PD CONTEXTUAL|SITE IN MARKET-3PD BEHAVIOR|VIDEO-3PD RETARGET EXPOSED|PROXIMITY-3PD BEHAVIOR|PIXEL-3PD LAL|RETARGETING-3PD PIXEL|CRM-1PD-AIQ-NS|CE AFFINITY-3PD BEHAVIOR|MB AFFINITY-3PD BEHAVIOR|RETARGET-3PD COM SIZE|EMAIL-1PD CRM|3PD AUDIENCE|-ABM3PD AUDIENCE|CRM-1PD AUDIENCE|AFFINITY-1PD PIXEL|IN MARKET-1PD PIXEL|LAPSED USERS-1PD PIXEL|PERSONA-1PD RETARGET|MEDIA-1PD|LAPSED LAL-1PD PIXEL|CAMPAIGN-3PD LAL|ROS-3PD ROS|AUDIO-3PD RETARGET EXPOSED|BEHAVIORAL-3PD RETARGET|CONTEXTUAL-3PD RETARGET|CONTEXTUAL-3PD|BEHAVIORAL-3PD|PIXEL-3PD LAL-PRODUCT|CRM-3PD LAL|IN-MARKET-3PD BEHAVIOR|LAL-3PD BEHAVIOR|LAPSED USER-3PD BEHAVIOR|LAPSED-3PD BEHAVIOR|LAPSED-1PD PIXEL-1PD PIXEL|IN MARKET-3PD CSBTEXTUAL|KSTD-3PD CONTEXTUAL|SITE IN MARKET-3PD CONTEXTUAL|RETARGET-3PD RETARGET|CATEGORY-1PD CONTEXTUAL|KCT-1PD CONTEXTUAL|PIXEL-3PD LAL-FAMILY|LIN MARKET-3PD BEHAVIOR)'\n",
    "\n",
    "df['Audience Type Name'] = df['Placement'].str.extract(AudienceTypeName_code)\n",
    "\n",
    "browser_mapping = {\n",
    "    'Chrome' : 'Chrome',\n",
    "    'iPhone / iPod touch' : 'Safari',\n",
    "    'Microsoft Edge' : 'Edge',\n",
    "    'Android' : 'Chrome',\n",
    "    'Unknown' : 'Other',\n",
    "    'Safari' : 'Safari',\n",
    "    'Firefox' : 'Firefox',\n",
    "    'Mozilla' : 'Firefox',\n",
    "    'iPad' : 'Safari',\n",
    "    'Roku' : 'Other',\n",
    "    'Opera' : 'Other',\n",
    "    'Microsoft Internet Explorer' : 'Other',\n",
    "    'Yandex' : 'Other',\n",
    "    'Netscape Navigator' : 'Other',\n",
    "    'Opera Next' : 'Other',\n",
    "    '(not set)' : 'Other'\n",
    "}\n",
    "\n",
    "df['Browser Group'] = df['Browser/Platform'].map(browser_mapping)"
   ]
  },
  {
   "cell_type": "code",
   "execution_count": 5,
   "id": "224b85ac",
   "metadata": {},
   "outputs": [
    {
     "ename": "KeyError",
     "evalue": "'Campaign'",
     "output_type": "error",
     "traceback": [
      "\u001b[1;31m---------------------------------------------------------------------------\u001b[0m",
      "\u001b[1;31mKeyError\u001b[0m                                  Traceback (most recent call last)",
      "Cell \u001b[1;32mIn[5], line 2\u001b[0m\n\u001b[0;32m      1\u001b[0m \u001b[38;5;66;03m# Group dataframe\u001b[39;00m\n\u001b[1;32m----> 2\u001b[0m df_grouped \u001b[38;5;241m=\u001b[39m \u001b[43mdf\u001b[49m\u001b[38;5;241;43m.\u001b[39;49m\u001b[43mgroupby\u001b[49m\u001b[43m(\u001b[49m\u001b[43m[\u001b[49m\n\u001b[0;32m      3\u001b[0m \u001b[43m    \u001b[49m\u001b[38;5;124;43m'\u001b[39;49m\u001b[38;5;124;43mDate\u001b[39;49m\u001b[38;5;124;43m'\u001b[39;49m\u001b[43m,\u001b[49m\n\u001b[0;32m      4\u001b[0m \u001b[43m    \u001b[49m\u001b[38;5;124;43m'\u001b[39;49m\u001b[38;5;124;43mCampaign\u001b[39;49m\u001b[38;5;124;43m'\u001b[39;49m\u001b[43m,\u001b[49m\n\u001b[0;32m      5\u001b[0m \u001b[43m    \u001b[49m\u001b[38;5;124;43m'\u001b[39;49m\u001b[38;5;124;43mAudience Type Name\u001b[39;49m\u001b[38;5;124;43m'\u001b[39;49m\u001b[43m,\u001b[49m\n\u001b[0;32m      6\u001b[0m \u001b[43m    \u001b[49m\u001b[38;5;124;43m'\u001b[39;49m\u001b[38;5;124;43mPermutive_flag\u001b[39;49m\u001b[38;5;124;43m'\u001b[39;49m\u001b[43m,\u001b[49m\n\u001b[0;32m      7\u001b[0m \u001b[43m    \u001b[49m\u001b[38;5;124;43m'\u001b[39;49m\u001b[38;5;124;43mBrowser Group\u001b[39;49m\u001b[38;5;124;43m'\u001b[39;49m\n\u001b[0;32m      8\u001b[0m \u001b[43m]\u001b[49m\u001b[43m)\u001b[49m\u001b[38;5;241m.\u001b[39magg({\n\u001b[0;32m      9\u001b[0m     \u001b[38;5;124m'\u001b[39m\u001b[38;5;124mImpressions\u001b[39m\u001b[38;5;124m'\u001b[39m: \u001b[38;5;124m'\u001b[39m\u001b[38;5;124msum\u001b[39m\u001b[38;5;124m'\u001b[39m,\n\u001b[0;32m     10\u001b[0m     \u001b[38;5;124m'\u001b[39m\u001b[38;5;124mClicks\u001b[39m\u001b[38;5;124m'\u001b[39m: \u001b[38;5;124m'\u001b[39m\u001b[38;5;124msum\u001b[39m\u001b[38;5;124m'\u001b[39m,\n\u001b[0;32m     11\u001b[0m     \u001b[38;5;124m'\u001b[39m\u001b[38;5;124mTotal Conversions\u001b[39m\u001b[38;5;124m'\u001b[39m: \u001b[38;5;124m'\u001b[39m\u001b[38;5;124msum\u001b[39m\u001b[38;5;124m'\u001b[39m,\n\u001b[0;32m     12\u001b[0m     \u001b[38;5;124m'\u001b[39m\u001b[38;5;124mTotal Revenue\u001b[39m\u001b[38;5;124m'\u001b[39m: \u001b[38;5;124m'\u001b[39m\u001b[38;5;124msum\u001b[39m\u001b[38;5;124m'\u001b[39m,\n\u001b[0;32m     13\u001b[0m     \u001b[38;5;124m'\u001b[39m\u001b[38;5;124mView-through Revenue\u001b[39m\u001b[38;5;124m'\u001b[39m: \u001b[38;5;124m'\u001b[39m\u001b[38;5;124msum\u001b[39m\u001b[38;5;124m'\u001b[39m,\n\u001b[0;32m     14\u001b[0m     \u001b[38;5;124m'\u001b[39m\u001b[38;5;124mClick-through Revenue\u001b[39m\u001b[38;5;124m'\u001b[39m: \u001b[38;5;124m'\u001b[39m\u001b[38;5;124msum\u001b[39m\u001b[38;5;124m'\u001b[39m\n\u001b[0;32m     15\u001b[0m })\u001b[38;5;241m.\u001b[39mreset_index()\n",
      "File \u001b[1;32m~\\AppData\\Roaming\\Python\\Python310\\site-packages\\pandas\\core\\frame.py:8252\u001b[0m, in \u001b[0;36mDataFrame.groupby\u001b[1;34m(self, by, axis, level, as_index, sort, group_keys, observed, dropna)\u001b[0m\n\u001b[0;32m   8249\u001b[0m     \u001b[38;5;28;01mraise\u001b[39;00m \u001b[38;5;167;01mTypeError\u001b[39;00m(\u001b[38;5;124m\"\u001b[39m\u001b[38;5;124mYou have to supply one of \u001b[39m\u001b[38;5;124m'\u001b[39m\u001b[38;5;124mby\u001b[39m\u001b[38;5;124m'\u001b[39m\u001b[38;5;124m and \u001b[39m\u001b[38;5;124m'\u001b[39m\u001b[38;5;124mlevel\u001b[39m\u001b[38;5;124m'\u001b[39m\u001b[38;5;124m\"\u001b[39m)\n\u001b[0;32m   8250\u001b[0m axis \u001b[38;5;241m=\u001b[39m \u001b[38;5;28mself\u001b[39m\u001b[38;5;241m.\u001b[39m_get_axis_number(axis)\n\u001b[1;32m-> 8252\u001b[0m \u001b[38;5;28;01mreturn\u001b[39;00m \u001b[43mDataFrameGroupBy\u001b[49m\u001b[43m(\u001b[49m\n\u001b[0;32m   8253\u001b[0m \u001b[43m    \u001b[49m\u001b[43mobj\u001b[49m\u001b[38;5;241;43m=\u001b[39;49m\u001b[38;5;28;43mself\u001b[39;49m\u001b[43m,\u001b[49m\n\u001b[0;32m   8254\u001b[0m \u001b[43m    \u001b[49m\u001b[43mkeys\u001b[49m\u001b[38;5;241;43m=\u001b[39;49m\u001b[43mby\u001b[49m\u001b[43m,\u001b[49m\n\u001b[0;32m   8255\u001b[0m \u001b[43m    \u001b[49m\u001b[43maxis\u001b[49m\u001b[38;5;241;43m=\u001b[39;49m\u001b[43maxis\u001b[49m\u001b[43m,\u001b[49m\n\u001b[0;32m   8256\u001b[0m \u001b[43m    \u001b[49m\u001b[43mlevel\u001b[49m\u001b[38;5;241;43m=\u001b[39;49m\u001b[43mlevel\u001b[49m\u001b[43m,\u001b[49m\n\u001b[0;32m   8257\u001b[0m \u001b[43m    \u001b[49m\u001b[43mas_index\u001b[49m\u001b[38;5;241;43m=\u001b[39;49m\u001b[43mas_index\u001b[49m\u001b[43m,\u001b[49m\n\u001b[0;32m   8258\u001b[0m \u001b[43m    \u001b[49m\u001b[43msort\u001b[49m\u001b[38;5;241;43m=\u001b[39;49m\u001b[43msort\u001b[49m\u001b[43m,\u001b[49m\n\u001b[0;32m   8259\u001b[0m \u001b[43m    \u001b[49m\u001b[43mgroup_keys\u001b[49m\u001b[38;5;241;43m=\u001b[39;49m\u001b[43mgroup_keys\u001b[49m\u001b[43m,\u001b[49m\n\u001b[0;32m   8260\u001b[0m \u001b[43m    \u001b[49m\u001b[43mobserved\u001b[49m\u001b[38;5;241;43m=\u001b[39;49m\u001b[43mobserved\u001b[49m\u001b[43m,\u001b[49m\n\u001b[0;32m   8261\u001b[0m \u001b[43m    \u001b[49m\u001b[43mdropna\u001b[49m\u001b[38;5;241;43m=\u001b[39;49m\u001b[43mdropna\u001b[49m\u001b[43m,\u001b[49m\n\u001b[0;32m   8262\u001b[0m \u001b[43m\u001b[49m\u001b[43m)\u001b[49m\n",
      "File \u001b[1;32m~\\AppData\\Roaming\\Python\\Python310\\site-packages\\pandas\\core\\groupby\\groupby.py:931\u001b[0m, in \u001b[0;36mGroupBy.__init__\u001b[1;34m(self, obj, keys, axis, level, grouper, exclusions, selection, as_index, sort, group_keys, observed, dropna)\u001b[0m\n\u001b[0;32m    928\u001b[0m \u001b[38;5;28mself\u001b[39m\u001b[38;5;241m.\u001b[39mdropna \u001b[38;5;241m=\u001b[39m dropna\n\u001b[0;32m    930\u001b[0m \u001b[38;5;28;01mif\u001b[39;00m grouper \u001b[38;5;129;01mis\u001b[39;00m \u001b[38;5;28;01mNone\u001b[39;00m:\n\u001b[1;32m--> 931\u001b[0m     grouper, exclusions, obj \u001b[38;5;241m=\u001b[39m \u001b[43mget_grouper\u001b[49m\u001b[43m(\u001b[49m\n\u001b[0;32m    932\u001b[0m \u001b[43m        \u001b[49m\u001b[43mobj\u001b[49m\u001b[43m,\u001b[49m\n\u001b[0;32m    933\u001b[0m \u001b[43m        \u001b[49m\u001b[43mkeys\u001b[49m\u001b[43m,\u001b[49m\n\u001b[0;32m    934\u001b[0m \u001b[43m        \u001b[49m\u001b[43maxis\u001b[49m\u001b[38;5;241;43m=\u001b[39;49m\u001b[43maxis\u001b[49m\u001b[43m,\u001b[49m\n\u001b[0;32m    935\u001b[0m \u001b[43m        \u001b[49m\u001b[43mlevel\u001b[49m\u001b[38;5;241;43m=\u001b[39;49m\u001b[43mlevel\u001b[49m\u001b[43m,\u001b[49m\n\u001b[0;32m    936\u001b[0m \u001b[43m        \u001b[49m\u001b[43msort\u001b[49m\u001b[38;5;241;43m=\u001b[39;49m\u001b[43msort\u001b[49m\u001b[43m,\u001b[49m\n\u001b[0;32m    937\u001b[0m \u001b[43m        \u001b[49m\u001b[43mobserved\u001b[49m\u001b[38;5;241;43m=\u001b[39;49m\u001b[43mobserved\u001b[49m\u001b[43m,\u001b[49m\n\u001b[0;32m    938\u001b[0m \u001b[43m        \u001b[49m\u001b[43mdropna\u001b[49m\u001b[38;5;241;43m=\u001b[39;49m\u001b[38;5;28;43mself\u001b[39;49m\u001b[38;5;241;43m.\u001b[39;49m\u001b[43mdropna\u001b[49m\u001b[43m,\u001b[49m\n\u001b[0;32m    939\u001b[0m \u001b[43m    \u001b[49m\u001b[43m)\u001b[49m\n\u001b[0;32m    941\u001b[0m \u001b[38;5;28mself\u001b[39m\u001b[38;5;241m.\u001b[39mobj \u001b[38;5;241m=\u001b[39m obj\n\u001b[0;32m    942\u001b[0m \u001b[38;5;28mself\u001b[39m\u001b[38;5;241m.\u001b[39maxis \u001b[38;5;241m=\u001b[39m obj\u001b[38;5;241m.\u001b[39m_get_axis_number(axis)\n",
      "File \u001b[1;32m~\\AppData\\Roaming\\Python\\Python310\\site-packages\\pandas\\core\\groupby\\grouper.py:985\u001b[0m, in \u001b[0;36mget_grouper\u001b[1;34m(obj, key, axis, level, sort, observed, validate, dropna)\u001b[0m\n\u001b[0;32m    983\u001b[0m         in_axis, level, gpr \u001b[38;5;241m=\u001b[39m \u001b[38;5;28;01mFalse\u001b[39;00m, gpr, \u001b[38;5;28;01mNone\u001b[39;00m\n\u001b[0;32m    984\u001b[0m     \u001b[38;5;28;01melse\u001b[39;00m:\n\u001b[1;32m--> 985\u001b[0m         \u001b[38;5;28;01mraise\u001b[39;00m \u001b[38;5;167;01mKeyError\u001b[39;00m(gpr)\n\u001b[0;32m    986\u001b[0m \u001b[38;5;28;01melif\u001b[39;00m \u001b[38;5;28misinstance\u001b[39m(gpr, Grouper) \u001b[38;5;129;01mand\u001b[39;00m gpr\u001b[38;5;241m.\u001b[39mkey \u001b[38;5;129;01mis\u001b[39;00m \u001b[38;5;129;01mnot\u001b[39;00m \u001b[38;5;28;01mNone\u001b[39;00m:\n\u001b[0;32m    987\u001b[0m     \u001b[38;5;66;03m# Add key to exclusions\u001b[39;00m\n\u001b[0;32m    988\u001b[0m     exclusions\u001b[38;5;241m.\u001b[39madd(gpr\u001b[38;5;241m.\u001b[39mkey)\n",
      "\u001b[1;31mKeyError\u001b[0m: 'Campaign'"
     ]
    }
   ],
   "source": [
    "# Group dataframe\n",
    "df_grouped = df.groupby([\n",
    "    'Date',\n",
    "    'Campaign',\n",
    "    'Audience Type Name',\n",
    "    'Permutive_flag',\n",
    "    'Browser Group'\n",
    "]).agg({\n",
    "    'Impressions': 'sum',\n",
    "    'Clicks': 'sum',\n",
    "    'Total Conversions': 'sum',\n",
    "    'Total Revenue': 'sum',\n",
    "    'View-through Revenue': 'sum',\n",
    "    'Click-through Revenue': 'sum'\n",
    "}).reset_index()"
   ]
  },
  {
   "cell_type": "markdown",
   "id": "90567f3f",
   "metadata": {},
   "source": [
    "Columns"
   ]
  },
  {
   "cell_type": "code",
   "execution_count": null,
   "id": "937f7c85",
   "metadata": {
    "scrolled": false
   },
   "outputs": [],
   "source": [
    "Country_Code = '(_US_|_CA_|_UK_)'\n",
    "BU_Code = '(_AW_|_B2B-CHANNEL_|_B2B-COM_|_B2B-CSG_|_B2B-ISG_|_B2B-MB_|_BRAND-PAN-DELL_|_CET_|_COM_|_CON_|_CONS_|_CSB_|_CSBO-AW_|_CSBO-AW/GSERIES_|_CSBO-CON_|_CSBO-CSB_|_CSBO-GSERIES_|_CSBO-OUT_|_CSBO-PAN-DELL_|_CSBO-PROGRAMS_|_CSBO-SB_|_CSG_|_DTC_|_GAM_|_ISG_|_ISG _|_MB_|_MPP_|_OUT_|_OUTCON_|_OUTSB_|_PANDELL_|_PAN-DELL_|_RET_|_RETAIL_|_SB_|_SBG-ISG_|_SBG-PROGRAMS_|_SBG-SB_|_SB-ISG_|_SB-SBG_|_SMB_)'\n",
    "Funnel_Code = '(_AP_|_BSP_|_DCR_|_HP_|_LF_|_LG_|_MF_|_PP_|_UF_)'\n",
    "FY_Code = '(2022_Q1_|2022_Q2_|2022_Q3_|2022_Q4_|2023_Q1_|2023_Q2_|2023_Q3_|2023_Q4_|2024_Q1_|2024_Q2_|2024_Q3_|2024_Q4_)'\n",
    "Vehicle_Code = '(_AFF_|_AUDIO_|_BRAND_|_CTV_|_Direct_|_DISPLAY_|_DISPLAY-DCO_|_DISPLAY-MOBILE_|_EMAIL-BAU_|_EMAIL-LCM_|_LEAD GEN_|_LEAD-GEN_|_MOBILE_|_RET_|_SEM_|_SNS_|_SOCIAL_|_VIDEO_|_VIDEO-MOBILE_)'\n",
    "\n",
    "df_grouped['Country'] = df_grouped['Campaign'].str.upper().str.extract(Country_Code)\n",
    "df_grouped['BU'] = df_grouped['Campaign'].str.upper().str.extract(BU_Code)\n",
    "df_grouped['Funnel'] = df_grouped['Campaign'].str.upper().str.extract(Funnel_Code)\n",
    "#df_grouped['Fiscal Quarter'] = df_grouped['Campaign'].str.upper().str.extract(FY_Code)\n",
    "df_grouped['Vehicle'] = df_grouped['Campaign'].str.upper().str.extract(Vehicle_Code)\n",
    "\n",
    "df_grouped['Country'] = df_grouped['Country'].str.replace('_', '')\n",
    "df_grouped['BU'] = df_grouped['BU'].str.replace('_', '')\n",
    "df_grouped['Funnel'] = df_grouped['Funnel'].str.replace('_', '')\n",
    "#df_grouped['Fiscal Quarter'] = df_grouped['Fiscal Quarter'].str.replace('_', '')\n",
    "df_grouped['Vehicle'] = df_grouped['Vehicle'].str.replace('_', '')"
   ]
  },
  {
   "cell_type": "markdown",
   "id": "4fb9ae79",
   "metadata": {},
   "source": [
    "Filter"
   ]
  },
  {
   "cell_type": "code",
   "execution_count": null,
   "id": "5a74924d",
   "metadata": {},
   "outputs": [],
   "source": [
    "df_filtered = df_grouped[~df_grouped['Campaign'].isin(['DO NOT USE'])]"
   ]
  },
  {
   "cell_type": "markdown",
   "id": "e30ddcf8",
   "metadata": {},
   "source": [
    "Calendar"
   ]
  },
  {
   "cell_type": "code",
   "execution_count": null,
   "id": "a3d52a48",
   "metadata": {},
   "outputs": [],
   "source": [
    "df_calendar = pd.read_csv('../../Helper/Calendar.csv', parse_dates=['Date'])\n",
    "\n",
    "df_calendar = df_calendar[['Date','Fiscal Quarter','Fiscal Week Quarter']]"
   ]
  },
  {
   "cell_type": "markdown",
   "id": "d9c7cea5",
   "metadata": {},
   "source": [
    "Merge"
   ]
  },
  {
   "cell_type": "code",
   "execution_count": null,
   "id": "a08fa4ec",
   "metadata": {},
   "outputs": [],
   "source": [
    "df_merged = pd.merge(df_filtered, df_calendar, on='Date', how='left')"
   ]
  },
  {
   "cell_type": "code",
   "execution_count": null,
   "id": "6d212d44",
   "metadata": {
    "scrolled": false
   },
   "outputs": [],
   "source": [
    "df_regroup = df_merged.groupby([\n",
    "    'Fiscal Quarter',\n",
    "    'Fiscal Week Quarter',\n",
    "    'Campaign',\n",
    "    'Audience Type Name',\n",
    "    'Permutive_flag',\n",
    "    'Browser Group',\n",
    "    'Country',\n",
    "    'BU',\n",
    "    'Funnel',\n",
    "    'Vehicle'\n",
    "]).agg({\n",
    "    'Impressions': 'sum',\n",
    "    'Clicks': 'sum',\n",
    "    'Total Conversions': 'sum',\n",
    "    'Total Revenue': 'sum',\n",
    "    'View-through Revenue': 'sum',\n",
    "    'Click-through Revenue': 'sum'\n",
    "}).reset_index()"
   ]
  },
  {
   "cell_type": "code",
   "execution_count": null,
   "id": "70ea9cc5",
   "metadata": {},
   "outputs": [],
   "source": [
    "df_regroup.to_csv('csv/Browser_Mix_by_Campaign.csv')"
   ]
  }
 ],
 "metadata": {
  "kernelspec": {
   "display_name": "Python 3 (ipykernel)",
   "language": "python",
   "name": "python3"
  },
  "language_info": {
   "codemirror_mode": {
    "name": "ipython",
    "version": 3
   },
   "file_extension": ".py",
   "mimetype": "text/x-python",
   "name": "python",
   "nbconvert_exporter": "python",
   "pygments_lexer": "ipython3",
   "version": "3.10.5"
  }
 },
 "nbformat": 4,
 "nbformat_minor": 5
}
