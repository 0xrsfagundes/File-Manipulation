{
 "cells": [
  {
   "cell_type": "code",
   "execution_count": 1,
   "id": "9a49840b",
   "metadata": {},
   "outputs": [],
   "source": [
    "import warnings\n",
    "import pandas as pd\n",
    "import numpy as np\n",
    "import seaborn as sns\n",
    "import matplotlib.pyplot as plt\n",
    "import plotly.express as px\n",
    "\n",
    "pd.set_option('display.max_columns', None)\n",
    "pd.set_option('display.max_colwidth', None)\n",
    "warnings.filterwarnings('ignore')"
   ]
  },
  {
   "cell_type": "code",
   "execution_count": 2,
   "id": "890b2ffa",
   "metadata": {},
   "outputs": [],
   "source": [
    "folder_path = r'C:\\Users\\Rafael_Fagundes\\Downloads\\delve_compiled_data.csv'\n",
    "\n",
    "df = pd.read_csv(folder_path)"
   ]
  },
  {
   "cell_type": "code",
   "execution_count": 3,
   "id": "d8aca71f",
   "metadata": {},
   "outputs": [
    {
     "name": "stdout",
     "output_type": "stream",
     "text": [
      "<class 'pandas.core.frame.DataFrame'>\n",
      "RangeIndex: 1826516 entries, 0 to 1826515\n",
      "Data columns (total 41 columns):\n",
      " #   Column                                Dtype  \n",
      "---  ------                                -----  \n",
      " 0   Unnamed: 0                            int64  \n",
      " 1   Audience Type                         object \n",
      " 2   Tactic                                object \n",
      " 3   Media Buy Name                        object \n",
      " 4   Campaign Name                         object \n",
      " 5   Fiscal Quarter                        object \n",
      " 6   Fiscal Week Year                      object \n",
      " 7   Country                               object \n",
      " 8   Display Funnel Mapped                 object \n",
      " 9   Display Dell Vehicle Mapped           object \n",
      " 10  Display Business Unit Mapped          object \n",
      " 11  Display Site Name Mapped              object \n",
      " 12  Audience Type Name                    object \n",
      " 13  Impressions                           float64\n",
      " 14  Clicks                                float64\n",
      " 15  Spend                                 float64\n",
      " 16  Net Rev                               float64\n",
      " 17  HVE                                   float64\n",
      " 18  BU                                    object \n",
      " 19  [Net_ROAS]                            float64\n",
      " 20  Segment ID                            object \n",
      " 21  Audience ID Exists                    object \n",
      " 22  Dell Audience Name                    object \n",
      " 23  MediaCom Audience Name                object \n",
      " 24  Audience Objective                    object \n",
      " 25  Seed Information                      object \n",
      " 26  Audience Composition                  object \n",
      " 27  Audience Object-Audience Composition  object \n",
      " 28  Business Unit                         object \n",
      " 29  Data Type                             object \n",
      " 30  Audience Source                       object \n",
      " 31  Data Provider                         object \n",
      " 32  Attribute Category                    object \n",
      " 33  Audience Category Reporting           object \n",
      " 34  Platform                              object \n",
      " 35  Claravine ID                          object \n",
      " 36  submission_name                       object \n",
      " 37  submitter_name                        object \n",
      " 38  created_date                          object \n",
      " 39  Fiscal Week Quarter                   object \n",
      " 40  Week Quarter                          int64  \n",
      "dtypes: float64(6), int64(2), object(33)\n",
      "memory usage: 571.3+ MB\n"
     ]
    }
   ],
   "source": [
    "df.info()"
   ]
  },
  {
   "cell_type": "code",
   "execution_count": 4,
   "id": "9948994a",
   "metadata": {},
   "outputs": [],
   "source": [
    "# Filter the dataset by US, 2024Q3 and 3P\n",
    "df_filtered = df[\n",
    "                (df['Fiscal Quarter'].isin(['2024-Q3','2024-Q2']))\n",
    "                 & (df['Country'] == 'United States')\n",
    "                 & (df['Audience Type'] == '3PD') \n",
    "                 & (df['BU'] == 'CSB') \n",
    "                 #& (df['Display Dell Vehicle Mapped'] == 'Display')\n",
    "                ]"
   ]
  },
  {
   "cell_type": "code",
   "execution_count": 5,
   "id": "908d262c",
   "metadata": {},
   "outputs": [],
   "source": [
    "# Flag the outliers\n",
    "\n",
    "# Calculate z-scores for CTR\n",
    "CTR = df_filtered['Clicks'] / df_filtered['Impressions']\n",
    "z_scores = np.abs((CTR - CTR.mean()) / CTR.std())\n",
    "\n",
    "# Set a threshold for outliers (e.g., z-score > 3)\n",
    "threshold = 3\n",
    "df_filtered['CTR_outlier'] = z_scores > threshold"
   ]
  },
  {
   "cell_type": "code",
   "execution_count": 6,
   "id": "2e30c372",
   "metadata": {},
   "outputs": [],
   "source": [
    "# Remove Outliers\n",
    "\n",
    "# Remove Rows where Clicks are higher than Impressions\n",
    "df_filtered = df_filtered[(df_filtered['Clicks'] <= df_filtered['Impressions']) \n",
    "                          & ~df_filtered['CTR_outlier'] \n",
    "                          & (df_filtered['Impressions'] > 1000)]"
   ]
  },
  {
   "cell_type": "code",
   "execution_count": 7,
   "id": "34ed0597",
   "metadata": {},
   "outputs": [],
   "source": [
    "# Create a flag for the main Vendors\n",
    "df_filtered['Permutive_flag'] = df_filtered['Media Buy Name'].str.contains(r'Permutive|Permutvie|permu|Permu|ermu', case=False)\n",
    "\n",
    "df_filtered['TTD_flag'] = df_filtered['Media Buy Name'].str.contains(r'The Trade Desk', case=False) | (df_filtered['Audience Source'].str.contains(r'The Trade Desk', case=False))\n",
    "\n",
    "df_filtered['LR_flag'] = df_filtered['Media Buy Name'].str.contains(r'Liveramp', case=False) | (df_filtered['Audience Source'].str.contains(r'Liveramp', case=False))\n",
    "\n",
    "#df_filtered['NS_flag'] = df_filtered['Media Buy Name'].str.contains(r'Neustar', case=False) | (df_filtered['Audience Source'].str.contains(r'Neustar', case=False))\n",
    "\n",
    "df_filtered['DV360_flag'] = df_filtered['Media Buy Name'].str.contains(r'dv360', case=False) | (df_filtered['Audience Source'].str.contains(r'dv360', case=False))"
   ]
  },
  {
   "cell_type": "code",
   "execution_count": 8,
   "id": "d46ee5d5",
   "metadata": {},
   "outputs": [],
   "source": [
    "# Create a column with all provider names\n",
    "df_filtered['Provider'] = np.where(df_filtered['Permutive_flag'], 'Permutive', \n",
    "                                   np.where(df_filtered['TTD_flag'], 'TTD', \n",
    "                                            np.where(df_filtered['LR_flag'], 'LiveRamp', \n",
    "                                                     np.where(df_filtered['DV360_flag'] & ~df_filtered['Permutive_flag'] & ~df_filtered['LR_flag'], 'DV360', None))))"
   ]
  },
  {
   "cell_type": "code",
   "execution_count": 9,
   "id": "49b100b7",
   "metadata": {},
   "outputs": [],
   "source": [
    "# Create Column with DV360 + Audicen Type Name\n",
    "df_filtered['Provider_lvl2'] = df_filtered.apply(lambda row: 'DV360 - ' + row['Audience Type Name'] if row['Provider'] == 'DV360' else row['Provider'], axis=1)"
   ]
  },
  {
   "cell_type": "code",
   "execution_count": 10,
   "id": "647c3bbe",
   "metadata": {},
   "outputs": [],
   "source": [
    "# Group KPIs by Provider\n",
    "grouped_df = df_filtered.groupby([\n",
    "    'Fiscal Week Year',\n",
    "    'Provider_lvl2'\n",
    "]).agg({\n",
    "    'Impressions': 'sum',\n",
    "    'Clicks': 'sum',\n",
    "    'Spend': 'sum',\n",
    "    'Net Rev': 'sum',\n",
    "    'HVE': 'sum'\n",
    "}).reset_index()"
   ]
  },
  {
   "cell_type": "code",
   "execution_count": 11,
   "id": "ad9296ed",
   "metadata": {
    "scrolled": true
   },
   "outputs": [
    {
     "data": {
      "text/html": [
       "<div>\n",
       "<style scoped>\n",
       "    .dataframe tbody tr th:only-of-type {\n",
       "        vertical-align: middle;\n",
       "    }\n",
       "\n",
       "    .dataframe tbody tr th {\n",
       "        vertical-align: top;\n",
       "    }\n",
       "\n",
       "    .dataframe thead th {\n",
       "        text-align: right;\n",
       "    }\n",
       "</style>\n",
       "<table border=\"1\" class=\"dataframe\">\n",
       "  <thead>\n",
       "    <tr style=\"text-align: right;\">\n",
       "      <th></th>\n",
       "      <th>Fiscal Week Year</th>\n",
       "      <th>Provider_lvl2</th>\n",
       "      <th>Impressions</th>\n",
       "      <th>Clicks</th>\n",
       "      <th>Spend</th>\n",
       "      <th>Net Rev</th>\n",
       "      <th>HVE</th>\n",
       "      <th>CTR</th>\n",
       "      <th>CPM</th>\n",
       "      <th>CPC</th>\n",
       "    </tr>\n",
       "  </thead>\n",
       "  <tbody>\n",
       "  </tbody>\n",
       "</table>\n",
       "</div>"
      ],
      "text/plain": [
       "Empty DataFrame\n",
       "Columns: [Fiscal Week Year, Provider_lvl2, Impressions, Clicks, Spend, Net Rev, HVE, CTR, CPM, CPC]\n",
       "Index: []"
      ]
     },
     "execution_count": 11,
     "metadata": {},
     "output_type": "execute_result"
    }
   ],
   "source": [
    "# Create additional KPIs\n",
    "grouped_df['CTR'] = (grouped_df['Clicks'] / grouped_df['Impressions']) * 100\n",
    "grouped_df['CPM'] = 1000 * grouped_df['Spend'] / grouped_df['Impressions']\n",
    "grouped_df['CPC'] = grouped_df['Spend'] / grouped_df['Clicks']\n",
    "\n",
    "grouped_df.head()"
   ]
  },
  {
   "cell_type": "code",
   "execution_count": 12,
   "id": "ff22b1c2",
   "metadata": {
    "scrolled": false
   },
   "outputs": [
    {
     "ename": "ValueError",
     "evalue": "min() arg is an empty sequence",
     "output_type": "error",
     "traceback": [
      "\u001b[1;31m---------------------------------------------------------------------------\u001b[0m",
      "\u001b[1;31mValueError\u001b[0m                                Traceback (most recent call last)",
      "Cell \u001b[1;32mIn[12], line 2\u001b[0m\n\u001b[0;32m      1\u001b[0m plt\u001b[38;5;241m.\u001b[39mfigure(figsize\u001b[38;5;241m=\u001b[39m(\u001b[38;5;241m8\u001b[39m, \u001b[38;5;241m6\u001b[39m))\n\u001b[1;32m----> 2\u001b[0m ax \u001b[38;5;241m=\u001b[39m \u001b[43msns\u001b[49m\u001b[38;5;241;43m.\u001b[39;49m\u001b[43mboxplot\u001b[49m\u001b[43m(\u001b[49m\u001b[43mdata\u001b[49m\u001b[38;5;241;43m=\u001b[39;49m\u001b[43mgrouped_df\u001b[49m\u001b[43m,\u001b[49m\u001b[43m \u001b[49m\n\u001b[0;32m      3\u001b[0m \u001b[43m                 \u001b[49m\u001b[43mx\u001b[49m\u001b[38;5;241;43m=\u001b[39;49m\u001b[38;5;124;43m'\u001b[39;49m\u001b[38;5;124;43mProvider_lvl2\u001b[39;49m\u001b[38;5;124;43m'\u001b[39;49m\u001b[43m,\u001b[49m\u001b[43m \u001b[49m\n\u001b[0;32m      4\u001b[0m \u001b[43m                 \u001b[49m\u001b[43my\u001b[49m\u001b[38;5;241;43m=\u001b[39;49m\u001b[38;5;124;43m'\u001b[39;49m\u001b[38;5;124;43mCTR\u001b[39;49m\u001b[38;5;124;43m'\u001b[39;49m\u001b[43m,\u001b[49m\u001b[43m \u001b[49m\n\u001b[0;32m      5\u001b[0m \u001b[43m                 \u001b[49m\u001b[43mshowfliers\u001b[49m\u001b[38;5;241;43m=\u001b[39;49m\u001b[38;5;28;43;01mFalse\u001b[39;49;00m\u001b[43m,\u001b[49m\u001b[43m \u001b[49m\n\u001b[0;32m      6\u001b[0m \u001b[43m                 \u001b[49m\u001b[43morder\u001b[49m\u001b[38;5;241;43m=\u001b[39;49m\u001b[38;5;28;43msorted\u001b[39;49m\u001b[43m(\u001b[49m\u001b[43mgrouped_df\u001b[49m\u001b[43m[\u001b[49m\u001b[38;5;124;43m'\u001b[39;49m\u001b[38;5;124;43mProvider_lvl2\u001b[39;49m\u001b[38;5;124;43m'\u001b[39;49m\u001b[43m]\u001b[49m\u001b[38;5;241;43m.\u001b[39;49m\u001b[43munique\u001b[49m\u001b[43m(\u001b[49m\u001b[43m)\u001b[49m\u001b[43m)\u001b[49m\u001b[43m)\u001b[49m\n\u001b[0;32m      8\u001b[0m \u001b[38;5;66;03m# Rotate x-axis labels\u001b[39;00m\n\u001b[0;32m      9\u001b[0m ax\u001b[38;5;241m.\u001b[39mset_xticklabels(ax\u001b[38;5;241m.\u001b[39mget_xticklabels(), rotation\u001b[38;5;241m=\u001b[39m\u001b[38;5;241m90\u001b[39m)\n",
      "File \u001b[1;32m~\\AppData\\Roaming\\Python\\Python310\\site-packages\\seaborn\\categorical.py:2231\u001b[0m, in \u001b[0;36mboxplot\u001b[1;34m(data, x, y, hue, order, hue_order, orient, color, palette, saturation, width, dodge, fliersize, linewidth, whis, ax, **kwargs)\u001b[0m\n\u001b[0;32m   2224\u001b[0m \u001b[38;5;28;01mdef\u001b[39;00m \u001b[38;5;21mboxplot\u001b[39m(\n\u001b[0;32m   2225\u001b[0m     data\u001b[38;5;241m=\u001b[39m\u001b[38;5;28;01mNone\u001b[39;00m, \u001b[38;5;241m*\u001b[39m, x\u001b[38;5;241m=\u001b[39m\u001b[38;5;28;01mNone\u001b[39;00m, y\u001b[38;5;241m=\u001b[39m\u001b[38;5;28;01mNone\u001b[39;00m, hue\u001b[38;5;241m=\u001b[39m\u001b[38;5;28;01mNone\u001b[39;00m, order\u001b[38;5;241m=\u001b[39m\u001b[38;5;28;01mNone\u001b[39;00m, hue_order\u001b[38;5;241m=\u001b[39m\u001b[38;5;28;01mNone\u001b[39;00m,\n\u001b[0;32m   2226\u001b[0m     orient\u001b[38;5;241m=\u001b[39m\u001b[38;5;28;01mNone\u001b[39;00m, color\u001b[38;5;241m=\u001b[39m\u001b[38;5;28;01mNone\u001b[39;00m, palette\u001b[38;5;241m=\u001b[39m\u001b[38;5;28;01mNone\u001b[39;00m, saturation\u001b[38;5;241m=\u001b[39m\u001b[38;5;241m.75\u001b[39m, width\u001b[38;5;241m=\u001b[39m\u001b[38;5;241m.8\u001b[39m,\n\u001b[0;32m   2227\u001b[0m     dodge\u001b[38;5;241m=\u001b[39m\u001b[38;5;28;01mTrue\u001b[39;00m, fliersize\u001b[38;5;241m=\u001b[39m\u001b[38;5;241m5\u001b[39m, linewidth\u001b[38;5;241m=\u001b[39m\u001b[38;5;28;01mNone\u001b[39;00m, whis\u001b[38;5;241m=\u001b[39m\u001b[38;5;241m1.5\u001b[39m, ax\u001b[38;5;241m=\u001b[39m\u001b[38;5;28;01mNone\u001b[39;00m,\n\u001b[0;32m   2228\u001b[0m     \u001b[38;5;241m*\u001b[39m\u001b[38;5;241m*\u001b[39mkwargs\n\u001b[0;32m   2229\u001b[0m ):\n\u001b[1;32m-> 2231\u001b[0m     plotter \u001b[38;5;241m=\u001b[39m \u001b[43m_BoxPlotter\u001b[49m\u001b[43m(\u001b[49m\u001b[43mx\u001b[49m\u001b[43m,\u001b[49m\u001b[43m \u001b[49m\u001b[43my\u001b[49m\u001b[43m,\u001b[49m\u001b[43m \u001b[49m\u001b[43mhue\u001b[49m\u001b[43m,\u001b[49m\u001b[43m \u001b[49m\u001b[43mdata\u001b[49m\u001b[43m,\u001b[49m\u001b[43m \u001b[49m\u001b[43morder\u001b[49m\u001b[43m,\u001b[49m\u001b[43m \u001b[49m\u001b[43mhue_order\u001b[49m\u001b[43m,\u001b[49m\n\u001b[0;32m   2232\u001b[0m \u001b[43m                          \u001b[49m\u001b[43morient\u001b[49m\u001b[43m,\u001b[49m\u001b[43m \u001b[49m\u001b[43mcolor\u001b[49m\u001b[43m,\u001b[49m\u001b[43m \u001b[49m\u001b[43mpalette\u001b[49m\u001b[43m,\u001b[49m\u001b[43m \u001b[49m\u001b[43msaturation\u001b[49m\u001b[43m,\u001b[49m\n\u001b[0;32m   2233\u001b[0m \u001b[43m                          \u001b[49m\u001b[43mwidth\u001b[49m\u001b[43m,\u001b[49m\u001b[43m \u001b[49m\u001b[43mdodge\u001b[49m\u001b[43m,\u001b[49m\u001b[43m \u001b[49m\u001b[43mfliersize\u001b[49m\u001b[43m,\u001b[49m\u001b[43m \u001b[49m\u001b[43mlinewidth\u001b[49m\u001b[43m)\u001b[49m\n\u001b[0;32m   2235\u001b[0m     \u001b[38;5;28;01mif\u001b[39;00m ax \u001b[38;5;129;01mis\u001b[39;00m \u001b[38;5;28;01mNone\u001b[39;00m:\n\u001b[0;32m   2236\u001b[0m         ax \u001b[38;5;241m=\u001b[39m plt\u001b[38;5;241m.\u001b[39mgca()\n",
      "File \u001b[1;32m~\\AppData\\Roaming\\Python\\Python310\\site-packages\\seaborn\\categorical.py:786\u001b[0m, in \u001b[0;36m_BoxPlotter.__init__\u001b[1;34m(self, x, y, hue, data, order, hue_order, orient, color, palette, saturation, width, dodge, fliersize, linewidth)\u001b[0m\n\u001b[0;32m    781\u001b[0m \u001b[38;5;28;01mdef\u001b[39;00m \u001b[38;5;21m__init__\u001b[39m(\u001b[38;5;28mself\u001b[39m, x, y, hue, data, order, hue_order,\n\u001b[0;32m    782\u001b[0m              orient, color, palette, saturation,\n\u001b[0;32m    783\u001b[0m              width, dodge, fliersize, linewidth):\n\u001b[0;32m    785\u001b[0m     \u001b[38;5;28mself\u001b[39m\u001b[38;5;241m.\u001b[39mestablish_variables(x, y, hue, data, orient, order, hue_order)\n\u001b[1;32m--> 786\u001b[0m     \u001b[38;5;28;43mself\u001b[39;49m\u001b[38;5;241;43m.\u001b[39;49m\u001b[43mestablish_colors\u001b[49m\u001b[43m(\u001b[49m\u001b[43mcolor\u001b[49m\u001b[43m,\u001b[49m\u001b[43m \u001b[49m\u001b[43mpalette\u001b[49m\u001b[43m,\u001b[49m\u001b[43m \u001b[49m\u001b[43msaturation\u001b[49m\u001b[43m)\u001b[49m\n\u001b[0;32m    788\u001b[0m     \u001b[38;5;28mself\u001b[39m\u001b[38;5;241m.\u001b[39mdodge \u001b[38;5;241m=\u001b[39m dodge\n\u001b[0;32m    789\u001b[0m     \u001b[38;5;28mself\u001b[39m\u001b[38;5;241m.\u001b[39mwidth \u001b[38;5;241m=\u001b[39m width\n",
      "File \u001b[1;32m~\\AppData\\Roaming\\Python\\Python310\\site-packages\\seaborn\\categorical.py:707\u001b[0m, in \u001b[0;36m_CategoricalPlotter.establish_colors\u001b[1;34m(self, color, palette, saturation)\u001b[0m\n\u001b[0;32m    705\u001b[0m \u001b[38;5;66;03m# Determine the gray color to use for the lines framing the plot\u001b[39;00m\n\u001b[0;32m    706\u001b[0m light_vals \u001b[38;5;241m=\u001b[39m [rgb_to_hls(\u001b[38;5;241m*\u001b[39mc)[\u001b[38;5;241m1\u001b[39m] \u001b[38;5;28;01mfor\u001b[39;00m c \u001b[38;5;129;01min\u001b[39;00m rgb_colors]\n\u001b[1;32m--> 707\u001b[0m lum \u001b[38;5;241m=\u001b[39m \u001b[38;5;28;43mmin\u001b[39;49m\u001b[43m(\u001b[49m\u001b[43mlight_vals\u001b[49m\u001b[43m)\u001b[49m \u001b[38;5;241m*\u001b[39m \u001b[38;5;241m.6\u001b[39m\n\u001b[0;32m    708\u001b[0m gray \u001b[38;5;241m=\u001b[39m mpl\u001b[38;5;241m.\u001b[39mcolors\u001b[38;5;241m.\u001b[39mrgb2hex((lum, lum, lum))\n\u001b[0;32m    710\u001b[0m \u001b[38;5;66;03m# Assign object attributes\u001b[39;00m\n",
      "\u001b[1;31mValueError\u001b[0m: min() arg is an empty sequence"
     ]
    },
    {
     "data": {
      "text/plain": [
       "<Figure size 800x600 with 0 Axes>"
      ]
     },
     "metadata": {},
     "output_type": "display_data"
    }
   ],
   "source": [
    "plt.figure(figsize=(8, 6))\n",
    "ax = sns.boxplot(data=grouped_df, \n",
    "                 x='Provider_lvl2', \n",
    "                 y='CTR', \n",
    "                 showfliers=False, \n",
    "                 order=sorted(grouped_df['Provider_lvl2'].unique()))\n",
    "\n",
    "# Rotate x-axis labels\n",
    "ax.set_xticklabels(ax.get_xticklabels(), rotation=90)\n",
    "\n",
    "# Show the plot\n",
    "plt.show()"
   ]
  },
  {
   "cell_type": "code",
   "execution_count": null,
   "id": "4448dbf1",
   "metadata": {
    "scrolled": false
   },
   "outputs": [],
   "source": [
    "plt.figure(figsize=(8, 6))\n",
    "ax = sns.boxplot(data=grouped_df, \n",
    "                 x='Provider_lvl2', \n",
    "                 y='CPM', \n",
    "                 showfliers=False, \n",
    "                 order=sorted(grouped_df['Provider_lvl2'].unique()))\n",
    "\n",
    "# Rotate x-axis labels\n",
    "ax.set_xticklabels(ax.get_xticklabels(), rotation=90)\n",
    "\n",
    "# Show the plot\n",
    "plt.show()"
   ]
  },
  {
   "cell_type": "code",
   "execution_count": null,
   "id": "fbb23100",
   "metadata": {
    "scrolled": false
   },
   "outputs": [],
   "source": [
    "# Pie Chart data\n",
    "pie_df = grouped_df.groupby(['Provider_lvl2'])['Impressions'].sum().reset_index()\n",
    "\n",
    "# Create treemap\n",
    "fig = px.treemap(pie_df, path=['Provider_lvl2'],\n",
    "                 values='Impressions', \n",
    "                 title='Impression Share by Provider', \n",
    "                 color_discrete_sequence=px.colors.qualitative.Set2,\n",
    "                 custom_data=['Impressions'])\n",
    "\n",
    "# Show the plot\n",
    "fig.show()"
   ]
  },
  {
   "cell_type": "code",
   "execution_count": null,
   "id": "683ac69d",
   "metadata": {
    "scrolled": false
   },
   "outputs": [],
   "source": [
    "# Create a horizontal stacked bar chart using Plotly Express\n",
    "fig = px.bar(pie_df, y='Provider_lvl2', x='Impressions',\n",
    "             orientation='h', barmode='overlay', title='Horizontal Stacked Bar Chart')\n",
    "\n",
    "# Show the plot\n",
    "fig.show()\n"
   ]
  },
  {
   "cell_type": "code",
   "execution_count": null,
   "id": "8b4389c9",
   "metadata": {},
   "outputs": [],
   "source": [
    "df_filtered.to_csv('csv/test.csv')"
   ]
  }
 ],
 "metadata": {
  "kernelspec": {
   "display_name": "Python 3 (ipykernel)",
   "language": "python",
   "name": "python3"
  },
  "language_info": {
   "codemirror_mode": {
    "name": "ipython",
    "version": 3
   },
   "file_extension": ".py",
   "mimetype": "text/x-python",
   "name": "python",
   "nbconvert_exporter": "python",
   "pygments_lexer": "ipython3",
   "version": "3.10.5"
  }
 },
 "nbformat": 4,
 "nbformat_minor": 5
}
