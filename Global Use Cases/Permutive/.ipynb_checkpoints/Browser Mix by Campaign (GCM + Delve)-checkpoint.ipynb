{
 "cells": [
  {
   "cell_type": "code",
   "execution_count": 10,
   "id": "02c78dc2",
   "metadata": {},
   "outputs": [],
   "source": [
    "import warnings\n",
    "import pandas as pd\n",
    "import plotly.express as px\n",
    "\n",
    "pd.set_option('display.max_columns', None)\n",
    "pd.set_option('display.max_colwidth', None)\n",
    "warnings.filterwarnings('ignore')"
   ]
  },
  {
   "cell_type": "code",
   "execution_count": 11,
   "id": "3a67c861",
   "metadata": {},
   "outputs": [],
   "source": [
    "# Read CSV File\n",
    "df = pd.read_csv(r'C:\\Users\\Rafael_Fagundes\\Downloads\\GCM_Browser_YTD.csv'\n",
    "                 , skipfooter=1, skiprows=10, parse_dates=['Date'])"
   ]
  },
  {
   "cell_type": "code",
   "execution_count": 12,
   "id": "26c40967",
   "metadata": {},
   "outputs": [
    {
     "name": "stdout",
     "output_type": "stream",
     "text": [
      "<class 'pandas.core.frame.DataFrame'>\n",
      "RangeIndex: 20650830 entries, 0 to 20650829\n",
      "Data columns (total 4 columns):\n",
      " #   Column            Dtype         \n",
      "---  ------            -----         \n",
      " 0   Date              datetime64[ns]\n",
      " 1   Placement         object        \n",
      " 2   Browser/Platform  object        \n",
      " 3   Impressions       int64         \n",
      "dtypes: datetime64[ns](1), int64(1), object(2)\n",
      "memory usage: 630.2+ MB\n"
     ]
    }
   ],
   "source": [
    "df.info()"
   ]
  },
  {
   "cell_type": "code",
   "execution_count": 13,
   "id": "563a4a79",
   "metadata": {},
   "outputs": [],
   "source": [
    "# Browser Mapping\n",
    "\n",
    "browser_mapping = {\n",
    "    'Chrome' : 'Chrome',\n",
    "    'iPhone / iPod touch' : 'Safari',\n",
    "    'Microsoft Edge' : 'Edge',\n",
    "    'Android' : 'Chrome',\n",
    "    'Unknown' : 'Other',\n",
    "    'Safari' : 'Safari',\n",
    "    'Firefox' : 'Firefox',\n",
    "    'Mozilla' : 'Firefox',\n",
    "    'iPad' : 'Safari',\n",
    "    'Roku' : 'Other',\n",
    "    'Opera' : 'Other',\n",
    "    'Microsoft Internet Explorer' : 'Other',\n",
    "    'Yandex' : 'Other',\n",
    "    'Netscape Navigator' : 'Other',\n",
    "    'Opera Next' : 'Other',\n",
    "    '(not set)' : 'Other'\n",
    "}\n",
    "\n",
    "df['Browser Group'] = df['Browser/Platform'].map(browser_mapping)"
   ]
  },
  {
   "cell_type": "code",
   "execution_count": 22,
   "id": "224b85ac",
   "metadata": {},
   "outputs": [],
   "source": [
    "# Group dataframe\n",
    "df_grouped = df.groupby([\n",
    "    'Date',\n",
    "    'Placement',\n",
    "    'Browser Group'\n",
    "]).agg({\n",
    "    'Impressions': 'sum',\n",
    "}).reset_index()"
   ]
  },
  {
   "cell_type": "markdown",
   "id": "e30ddcf8",
   "metadata": {},
   "source": [
    "<h2>Merging Calendar</h2>"
   ]
  },
  {
   "cell_type": "code",
   "execution_count": 23,
   "id": "a3d52a48",
   "metadata": {},
   "outputs": [],
   "source": [
    "df_calendar = pd.read_csv('../../Helper/Calendar.csv', parse_dates=['Date'])\n",
    "\n",
    "df_calendar = df_calendar[['Date','Fiscal Quarter','Fiscal Week Quarter']]"
   ]
  },
  {
   "cell_type": "markdown",
   "id": "d9c7cea5",
   "metadata": {},
   "source": [
    "Merge"
   ]
  },
  {
   "cell_type": "code",
   "execution_count": 24,
   "id": "a08fa4ec",
   "metadata": {},
   "outputs": [],
   "source": [
    "df_merged = pd.merge(df_grouped, df_calendar, on='Date', how='left')"
   ]
  },
  {
   "cell_type": "code",
   "execution_count": 27,
   "id": "6d212d44",
   "metadata": {
    "scrolled": false
   },
   "outputs": [],
   "source": [
    "df_regroup = df_merged.groupby([\n",
    "    'Fiscal Quarter',\n",
    "    'Fiscal Week Quarter',\n",
    "    'Placement',\n",
    "    'Browser Group'\n",
    "]).agg({\n",
    "    'Impressions': 'sum',\n",
    "}).reset_index()"
   ]
  },
  {
   "cell_type": "code",
   "execution_count": 33,
   "id": "a878072a",
   "metadata": {},
   "outputs": [],
   "source": [
    "df_pivot = df_regroup.pivot(index=['Fiscal Quarter', 'Fiscal Week Quarter', 'Placement']\n",
    "                    , columns='Browser Group'\n",
    "                    , values='Impressions').reset_index()"
   ]
  },
  {
   "cell_type": "code",
   "execution_count": 43,
   "id": "d2801af5",
   "metadata": {
    "scrolled": true
   },
   "outputs": [
    {
     "data": {
      "text/html": [
       "<div>\n",
       "<style scoped>\n",
       "    .dataframe tbody tr th:only-of-type {\n",
       "        vertical-align: middle;\n",
       "    }\n",
       "\n",
       "    .dataframe tbody tr th {\n",
       "        vertical-align: top;\n",
       "    }\n",
       "\n",
       "    .dataframe thead th {\n",
       "        text-align: right;\n",
       "    }\n",
       "</style>\n",
       "<table border=\"1\" class=\"dataframe\">\n",
       "  <thead>\n",
       "    <tr style=\"text-align: right;\">\n",
       "      <th>Browser Group</th>\n",
       "      <th>Fiscal Quarter</th>\n",
       "      <th>Fiscal Week Quarter</th>\n",
       "      <th>Media Buy Name</th>\n",
       "      <th>Chrome</th>\n",
       "      <th>Edge</th>\n",
       "      <th>Firefox</th>\n",
       "      <th>Other</th>\n",
       "      <th>Safari</th>\n",
       "    </tr>\n",
       "  </thead>\n",
       "  <tbody>\n",
       "    <tr>\n",
       "      <th>0</th>\n",
       "      <td>2023-Q4</td>\n",
       "      <td>2023-W10</td>\n",
       "      <td>VDX_IN   MARKET-3PD BEHAVIOR_HTML5 BANNER_320x50_CPM_NO-VF_STD_FY23Q4_NA_Aero_EN   MOBILE AW</td>\n",
       "      <td>15349.0</td>\n",
       "      <td>30.0</td>\n",
       "      <td>36.0</td>\n",
       "      <td>2.0</td>\n",
       "      <td>9566.0</td>\n",
       "    </tr>\n",
       "    <tr>\n",
       "      <th>1</th>\n",
       "      <td>2023-Q4</td>\n",
       "      <td>2023-W10</td>\n",
       "      <td>SPICEWORKS_IN MARKET-3PD CONTEXTUAL_VID IN-STREAM_1x1_FLAT_DELL_CT_FY23Q1_NA_AUDIENCE EXTENSION_Feb-Jan</td>\n",
       "      <td>1541.0</td>\n",
       "      <td>542.0</td>\n",
       "      <td>107.0</td>\n",
       "      <td>18.0</td>\n",
       "      <td>17.0</td>\n",
       "    </tr>\n",
       "    <tr>\n",
       "      <th>2</th>\n",
       "      <td>2023-Q4</td>\n",
       "      <td>2023-W10</td>\n",
       "      <td>DV360_CATEGORY-3PD CONTEXTUAL_HTML5 BANNER_160x600_DCPM_INTEL CCF SMF_STD_FY23Q4_NA_BRAND MB_1517099 CROSS DEVICE</td>\n",
       "      <td>8943.0</td>\n",
       "      <td>3155.0</td>\n",
       "      <td>6.0</td>\n",
       "      <td>29.0</td>\n",
       "      <td>78.0</td>\n",
       "    </tr>\n",
       "    <tr>\n",
       "      <th>3</th>\n",
       "      <td>2023-Q4</td>\n",
       "      <td>2023-W10</td>\n",
       "      <td>DV360_CATEGORY-3PD CONTEXTUAL_HTML5 BANNER_160x600_DCPM_INTEL CCF SMF_STD_FY23Q4_NA_NONBRAND MB_1517106 CROSS DEVICE</td>\n",
       "      <td>2972.0</td>\n",
       "      <td>2170.0</td>\n",
       "      <td>258.0</td>\n",
       "      <td>45.0</td>\n",
       "      <td>1667.0</td>\n",
       "    </tr>\n",
       "    <tr>\n",
       "      <th>4</th>\n",
       "      <td>2023-Q4</td>\n",
       "      <td>2023-W10</td>\n",
       "      <td>DV360_CATEGORY-3PD CONTEXTUAL_HTML5 BANNER_160x600_DCPM_INTEL CCF_STD_FY23Q4_NA_BRAND MB_1517099 CROSS DEVICE</td>\n",
       "      <td>2089.0</td>\n",
       "      <td>1427.0</td>\n",
       "      <td>3.0</td>\n",
       "      <td>6.0</td>\n",
       "      <td>42.0</td>\n",
       "    </tr>\n",
       "  </tbody>\n",
       "</table>\n",
       "</div>"
      ],
      "text/plain": [
       "Browser Group Fiscal Quarter Fiscal Week Quarter  \\\n",
       "0                    2023-Q4            2023-W10   \n",
       "1                    2023-Q4            2023-W10   \n",
       "2                    2023-Q4            2023-W10   \n",
       "3                    2023-Q4            2023-W10   \n",
       "4                    2023-Q4            2023-W10   \n",
       "\n",
       "Browser Group                                                                                                          Media Buy Name  \\\n",
       "0                                        VDX_IN   MARKET-3PD BEHAVIOR_HTML5 BANNER_320x50_CPM_NO-VF_STD_FY23Q4_NA_Aero_EN   MOBILE AW   \n",
       "1                            SPICEWORKS_IN MARKET-3PD CONTEXTUAL_VID IN-STREAM_1x1_FLAT_DELL_CT_FY23Q1_NA_AUDIENCE EXTENSION_Feb-Jan    \n",
       "2                  DV360_CATEGORY-3PD CONTEXTUAL_HTML5 BANNER_160x600_DCPM_INTEL CCF SMF_STD_FY23Q4_NA_BRAND MB_1517099 CROSS DEVICE    \n",
       "3               DV360_CATEGORY-3PD CONTEXTUAL_HTML5 BANNER_160x600_DCPM_INTEL CCF SMF_STD_FY23Q4_NA_NONBRAND MB_1517106 CROSS DEVICE    \n",
       "4                      DV360_CATEGORY-3PD CONTEXTUAL_HTML5 BANNER_160x600_DCPM_INTEL CCF_STD_FY23Q4_NA_BRAND MB_1517099 CROSS DEVICE    \n",
       "\n",
       "Browser Group   Chrome    Edge  Firefox  Other  Safari  \n",
       "0              15349.0    30.0     36.0    2.0  9566.0  \n",
       "1               1541.0   542.0    107.0   18.0    17.0  \n",
       "2               8943.0  3155.0      6.0   29.0    78.0  \n",
       "3               2972.0  2170.0    258.0   45.0  1667.0  \n",
       "4               2089.0  1427.0      3.0    6.0    42.0  "
      ]
     },
     "execution_count": 43,
     "metadata": {},
     "output_type": "execute_result"
    }
   ],
   "source": [
    "df_pivot.rename(columns={'Placement':'Media Buy Name'}, inplace=True)\n",
    "\n",
    "df_pivot.head()"
   ]
  },
  {
   "cell_type": "markdown",
   "id": "1dc32328",
   "metadata": {},
   "source": [
    "<h2>Merge Delve data</h2>"
   ]
  },
  {
   "cell_type": "code",
   "execution_count": 44,
   "id": "910e7c64",
   "metadata": {},
   "outputs": [],
   "source": [
    "folder_path = r'C:\\Users\\Rafael_Fagundes\\Downloads\\delve_compiled_data.csv'\n",
    "\n",
    "df_delve = pd.read_csv(folder_path)"
   ]
  },
  {
   "cell_type": "code",
   "execution_count": 45,
   "id": "9539625b",
   "metadata": {
    "scrolled": false
   },
   "outputs": [],
   "source": [
    "df_final = pd.merge(df_delve, df_pivot, on=['Fiscal Quarter','Fiscal Week Quarter','Media Buy Name'], how='left')"
   ]
  },
  {
   "cell_type": "code",
   "execution_count": 48,
   "id": "8bd9d8b6",
   "metadata": {},
   "outputs": [],
   "source": [
    "df_final['Permutive_flag'] = df_final['Media Buy Name'].str.contains(r'Permutive|Permutvie|permu|Permu|ermu'\n",
    "                                                                  , case=False, regex=True)"
   ]
  },
  {
   "cell_type": "code",
   "execution_count": 52,
   "id": "23f0370d",
   "metadata": {},
   "outputs": [],
   "source": [
    "df_final_grouped = df_final.groupby([\n",
    "    'Fiscal Quarter',\n",
    "    'Fiscal Week Quarter',\n",
    "    'Audience Type',\n",
    "    'Campaign Name',\n",
    "    'Audience Type Name',\n",
    "    'Permutive_flag',\n",
    "    'Display Funnel Mapped',\n",
    "    'Display Dell Vehicle Mapped',\n",
    "    'Country',\n",
    "    'BU'\n",
    "]).agg({\n",
    "    'Impressions': 'sum',\n",
    "    'Chrome': 'sum',\n",
    "    'Edge': 'sum',\n",
    "    'Firefox': 'sum',\n",
    "    'Other': 'sum',\n",
    "    'Safari': 'sum',\n",
    "    'Clicks': 'sum',\n",
    "    'Spend': 'sum',\n",
    "    'Net Rev': 'sum',\n",
    "    'HVE': 'sum'\n",
    "}).reset_index()"
   ]
  },
  {
   "cell_type": "code",
   "execution_count": 53,
   "id": "4f060222",
   "metadata": {},
   "outputs": [],
   "source": [
    "df_final_grouped.to_csv('csv/Browser_Mix_by_Campaign.csv')"
   ]
  }
 ],
 "metadata": {
  "kernelspec": {
   "display_name": "Python 3 (ipykernel)",
   "language": "python",
   "name": "python3"
  },
  "language_info": {
   "codemirror_mode": {
    "name": "ipython",
    "version": 3
   },
   "file_extension": ".py",
   "mimetype": "text/x-python",
   "name": "python",
   "nbconvert_exporter": "python",
   "pygments_lexer": "ipython3",
   "version": "3.10.5"
  }
 },
 "nbformat": 4,
 "nbformat_minor": 5
}
