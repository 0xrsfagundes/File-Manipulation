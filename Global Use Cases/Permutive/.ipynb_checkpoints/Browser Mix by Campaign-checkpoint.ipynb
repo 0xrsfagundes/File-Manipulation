{
 "cells": [
  {
   "cell_type": "code",
   "execution_count": 17,
   "id": "02c78dc2",
   "metadata": {},
   "outputs": [],
   "source": [
    "import warnings\n",
    "import pandas as pd\n",
    "import plotly.express as px\n",
    "\n",
    "pd.set_option('display.max_columns', None)\n",
    "pd.set_option('display.max_colwidth', None)\n",
    "warnings.filterwarnings('ignore')"
   ]
  },
  {
   "cell_type": "code",
   "execution_count": 18,
   "id": "3a67c861",
   "metadata": {},
   "outputs": [],
   "source": [
    "# Read CSV File\n",
    "df = pd.read_csv(r'C:\\Users\\Rafael_Fagundes\\Downloads\\GCM_Browser_YTD.csv'\n",
    "                 , skipfooter=1, skiprows=10, parse_dates=['Date'])"
   ]
  },
  {
   "cell_type": "code",
   "execution_count": 20,
   "id": "edde274a",
   "metadata": {},
   "outputs": [
    {
     "name": "stdout",
     "output_type": "stream",
     "text": [
      "<class 'pandas.core.frame.DataFrame'>\n",
      "RangeIndex: 20567848 entries, 0 to 20567847\n",
      "Data columns (total 10 columns):\n",
      " #   Column                 Dtype         \n",
      "---  ------                 -----         \n",
      " 0   Date                   datetime64[ns]\n",
      " 1   Campaign               object        \n",
      " 2   Placement              object        \n",
      " 3   Browser/Platform       object        \n",
      " 4   Impressions            int64         \n",
      " 5   Clicks                 int64         \n",
      " 6   Total Conversions      float64       \n",
      " 7   Total Revenue          float64       \n",
      " 8   View-through Revenue   float64       \n",
      " 9   Click-through Revenue  float64       \n",
      "dtypes: datetime64[ns](1), float64(4), int64(2), object(3)\n",
      "memory usage: 1.5+ GB\n"
     ]
    }
   ],
   "source": [
    "df.info()"
   ]
  },
  {
   "cell_type": "code",
   "execution_count": 21,
   "id": "563a4a79",
   "metadata": {},
   "outputs": [],
   "source": [
    "# Add Premutive Flag and Browser mapping\n",
    "df['Permutive_flag'] = df['Placement'].str.contains(r'Permutive|Permutvie|permu|Permu|ermu'\n",
    "                                                                  , case=False, regex=True)\n",
    "\n",
    "AudienceTypeName_code = '(CRM-1PD CRM|RETARGET-1PD RETARGET|CRM-1PD|MEDIA-1PD MEDIA|LAPSED-1PD PIXEL|ABM-1PD AUDIENCE|CATEGORY-3PD CONTEXTUAL|KCT-3PD CONTEXTUAL|IN MARKET-3PD CONTEXTUAL|ABM-3PD AUDIENCE|DMP-3PD AUDIENCE|IN MARKET-3PD BEHAVIOR|MEDIA-3PD RETARGET EXPOSED|AFFINITY-3PD BEHAVIOR|ROS-3PD PMP|PROXIMITY-3PD CONTEXTUAL|CTV-3PD RETARGET EXPOSED|DIGITAL-3PD RETARGET EXPOSED|DMP-3PD LAL|DOMAIN-3PD CONTEXTUAL|SITE IN MARKET-3PD BEHAVIOR|VIDEO-3PD RETARGET EXPOSED|PROXIMITY-3PD BEHAVIOR|PIXEL-3PD LAL|RETARGETING-3PD PIXEL|CRM-1PD-AIQ-NS|CE AFFINITY-3PD BEHAVIOR|MB AFFINITY-3PD BEHAVIOR|RETARGET-3PD COM SIZE|EMAIL-1PD CRM|3PD AUDIENCE|-ABM3PD AUDIENCE|CRM-1PD AUDIENCE|AFFINITY-1PD PIXEL|IN MARKET-1PD PIXEL|LAPSED USERS-1PD PIXEL|PERSONA-1PD RETARGET|MEDIA-1PD|LAPSED LAL-1PD PIXEL|CAMPAIGN-3PD LAL|ROS-3PD ROS|AUDIO-3PD RETARGET EXPOSED|BEHAVIORAL-3PD RETARGET|CONTEXTUAL-3PD RETARGET|CONTEXTUAL-3PD|BEHAVIORAL-3PD|PIXEL-3PD LAL-PRODUCT|CRM-3PD LAL|IN-MARKET-3PD BEHAVIOR|LAL-3PD BEHAVIOR|LAPSED USER-3PD BEHAVIOR|LAPSED-3PD BEHAVIOR|LAPSED-1PD PIXEL-1PD PIXEL|IN MARKET-3PD CSBTEXTUAL|KSTD-3PD CONTEXTUAL|SITE IN MARKET-3PD CONTEXTUAL|RETARGET-3PD RETARGET|CATEGORY-1PD CONTEXTUAL|KCT-1PD CONTEXTUAL|PIXEL-3PD LAL-FAMILY|LIN MARKET-3PD BEHAVIOR)'\n",
    "\n",
    "df['Audience Type Name'] = df['Placement'].str.extract(AudienceTypeName_code)\n",
    "\n",
    "browser_mapping = {\n",
    "    'Chrome' : 'Chrome',\n",
    "    'iPhone / iPod touch' : 'Safari',\n",
    "    'Microsoft Edge' : 'Edge',\n",
    "    'Android' : 'Chrome',\n",
    "    'Unknown' : 'Other',\n",
    "    'Safari' : 'Safari',\n",
    "    'Firefox' : 'Firefox',\n",
    "    'Mozilla' : 'Firefox',\n",
    "    'iPad' : 'Safari',\n",
    "    'Roku' : 'Other',\n",
    "    'Opera' : 'Other',\n",
    "    'Microsoft Internet Explorer' : 'Other',\n",
    "    'Yandex' : 'Other',\n",
    "    'Netscape Navigator' : 'Other',\n",
    "    'Opera Next' : 'Other',\n",
    "    '(not set)' : 'Other'\n",
    "}\n",
    "\n",
    "df['Browser Group'] = df['Browser/Platform'].map(browser_mapping)"
   ]
  },
  {
   "cell_type": "code",
   "execution_count": null,
   "id": "224b85ac",
   "metadata": {},
   "outputs": [],
   "source": [
    "# Group dataframe\n",
    "df_grouped = df.groupby([\n",
    "    'Date',\n",
    "    'Campaign',\n",
    "    'Audience Type Name',\n",
    "    'Permutive_flag',\n",
    "    'Browser Group'\n",
    "]).agg({\n",
    "    'Impressions': 'sum',\n",
    "    'Clicks': 'sum',\n",
    "    'Total Conversions': 'sum',\n",
    "    'Total Revenue': 'sum',\n",
    "    'View-through Revenue': 'sum',\n",
    "    'Click-through Revenue': 'sum'\n",
    "}).reset_index()"
   ]
  },
  {
   "cell_type": "markdown",
   "id": "90567f3f",
   "metadata": {},
   "source": [
    "Columns"
   ]
  },
  {
   "cell_type": "code",
   "execution_count": null,
   "id": "937f7c85",
   "metadata": {
    "scrolled": false
   },
   "outputs": [],
   "source": [
    "Country_Code = '(_US_|_CA_|_UK_)'\n",
    "BU_Code = '(_AW_|_B2B-CHANNEL_|_B2B-COM_|_B2B-CSG_|_B2B-ISG_|_B2B-MB_|_BRAND-PAN-DELL_|_CET_|_COM_|_CON_|_CONS_|_CSB_|_CSBO-AW_|_CSBO-AW/GSERIES_|_CSBO-CON_|_CSBO-CSB_|_CSBO-GSERIES_|_CSBO-OUT_|_CSBO-PAN-DELL_|_CSBO-PROGRAMS_|_CSBO-SB_|_CSG_|_DTC_|_GAM_|_ISG_|_ISG _|_MB_|_MPP_|_OUT_|_OUTCON_|_OUTSB_|_PANDELL_|_PAN-DELL_|_RET_|_RETAIL_|_SB_|_SBG-ISG_|_SBG-PROGRAMS_|_SBG-SB_|_SB-ISG_|_SB-SBG_|_SMB_)'\n",
    "Funnel_Code = '(_AP_|_BSP_|_DCR_|_HP_|_LF_|_LG_|_MF_|_PP_|_UF_)'\n",
    "FY_Code = '(2022_Q1_|2022_Q2_|2022_Q3_|2022_Q4_|2023_Q1_|2023_Q2_|2023_Q3_|2023_Q4_|2024_Q1_|2024_Q2_|2024_Q3_|2024_Q4_)'\n",
    "Vehicle_Code = '(_AFF_|_AUDIO_|_BRAND_|_CTV_|_Direct_|_DISPLAY_|_DISPLAY-DCO_|_DISPLAY-MOBILE_|_EMAIL-BAU_|_EMAIL-LCM_|_LEAD GEN_|_LEAD-GEN_|_MOBILE_|_RET_|_SEM_|_SNS_|_SOCIAL_|_VIDEO_|_VIDEO-MOBILE_)'\n",
    "\n",
    "df_grouped['Country'] = df_grouped['Campaign'].str.upper().str.extract(Country_Code)\n",
    "df_grouped['BU'] = df_grouped['Campaign'].str.upper().str.extract(BU_Code)\n",
    "df_grouped['Funnel'] = df_grouped['Campaign'].str.upper().str.extract(Funnel_Code)\n",
    "#df_grouped['Fiscal Quarter'] = df_grouped['Campaign'].str.upper().str.extract(FY_Code)\n",
    "df_grouped['Vehicle'] = df_grouped['Campaign'].str.upper().str.extract(Vehicle_Code)\n",
    "\n",
    "df_grouped['Country'] = df_grouped['Country'].str.replace('_', '')\n",
    "df_grouped['BU'] = df_grouped['BU'].str.replace('_', '')\n",
    "df_grouped['Funnel'] = df_grouped['Funnel'].str.replace('_', '')\n",
    "#df_grouped['Fiscal Quarter'] = df_grouped['Fiscal Quarter'].str.replace('_', '')\n",
    "df_grouped['Vehicle'] = df_grouped['Vehicle'].str.replace('_', '')"
   ]
  },
  {
   "cell_type": "markdown",
   "id": "4fb9ae79",
   "metadata": {},
   "source": [
    "Filter"
   ]
  },
  {
   "cell_type": "code",
   "execution_count": null,
   "id": "5a74924d",
   "metadata": {},
   "outputs": [],
   "source": [
    "df_filtered = df_grouped[~df_grouped['Campaign'].isin(['DO NOT USE'])]"
   ]
  },
  {
   "cell_type": "markdown",
   "id": "e30ddcf8",
   "metadata": {},
   "source": [
    "Calendar"
   ]
  },
  {
   "cell_type": "code",
   "execution_count": null,
   "id": "a3d52a48",
   "metadata": {},
   "outputs": [],
   "source": [
    "df_calendar = pd.read_csv('../../Helper/Calendar.csv', parse_dates=['Date'])\n",
    "\n",
    "df_calendar = df_calendar[['Date','Fiscal Quarter','Fiscal Week Quarter']]"
   ]
  },
  {
   "cell_type": "markdown",
   "id": "d9c7cea5",
   "metadata": {},
   "source": [
    "Merge"
   ]
  },
  {
   "cell_type": "code",
   "execution_count": null,
   "id": "a08fa4ec",
   "metadata": {},
   "outputs": [],
   "source": [
    "df_merged = pd.merge(df_filtered, df_calendar, on='Date', how='left')"
   ]
  },
  {
   "cell_type": "code",
   "execution_count": null,
   "id": "6d212d44",
   "metadata": {
    "scrolled": false
   },
   "outputs": [],
   "source": [
    "df_regroup = df_merged.groupby([\n",
    "    'Fiscal Quarter',\n",
    "    'Fiscal Week Quarter',\n",
    "    'Campaign',\n",
    "    'Audience Type Name',\n",
    "    'Permutive_flag',\n",
    "    'Browser Group',\n",
    "    'Country',\n",
    "    'BU',\n",
    "    'Funnel',\n",
    "    'Vehicle'\n",
    "]).agg({\n",
    "    'Impressions': 'sum',\n",
    "    'Clicks': 'sum',\n",
    "    'Total Conversions': 'sum',\n",
    "    'Total Revenue': 'sum',\n",
    "    'View-through Revenue': 'sum',\n",
    "    'Click-through Revenue': 'sum'\n",
    "}).reset_index()"
   ]
  },
  {
   "cell_type": "code",
   "execution_count": null,
   "id": "70ea9cc5",
   "metadata": {},
   "outputs": [],
   "source": [
    "df_regroup.to_csv('csv/Browser_Mix_by_Campaign.csv')"
   ]
  }
 ],
 "metadata": {
  "kernelspec": {
   "display_name": "Python 3 (ipykernel)",
   "language": "python",
   "name": "python3"
  },
  "language_info": {
   "codemirror_mode": {
    "name": "ipython",
    "version": 3
   },
   "file_extension": ".py",
   "mimetype": "text/x-python",
   "name": "python",
   "nbconvert_exporter": "python",
   "pygments_lexer": "ipython3",
   "version": "3.10.5"
  }
 },
 "nbformat": 4,
 "nbformat_minor": 5
}
