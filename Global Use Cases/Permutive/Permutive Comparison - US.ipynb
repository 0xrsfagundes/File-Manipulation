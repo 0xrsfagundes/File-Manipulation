{
 "cells": [
  {
   "cell_type": "code",
   "execution_count": 1,
   "id": "9a49840b",
   "metadata": {},
   "outputs": [],
   "source": [
    "import warnings\n",
    "import pandas as pd\n",
    "import numpy as np\n",
    "import seaborn as sns\n",
    "import matplotlib.pyplot as plt\n",
    "import plotly.express as px\n",
    "\n",
    "pd.set_option('display.max_columns', None)\n",
    "pd.set_option('display.max_colwidth', None)\n",
    "warnings.filterwarnings('ignore')"
   ]
  },
  {
   "cell_type": "code",
   "execution_count": null,
   "id": "890b2ffa",
   "metadata": {},
   "outputs": [],
   "source": [
    "folder_path = r'C:\\Users\\Rafael_Fagundes\\Downloads\\delve_compiled_data.csv'\n",
    "\n",
    "df = pd.read_csv(folder_path)"
   ]
  },
  {
   "cell_type": "code",
   "execution_count": null,
   "id": "d8aca71f",
   "metadata": {},
   "outputs": [],
   "source": [
    "df.info()"
   ]
  },
  {
   "cell_type": "code",
   "execution_count": null,
   "id": "9948994a",
   "metadata": {},
   "outputs": [],
   "source": [
    "# Filter the dataset by US, 2024Q3 and 3P\n",
    "df_filtered = df[\n",
    "                (df['Fiscal Quarter'].isin(['2024-Q3','2024-Q2']))\n",
    "                 & (df['Country'] == 'United States')\n",
    "                 & (df['Audience Type'] == '3PD') \n",
    "                 & (df['BU'] == 'CSB') \n",
    "                 #& (df['Display Dell Vehicle Mapped'] == 'Display')\n",
    "                ]"
   ]
  },
  {
   "cell_type": "code",
   "execution_count": null,
   "id": "908d262c",
   "metadata": {},
   "outputs": [],
   "source": [
    "# Flag the outliers\n",
    "\n",
    "# Calculate z-scores for CTR\n",
    "CTR = df_filtered['Clicks'] / df_filtered['Impressions']\n",
    "z_scores = np.abs((CTR - CTR.mean()) / CTR.std())\n",
    "\n",
    "# Set a threshold for outliers (e.g., z-score > 3)\n",
    "threshold = 3\n",
    "df_filtered['CTR_outlier'] = z_scores > threshold"
   ]
  },
  {
   "cell_type": "code",
   "execution_count": null,
   "id": "2e30c372",
   "metadata": {},
   "outputs": [],
   "source": [
    "# Remove Outliers\n",
    "\n",
    "# Remove Rows where Clicks are higher than Impressions\n",
    "df_filtered = df_filtered[(df_filtered['Clicks'] <= df_filtered['Impressions']) \n",
    "                          & ~df_filtered['CTR_outlier'] \n",
    "                          & (df_filtered['Impressions'] > 1000)]"
   ]
  },
  {
   "cell_type": "code",
   "execution_count": null,
   "id": "34ed0597",
   "metadata": {},
   "outputs": [],
   "source": [
    "# Create a flag for the main Vendors\n",
    "df_filtered['Permutive_flag'] = df_filtered['Media Buy Name'].str.contains(r'Permutive|Permutvie|permu|Permu|ermu', case=False)\n",
    "\n",
    "df_filtered['TTD_flag'] = df_filtered['Media Buy Name'].str.contains(r'The Trade Desk', case=False) | (df_filtered['Audience Source'].str.contains(r'The Trade Desk', case=False))\n",
    "\n",
    "df_filtered['LR_flag'] = df_filtered['Media Buy Name'].str.contains(r'Liveramp', case=False) | (df_filtered['Audience Source'].str.contains(r'Liveramp', case=False))\n",
    "\n",
    "#df_filtered['NS_flag'] = df_filtered['Media Buy Name'].str.contains(r'Neustar', case=False) | (df_filtered['Audience Source'].str.contains(r'Neustar', case=False))\n",
    "\n",
    "df_filtered['DV360_flag'] = df_filtered['Media Buy Name'].str.contains(r'dv360', case=False) | (df_filtered['Audience Source'].str.contains(r'dv360', case=False))"
   ]
  },
  {
   "cell_type": "code",
   "execution_count": null,
   "id": "d46ee5d5",
   "metadata": {},
   "outputs": [],
   "source": [
    "# Create a column with all provider names\n",
    "df_filtered['Provider'] = np.where(df_filtered['Permutive_flag'], 'Permutive', \n",
    "                                   np.where(df_filtered['TTD_flag'], 'TTD', \n",
    "                                            np.where(df_filtered['LR_flag'], 'LiveRamp', \n",
    "                                                     np.where(df_filtered['DV360_flag'] & ~df_filtered['Permutive_flag'] & ~df_filtered['LR_flag'], 'DV360', None))))"
   ]
  },
  {
   "cell_type": "code",
   "execution_count": null,
   "id": "49b100b7",
   "metadata": {},
   "outputs": [],
   "source": [
    "# Create Column with DV360 + Audicen Type Name\n",
    "df_filtered['Provider_lvl2'] = df_filtered.apply(lambda row: 'DV360 - ' + row['Audience Type Name'] if row['Provider'] == 'DV360' else row['Provider'], axis=1)"
   ]
  },
  {
   "cell_type": "code",
   "execution_count": null,
   "id": "647c3bbe",
   "metadata": {},
   "outputs": [],
   "source": [
    "# Group KPIs by Provider\n",
    "grouped_df = df_filtered.groupby([\n",
    "    'Fiscal Week Year',\n",
    "    'Provider_lvl2'\n",
    "]).agg({\n",
    "    'Impressions': 'sum',\n",
    "    'Clicks': 'sum',\n",
    "    'Spend': 'sum',\n",
    "    'Net Rev': 'sum',\n",
    "    'HVE': 'sum'\n",
    "}).reset_index()"
   ]
  },
  {
   "cell_type": "code",
   "execution_count": null,
   "id": "ad9296ed",
   "metadata": {
    "scrolled": true
   },
   "outputs": [],
   "source": [
    "# Create additional KPIs\n",
    "grouped_df['CTR'] = (grouped_df['Clicks'] / grouped_df['Impressions']) * 100\n",
    "grouped_df['CPM'] = 1000 * grouped_df['Spend'] / grouped_df['Impressions']\n",
    "grouped_df['CPC'] = grouped_df['Spend'] / grouped_df['Clicks']\n",
    "\n",
    "grouped_df.head()"
   ]
  },
  {
   "cell_type": "code",
   "execution_count": null,
   "id": "ff22b1c2",
   "metadata": {
    "scrolled": false
   },
   "outputs": [],
   "source": [
    "plt.figure(figsize=(8, 6))\n",
    "ax = sns.boxplot(data=grouped_df, \n",
    "                 x='Provider_lvl2', \n",
    "                 y='CTR', \n",
    "                 showfliers=False, \n",
    "                 order=sorted(grouped_df['Provider_lvl2'].unique()))\n",
    "\n",
    "# Rotate x-axis labels\n",
    "ax.set_xticklabels(ax.get_xticklabels(), rotation=90)\n",
    "\n",
    "# Show the plot\n",
    "plt.show()"
   ]
  },
  {
   "cell_type": "code",
   "execution_count": null,
   "id": "4448dbf1",
   "metadata": {
    "scrolled": false
   },
   "outputs": [],
   "source": [
    "plt.figure(figsize=(8, 6))\n",
    "ax = sns.boxplot(data=grouped_df, \n",
    "                 x='Provider_lvl2', \n",
    "                 y='CPM', \n",
    "                 showfliers=False, \n",
    "                 order=sorted(grouped_df['Provider_lvl2'].unique()))\n",
    "\n",
    "# Rotate x-axis labels\n",
    "ax.set_xticklabels(ax.get_xticklabels(), rotation=90)\n",
    "\n",
    "# Show the plot\n",
    "plt.show()"
   ]
  },
  {
   "cell_type": "code",
   "execution_count": null,
   "id": "fbb23100",
   "metadata": {
    "scrolled": false
   },
   "outputs": [],
   "source": [
    "# Pie Chart data\n",
    "pie_df = grouped_df.groupby(['Provider_lvl2'])['Impressions'].sum().reset_index()\n",
    "\n",
    "# Create treemap\n",
    "fig = px.treemap(pie_df, path=['Provider_lvl2'],\n",
    "                 values='Impressions', \n",
    "                 title='Impression Share by Provider', \n",
    "                 color_discrete_sequence=px.colors.qualitative.Set2,\n",
    "                 custom_data=['Impressions'])\n",
    "\n",
    "# Show the plot\n",
    "fig.show()"
   ]
  },
  {
   "cell_type": "code",
   "execution_count": null,
   "id": "683ac69d",
   "metadata": {
    "scrolled": false
   },
   "outputs": [],
   "source": [
    "# Create a horizontal stacked bar chart using Plotly Express\n",
    "fig = px.bar(pie_df, y='Provider_lvl2', x='Impressions',\n",
    "             orientation='h', barmode='overlay', title='Horizontal Stacked Bar Chart')\n",
    "\n",
    "# Show the plot\n",
    "fig.show()\n"
   ]
  }
 ],
 "metadata": {
  "kernelspec": {
   "display_name": "Python 3 (ipykernel)",
   "language": "python",
   "name": "python3"
  },
  "language_info": {
   "codemirror_mode": {
    "name": "ipython",
    "version": 3
   },
   "file_extension": ".py",
   "mimetype": "text/x-python",
   "name": "python",
   "nbconvert_exporter": "python",
   "pygments_lexer": "ipython3",
   "version": "3.10.5"
  }
 },
 "nbformat": 4,
 "nbformat_minor": 5
}
