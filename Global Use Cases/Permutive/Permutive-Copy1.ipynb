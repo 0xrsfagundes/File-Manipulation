{
 "cells": [
  {
   "cell_type": "code",
   "execution_count": 1,
   "id": "9a49840b",
   "metadata": {},
   "outputs": [],
   "source": [
    "import warnings\n",
    "import pandas as pd\n",
    "import numpy as np\n",
    "import seaborn as sns\n",
    "import matplotlib.pyplot as plt\n",
    "\n",
    "pd.set_option('display.max_columns', None)\n",
    "pd.set_option('display.max_colwidth', None)\n",
    "warnings.filterwarnings('ignore')"
   ]
  },
  {
   "cell_type": "code",
   "execution_count": 2,
   "id": "890b2ffa",
   "metadata": {},
   "outputs": [],
   "source": [
    "folder_path = r'C:\\Users\\Rafael_Fagundes\\Downloads\\delve_compiled_data.csv'\n",
    "\n",
    "df = pd.read_csv(folder_path)"
   ]
  },
  {
   "cell_type": "code",
   "execution_count": 3,
   "id": "d8aca71f",
   "metadata": {},
   "outputs": [
    {
     "name": "stdout",
     "output_type": "stream",
     "text": [
      "<class 'pandas.core.frame.DataFrame'>\n",
      "RangeIndex: 1904965 entries, 0 to 1904964\n",
      "Data columns (total 41 columns):\n",
      " #   Column                                Dtype  \n",
      "---  ------                                -----  \n",
      " 0   Unnamed: 0                            int64  \n",
      " 1   Audience Type                         object \n",
      " 2   Tactic                                object \n",
      " 3   Media Buy Name                        object \n",
      " 4   Campaign Name                         object \n",
      " 5   Fiscal Quarter                        object \n",
      " 6   Fiscal Week Year                      object \n",
      " 7   Country                               object \n",
      " 8   Display Funnel Mapped                 object \n",
      " 9   Display Dell Vehicle Mapped           object \n",
      " 10  Display Business Unit Mapped          object \n",
      " 11  Display Site Name Mapped              object \n",
      " 12  Audience Type Name                    object \n",
      " 13  Impressions                           float64\n",
      " 14  Clicks                                float64\n",
      " 15  Spend                                 float64\n",
      " 16  Net Rev                               float64\n",
      " 17  HVE                                   float64\n",
      " 18  BU                                    object \n",
      " 19  [Net_ROAS]                            float64\n",
      " 20  Segment ID                            object \n",
      " 21  Audience ID Exists                    object \n",
      " 22  Dell Audience Name                    object \n",
      " 23  MediaCom Audience Name                object \n",
      " 24  Audience Objective                    object \n",
      " 25  Seed Information                      object \n",
      " 26  Audience Composition                  object \n",
      " 27  Audience Object-Audience Composition  object \n",
      " 28  Business Unit                         object \n",
      " 29  Data Type                             object \n",
      " 30  Audience Source                       object \n",
      " 31  Data Provider                         object \n",
      " 32  Attribute Category                    object \n",
      " 33  Audience Category Reporting           object \n",
      " 34  Platform                              object \n",
      " 35  Claravine ID                          object \n",
      " 36  submission_name                       object \n",
      " 37  submitter_name                        object \n",
      " 38  created_date                          object \n",
      " 39  Fiscal Week Quarter                   object \n",
      " 40  Week Quarter                          int64  \n",
      "dtypes: float64(6), int64(2), object(33)\n",
      "memory usage: 595.9+ MB\n"
     ]
    }
   ],
   "source": [
    "df.info()"
   ]
  },
  {
   "cell_type": "code",
   "execution_count": 4,
   "id": "9948994a",
   "metadata": {},
   "outputs": [],
   "source": [
    "# Filter the dataset by US, 2024Q3 and 3P\n",
    "df_filtered = df[(df['Fiscal Quarter'] == '2024-Q3')\n",
    "                 & (df['Country'] == 'United States')\n",
    "                 & (df['Audience Type'] == '3PD') \n",
    "                 & (df['BU'] == 'CSB') \n",
    "                 #& (df['Display Dell Vehicle Mapped'] == 'Display')\n",
    "                ]"
   ]
  },
  {
   "cell_type": "code",
   "execution_count": 5,
   "id": "34ed0597",
   "metadata": {},
   "outputs": [],
   "source": [
    "# Create a flag for the main Vendors\n",
    "df_filtered['Permutive_flag'] = df_filtered['Media Buy Name'].str.contains(r'Permutive|Permutvie|permu|Permu|ermu', case=False)\n",
    "\n",
    "df_filtered['TTD_flag'] = df_filtered['Media Buy Name'].str.contains(r'The Trade Desk', case=False) | (df_filtered['Audience Source'].str.contains(r'The Trade Desk', case=False))\n",
    "\n",
    "df_filtered['LR_flag'] = df_filtered['Media Buy Name'].str.contains(r'Liveramp', case=False) | (df_filtered['Audience Source'].str.contains(r'Liveramp', case=False))\n",
    "\n",
    "df_filtered['NS_flag'] = df_filtered['Media Buy Name'].str.contains(r'Neustar', case=False) | (df_filtered['Audience Source'].str.contains(r'Neustar', case=False))\n",
    "\n",
    "df_filtered['DV360_flag'] = df_filtered['Media Buy Name'].str.contains(r'dv360', case=False) | (df_filtered['Audience Source'].str.contains(r'dv360', case=False))"
   ]
  },
  {
   "cell_type": "code",
   "execution_count": 6,
   "id": "d46ee5d5",
   "metadata": {},
   "outputs": [],
   "source": [
    "# Create a column with all provider names\n",
    "df_filtered['Provider'] = np.where(df_filtered['Permutive_flag'], 'Permutive', \n",
    "                                   np.where(df_filtered['TTD_flag'], 'TTD', \n",
    "                                           np.where(df_filtered['LR_flag'], 'LiveRamp', \n",
    "                                                   np.where(df_filtered['NS_flag'], 'Neustar', \n",
    "                                                           np.where(df_filtered['DV360_flag'] & ~df_filtered['Permutive_flag'] & ~df_filtered['LR_flag'], 'DV360', None)))))\n"
   ]
  },
  {
   "cell_type": "code",
   "execution_count": 7,
   "id": "647c3bbe",
   "metadata": {},
   "outputs": [],
   "source": [
    "# Group KPIs by Provider\n",
    "grouped_df = df_filtered.groupby([\n",
    "    'Fiscal Week Year',\n",
    "    'Provider'\n",
    "]).agg({\n",
    "    'Impressions': 'sum',\n",
    "    'Clicks': 'sum',\n",
    "    'Spend': 'sum',\n",
    "    'Net Rev': 'sum',\n",
    "    'HVE': 'sum'\n",
    "}).reset_index()"
   ]
  },
  {
   "cell_type": "code",
   "execution_count": 8,
   "id": "ad9296ed",
   "metadata": {
    "scrolled": true
   },
   "outputs": [
    {
     "data": {
      "text/html": [
       "<div>\n",
       "<style scoped>\n",
       "    .dataframe tbody tr th:only-of-type {\n",
       "        vertical-align: middle;\n",
       "    }\n",
       "\n",
       "    .dataframe tbody tr th {\n",
       "        vertical-align: top;\n",
       "    }\n",
       "\n",
       "    .dataframe thead th {\n",
       "        text-align: right;\n",
       "    }\n",
       "</style>\n",
       "<table border=\"1\" class=\"dataframe\">\n",
       "  <thead>\n",
       "    <tr style=\"text-align: right;\">\n",
       "      <th></th>\n",
       "      <th>Fiscal Week Year</th>\n",
       "      <th>Provider</th>\n",
       "      <th>Impressions</th>\n",
       "      <th>Clicks</th>\n",
       "      <th>Spend</th>\n",
       "      <th>Net Rev</th>\n",
       "      <th>HVE</th>\n",
       "      <th>CTR</th>\n",
       "      <th>CPM</th>\n",
       "      <th>CPC</th>\n",
       "    </tr>\n",
       "  </thead>\n",
       "  <tbody>\n",
       "    <tr>\n",
       "      <th>0</th>\n",
       "      <td>2024-W27</td>\n",
       "      <td>DV360</td>\n",
       "      <td>33953846.0</td>\n",
       "      <td>45965.0</td>\n",
       "      <td>167683.220191</td>\n",
       "      <td>536506.27</td>\n",
       "      <td>0.0</td>\n",
       "      <td>0.135375</td>\n",
       "      <td>4.938563</td>\n",
       "      <td>3.648063</td>\n",
       "    </tr>\n",
       "    <tr>\n",
       "      <th>1</th>\n",
       "      <td>2024-W27</td>\n",
       "      <td>LiveRamp</td>\n",
       "      <td>139612.0</td>\n",
       "      <td>17.0</td>\n",
       "      <td>312.528856</td>\n",
       "      <td>10124.62</td>\n",
       "      <td>0.0</td>\n",
       "      <td>0.012177</td>\n",
       "      <td>2.238553</td>\n",
       "      <td>18.384050</td>\n",
       "    </tr>\n",
       "    <tr>\n",
       "      <th>2</th>\n",
       "      <td>2024-W27</td>\n",
       "      <td>Neustar</td>\n",
       "      <td>1.0</td>\n",
       "      <td>0.0</td>\n",
       "      <td>0.000000</td>\n",
       "      <td>1379.00</td>\n",
       "      <td>0.0</td>\n",
       "      <td>0.000000</td>\n",
       "      <td>0.000000</td>\n",
       "      <td>NaN</td>\n",
       "    </tr>\n",
       "    <tr>\n",
       "      <th>3</th>\n",
       "      <td>2024-W27</td>\n",
       "      <td>Permutive</td>\n",
       "      <td>246063.0</td>\n",
       "      <td>308.0</td>\n",
       "      <td>1794.384678</td>\n",
       "      <td>0.00</td>\n",
       "      <td>0.0</td>\n",
       "      <td>0.125171</td>\n",
       "      <td>7.292379</td>\n",
       "      <td>5.825924</td>\n",
       "    </tr>\n",
       "    <tr>\n",
       "      <th>4</th>\n",
       "      <td>2024-W27</td>\n",
       "      <td>TTD</td>\n",
       "      <td>6816174.0</td>\n",
       "      <td>3613.0</td>\n",
       "      <td>118468.202516</td>\n",
       "      <td>1117.96</td>\n",
       "      <td>0.0</td>\n",
       "      <td>0.053006</td>\n",
       "      <td>17.380455</td>\n",
       "      <td>32.789428</td>\n",
       "    </tr>\n",
       "  </tbody>\n",
       "</table>\n",
       "</div>"
      ],
      "text/plain": [
       "  Fiscal Week Year   Provider  Impressions   Clicks          Spend    Net Rev  \\\n",
       "0         2024-W27      DV360   33953846.0  45965.0  167683.220191  536506.27   \n",
       "1         2024-W27   LiveRamp     139612.0     17.0     312.528856   10124.62   \n",
       "2         2024-W27    Neustar          1.0      0.0       0.000000    1379.00   \n",
       "3         2024-W27  Permutive     246063.0    308.0    1794.384678       0.00   \n",
       "4         2024-W27        TTD    6816174.0   3613.0  118468.202516    1117.96   \n",
       "\n",
       "   HVE       CTR        CPM        CPC  \n",
       "0  0.0  0.135375   4.938563   3.648063  \n",
       "1  0.0  0.012177   2.238553  18.384050  \n",
       "2  0.0  0.000000   0.000000        NaN  \n",
       "3  0.0  0.125171   7.292379   5.825924  \n",
       "4  0.0  0.053006  17.380455  32.789428  "
      ]
     },
     "execution_count": 8,
     "metadata": {},
     "output_type": "execute_result"
    }
   ],
   "source": [
    "# Create additional KPIs\n",
    "grouped_df['CTR'] = (grouped_df['Clicks'] / grouped_df['Impressions']) * 100\n",
    "grouped_df['CPM'] = 1000 * grouped_df['Spend'] / grouped_df['Impressions']\n",
    "grouped_df['CPC'] = grouped_df['Spend'] / grouped_df['Clicks']\n",
    "\n",
    "grouped_df.head()"
   ]
  },
  {
   "cell_type": "code",
   "execution_count": 9,
   "id": "ff22b1c2",
   "metadata": {
    "scrolled": false
   },
   "outputs": [
    {
     "data": {
      "text/plain": [
       "<Axes: xlabel='Provider', ylabel='CTR'>"
      ]
     },
     "execution_count": 9,
     "metadata": {},
     "output_type": "execute_result"
    },
    {
     "data": {
      "image/png": "[encoded data removed]",
      "text/plain": [
       "<Figure size 640x480 with 1 Axes>"
      ]
     },
     "metadata": {},
     "output_type": "display_data"
    }
   ],
   "source": [
    "sns.boxplot(data=grouped_df, x='Provider',y='CTR')"
   ]
  },
  {
   "cell_type": "code",
   "execution_count": 10,
   "id": "ac3388eb",
   "metadata": {
    "scrolled": false
   },
   "outputs": [
    {
     "data": {
      "text/plain": [
       "<Axes: xlabel='Provider', ylabel='CPM'>"
      ]
     },
     "execution_count": 10,
     "metadata": {},
     "output_type": "execute_result"
    },
    {
     "data": {
      "image/png": "[encoded data removed]",
      "text/plain": [
       "<Figure size 640x480 with 1 Axes>"
      ]
     },
     "metadata": {},
     "output_type": "display_data"
    }
   ],
   "source": [
    "sns.boxplot(data=grouped_df, x='Provider',y='CPM')"
   ]
  },
  {
   "cell_type": "code",
   "execution_count": 11,
   "id": "e42ee8ad",
   "metadata": {
    "scrolled": false
   },
   "outputs": [
    {
     "data": {
      "text/plain": [
       "<Axes: xlabel='Provider', ylabel='Impressions'>"
      ]
     },
     "execution_count": 11,
     "metadata": {},
     "output_type": "execute_result"
    },
    {
     "data": {
      "image/png": "[encoded data removed]",
      "text/plain": [
       "<Figure size 640x480 with 1 Axes>"
      ]
     },
     "metadata": {},
     "output_type": "display_data"
    }
   ],
   "source": [
    "sns.barplot(data=grouped_df, x='Provider',y='Impressions')"
   ]
  }
 ],
 "metadata": {
  "kernelspec": {
   "display_name": "Python 3 (ipykernel)",
   "language": "python",
   "name": "python3"
  },
  "language_info": {
   "codemirror_mode": {
    "name": "ipython",
    "version": 3
   },
   "file_extension": ".py",
   "mimetype": "text/x-python",
   "name": "python",
   "nbconvert_exporter": "python",
   "pygments_lexer": "ipython3",
   "version": "3.10.5"
  }
 },
 "nbformat": 4,
 "nbformat_minor": 5
}
