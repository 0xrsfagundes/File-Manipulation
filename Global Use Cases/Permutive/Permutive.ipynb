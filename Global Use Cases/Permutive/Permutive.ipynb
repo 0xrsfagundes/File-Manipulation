{
 "cells": [
  {
   "cell_type": "code",
   "execution_count": 1,
   "id": "9a49840b",
   "metadata": {},
   "outputs": [],
   "source": [
    "import warnings\n",
    "import pandas as pd\n",
    "import seaborn as sns\n",
    "import matplotlib.pyplot as plt\n",
    "\n",
    "pd.set_option('display.max_columns', None)\n",
    "pd.set_option('display.max_colwidth', None)\n",
    "warnings.filterwarnings('ignore')"
   ]
  },
  {
   "cell_type": "code",
   "execution_count": 2,
   "id": "890b2ffa",
   "metadata": {},
   "outputs": [],
   "source": [
    "folder_path = r'C:\\Users\\Rafael_Fagundes\\Downloads\\compiled_data_v2.csv'\n",
    "\n",
    "df = pd.read_csv(folder_path)"
   ]
  },
  {
   "cell_type": "code",
   "execution_count": 5,
   "id": "34ed0597",
   "metadata": {},
   "outputs": [],
   "source": [
    "#campaign_list = df['Campaign Name'][df['Media Buy Name'].str.contains(r'Permutive|Permutvie|permu|Permu|ermu', case=False, regex=True)].unique()\n",
    "\n",
    "#filtered_df = df[df['Campaign Name'].isin(campaign_list)]\n",
    "\n",
    "df['Permutive_flag'] = df['Media Buy Name'].str.contains(r'Permutive|Permutvie|permu|Permu|ermu'\n",
    "                                                                  , case=False, regex=True)\n",
    "\n",
    "grouped_df = df.groupby(['Fiscal Quarter'\n",
    "                                  , 'BU'\n",
    "                                  , 'Country'\n",
    "                                  , 'Permutive_flag'\n",
    "                                  , 'Audience Type Name'\n",
    "                                  , 'Audience Type'\n",
    "                                  , 'Campaign Name'\n",
    "                                  #, 'Media Buy Name'\n",
    "                        ])[['Impressions', 'Clicks', 'Spend', 'Net Rev']].sum().reset_index()\n",
    "\n",
    "grouped_df.to_csv('csv/Permutive_Export.csv')"
   ]
  }
 ],
 "metadata": {
  "kernelspec": {
   "display_name": "Python 3 (ipykernel)",
   "language": "python",
   "name": "python3"
  },
  "language_info": {
   "codemirror_mode": {
    "name": "ipython",
    "version": 3
   },
   "file_extension": ".py",
   "mimetype": "text/x-python",
   "name": "python",
   "nbconvert_exporter": "python",
   "pygments_lexer": "ipython3",
   "version": "3.10.5"
  }
 },
 "nbformat": 4,
 "nbformat_minor": 5
}
